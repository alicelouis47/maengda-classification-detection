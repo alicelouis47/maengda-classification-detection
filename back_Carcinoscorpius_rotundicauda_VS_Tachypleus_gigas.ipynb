{
  "cells": [
    {
      "cell_type": "markdown",
      "metadata": {
        "id": "Ww_a1XOsBF4Z"
      },
      "source": [
        "# ตั้งค่า และลงlibrary"
      ]
    },
    {
      "cell_type": "markdown",
      "metadata": {
        "id": "S4tJwknp4vZd"
      },
      "source": [
        "## Install library"
      ]
    },
    {
      "cell_type": "code",
      "execution_count": null,
      "metadata": {
        "colab": {
          "base_uri": "https://localhost:8080/"
        },
        "id": "wbWc4hm04vZl",
        "outputId": "0ca2a1e1-9e68-4af0-c4ee-2a800bcfa8e9"
      },
      "outputs": [
        {
          "name": "stdout",
          "output_type": "stream",
          "text": [
            "\u001b[K     |████████████████████████████████| 719 kB 4.8 MB/s \n",
            "\u001b[K     |████████████████████████████████| 1.2 MB 66.1 MB/s \n",
            "\u001b[K     |████████████████████████████████| 4.2 MB 53.6 MB/s \n",
            "\u001b[K     |████████████████████████████████| 197 kB 73.7 MB/s \n",
            "\u001b[K     |████████████████████████████████| 346 kB 72.6 MB/s \n",
            "\u001b[K     |████████████████████████████████| 59 kB 9.3 MB/s \n",
            "\u001b[K     |████████████████████████████████| 140 kB 61.2 MB/s \n",
            "\u001b[K     |████████████████████████████████| 212 kB 62.7 MB/s \n",
            "\u001b[K     |████████████████████████████████| 1.1 MB 73.4 MB/s \n",
            "\u001b[K     |████████████████████████████████| 86 kB 7.1 MB/s \n",
            "\u001b[K     |████████████████████████████████| 86 kB 8.3 MB/s \n",
            "\u001b[K     |████████████████████████████████| 596 kB 62.2 MB/s \n",
            "\u001b[K     |████████████████████████████████| 127 kB 71.7 MB/s \n",
            "\u001b[K     |████████████████████████████████| 144 kB 70.4 MB/s \n",
            "\u001b[K     |████████████████████████████████| 94 kB 4.8 MB/s \n",
            "\u001b[K     |████████████████████████████████| 271 kB 71.9 MB/s \n",
            "\u001b[K     |████████████████████████████████| 112 kB 63.9 MB/s \n",
            "\u001b[K     |████████████████████████████████| 6.6 MB 54.5 MB/s \n",
            "\u001b[31mERROR: pip's dependency resolver does not currently take into account all the packages that are installed. This behaviour is the source of the following dependency conflicts.\n",
            "datascience 0.10.6 requires folium==0.2.1, but you have folium 0.8.3 which is incompatible.\u001b[0m\n",
            "\u001b[?25hMounted at /content/gdrive\n"
          ]
        }
      ],
      "source": [
        "# สำหรับคนที่ยังไม่ได้ลงไลบรารี่ fastbook ให้ uncomment บรรทัด !pip install\n",
        "!pip install -Uqq fastbook\n",
        "import fastbook\n",
        "fastbook.setup_book()"
      ]
    },
    {
      "cell_type": "code",
      "execution_count": null,
      "metadata": {
        "id": "BTEyL1nc4vZl"
      },
      "outputs": [],
      "source": [
        "from fastbook import *"
      ]
    },
    {
      "cell_type": "markdown",
      "metadata": {
        "id": "Z0DbLG7KBTN5"
      },
      "source": [
        "# จัดการข้อมูลเพื่อใช้ในการเทรนโมเดล"
      ]
    },
    {
      "cell_type": "markdown",
      "metadata": {
        "id": "R0VMpx0t9grO"
      },
      "source": [
        "## Split data"
      ]
    },
    {
      "cell_type": "code",
      "execution_count": null,
      "metadata": {
        "id": "rpNzGtL0Xk8o"
      },
      "outputs": [],
      "source": [
        "import splitfolders\n",
        "\n",
        "input_folder = \"/content/gdrive/MyDrive/bata_Horsehoe_Crab_classiflication/generated_image\""
      ]
    },
    {
      "cell_type": "code",
      "execution_count": null,
      "metadata": {
        "colab": {
          "base_uri": "https://localhost:8080/"
        },
        "id": "VIMHBFgeZkNC",
        "outputId": "0058b9c9-d184-4312-ac8b-e76fe32ca5b5"
      },
      "outputs": [
        {
          "name": "stdout",
          "output_type": "stream",
          "text": [
            "/content/gdrive/MyDrive/bata_Horsehoe_Crab_classiflication\n"
          ]
        }
      ],
      "source": [
        "#เปิดโฟล์เดอร์ที่ต้องการแบ่ง\n",
        "%cd /content/gdrive/MyDrive/bata_Horsehoe_Crab_classiflication"
      ]
    },
    {
      "cell_type": "code",
      "execution_count": null,
      "metadata": {
        "id": "epDS1R10-X7B"
      },
      "outputs": [],
      "source": [
        "!unzip \"/content/gdrive/MyDrive/bata_Horsehoe_Crab_classiflication/generated_image.zip\" -d \"/content/gdrive/MyDrive/bata_Horsehoe_Crab_classiflication\""
      ]
    },
    {
      "cell_type": "code",
      "execution_count": null,
      "metadata": {
        "colab": {
          "base_uri": "https://localhost:8080/"
        },
        "id": "HY_mr9JMXj5Q",
        "outputId": "209bbf53-0479-4e4a-82f7-cd7994c851e2"
      },
      "outputs": [
        {
          "name": "stderr",
          "output_type": "stream",
          "text": [
            "Copying files: 3606 files [00:30, 118.46 files/s]\n"
          ]
        }
      ],
      "source": [
        "splitfolders.ratio(input_folder, output=\"DataGen\", \n",
        "                   seed=42, ratio=(.85, .0, .15), \n",
        "                   group_prefix=None) \n",
        "#แบ่ง train val กับ test 0.85:0:0.15"
      ]
    },
    {
      "cell_type": "markdown",
      "metadata": {
        "id": "xY-0Oy7n-8bU"
      },
      "source": [
        "## Prepare Dataloders"
      ]
    },
    {
      "cell_type": "code",
      "execution_count": null,
      "metadata": {
        "id": "olaY736m4vZm"
      },
      "outputs": [],
      "source": [
        "batch_tfms = [Rotate(), Flip(), Dihedral(), Normalize.from_stats(*imagenet_stats)]\n",
        "fields = DataBlock(\n",
        "    blocks=(ImageBlock, CategoryBlock),\n",
        "    get_items=get_image_files,\n",
        "    get_y=parent_label,\n",
        "    splitter=RandomSplitter(valid_pct=0.4, seed=42), # GrandparentSplitter(valid_name='validation')\n",
        "    item_tfms=Resize(224),\n",
        "    batch_tfms=batch_tfms\n",
        ")"
      ]
    },
    {
      "cell_type": "code",
      "execution_count": null,
      "metadata": {
        "id": "yhoL1V3R-bRe"
      },
      "outputs": [],
      "source": [
        "#ตำแหน่งของไฟล์ที่จะเทรน\n",
        "PathTrain = \"/content/gdrive/MyDrive/bata_Horsehoe_Crab_classiflication/back\""
      ]
    },
    {
      "cell_type": "code",
      "execution_count": null,
      "metadata": {
        "id": "OdSqATGm4vZm"
      },
      "outputs": [],
      "source": [
        "#ทำdataloader\n",
        "dls = fields.dataloaders(PathTrain)"
      ]
    },
    {
      "cell_type": "code",
      "execution_count": null,
      "metadata": {
        "colab": {
          "base_uri": "https://localhost:8080/"
        },
        "id": "K8w09kCI4vZn",
        "outputId": "fffe982d-48b1-4069-8ca7-0b06479f6f77"
      },
      "outputs": [
        {
          "data": {
            "text/plain": [
              "['Carcinoscorpius_rotundicauda', 'Tachypleus_gigas']"
            ]
          },
          "execution_count": 6,
          "metadata": {},
          "output_type": "execute_result"
        }
      ],
      "source": [
        "#label\n",
        "dls.vocab"
      ]
    },
    {
      "cell_type": "code",
      "execution_count": null,
      "metadata": {
        "colab": {
          "base_uri": "https://localhost:8080/",
          "height": 334
        },
        "id": "sN2BH7FL4vZn",
        "outputId": "bbe4b4bc-5453-4c56-bce4-632becca5862"
      },
      "outputs": [
        {
          "data": {
            "image/png": "[encoded data removed]",
            "text/plain": [
              "<Figure size 864x432 with 8 Axes>"
            ]
          },
          "metadata": {},
          "output_type": "display_data"
        }
      ],
      "source": [
        "dls.train.show_batch(max_n=8, nrows=2)"
      ]
    },
    {
      "cell_type": "markdown",
      "metadata": {
        "id": "v6dWiH1jA5p-"
      },
      "source": [
        "# **เทรน model**\n",
        "ในที่นี้ผมใช้ backbone 5 อย่าง คือ \n",
        "1. VGG16\n",
        "2. resneXt50\n",
        "2. densenet201\n",
        "3. VGG19\n",
        "4. Squeezenet1_1\n",
        "5. alexnet"
      ]
    },
    {
      "cell_type": "markdown",
      "metadata": {
        "id": "Ph_SH8C8EHZA"
      },
      "source": [
        "## VGG16"
      ]
    },
    {
      "cell_type": "code",
      "execution_count": null,
      "metadata": {
        "colab": {
          "base_uri": "https://localhost:8080/",
          "height": 121,
          "referenced_widgets": [
            "55148d3dcac349ea94d8fe265da6ee5b",
            "348d9f9382e241abbccb35fdd6dcf318",
            "0f5810d43ed04dc4ad35f3b1e1ca0028",
            "42d4a46459814b679cdb04098c9fbaaa",
            "3cc6b35d1a3c47d486f7c06a59d37bba",
            "05b21b01d31d413bb864f7b8c5f3c738",
            "e279e8628780495393507b2baaea6cc7",
            "1771dff4000f4fb3b394d8159fafbfd1",
            "40f98690574749649f83e2e4aaeec03a",
            "d62f63c9eda247afb21b912fe07ae525",
            "19a72ae723064e8ea9ec79c485a73b34"
          ]
        },
        "id": "lnK8EUta4vZn",
        "outputId": "c5381274-04ce-41f9-cdf3-26d3472f26d0"
      },
      "outputs": [
        {
          "name": "stderr",
          "output_type": "stream",
          "text": [
            "/usr/local/lib/python3.7/dist-packages/fastai/vision/learner.py:265: UserWarning: `cnn_learner` has been renamed to `vision_learner` -- please update your code\n",
            "  warn(\"`cnn_learner` has been renamed to `vision_learner` -- please update your code\")\n",
            "Downloading: \"https://download.pytorch.org/models/vgg16_bn-6c64b313.pth\" to /root/.cache/torch/hub/checkpoints/vgg16_bn-6c64b313.pth\n"
          ]
        },
        {
          "data": {
            "application/vnd.jupyter.widget-view+json": {
              "model_id": "55148d3dcac349ea94d8fe265da6ee5b",
              "version_major": 2,
              "version_minor": 0
            },
            "text/plain": [
              "  0%|          | 0.00/528M [00:00<?, ?B/s]"
            ]
          },
          "metadata": {},
          "output_type": "display_data"
        }
      ],
      "source": [
        "#load backbone\n",
        "learner_VGG16 = cnn_learner(dls, models.vgg16_bn, metrics=[error_rate, accuracy, F1Score(), Precision(), Recall()], opt_func=Adam)"
      ]
    },
    {
      "cell_type": "code",
      "execution_count": null,
      "metadata": {
        "colab": {
          "base_uri": "https://localhost:8080/",
          "height": 300
        },
        "id": "qqIqIjih4vZn",
        "outputId": "83f8b99a-0c9c-479f-c3f0-3334807937ac"
      },
      "outputs": [
        {
          "data": {
            "text/html": [
              "\n",
              "<style>\n",
              "    /* Turns off some styling */\n",
              "    progress {\n",
              "        /* gets rid of default border in Firefox and Opera. */\n",
              "        border: none;\n",
              "        /* Needs to be in here for Safari polyfill so background images work as expected. */\n",
              "        background-size: auto;\n",
              "    }\n",
              "    .progress-bar-interrupted, .progress-bar-interrupted::-webkit-progress-bar {\n",
              "        background: #F44336;\n",
              "    }\n",
              "</style>\n"
            ],
            "text/plain": [
              "<IPython.core.display.HTML object>"
            ]
          },
          "metadata": {},
          "output_type": "display_data"
        },
        {
          "data": {
            "text/html": [
              ""
            ],
            "text/plain": [
              "<IPython.core.display.HTML object>"
            ]
          },
          "metadata": {},
          "output_type": "display_data"
        },
        {
          "data": {
            "text/plain": [
              "SuggestedLRs(valley=0.0010000000474974513)"
            ]
          },
          "execution_count": 9,
          "metadata": {},
          "output_type": "execute_result"
        },
        {
          "data": {
            "image/png": "[encoded data removed]",
            "text/plain": [
              "<Figure size 432x288 with 1 Axes>"
            ]
          },
          "metadata": {},
          "output_type": "display_data"
        }
      ],
      "source": [
        "# หา learning rate ที่เหมาะสม\n",
        "learner_VGG16.lr_find() # หา learning rate ที่เหมาะสม"
      ]
    },
    {
      "cell_type": "code",
      "execution_count": null,
      "metadata": {
        "colab": {
          "base_uri": "https://localhost:8080/",
          "height": 760
        },
        "id": "NEYcI8Gk4vZo",
        "outputId": "f3813277-7f8b-489b-d6f8-7807d2c1a047"
      },
      "outputs": [
        {
          "data": {
            "text/html": [
              "\n",
              "<style>\n",
              "    /* Turns off some styling */\n",
              "    progress {\n",
              "        /* gets rid of default border in Firefox and Opera. */\n",
              "        border: none;\n",
              "        /* Needs to be in here for Safari polyfill so background images work as expected. */\n",
              "        background-size: auto;\n",
              "    }\n",
              "    .progress-bar-interrupted, .progress-bar-interrupted::-webkit-progress-bar {\n",
              "        background: #F44336;\n",
              "    }\n",
              "</style>\n"
            ],
            "text/plain": [
              "<IPython.core.display.HTML object>"
            ]
          },
          "metadata": {},
          "output_type": "display_data"
        },
        {
          "data": {
            "text/html": [
              "<table border=\"1\" class=\"dataframe\">\n",
              "  <thead>\n",
              "    <tr style=\"text-align: left;\">\n",
              "      <th>epoch</th>\n",
              "      <th>train_loss</th>\n",
              "      <th>valid_loss</th>\n",
              "      <th>error_rate</th>\n",
              "      <th>accuracy</th>\n",
              "      <th>f1_score</th>\n",
              "      <th>precision_score</th>\n",
              "      <th>recall_score</th>\n",
              "      <th>time</th>\n",
              "    </tr>\n",
              "  </thead>\n",
              "  <tbody>\n",
              "    <tr>\n",
              "      <td>0</td>\n",
              "      <td>1.173790</td>\n",
              "      <td>0.870653</td>\n",
              "      <td>0.489362</td>\n",
              "      <td>0.510638</td>\n",
              "      <td>0.581818</td>\n",
              "      <td>0.500000</td>\n",
              "      <td>0.695652</td>\n",
              "      <td>00:20</td>\n",
              "    </tr>\n",
              "  </tbody>\n",
              "</table>"
            ],
            "text/plain": [
              "<IPython.core.display.HTML object>"
            ]
          },
          "metadata": {},
          "output_type": "display_data"
        },
        {
          "data": {
            "text/html": [
              "\n",
              "<style>\n",
              "    /* Turns off some styling */\n",
              "    progress {\n",
              "        /* gets rid of default border in Firefox and Opera. */\n",
              "        border: none;\n",
              "        /* Needs to be in here for Safari polyfill so background images work as expected. */\n",
              "        background-size: auto;\n",
              "    }\n",
              "    .progress-bar-interrupted, .progress-bar-interrupted::-webkit-progress-bar {\n",
              "        background: #F44336;\n",
              "    }\n",
              "</style>\n"
            ],
            "text/plain": [
              "<IPython.core.display.HTML object>"
            ]
          },
          "metadata": {},
          "output_type": "display_data"
        },
        {
          "data": {
            "text/html": [
              "<table border=\"1\" class=\"dataframe\">\n",
              "  <thead>\n",
              "    <tr style=\"text-align: left;\">\n",
              "      <th>epoch</th>\n",
              "      <th>train_loss</th>\n",
              "      <th>valid_loss</th>\n",
              "      <th>error_rate</th>\n",
              "      <th>accuracy</th>\n",
              "      <th>f1_score</th>\n",
              "      <th>precision_score</th>\n",
              "      <th>recall_score</th>\n",
              "      <th>time</th>\n",
              "    </tr>\n",
              "  </thead>\n",
              "  <tbody>\n",
              "    <tr>\n",
              "      <td>0</td>\n",
              "      <td>1.244027</td>\n",
              "      <td>0.865231</td>\n",
              "      <td>0.510638</td>\n",
              "      <td>0.489362</td>\n",
              "      <td>0.538462</td>\n",
              "      <td>0.482759</td>\n",
              "      <td>0.608696</td>\n",
              "      <td>00:06</td>\n",
              "    </tr>\n",
              "    <tr>\n",
              "      <td>1</td>\n",
              "      <td>1.265076</td>\n",
              "      <td>0.856575</td>\n",
              "      <td>0.489362</td>\n",
              "      <td>0.510638</td>\n",
              "      <td>0.566038</td>\n",
              "      <td>0.500000</td>\n",
              "      <td>0.652174</td>\n",
              "      <td>00:06</td>\n",
              "    </tr>\n",
              "    <tr>\n",
              "      <td>2</td>\n",
              "      <td>1.232406</td>\n",
              "      <td>0.838837</td>\n",
              "      <td>0.404255</td>\n",
              "      <td>0.595745</td>\n",
              "      <td>0.641509</td>\n",
              "      <td>0.566667</td>\n",
              "      <td>0.739130</td>\n",
              "      <td>00:06</td>\n",
              "    </tr>\n",
              "    <tr>\n",
              "      <td>3</td>\n",
              "      <td>1.109696</td>\n",
              "      <td>0.820864</td>\n",
              "      <td>0.425532</td>\n",
              "      <td>0.574468</td>\n",
              "      <td>0.629630</td>\n",
              "      <td>0.548387</td>\n",
              "      <td>0.739130</td>\n",
              "      <td>00:06</td>\n",
              "    </tr>\n",
              "    <tr>\n",
              "      <td>4</td>\n",
              "      <td>1.061311</td>\n",
              "      <td>0.805341</td>\n",
              "      <td>0.446809</td>\n",
              "      <td>0.553191</td>\n",
              "      <td>0.618182</td>\n",
              "      <td>0.531250</td>\n",
              "      <td>0.739130</td>\n",
              "      <td>00:06</td>\n",
              "    </tr>\n",
              "    <tr>\n",
              "      <td>5</td>\n",
              "      <td>1.012163</td>\n",
              "      <td>0.781382</td>\n",
              "      <td>0.425532</td>\n",
              "      <td>0.574468</td>\n",
              "      <td>0.629630</td>\n",
              "      <td>0.548387</td>\n",
              "      <td>0.739130</td>\n",
              "      <td>00:06</td>\n",
              "    </tr>\n",
              "    <tr>\n",
              "      <td>6</td>\n",
              "      <td>0.938245</td>\n",
              "      <td>0.750374</td>\n",
              "      <td>0.425532</td>\n",
              "      <td>0.574468</td>\n",
              "      <td>0.615385</td>\n",
              "      <td>0.551724</td>\n",
              "      <td>0.695652</td>\n",
              "      <td>00:06</td>\n",
              "    </tr>\n",
              "    <tr>\n",
              "      <td>7</td>\n",
              "      <td>0.877663</td>\n",
              "      <td>0.730175</td>\n",
              "      <td>0.425532</td>\n",
              "      <td>0.574468</td>\n",
              "      <td>0.600000</td>\n",
              "      <td>0.555556</td>\n",
              "      <td>0.652174</td>\n",
              "      <td>00:06</td>\n",
              "    </tr>\n",
              "    <tr>\n",
              "      <td>8</td>\n",
              "      <td>0.848215</td>\n",
              "      <td>0.711564</td>\n",
              "      <td>0.382979</td>\n",
              "      <td>0.617021</td>\n",
              "      <td>0.625000</td>\n",
              "      <td>0.600000</td>\n",
              "      <td>0.652174</td>\n",
              "      <td>00:06</td>\n",
              "    </tr>\n",
              "    <tr>\n",
              "      <td>9</td>\n",
              "      <td>0.788161</td>\n",
              "      <td>0.699984</td>\n",
              "      <td>0.404255</td>\n",
              "      <td>0.595745</td>\n",
              "      <td>0.595745</td>\n",
              "      <td>0.583333</td>\n",
              "      <td>0.608696</td>\n",
              "      <td>00:06</td>\n",
              "    </tr>\n",
              "    <tr>\n",
              "      <td>10</td>\n",
              "      <td>0.749146</td>\n",
              "      <td>0.693235</td>\n",
              "      <td>0.382979</td>\n",
              "      <td>0.617021</td>\n",
              "      <td>0.625000</td>\n",
              "      <td>0.600000</td>\n",
              "      <td>0.652174</td>\n",
              "      <td>00:06</td>\n",
              "    </tr>\n",
              "    <tr>\n",
              "      <td>11</td>\n",
              "      <td>0.703896</td>\n",
              "      <td>0.686644</td>\n",
              "      <td>0.361702</td>\n",
              "      <td>0.638298</td>\n",
              "      <td>0.653061</td>\n",
              "      <td>0.615385</td>\n",
              "      <td>0.695652</td>\n",
              "      <td>00:06</td>\n",
              "    </tr>\n",
              "    <tr>\n",
              "      <td>12</td>\n",
              "      <td>0.669467</td>\n",
              "      <td>0.678423</td>\n",
              "      <td>0.361702</td>\n",
              "      <td>0.638298</td>\n",
              "      <td>0.653061</td>\n",
              "      <td>0.615385</td>\n",
              "      <td>0.695652</td>\n",
              "      <td>00:07</td>\n",
              "    </tr>\n",
              "    <tr>\n",
              "      <td>13</td>\n",
              "      <td>0.650169</td>\n",
              "      <td>0.673391</td>\n",
              "      <td>0.319149</td>\n",
              "      <td>0.680851</td>\n",
              "      <td>0.693878</td>\n",
              "      <td>0.653846</td>\n",
              "      <td>0.739130</td>\n",
              "      <td>00:07</td>\n",
              "    </tr>\n",
              "    <tr>\n",
              "      <td>14</td>\n",
              "      <td>0.616758</td>\n",
              "      <td>0.671400</td>\n",
              "      <td>0.340426</td>\n",
              "      <td>0.659574</td>\n",
              "      <td>0.666667</td>\n",
              "      <td>0.640000</td>\n",
              "      <td>0.695652</td>\n",
              "      <td>00:06</td>\n",
              "    </tr>\n",
              "    <tr>\n",
              "      <td>15</td>\n",
              "      <td>0.593881</td>\n",
              "      <td>0.674484</td>\n",
              "      <td>0.340426</td>\n",
              "      <td>0.659574</td>\n",
              "      <td>0.666667</td>\n",
              "      <td>0.640000</td>\n",
              "      <td>0.695652</td>\n",
              "      <td>00:06</td>\n",
              "    </tr>\n",
              "    <tr>\n",
              "      <td>16</td>\n",
              "      <td>0.562589</td>\n",
              "      <td>0.674656</td>\n",
              "      <td>0.340426</td>\n",
              "      <td>0.659574</td>\n",
              "      <td>0.666667</td>\n",
              "      <td>0.640000</td>\n",
              "      <td>0.695652</td>\n",
              "      <td>00:06</td>\n",
              "    </tr>\n",
              "    <tr>\n",
              "      <td>17</td>\n",
              "      <td>0.535810</td>\n",
              "      <td>0.677399</td>\n",
              "      <td>0.340426</td>\n",
              "      <td>0.659574</td>\n",
              "      <td>0.666667</td>\n",
              "      <td>0.640000</td>\n",
              "      <td>0.695652</td>\n",
              "      <td>00:06</td>\n",
              "    </tr>\n",
              "    <tr>\n",
              "      <td>18</td>\n",
              "      <td>0.522337</td>\n",
              "      <td>0.680905</td>\n",
              "      <td>0.340426</td>\n",
              "      <td>0.659574</td>\n",
              "      <td>0.666667</td>\n",
              "      <td>0.640000</td>\n",
              "      <td>0.695652</td>\n",
              "      <td>00:06</td>\n",
              "    </tr>\n",
              "    <tr>\n",
              "      <td>19</td>\n",
              "      <td>0.508848</td>\n",
              "      <td>0.684796</td>\n",
              "      <td>0.319149</td>\n",
              "      <td>0.680851</td>\n",
              "      <td>0.680851</td>\n",
              "      <td>0.666667</td>\n",
              "      <td>0.695652</td>\n",
              "      <td>00:06</td>\n",
              "    </tr>\n",
              "  </tbody>\n",
              "</table>"
            ],
            "text/plain": [
              "<IPython.core.display.HTML object>"
            ]
          },
          "metadata": {},
          "output_type": "display_data"
        }
      ],
      "source": [
        "#เทรนโมเดล 20 รอบ\n",
        "learner_VGG16.fine_tune(epochs=20, freeze_epochs=1, base_lr=0.0010000000474974513)"
      ]
    },
    {
      "cell_type": "code",
      "execution_count": null,
      "metadata": {
        "colab": {
          "base_uri": "https://localhost:8080/"
        },
        "id": "iHlrDf1LZUDY",
        "outputId": "9cb4bed1-0cda-4d5b-94f2-c2c0a048b898"
      },
      "outputs": [
        {
          "name": "stdout",
          "output_type": "stream",
          "text": [
            "/content/gdrive/MyDrive/bata_Horsehoe_Crab_classiflication/model_back\n"
          ]
        }
      ],
      "source": [
        "#save models\n",
        "%cd /content/gdrive/MyDrive/bata_Horsehoe_Crab_classiflication/model_back\n",
        "learner_VGG16.export(\"VGG16_fastai.pkl\")"
      ]
    },
    {
      "cell_type": "markdown",
      "metadata": {
        "id": "7CNK3c6MokzB"
      },
      "source": [
        "## resnext50"
      ]
    },
    {
      "cell_type": "code",
      "execution_count": null,
      "metadata": {
        "colab": {
          "base_uri": "https://localhost:8080/",
          "height": 121,
          "referenced_widgets": [
            "40160a40ae5441d698f0381351de6e3e",
            "9505ec650bfd4de38dbf5543779fed16",
            "40756794e18b4cd7ae28a73d2f03eb70",
            "cecafa1dba474d60b464c4d41a25f31f",
            "b1df15d6c0ce404a8dc1b2506aacd30d",
            "6c6bf2ea10904dd3a0365719b0247ff5",
            "83125722111f477d9789e24674c4203d",
            "4e1fc71e450c4eab89ddd965c0dabcac",
            "e417491c0c5946c7ac6907845804ee1d",
            "231ad8d78ead464587c5f00ca3a4ce9a",
            "4e3a44e25e224503b2096c7c6aa0b66e"
          ]
        },
        "id": "NwlTAuY_opjZ",
        "outputId": "13e271b3-b1d1-497f-ba0b-631f4fe98e96"
      },
      "outputs": [
        {
          "name": "stderr",
          "output_type": "stream",
          "text": [
            "/usr/local/lib/python3.7/dist-packages/fastai/vision/learner.py:265: UserWarning: `cnn_learner` has been renamed to `vision_learner` -- please update your code\n",
            "  warn(\"`cnn_learner` has been renamed to `vision_learner` -- please update your code\")\n",
            "Downloading: \"https://download.pytorch.org/models/resnext50_32x4d-7cdf4587.pth\" to /root/.cache/torch/hub/checkpoints/resnext50_32x4d-7cdf4587.pth\n"
          ]
        },
        {
          "data": {
            "application/vnd.jupyter.widget-view+json": {
              "model_id": "40160a40ae5441d698f0381351de6e3e",
              "version_major": 2,
              "version_minor": 0
            },
            "text/plain": [
              "  0%|          | 0.00/95.8M [00:00<?, ?B/s]"
            ]
          },
          "metadata": {},
          "output_type": "display_data"
        }
      ],
      "source": [
        "from torchvision.models.resnet import resnext50_32x4d\n",
        "#load backbone\n",
        "learner_resnext = cnn_learner(dls, resnext50_32x4d, metrics=[error_rate, accuracy, F1Score(), Precision(), Recall()], opt_func=Adam)"
      ]
    },
    {
      "cell_type": "code",
      "execution_count": null,
      "metadata": {
        "colab": {
          "base_uri": "https://localhost:8080/",
          "height": 300
        },
        "id": "l-toc1axozcA",
        "outputId": "75cb11fd-4ada-48ba-e1ec-8ad35c24926f"
      },
      "outputs": [
        {
          "data": {
            "text/html": [
              "\n",
              "<style>\n",
              "    /* Turns off some styling */\n",
              "    progress {\n",
              "        /* gets rid of default border in Firefox and Opera. */\n",
              "        border: none;\n",
              "        /* Needs to be in here for Safari polyfill so background images work as expected. */\n",
              "        background-size: auto;\n",
              "    }\n",
              "    .progress-bar-interrupted, .progress-bar-interrupted::-webkit-progress-bar {\n",
              "        background: #F44336;\n",
              "    }\n",
              "</style>\n"
            ],
            "text/plain": [
              "<IPython.core.display.HTML object>"
            ]
          },
          "metadata": {},
          "output_type": "display_data"
        },
        {
          "data": {
            "text/html": [
              ""
            ],
            "text/plain": [
              "<IPython.core.display.HTML object>"
            ]
          },
          "metadata": {},
          "output_type": "display_data"
        },
        {
          "data": {
            "text/plain": [
              "SuggestedLRs(valley=0.0006918309954926372)"
            ]
          },
          "execution_count": 7,
          "metadata": {},
          "output_type": "execute_result"
        },
        {
          "data": {
            "image/png": "[encoded data removed]",
            "text/plain": [
              "<Figure size 432x288 with 1 Axes>"
            ]
          },
          "metadata": {},
          "output_type": "display_data"
        }
      ],
      "source": [
        "learner_resnext.lr_find() # หา learning rate ที่เหมาะสม"
      ]
    },
    {
      "cell_type": "code",
      "execution_count": null,
      "metadata": {
        "colab": {
          "base_uri": "https://localhost:8080/",
          "height": 740
        },
        "id": "7iJHSMEWpPGS",
        "outputId": "f3e86222-1d79-4c96-9994-bd3430b78d16"
      },
      "outputs": [
        {
          "data": {
            "text/html": [
              "\n",
              "<style>\n",
              "    /* Turns off some styling */\n",
              "    progress {\n",
              "        /* gets rid of default border in Firefox and Opera. */\n",
              "        border: none;\n",
              "        /* Needs to be in here for Safari polyfill so background images work as expected. */\n",
              "        background-size: auto;\n",
              "    }\n",
              "    .progress-bar-interrupted, .progress-bar-interrupted::-webkit-progress-bar {\n",
              "        background: #F44336;\n",
              "    }\n",
              "</style>\n"
            ],
            "text/plain": [
              "<IPython.core.display.HTML object>"
            ]
          },
          "metadata": {},
          "output_type": "display_data"
        },
        {
          "data": {
            "text/html": [
              "<table border=\"1\" class=\"dataframe\">\n",
              "  <thead>\n",
              "    <tr style=\"text-align: left;\">\n",
              "      <th>epoch</th>\n",
              "      <th>train_loss</th>\n",
              "      <th>valid_loss</th>\n",
              "      <th>error_rate</th>\n",
              "      <th>accuracy</th>\n",
              "      <th>f1_score</th>\n",
              "      <th>precision_score</th>\n",
              "      <th>recall_score</th>\n",
              "      <th>time</th>\n",
              "    </tr>\n",
              "  </thead>\n",
              "  <tbody>\n",
              "    <tr>\n",
              "      <td>0</td>\n",
              "      <td>1.390467</td>\n",
              "      <td>1.076128</td>\n",
              "      <td>0.574468</td>\n",
              "      <td>0.425532</td>\n",
              "      <td>0.341463</td>\n",
              "      <td>0.388889</td>\n",
              "      <td>0.304348</td>\n",
              "      <td>00:19</td>\n",
              "    </tr>\n",
              "  </tbody>\n",
              "</table>"
            ],
            "text/plain": [
              "<IPython.core.display.HTML object>"
            ]
          },
          "metadata": {},
          "output_type": "display_data"
        },
        {
          "data": {
            "text/html": [
              "\n",
              "<style>\n",
              "    /* Turns off some styling */\n",
              "    progress {\n",
              "        /* gets rid of default border in Firefox and Opera. */\n",
              "        border: none;\n",
              "        /* Needs to be in here for Safari polyfill so background images work as expected. */\n",
              "        background-size: auto;\n",
              "    }\n",
              "    .progress-bar-interrupted, .progress-bar-interrupted::-webkit-progress-bar {\n",
              "        background: #F44336;\n",
              "    }\n",
              "</style>\n"
            ],
            "text/plain": [
              "<IPython.core.display.HTML object>"
            ]
          },
          "metadata": {},
          "output_type": "display_data"
        },
        {
          "data": {
            "text/html": [
              "<table border=\"1\" class=\"dataframe\">\n",
              "  <thead>\n",
              "    <tr style=\"text-align: left;\">\n",
              "      <th>epoch</th>\n",
              "      <th>train_loss</th>\n",
              "      <th>valid_loss</th>\n",
              "      <th>error_rate</th>\n",
              "      <th>accuracy</th>\n",
              "      <th>f1_score</th>\n",
              "      <th>precision_score</th>\n",
              "      <th>recall_score</th>\n",
              "      <th>time</th>\n",
              "    </tr>\n",
              "  </thead>\n",
              "  <tbody>\n",
              "    <tr>\n",
              "      <td>0</td>\n",
              "      <td>1.538564</td>\n",
              "      <td>1.090169</td>\n",
              "      <td>0.638298</td>\n",
              "      <td>0.361702</td>\n",
              "      <td>0.400000</td>\n",
              "      <td>0.370370</td>\n",
              "      <td>0.434783</td>\n",
              "      <td>00:05</td>\n",
              "    </tr>\n",
              "    <tr>\n",
              "      <td>1</td>\n",
              "      <td>1.411831</td>\n",
              "      <td>1.117800</td>\n",
              "      <td>0.659575</td>\n",
              "      <td>0.340426</td>\n",
              "      <td>0.456140</td>\n",
              "      <td>0.382353</td>\n",
              "      <td>0.565217</td>\n",
              "      <td>00:05</td>\n",
              "    </tr>\n",
              "    <tr>\n",
              "      <td>2</td>\n",
              "      <td>1.297400</td>\n",
              "      <td>1.196071</td>\n",
              "      <td>0.638298</td>\n",
              "      <td>0.361702</td>\n",
              "      <td>0.531250</td>\n",
              "      <td>0.414634</td>\n",
              "      <td>0.739130</td>\n",
              "      <td>00:05</td>\n",
              "    </tr>\n",
              "    <tr>\n",
              "      <td>3</td>\n",
              "      <td>1.252516</td>\n",
              "      <td>1.236537</td>\n",
              "      <td>0.574468</td>\n",
              "      <td>0.425532</td>\n",
              "      <td>0.584615</td>\n",
              "      <td>0.452381</td>\n",
              "      <td>0.826087</td>\n",
              "      <td>00:06</td>\n",
              "    </tr>\n",
              "    <tr>\n",
              "      <td>4</td>\n",
              "      <td>1.159879</td>\n",
              "      <td>1.248133</td>\n",
              "      <td>0.531915</td>\n",
              "      <td>0.468085</td>\n",
              "      <td>0.626866</td>\n",
              "      <td>0.477273</td>\n",
              "      <td>0.913043</td>\n",
              "      <td>00:05</td>\n",
              "    </tr>\n",
              "    <tr>\n",
              "      <td>5</td>\n",
              "      <td>1.066534</td>\n",
              "      <td>1.224953</td>\n",
              "      <td>0.510638</td>\n",
              "      <td>0.489362</td>\n",
              "      <td>0.636364</td>\n",
              "      <td>0.488372</td>\n",
              "      <td>0.913043</td>\n",
              "      <td>00:05</td>\n",
              "    </tr>\n",
              "    <tr>\n",
              "      <td>6</td>\n",
              "      <td>1.012731</td>\n",
              "      <td>1.105932</td>\n",
              "      <td>0.510638</td>\n",
              "      <td>0.489362</td>\n",
              "      <td>0.625000</td>\n",
              "      <td>0.487805</td>\n",
              "      <td>0.869565</td>\n",
              "      <td>00:06</td>\n",
              "    </tr>\n",
              "    <tr>\n",
              "      <td>7</td>\n",
              "      <td>0.927067</td>\n",
              "      <td>1.043261</td>\n",
              "      <td>0.489362</td>\n",
              "      <td>0.510638</td>\n",
              "      <td>0.622951</td>\n",
              "      <td>0.500000</td>\n",
              "      <td>0.826087</td>\n",
              "      <td>00:05</td>\n",
              "    </tr>\n",
              "    <tr>\n",
              "      <td>8</td>\n",
              "      <td>0.858684</td>\n",
              "      <td>0.965679</td>\n",
              "      <td>0.425532</td>\n",
              "      <td>0.574468</td>\n",
              "      <td>0.666667</td>\n",
              "      <td>0.540541</td>\n",
              "      <td>0.869565</td>\n",
              "      <td>00:05</td>\n",
              "    </tr>\n",
              "    <tr>\n",
              "      <td>9</td>\n",
              "      <td>0.799773</td>\n",
              "      <td>0.899312</td>\n",
              "      <td>0.382979</td>\n",
              "      <td>0.617021</td>\n",
              "      <td>0.678571</td>\n",
              "      <td>0.575758</td>\n",
              "      <td>0.826087</td>\n",
              "      <td>00:05</td>\n",
              "    </tr>\n",
              "    <tr>\n",
              "      <td>10</td>\n",
              "      <td>0.754012</td>\n",
              "      <td>0.861575</td>\n",
              "      <td>0.425532</td>\n",
              "      <td>0.574468</td>\n",
              "      <td>0.615385</td>\n",
              "      <td>0.551724</td>\n",
              "      <td>0.695652</td>\n",
              "      <td>00:05</td>\n",
              "    </tr>\n",
              "    <tr>\n",
              "      <td>11</td>\n",
              "      <td>0.721111</td>\n",
              "      <td>0.847189</td>\n",
              "      <td>0.404255</td>\n",
              "      <td>0.595745</td>\n",
              "      <td>0.612245</td>\n",
              "      <td>0.576923</td>\n",
              "      <td>0.652174</td>\n",
              "      <td>00:05</td>\n",
              "    </tr>\n",
              "    <tr>\n",
              "      <td>12</td>\n",
              "      <td>0.696531</td>\n",
              "      <td>0.831592</td>\n",
              "      <td>0.382979</td>\n",
              "      <td>0.617021</td>\n",
              "      <td>0.608696</td>\n",
              "      <td>0.608696</td>\n",
              "      <td>0.608696</td>\n",
              "      <td>00:05</td>\n",
              "    </tr>\n",
              "    <tr>\n",
              "      <td>13</td>\n",
              "      <td>0.664400</td>\n",
              "      <td>0.811694</td>\n",
              "      <td>0.361702</td>\n",
              "      <td>0.638298</td>\n",
              "      <td>0.622222</td>\n",
              "      <td>0.636364</td>\n",
              "      <td>0.608696</td>\n",
              "      <td>00:05</td>\n",
              "    </tr>\n",
              "    <tr>\n",
              "      <td>14</td>\n",
              "      <td>0.633337</td>\n",
              "      <td>0.794522</td>\n",
              "      <td>0.382979</td>\n",
              "      <td>0.617021</td>\n",
              "      <td>0.590909</td>\n",
              "      <td>0.619048</td>\n",
              "      <td>0.565217</td>\n",
              "      <td>00:05</td>\n",
              "    </tr>\n",
              "    <tr>\n",
              "      <td>15</td>\n",
              "      <td>0.601220</td>\n",
              "      <td>0.784197</td>\n",
              "      <td>0.382979</td>\n",
              "      <td>0.617021</td>\n",
              "      <td>0.590909</td>\n",
              "      <td>0.619048</td>\n",
              "      <td>0.565217</td>\n",
              "      <td>00:05</td>\n",
              "    </tr>\n",
              "    <tr>\n",
              "      <td>16</td>\n",
              "      <td>0.579299</td>\n",
              "      <td>0.774380</td>\n",
              "      <td>0.382979</td>\n",
              "      <td>0.617021</td>\n",
              "      <td>0.590909</td>\n",
              "      <td>0.619048</td>\n",
              "      <td>0.565217</td>\n",
              "      <td>00:05</td>\n",
              "    </tr>\n",
              "    <tr>\n",
              "      <td>17</td>\n",
              "      <td>0.550041</td>\n",
              "      <td>0.771682</td>\n",
              "      <td>0.361702</td>\n",
              "      <td>0.638298</td>\n",
              "      <td>0.604651</td>\n",
              "      <td>0.650000</td>\n",
              "      <td>0.565217</td>\n",
              "      <td>00:06</td>\n",
              "    </tr>\n",
              "    <tr>\n",
              "      <td>18</td>\n",
              "      <td>0.530648</td>\n",
              "      <td>0.779241</td>\n",
              "      <td>0.361702</td>\n",
              "      <td>0.638298</td>\n",
              "      <td>0.604651</td>\n",
              "      <td>0.650000</td>\n",
              "      <td>0.565217</td>\n",
              "      <td>00:05</td>\n",
              "    </tr>\n",
              "    <tr>\n",
              "      <td>19</td>\n",
              "      <td>0.512289</td>\n",
              "      <td>0.777737</td>\n",
              "      <td>0.382979</td>\n",
              "      <td>0.617021</td>\n",
              "      <td>0.571429</td>\n",
              "      <td>0.631579</td>\n",
              "      <td>0.521739</td>\n",
              "      <td>00:05</td>\n",
              "    </tr>\n",
              "  </tbody>\n",
              "</table>"
            ],
            "text/plain": [
              "<IPython.core.display.HTML object>"
            ]
          },
          "metadata": {},
          "output_type": "display_data"
        }
      ],
      "source": [
        "#เทรนโมเดล 20 รอบ\n",
        "learner_resnext.fine_tune(epochs=20, freeze_epochs=1, base_lr=0.0006918309954926372)"
      ]
    },
    {
      "cell_type": "code",
      "execution_count": null,
      "metadata": {
        "colab": {
          "base_uri": "https://localhost:8080/"
        },
        "id": "HQ7CfRadln2P",
        "outputId": "ec9953af-42d5-4e22-c3cd-e07bf5ee47ee"
      },
      "outputs": [
        {
          "name": "stdout",
          "output_type": "stream",
          "text": [
            "/content/gdrive/MyDrive/bata_Horsehoe_Crab_classiflication/model_back\n"
          ]
        }
      ],
      "source": [
        "%cd /content/gdrive/MyDrive/bata_Horsehoe_Crab_classiflication/model_back"
      ]
    },
    {
      "cell_type": "code",
      "execution_count": null,
      "metadata": {
        "id": "X5QEax6sl4AP"
      },
      "outputs": [],
      "source": [
        "learner_resnext.export(\"resnext50_fastai.pkl\")"
      ]
    },
    {
      "cell_type": "markdown",
      "metadata": {
        "id": "YTf825KWECk2"
      },
      "source": [
        "## densenet201"
      ]
    },
    {
      "cell_type": "code",
      "execution_count": null,
      "metadata": {
        "colab": {
          "base_uri": "https://localhost:8080/",
          "height": 86,
          "referenced_widgets": [
            "9099a472c832415880400bd153e7dde0",
            "7c2e3c0f766a44b7b9c43d0d5ddb19b8",
            "8311a1ef628e4124b79c7899dbf42453",
            "8029ebd46ef34236ae8f1d17052de6da",
            "3ef7450630f3434084fcab02542acc44",
            "605b6adc67af4c15ba29e6fc6819266a",
            "df26f1db09864b9a9d0dc2ded05af6ab",
            "fe7c2445ee464c96b4c4b4b669e99a94",
            "645181734d7f4dc8bf65705d1a06807d",
            "3a8942a567f342f8bbc49381697942f9",
            "5f54f62ebe5841108074e4ac31bdeabb"
          ]
        },
        "id": "fQP86BPAD-HY",
        "outputId": "ec1c62b4-b0b7-45b6-ca5f-57d45c741f68"
      },
      "outputs": [
        {
          "name": "stderr",
          "output_type": "stream",
          "text": [
            "Downloading: \"https://download.pytorch.org/models/densenet201-c1103571.pth\" to /root/.cache/torch/hub/checkpoints/densenet201-c1103571.pth\n"
          ]
        },
        {
          "data": {
            "application/vnd.jupyter.widget-view+json": {
              "model_id": "9099a472c832415880400bd153e7dde0",
              "version_major": 2,
              "version_minor": 0
            },
            "text/plain": [
              "  0%|          | 0.00/77.4M [00:00<?, ?B/s]"
            ]
          },
          "metadata": {},
          "output_type": "display_data"
        }
      ],
      "source": [
        "learner_Den = vision_learner(dls, models.densenet201, metrics=[error_rate, accuracy, F1Score(), Precision(), Recall()])"
      ]
    },
    {
      "cell_type": "code",
      "execution_count": null,
      "metadata": {
        "colab": {
          "base_uri": "https://localhost:8080/",
          "height": 340
        },
        "id": "GQPD0a2BEvQY",
        "outputId": "f0480e0c-4880-4546-b27f-82514ce96638"
      },
      "outputs": [
        {
          "data": {
            "text/html": [
              "\n",
              "<style>\n",
              "    /* Turns off some styling */\n",
              "    progress {\n",
              "        /* gets rid of default border in Firefox and Opera. */\n",
              "        border: none;\n",
              "        /* Needs to be in here for Safari polyfill so background images work as expected. */\n",
              "        background-size: auto;\n",
              "    }\n",
              "    .progress-bar-interrupted, .progress-bar-interrupted::-webkit-progress-bar {\n",
              "        background: #F44336;\n",
              "    }\n",
              "</style>\n"
            ],
            "text/plain": [
              "<IPython.core.display.HTML object>"
            ]
          },
          "metadata": {},
          "output_type": "display_data"
        },
        {
          "data": {
            "text/html": [
              "\n",
              "    <div>\n",
              "      <progress value='29' class='' max='101' style='width:300px; height:20px; vertical-align: middle;'></progress>\n",
              "      28.71% [29/101 01:45<04:22]\n",
              "    </div>\n",
              "    \n",
              "\n",
              "\n",
              "    <div>\n",
              "      <progress value='0' class='' max='1' style='width:300px; height:20px; vertical-align: middle;'></progress>\n",
              "      0.00% [0/1 00:00<00:00]\n",
              "    </div>\n",
              "    "
            ],
            "text/plain": [
              "<IPython.core.display.HTML object>"
            ]
          },
          "metadata": {},
          "output_type": "display_data"
        },
        {
          "data": {
            "text/html": [
              ""
            ],
            "text/plain": [
              "<IPython.core.display.HTML object>"
            ]
          },
          "metadata": {},
          "output_type": "display_data"
        },
        {
          "data": {
            "text/plain": [
              "SuggestedLRs(valley=0.0006918309954926372)"
            ]
          },
          "execution_count": 14,
          "metadata": {},
          "output_type": "execute_result"
        },
        {
          "data": {
            "image/png": "[encoded data removed]",
            "text/plain": [
              "<Figure size 432x288 with 1 Axes>"
            ]
          },
          "metadata": {},
          "output_type": "display_data"
        }
      ],
      "source": [
        "learner_Den.lr_find() # หา learning rate ที่เหมาะสม"
      ]
    },
    {
      "cell_type": "code",
      "execution_count": null,
      "metadata": {
        "colab": {
          "background_save": true,
          "base_uri": "https://localhost:8080/",
          "height": 461
        },
        "id": "XFAIJkfeGR63",
        "outputId": "26a76574-1b0a-44b9-8592-ed1ed93d0ca2"
      },
      "outputs": [
        {
          "data": {
            "text/html": [
              "\n",
              "<style>\n",
              "    /* Turns off some styling */\n",
              "    progress {\n",
              "        /* gets rid of default border in Firefox and Opera. */\n",
              "        border: none;\n",
              "        /* Needs to be in here for Safari polyfill so background images work as expected. */\n",
              "        background-size: auto;\n",
              "    }\n",
              "    .progress-bar-interrupted, .progress-bar-interrupted::-webkit-progress-bar {\n",
              "        background: #F44336;\n",
              "    }\n",
              "</style>\n"
            ],
            "text/plain": [
              "<IPython.core.display.HTML object>"
            ]
          },
          "metadata": {},
          "output_type": "display_data"
        },
        {
          "data": {
            "text/html": [
              "<table border=\"1\" class=\"dataframe\">\n",
              "  <thead>\n",
              "    <tr style=\"text-align: left;\">\n",
              "      <th>epoch</th>\n",
              "      <th>train_loss</th>\n",
              "      <th>valid_loss</th>\n",
              "      <th>error_rate</th>\n",
              "      <th>accuracy</th>\n",
              "      <th>f1_score</th>\n",
              "      <th>precision_score</th>\n",
              "      <th>recall_score</th>\n",
              "      <th>time</th>\n",
              "    </tr>\n",
              "  </thead>\n",
              "  <tbody>\n",
              "    <tr>\n",
              "      <td>0</td>\n",
              "      <td>1.278223</td>\n",
              "      <td>1.121881</td>\n",
              "      <td>0.510638</td>\n",
              "      <td>0.489362</td>\n",
              "      <td>0.612903</td>\n",
              "      <td>0.487179</td>\n",
              "      <td>0.826087</td>\n",
              "      <td>00:05</td>\n",
              "    </tr>\n",
              "  </tbody>\n",
              "</table>"
            ],
            "text/plain": [
              "<IPython.core.display.HTML object>"
            ]
          },
          "metadata": {},
          "output_type": "display_data"
        },
        {
          "data": {
            "text/html": [
              "\n",
              "<style>\n",
              "    /* Turns off some styling */\n",
              "    progress {\n",
              "        /* gets rid of default border in Firefox and Opera. */\n",
              "        border: none;\n",
              "        /* Needs to be in here for Safari polyfill so background images work as expected. */\n",
              "        background-size: auto;\n",
              "    }\n",
              "    .progress-bar-interrupted, .progress-bar-interrupted::-webkit-progress-bar {\n",
              "        background: #F44336;\n",
              "    }\n",
              "</style>\n"
            ],
            "text/plain": [
              "<IPython.core.display.HTML object>"
            ]
          },
          "metadata": {},
          "output_type": "display_data"
        },
        {
          "data": {
            "text/html": [
              "<table border=\"1\" class=\"dataframe\">\n",
              "  <thead>\n",
              "    <tr style=\"text-align: left;\">\n",
              "      <th>epoch</th>\n",
              "      <th>train_loss</th>\n",
              "      <th>valid_loss</th>\n",
              "      <th>error_rate</th>\n",
              "      <th>accuracy</th>\n",
              "      <th>f1_score</th>\n",
              "      <th>precision_score</th>\n",
              "      <th>recall_score</th>\n",
              "      <th>time</th>\n",
              "    </tr>\n",
              "  </thead>\n",
              "  <tbody>\n",
              "    <tr>\n",
              "      <td>0</td>\n",
              "      <td>1.155951</td>\n",
              "      <td>1.081876</td>\n",
              "      <td>0.510638</td>\n",
              "      <td>0.489362</td>\n",
              "      <td>0.625000</td>\n",
              "      <td>0.487805</td>\n",
              "      <td>0.869565</td>\n",
              "      <td>00:05</td>\n",
              "    </tr>\n",
              "    <tr>\n",
              "      <td>1</td>\n",
              "      <td>1.020343</td>\n",
              "      <td>1.079711</td>\n",
              "      <td>0.510638</td>\n",
              "      <td>0.489362</td>\n",
              "      <td>0.636364</td>\n",
              "      <td>0.488372</td>\n",
              "      <td>0.913043</td>\n",
              "      <td>00:05</td>\n",
              "    </tr>\n",
              "    <tr>\n",
              "      <td>2</td>\n",
              "      <td>1.008033</td>\n",
              "      <td>1.059426</td>\n",
              "      <td>0.446809</td>\n",
              "      <td>0.553191</td>\n",
              "      <td>0.686567</td>\n",
              "      <td>0.522727</td>\n",
              "      <td>1.000000</td>\n",
              "      <td>00:05</td>\n",
              "    </tr>\n",
              "    <tr>\n",
              "      <td>3</td>\n",
              "      <td>0.928885</td>\n",
              "      <td>1.000558</td>\n",
              "      <td>0.404255</td>\n",
              "      <td>0.595745</td>\n",
              "      <td>0.707692</td>\n",
              "      <td>0.547619</td>\n",
              "      <td>1.000000</td>\n",
              "      <td>00:05</td>\n",
              "    </tr>\n",
              "    <tr>\n",
              "      <td>4</td>\n",
              "      <td>0.904732</td>\n",
              "      <td>0.967023</td>\n",
              "      <td>0.382979</td>\n",
              "      <td>0.617021</td>\n",
              "      <td>0.718750</td>\n",
              "      <td>0.560976</td>\n",
              "      <td>1.000000</td>\n",
              "      <td>00:05</td>\n",
              "    </tr>\n",
              "    <tr>\n",
              "      <td>5</td>\n",
              "      <td>0.809014</td>\n",
              "      <td>0.949037</td>\n",
              "      <td>0.382979</td>\n",
              "      <td>0.617021</td>\n",
              "      <td>0.709677</td>\n",
              "      <td>0.564103</td>\n",
              "      <td>0.956522</td>\n",
              "      <td>00:05</td>\n",
              "    </tr>\n",
              "    <tr>\n",
              "      <td>6</td>\n",
              "      <td>0.752486</td>\n",
              "      <td>0.920424</td>\n",
              "      <td>0.361702</td>\n",
              "      <td>0.638298</td>\n",
              "      <td>0.711864</td>\n",
              "      <td>0.583333</td>\n",
              "      <td>0.913043</td>\n",
              "      <td>00:05</td>\n",
              "    </tr>\n",
              "    <tr>\n",
              "      <td>7</td>\n",
              "      <td>0.679615</td>\n",
              "      <td>0.893047</td>\n",
              "      <td>0.382979</td>\n",
              "      <td>0.617021</td>\n",
              "      <td>0.689655</td>\n",
              "      <td>0.571429</td>\n",
              "      <td>0.869565</td>\n",
              "      <td>00:05</td>\n",
              "    </tr>\n",
              "    <tr>\n",
              "      <td>8</td>\n",
              "      <td>0.639195</td>\n",
              "      <td>0.856086</td>\n",
              "      <td>0.340426</td>\n",
              "      <td>0.659574</td>\n",
              "      <td>0.714286</td>\n",
              "      <td>0.606061</td>\n",
              "      <td>0.869565</td>\n",
              "      <td>00:05</td>\n",
              "    </tr>\n",
              "    <tr>\n",
              "      <td>9</td>\n",
              "      <td>0.595346</td>\n",
              "      <td>0.843107</td>\n",
              "      <td>0.319149</td>\n",
              "      <td>0.680851</td>\n",
              "      <td>0.727273</td>\n",
              "      <td>0.625000</td>\n",
              "      <td>0.869565</td>\n",
              "      <td>00:05</td>\n",
              "    </tr>\n",
              "    <tr>\n",
              "      <td>10</td>\n",
              "      <td>0.552844</td>\n",
              "      <td>0.831052</td>\n",
              "      <td>0.319149</td>\n",
              "      <td>0.680851</td>\n",
              "      <td>0.727273</td>\n",
              "      <td>0.625000</td>\n",
              "      <td>0.869565</td>\n",
              "      <td>00:05</td>\n",
              "    </tr>\n",
              "    <tr>\n",
              "      <td>11</td>\n",
              "      <td>0.511201</td>\n",
              "      <td>0.810765</td>\n",
              "      <td>0.276596</td>\n",
              "      <td>0.723404</td>\n",
              "      <td>0.754717</td>\n",
              "      <td>0.666667</td>\n",
              "      <td>0.869565</td>\n",
              "      <td>00:05</td>\n",
              "    </tr>\n",
              "    <tr>\n",
              "      <td>12</td>\n",
              "      <td>0.476694</td>\n",
              "      <td>0.793819</td>\n",
              "      <td>0.340426</td>\n",
              "      <td>0.659574</td>\n",
              "      <td>0.680000</td>\n",
              "      <td>0.629630</td>\n",
              "      <td>0.739130</td>\n",
              "      <td>00:05</td>\n",
              "    </tr>\n",
              "    <tr>\n",
              "      <td>13</td>\n",
              "      <td>0.444757</td>\n",
              "      <td>0.785318</td>\n",
              "      <td>0.340426</td>\n",
              "      <td>0.659574</td>\n",
              "      <td>0.680000</td>\n",
              "      <td>0.629630</td>\n",
              "      <td>0.739130</td>\n",
              "      <td>00:05</td>\n",
              "    </tr>\n",
              "    <tr>\n",
              "      <td>14</td>\n",
              "      <td>0.420999</td>\n",
              "      <td>0.781443</td>\n",
              "      <td>0.340426</td>\n",
              "      <td>0.659574</td>\n",
              "      <td>0.680000</td>\n",
              "      <td>0.629630</td>\n",
              "      <td>0.739130</td>\n",
              "      <td>00:06</td>\n",
              "    </tr>\n",
              "    <tr>\n",
              "      <td>15</td>\n",
              "      <td>0.397698</td>\n",
              "      <td>0.766279</td>\n",
              "      <td>0.340426</td>\n",
              "      <td>0.659574</td>\n",
              "      <td>0.680000</td>\n",
              "      <td>0.629630</td>\n",
              "      <td>0.739130</td>\n",
              "      <td>00:05</td>\n",
              "    </tr>\n",
              "    <tr>\n",
              "      <td>16</td>\n",
              "      <td>0.374170</td>\n",
              "      <td>0.759247</td>\n",
              "      <td>0.319149</td>\n",
              "      <td>0.680851</td>\n",
              "      <td>0.693878</td>\n",
              "      <td>0.653846</td>\n",
              "      <td>0.739130</td>\n",
              "      <td>00:06</td>\n",
              "    </tr>\n",
              "    <tr>\n",
              "      <td>17</td>\n",
              "      <td>0.354667</td>\n",
              "      <td>0.755523</td>\n",
              "      <td>0.297872</td>\n",
              "      <td>0.702128</td>\n",
              "      <td>0.708333</td>\n",
              "      <td>0.680000</td>\n",
              "      <td>0.739130</td>\n",
              "      <td>00:05</td>\n",
              "    </tr>\n",
              "    <tr>\n",
              "      <td>18</td>\n",
              "      <td>0.338664</td>\n",
              "      <td>0.751403</td>\n",
              "      <td>0.297872</td>\n",
              "      <td>0.702128</td>\n",
              "      <td>0.695652</td>\n",
              "      <td>0.695652</td>\n",
              "      <td>0.695652</td>\n",
              "      <td>00:05</td>\n",
              "    </tr>\n",
              "    <tr>\n",
              "      <td>19</td>\n",
              "      <td>0.322572</td>\n",
              "      <td>0.740162</td>\n",
              "      <td>0.276596</td>\n",
              "      <td>0.723404</td>\n",
              "      <td>0.723404</td>\n",
              "      <td>0.708333</td>\n",
              "      <td>0.739130</td>\n",
              "      <td>00:05</td>\n",
              "    </tr>\n",
              "  </tbody>\n",
              "</table>"
            ],
            "text/plain": [
              "<IPython.core.display.HTML object>"
            ]
          },
          "metadata": {},
          "output_type": "display_data"
        }
      ],
      "source": [
        "learner_Den.fine_tune(20,  freeze_epochs=1, base_lr =0.0006918309954926372)"
      ]
    },
    {
      "cell_type": "code",
      "execution_count": null,
      "metadata": {
        "colab": {
          "base_uri": "https://localhost:8080/"
        },
        "id": "X8EfENIDHX8y",
        "outputId": "1af78ef1-31bd-4e2e-b917-53d0182868d0"
      },
      "outputs": [
        {
          "name": "stdout",
          "output_type": "stream",
          "text": [
            "/content/gdrive/MyDrive/bata_Horsehoe_Crab_classiflication/model3\n"
          ]
        }
      ],
      "source": [
        "%cd /content/gdrive/MyDrive/bata_Horsehoe_Crab_classiflication/model3"
      ]
    },
    {
      "cell_type": "code",
      "execution_count": null,
      "metadata": {
        "id": "qGTlsHCUaFBi"
      },
      "outputs": [],
      "source": [
        "learner_Den.export(\"densenet201_fastai.pkl\")"
      ]
    },
    {
      "cell_type": "markdown",
      "metadata": {
        "id": "X2el2oPdGoF2"
      },
      "source": [
        "## VGG19"
      ]
    },
    {
      "cell_type": "code",
      "execution_count": null,
      "metadata": {
        "colab": {
          "base_uri": "https://localhost:8080/",
          "height": 121,
          "referenced_widgets": [
            "d77350a563144aa39381f9f1dfdb4af7",
            "b11c474e3c794ecbb74bda1c997d5baf",
            "3ef57772a75c4613a14356107657f208",
            "494b40d6a6f14f90923483bf2c62fa60",
            "49e6c06109054bc4af3de99af332911d",
            "e996662140424432845f0e08da1270ab",
            "65949b991e884534849de652a864f80f",
            "93a06bc03c954994ae5e14fb40248438",
            "4b46246e690e479b884ad77bd8f256e1",
            "2f8011e29522450d9f582ebbab717d85",
            "7a89f8ab3097431897d9db1d6ce50792"
          ]
        },
        "id": "9Ai6kzJdGueT",
        "outputId": "e84da41e-42fc-45e0-bbcb-b3cebb8d09ef"
      },
      "outputs": [
        {
          "name": "stderr",
          "output_type": "stream",
          "text": [
            "/usr/local/lib/python3.7/dist-packages/fastai/vision/learner.py:265: UserWarning: `cnn_learner` has been renamed to `vision_learner` -- please update your code\n",
            "  warn(\"`cnn_learner` has been renamed to `vision_learner` -- please update your code\")\n",
            "Downloading: \"https://download.pytorch.org/models/vgg19_bn-c79401a0.pth\" to /root/.cache/torch/hub/checkpoints/vgg19_bn-c79401a0.pth\n"
          ]
        },
        {
          "data": {
            "application/vnd.jupyter.widget-view+json": {
              "model_id": "d77350a563144aa39381f9f1dfdb4af7",
              "version_major": 2,
              "version_minor": 0
            },
            "text/plain": [
              "  0%|          | 0.00/548M [00:00<?, ?B/s]"
            ]
          },
          "metadata": {},
          "output_type": "display_data"
        }
      ],
      "source": [
        "learner_VGG19 = cnn_learner(dls, models.vgg19_bn, metrics=[error_rate, accuracy, F1Score(), Precision(), Recall()])"
      ]
    },
    {
      "cell_type": "code",
      "execution_count": null,
      "metadata": {
        "colab": {
          "base_uri": "https://localhost:8080/",
          "height": 300
        },
        "id": "my917BMFHJbG",
        "outputId": "b99f7c66-478d-4c44-f6ae-9d4359af6117"
      },
      "outputs": [
        {
          "data": {
            "text/html": [
              "\n",
              "<style>\n",
              "    /* Turns off some styling */\n",
              "    progress {\n",
              "        /* gets rid of default border in Firefox and Opera. */\n",
              "        border: none;\n",
              "        /* Needs to be in here for Safari polyfill so background images work as expected. */\n",
              "        background-size: auto;\n",
              "    }\n",
              "    .progress-bar-interrupted, .progress-bar-interrupted::-webkit-progress-bar {\n",
              "        background: #F44336;\n",
              "    }\n",
              "</style>\n"
            ],
            "text/plain": [
              "<IPython.core.display.HTML object>"
            ]
          },
          "metadata": {},
          "output_type": "display_data"
        },
        {
          "data": {
            "text/html": [
              ""
            ],
            "text/plain": [
              "<IPython.core.display.HTML object>"
            ]
          },
          "metadata": {},
          "output_type": "display_data"
        },
        {
          "data": {
            "text/plain": [
              "SuggestedLRs(valley=0.0014454397605732083)"
            ]
          },
          "execution_count": 22,
          "metadata": {},
          "output_type": "execute_result"
        },
        {
          "data": {
            "image/png": "[encoded data removed]",
            "text/plain": [
              "<Figure size 432x288 with 1 Axes>"
            ]
          },
          "metadata": {},
          "output_type": "display_data"
        }
      ],
      "source": [
        "learner_VGG19.lr_find() # หา learning rate ที่เหมาะสม"
      ]
    },
    {
      "cell_type": "code",
      "execution_count": null,
      "metadata": {
        "colab": {
          "base_uri": "https://localhost:8080/",
          "height": 740
        },
        "id": "4j0I8ynMHMnz",
        "outputId": "26983ba2-b2ea-4b71-abe3-21b3f5f828d3"
      },
      "outputs": [
        {
          "data": {
            "text/html": [
              "\n",
              "<style>\n",
              "    /* Turns off some styling */\n",
              "    progress {\n",
              "        /* gets rid of default border in Firefox and Opera. */\n",
              "        border: none;\n",
              "        /* Needs to be in here for Safari polyfill so background images work as expected. */\n",
              "        background-size: auto;\n",
              "    }\n",
              "    .progress-bar-interrupted, .progress-bar-interrupted::-webkit-progress-bar {\n",
              "        background: #F44336;\n",
              "    }\n",
              "</style>\n"
            ],
            "text/plain": [
              "<IPython.core.display.HTML object>"
            ]
          },
          "metadata": {},
          "output_type": "display_data"
        },
        {
          "data": {
            "text/html": [
              "<table border=\"1\" class=\"dataframe\">\n",
              "  <thead>\n",
              "    <tr style=\"text-align: left;\">\n",
              "      <th>epoch</th>\n",
              "      <th>train_loss</th>\n",
              "      <th>valid_loss</th>\n",
              "      <th>error_rate</th>\n",
              "      <th>accuracy</th>\n",
              "      <th>f1_score</th>\n",
              "      <th>precision_score</th>\n",
              "      <th>recall_score</th>\n",
              "      <th>time</th>\n",
              "    </tr>\n",
              "  </thead>\n",
              "  <tbody>\n",
              "    <tr>\n",
              "      <td>0</td>\n",
              "      <td>1.306861</td>\n",
              "      <td>0.744533</td>\n",
              "      <td>0.454545</td>\n",
              "      <td>0.545455</td>\n",
              "      <td>0.655172</td>\n",
              "      <td>0.570000</td>\n",
              "      <td>0.770270</td>\n",
              "      <td>00:10</td>\n",
              "    </tr>\n",
              "  </tbody>\n",
              "</table>"
            ],
            "text/plain": [
              "<IPython.core.display.HTML object>"
            ]
          },
          "metadata": {},
          "output_type": "display_data"
        },
        {
          "data": {
            "text/html": [
              "\n",
              "<style>\n",
              "    /* Turns off some styling */\n",
              "    progress {\n",
              "        /* gets rid of default border in Firefox and Opera. */\n",
              "        border: none;\n",
              "        /* Needs to be in here for Safari polyfill so background images work as expected. */\n",
              "        background-size: auto;\n",
              "    }\n",
              "    .progress-bar-interrupted, .progress-bar-interrupted::-webkit-progress-bar {\n",
              "        background: #F44336;\n",
              "    }\n",
              "</style>\n"
            ],
            "text/plain": [
              "<IPython.core.display.HTML object>"
            ]
          },
          "metadata": {},
          "output_type": "display_data"
        },
        {
          "data": {
            "text/html": [
              "<table border=\"1\" class=\"dataframe\">\n",
              "  <thead>\n",
              "    <tr style=\"text-align: left;\">\n",
              "      <th>epoch</th>\n",
              "      <th>train_loss</th>\n",
              "      <th>valid_loss</th>\n",
              "      <th>error_rate</th>\n",
              "      <th>accuracy</th>\n",
              "      <th>f1_score</th>\n",
              "      <th>precision_score</th>\n",
              "      <th>recall_score</th>\n",
              "      <th>time</th>\n",
              "    </tr>\n",
              "  </thead>\n",
              "  <tbody>\n",
              "    <tr>\n",
              "      <td>0</td>\n",
              "      <td>1.029403</td>\n",
              "      <td>0.685073</td>\n",
              "      <td>0.386364</td>\n",
              "      <td>0.613636</td>\n",
              "      <td>0.679245</td>\n",
              "      <td>0.635294</td>\n",
              "      <td>0.729730</td>\n",
              "      <td>00:13</td>\n",
              "    </tr>\n",
              "    <tr>\n",
              "      <td>1</td>\n",
              "      <td>0.931361</td>\n",
              "      <td>0.653031</td>\n",
              "      <td>0.356061</td>\n",
              "      <td>0.643939</td>\n",
              "      <td>0.661871</td>\n",
              "      <td>0.707692</td>\n",
              "      <td>0.621622</td>\n",
              "      <td>00:13</td>\n",
              "    </tr>\n",
              "    <tr>\n",
              "      <td>2</td>\n",
              "      <td>0.848119</td>\n",
              "      <td>0.609338</td>\n",
              "      <td>0.310606</td>\n",
              "      <td>0.689394</td>\n",
              "      <td>0.700730</td>\n",
              "      <td>0.761905</td>\n",
              "      <td>0.648649</td>\n",
              "      <td>00:13</td>\n",
              "    </tr>\n",
              "    <tr>\n",
              "      <td>3</td>\n",
              "      <td>0.808401</td>\n",
              "      <td>0.535285</td>\n",
              "      <td>0.234848</td>\n",
              "      <td>0.765152</td>\n",
              "      <td>0.783217</td>\n",
              "      <td>0.811594</td>\n",
              "      <td>0.756757</td>\n",
              "      <td>00:13</td>\n",
              "    </tr>\n",
              "    <tr>\n",
              "      <td>4</td>\n",
              "      <td>0.757450</td>\n",
              "      <td>0.489019</td>\n",
              "      <td>0.189394</td>\n",
              "      <td>0.810606</td>\n",
              "      <td>0.829932</td>\n",
              "      <td>0.835616</td>\n",
              "      <td>0.824324</td>\n",
              "      <td>00:13</td>\n",
              "    </tr>\n",
              "    <tr>\n",
              "      <td>5</td>\n",
              "      <td>0.721366</td>\n",
              "      <td>0.461313</td>\n",
              "      <td>0.174242</td>\n",
              "      <td>0.825758</td>\n",
              "      <td>0.839161</td>\n",
              "      <td>0.869565</td>\n",
              "      <td>0.810811</td>\n",
              "      <td>00:13</td>\n",
              "    </tr>\n",
              "    <tr>\n",
              "      <td>6</td>\n",
              "      <td>0.649567</td>\n",
              "      <td>0.456202</td>\n",
              "      <td>0.181818</td>\n",
              "      <td>0.818182</td>\n",
              "      <td>0.828571</td>\n",
              "      <td>0.878788</td>\n",
              "      <td>0.783784</td>\n",
              "      <td>00:13</td>\n",
              "    </tr>\n",
              "    <tr>\n",
              "      <td>7</td>\n",
              "      <td>0.592703</td>\n",
              "      <td>0.479727</td>\n",
              "      <td>0.174242</td>\n",
              "      <td>0.825758</td>\n",
              "      <td>0.834532</td>\n",
              "      <td>0.892308</td>\n",
              "      <td>0.783784</td>\n",
              "      <td>00:13</td>\n",
              "    </tr>\n",
              "    <tr>\n",
              "      <td>8</td>\n",
              "      <td>0.550041</td>\n",
              "      <td>0.491508</td>\n",
              "      <td>0.181818</td>\n",
              "      <td>0.818182</td>\n",
              "      <td>0.826087</td>\n",
              "      <td>0.890625</td>\n",
              "      <td>0.770270</td>\n",
              "      <td>00:14</td>\n",
              "    </tr>\n",
              "    <tr>\n",
              "      <td>9</td>\n",
              "      <td>0.514077</td>\n",
              "      <td>0.520159</td>\n",
              "      <td>0.174242</td>\n",
              "      <td>0.825758</td>\n",
              "      <td>0.832117</td>\n",
              "      <td>0.904762</td>\n",
              "      <td>0.770270</td>\n",
              "      <td>00:13</td>\n",
              "    </tr>\n",
              "    <tr>\n",
              "      <td>10</td>\n",
              "      <td>0.486424</td>\n",
              "      <td>0.551723</td>\n",
              "      <td>0.181818</td>\n",
              "      <td>0.818182</td>\n",
              "      <td>0.826087</td>\n",
              "      <td>0.890625</td>\n",
              "      <td>0.770270</td>\n",
              "      <td>00:13</td>\n",
              "    </tr>\n",
              "    <tr>\n",
              "      <td>11</td>\n",
              "      <td>0.454659</td>\n",
              "      <td>0.580939</td>\n",
              "      <td>0.196970</td>\n",
              "      <td>0.803030</td>\n",
              "      <td>0.808824</td>\n",
              "      <td>0.887097</td>\n",
              "      <td>0.743243</td>\n",
              "      <td>00:13</td>\n",
              "    </tr>\n",
              "    <tr>\n",
              "      <td>12</td>\n",
              "      <td>0.417855</td>\n",
              "      <td>0.594001</td>\n",
              "      <td>0.196970</td>\n",
              "      <td>0.803030</td>\n",
              "      <td>0.808824</td>\n",
              "      <td>0.887097</td>\n",
              "      <td>0.743243</td>\n",
              "      <td>00:13</td>\n",
              "    </tr>\n",
              "    <tr>\n",
              "      <td>13</td>\n",
              "      <td>0.399164</td>\n",
              "      <td>0.600887</td>\n",
              "      <td>0.189394</td>\n",
              "      <td>0.810606</td>\n",
              "      <td>0.817518</td>\n",
              "      <td>0.888889</td>\n",
              "      <td>0.756757</td>\n",
              "      <td>00:13</td>\n",
              "    </tr>\n",
              "    <tr>\n",
              "      <td>14</td>\n",
              "      <td>0.374601</td>\n",
              "      <td>0.610554</td>\n",
              "      <td>0.181818</td>\n",
              "      <td>0.818182</td>\n",
              "      <td>0.826087</td>\n",
              "      <td>0.890625</td>\n",
              "      <td>0.770270</td>\n",
              "      <td>00:13</td>\n",
              "    </tr>\n",
              "    <tr>\n",
              "      <td>15</td>\n",
              "      <td>0.354436</td>\n",
              "      <td>0.628455</td>\n",
              "      <td>0.181818</td>\n",
              "      <td>0.818182</td>\n",
              "      <td>0.826087</td>\n",
              "      <td>0.890625</td>\n",
              "      <td>0.770270</td>\n",
              "      <td>00:14</td>\n",
              "    </tr>\n",
              "    <tr>\n",
              "      <td>16</td>\n",
              "      <td>0.329973</td>\n",
              "      <td>0.634921</td>\n",
              "      <td>0.174242</td>\n",
              "      <td>0.825758</td>\n",
              "      <td>0.834532</td>\n",
              "      <td>0.892308</td>\n",
              "      <td>0.783784</td>\n",
              "      <td>00:13</td>\n",
              "    </tr>\n",
              "    <tr>\n",
              "      <td>17</td>\n",
              "      <td>0.307154</td>\n",
              "      <td>0.637108</td>\n",
              "      <td>0.174242</td>\n",
              "      <td>0.825758</td>\n",
              "      <td>0.834532</td>\n",
              "      <td>0.892308</td>\n",
              "      <td>0.783784</td>\n",
              "      <td>00:13</td>\n",
              "    </tr>\n",
              "    <tr>\n",
              "      <td>18</td>\n",
              "      <td>0.288649</td>\n",
              "      <td>0.646642</td>\n",
              "      <td>0.174242</td>\n",
              "      <td>0.825758</td>\n",
              "      <td>0.834532</td>\n",
              "      <td>0.892308</td>\n",
              "      <td>0.783784</td>\n",
              "      <td>00:14</td>\n",
              "    </tr>\n",
              "    <tr>\n",
              "      <td>19</td>\n",
              "      <td>0.276596</td>\n",
              "      <td>0.645672</td>\n",
              "      <td>0.174242</td>\n",
              "      <td>0.825758</td>\n",
              "      <td>0.834532</td>\n",
              "      <td>0.892308</td>\n",
              "      <td>0.783784</td>\n",
              "      <td>00:13</td>\n",
              "    </tr>\n",
              "  </tbody>\n",
              "</table>"
            ],
            "text/plain": [
              "<IPython.core.display.HTML object>"
            ]
          },
          "metadata": {},
          "output_type": "display_data"
        }
      ],
      "source": [
        "learner_VGG19.fine_tune(epochs=20, freeze_epochs=1, base_lr=0.0014454397605732083)"
      ]
    },
    {
      "cell_type": "code",
      "execution_count": null,
      "metadata": {
        "id": "qZozgxjXaV7D"
      },
      "outputs": [],
      "source": [
        "learner_VGG19.export(\"VGG19_fastai.pkl\")"
      ]
    },
    {
      "cell_type": "markdown",
      "metadata": {
        "id": "w8NqELUiIJqa"
      },
      "source": [
        "## squeezenet1_1\n"
      ]
    },
    {
      "cell_type": "code",
      "execution_count": null,
      "metadata": {
        "colab": {
          "base_uri": "https://localhost:8080/",
          "height": 156,
          "referenced_widgets": [
            "5b29e7cc980b41ee8a99706461e9da48"
          ]
        },
        "id": "irIYy5_nILf7",
        "outputId": "2a9ad2ed-0b04-44d0-b5c4-53334373524c"
      },
      "outputs": [
        {
          "name": "stderr",
          "output_type": "stream",
          "text": [
            "/usr/local/lib/python3.7/dist-packages/fastai/vision/learner.py:265: UserWarning: `cnn_learner` has been renamed to `vision_learner` -- please update your code\n",
            "  warn(\"`cnn_learner` has been renamed to `vision_learner` -- please update your code\")\n",
            "Downloading: \"https://download.pytorch.org/models/squeezenet1_1-b8a52dc0.pth\" to /root/.cache/torch/hub/checkpoints/squeezenet1_1-b8a52dc0.pth\n"
          ]
        },
        {
          "data": {
            "application/vnd.jupyter.widget-view+json": {
              "model_id": "5b29e7cc980b41ee8a99706461e9da48",
              "version_major": 2,
              "version_minor": 0
            },
            "text/plain": [
              "  0%|          | 0.00/4.73M [00:00<?, ?B/s]"
            ]
          },
          "metadata": {},
          "output_type": "display_data"
        },
        {
          "name": "stderr",
          "output_type": "stream",
          "text": [
            "/usr/local/lib/python3.7/dist-packages/torch/nn/functional.py:780: UserWarning: Note that order of the arguments: ceil_mode and return_indices will changeto match the args list in nn.MaxPool2d in a future release.\n",
            "  warnings.warn(\"Note that order of the arguments: ceil_mode and return_indices will change\"\n"
          ]
        }
      ],
      "source": [
        "learner_Squ = cnn_learner(dls, squeezenet1_1, metrics=[error_rate, accuracy, F1Score(), Precision(), Recall()])"
      ]
    },
    {
      "cell_type": "code",
      "execution_count": null,
      "metadata": {
        "colab": {
          "base_uri": "https://localhost:8080/",
          "height": 355
        },
        "id": "IFoiiB-dOttW",
        "outputId": "a454dd77-6c13-4e70-9018-8bed5e92e173"
      },
      "outputs": [
        {
          "data": {
            "text/html": [
              "\n",
              "<style>\n",
              "    /* Turns off some styling */\n",
              "    progress {\n",
              "        /* gets rid of default border in Firefox and Opera. */\n",
              "        border: none;\n",
              "        /* Needs to be in here for Safari polyfill so background images work as expected. */\n",
              "        background-size: auto;\n",
              "    }\n",
              "    .progress-bar-interrupted, .progress-bar-interrupted::-webkit-progress-bar {\n",
              "        background: #F44336;\n",
              "    }\n",
              "</style>\n"
            ],
            "text/plain": [
              "<IPython.core.display.HTML object>"
            ]
          },
          "metadata": {},
          "output_type": "display_data"
        },
        {
          "data": {
            "text/html": [
              ""
            ],
            "text/plain": [
              "<IPython.core.display.HTML object>"
            ]
          },
          "metadata": {},
          "output_type": "display_data"
        },
        {
          "name": "stderr",
          "output_type": "stream",
          "text": [
            "/usr/local/lib/python3.7/dist-packages/torch/nn/functional.py:780: UserWarning: Note that order of the arguments: ceil_mode and return_indices will changeto match the args list in nn.MaxPool2d in a future release.\n",
            "  warnings.warn(\"Note that order of the arguments: ceil_mode and return_indices will change\"\n"
          ]
        },
        {
          "data": {
            "text/plain": [
              "SuggestedLRs(valley=0.0008317637839354575)"
            ]
          },
          "execution_count": 50,
          "metadata": {},
          "output_type": "execute_result"
        },
        {
          "data": {
            "image/png": "[encoded data removed]",
            "text/plain": [
              "<Figure size 432x288 with 1 Axes>"
            ]
          },
          "metadata": {},
          "output_type": "display_data"
        }
      ],
      "source": [
        "learner_Squ.lr_find() # หา learning rate ที่เหมาะสม"
      ]
    },
    {
      "cell_type": "code",
      "execution_count": null,
      "metadata": {
        "id": "4YS8xxwaOrjK"
      },
      "outputs": [],
      "source": [
        "learner_Squ.fine_tune(epochs=20, freeze_epochs=1, base_lr=0.0008317637839354575)"
      ]
    },
    {
      "cell_type": "code",
      "execution_count": null,
      "metadata": {
        "id": "ew16GnV_afDI"
      },
      "outputs": [],
      "source": [
        "learner_Squ.export(\"squeezenet1_1_fastai.pkl\")"
      ]
    },
    {
      "cell_type": "markdown",
      "metadata": {
        "id": "7oNK6mMiRt1H"
      },
      "source": [
        "## alexnet"
      ]
    },
    {
      "cell_type": "code",
      "execution_count": null,
      "metadata": {
        "colab": {
          "base_uri": "https://localhost:8080/",
          "height": 101,
          "referenced_widgets": [
            "6c6f970493d148dd8a7285792d4ce680"
          ]
        },
        "id": "hv6l-5EaRwdm",
        "outputId": "9dc5ee31-4020-4cf9-af5a-b2ac9871f337"
      },
      "outputs": [
        {
          "name": "stderr",
          "output_type": "stream",
          "text": [
            "/usr/local/lib/python3.7/dist-packages/fastai/vision/learner.py:265: UserWarning: `cnn_learner` has been renamed to `vision_learner` -- please update your code\n",
            "  warn(\"`cnn_learner` has been renamed to `vision_learner` -- please update your code\")\n",
            "Downloading: \"https://download.pytorch.org/models/alexnet-owt-7be5be79.pth\" to /root/.cache/torch/hub/checkpoints/alexnet-owt-7be5be79.pth\n"
          ]
        },
        {
          "data": {
            "application/vnd.jupyter.widget-view+json": {
              "model_id": "6c6f970493d148dd8a7285792d4ce680",
              "version_major": 2,
              "version_minor": 0
            },
            "text/plain": [
              "  0%|          | 0.00/233M [00:00<?, ?B/s]"
            ]
          },
          "metadata": {},
          "output_type": "display_data"
        }
      ],
      "source": [
        "learner_Alex = cnn_learner(dls, alexnet, metrics=[error_rate, accuracy, F1Score(), Precision(), Recall()])"
      ]
    },
    {
      "cell_type": "code",
      "execution_count": null,
      "metadata": {
        "colab": {
          "base_uri": "https://localhost:8080/",
          "height": 300
        },
        "id": "Iv1CVP8jR-VG",
        "outputId": "cc37df4b-85b7-48b4-b956-7ba74c7b1e29"
      },
      "outputs": [
        {
          "data": {
            "text/html": [
              "\n",
              "<style>\n",
              "    /* Turns off some styling */\n",
              "    progress {\n",
              "        /* gets rid of default border in Firefox and Opera. */\n",
              "        border: none;\n",
              "        /* Needs to be in here for Safari polyfill so background images work as expected. */\n",
              "        background-size: auto;\n",
              "    }\n",
              "    .progress-bar-interrupted, .progress-bar-interrupted::-webkit-progress-bar {\n",
              "        background: #F44336;\n",
              "    }\n",
              "</style>\n"
            ],
            "text/plain": [
              "<IPython.core.display.HTML object>"
            ]
          },
          "metadata": {},
          "output_type": "display_data"
        },
        {
          "data": {
            "text/html": [
              ""
            ],
            "text/plain": [
              "<IPython.core.display.HTML object>"
            ]
          },
          "metadata": {},
          "output_type": "display_data"
        },
        {
          "data": {
            "text/plain": [
              "SuggestedLRs(valley=0.0008317637839354575)"
            ]
          },
          "execution_count": 54,
          "metadata": {},
          "output_type": "execute_result"
        },
        {
          "data": {
            "image/png": "[encoded data removed]",
            "text/plain": [
              "<Figure size 432x288 with 1 Axes>"
            ]
          },
          "metadata": {},
          "output_type": "display_data"
        }
      ],
      "source": [
        "learner_Alex.lr_find()"
      ]
    },
    {
      "cell_type": "code",
      "execution_count": null,
      "metadata": {
        "colab": {
          "base_uri": "https://localhost:8080/",
          "height": 740
        },
        "id": "f3pPnzZDSWMQ",
        "outputId": "3125d5df-23d9-42dc-e6cd-de1c5468206c"
      },
      "outputs": [
        {
          "data": {
            "text/html": [
              "\n",
              "<style>\n",
              "    /* Turns off some styling */\n",
              "    progress {\n",
              "        /* gets rid of default border in Firefox and Opera. */\n",
              "        border: none;\n",
              "        /* Needs to be in here for Safari polyfill so background images work as expected. */\n",
              "        background-size: auto;\n",
              "    }\n",
              "    .progress-bar-interrupted, .progress-bar-interrupted::-webkit-progress-bar {\n",
              "        background: #F44336;\n",
              "    }\n",
              "</style>\n"
            ],
            "text/plain": [
              "<IPython.core.display.HTML object>"
            ]
          },
          "metadata": {},
          "output_type": "display_data"
        },
        {
          "data": {
            "text/html": [
              "<table border=\"1\" class=\"dataframe\">\n",
              "  <thead>\n",
              "    <tr style=\"text-align: left;\">\n",
              "      <th>epoch</th>\n",
              "      <th>train_loss</th>\n",
              "      <th>valid_loss</th>\n",
              "      <th>error_rate</th>\n",
              "      <th>accuracy</th>\n",
              "      <th>f1_score</th>\n",
              "      <th>precision_score</th>\n",
              "      <th>recall_score</th>\n",
              "      <th>time</th>\n",
              "    </tr>\n",
              "  </thead>\n",
              "  <tbody>\n",
              "    <tr>\n",
              "      <td>0</td>\n",
              "      <td>1.309652</td>\n",
              "      <td>2.242437</td>\n",
              "      <td>0.525424</td>\n",
              "      <td>0.474576</td>\n",
              "      <td>0.643678</td>\n",
              "      <td>0.474576</td>\n",
              "      <td>1.000000</td>\n",
              "      <td>00:03</td>\n",
              "    </tr>\n",
              "  </tbody>\n",
              "</table>"
            ],
            "text/plain": [
              "<IPython.core.display.HTML object>"
            ]
          },
          "metadata": {},
          "output_type": "display_data"
        },
        {
          "data": {
            "text/html": [
              "\n",
              "<style>\n",
              "    /* Turns off some styling */\n",
              "    progress {\n",
              "        /* gets rid of default border in Firefox and Opera. */\n",
              "        border: none;\n",
              "        /* Needs to be in here for Safari polyfill so background images work as expected. */\n",
              "        background-size: auto;\n",
              "    }\n",
              "    .progress-bar-interrupted, .progress-bar-interrupted::-webkit-progress-bar {\n",
              "        background: #F44336;\n",
              "    }\n",
              "</style>\n"
            ],
            "text/plain": [
              "<IPython.core.display.HTML object>"
            ]
          },
          "metadata": {},
          "output_type": "display_data"
        },
        {
          "data": {
            "text/html": [
              "<table border=\"1\" class=\"dataframe\">\n",
              "  <thead>\n",
              "    <tr style=\"text-align: left;\">\n",
              "      <th>epoch</th>\n",
              "      <th>train_loss</th>\n",
              "      <th>valid_loss</th>\n",
              "      <th>error_rate</th>\n",
              "      <th>accuracy</th>\n",
              "      <th>f1_score</th>\n",
              "      <th>precision_score</th>\n",
              "      <th>recall_score</th>\n",
              "      <th>time</th>\n",
              "    </tr>\n",
              "  </thead>\n",
              "  <tbody>\n",
              "    <tr>\n",
              "      <td>0</td>\n",
              "      <td>1.136097</td>\n",
              "      <td>1.284064</td>\n",
              "      <td>0.474576</td>\n",
              "      <td>0.525424</td>\n",
              "      <td>0.641026</td>\n",
              "      <td>0.500000</td>\n",
              "      <td>0.892857</td>\n",
              "      <td>00:04</td>\n",
              "    </tr>\n",
              "    <tr>\n",
              "      <td>1</td>\n",
              "      <td>1.136917</td>\n",
              "      <td>0.931137</td>\n",
              "      <td>0.423729</td>\n",
              "      <td>0.576271</td>\n",
              "      <td>0.657534</td>\n",
              "      <td>0.533333</td>\n",
              "      <td>0.857143</td>\n",
              "      <td>00:03</td>\n",
              "    </tr>\n",
              "    <tr>\n",
              "      <td>2</td>\n",
              "      <td>1.142136</td>\n",
              "      <td>0.745946</td>\n",
              "      <td>0.372881</td>\n",
              "      <td>0.627119</td>\n",
              "      <td>0.676471</td>\n",
              "      <td>0.575000</td>\n",
              "      <td>0.821429</td>\n",
              "      <td>00:04</td>\n",
              "    </tr>\n",
              "    <tr>\n",
              "      <td>3</td>\n",
              "      <td>1.154705</td>\n",
              "      <td>0.643595</td>\n",
              "      <td>0.322034</td>\n",
              "      <td>0.677966</td>\n",
              "      <td>0.698413</td>\n",
              "      <td>0.628571</td>\n",
              "      <td>0.785714</td>\n",
              "      <td>00:03</td>\n",
              "    </tr>\n",
              "    <tr>\n",
              "      <td>4</td>\n",
              "      <td>1.136096</td>\n",
              "      <td>0.581246</td>\n",
              "      <td>0.237288</td>\n",
              "      <td>0.762712</td>\n",
              "      <td>0.750000</td>\n",
              "      <td>0.750000</td>\n",
              "      <td>0.750000</td>\n",
              "      <td>00:04</td>\n",
              "    </tr>\n",
              "    <tr>\n",
              "      <td>5</td>\n",
              "      <td>1.103300</td>\n",
              "      <td>0.557046</td>\n",
              "      <td>0.237288</td>\n",
              "      <td>0.762712</td>\n",
              "      <td>0.750000</td>\n",
              "      <td>0.750000</td>\n",
              "      <td>0.750000</td>\n",
              "      <td>00:04</td>\n",
              "    </tr>\n",
              "    <tr>\n",
              "      <td>6</td>\n",
              "      <td>1.071120</td>\n",
              "      <td>0.539221</td>\n",
              "      <td>0.220339</td>\n",
              "      <td>0.779661</td>\n",
              "      <td>0.763636</td>\n",
              "      <td>0.777778</td>\n",
              "      <td>0.750000</td>\n",
              "      <td>00:04</td>\n",
              "    </tr>\n",
              "    <tr>\n",
              "      <td>7</td>\n",
              "      <td>1.037656</td>\n",
              "      <td>0.503185</td>\n",
              "      <td>0.220339</td>\n",
              "      <td>0.779661</td>\n",
              "      <td>0.754717</td>\n",
              "      <td>0.800000</td>\n",
              "      <td>0.714286</td>\n",
              "      <td>00:03</td>\n",
              "    </tr>\n",
              "    <tr>\n",
              "      <td>8</td>\n",
              "      <td>1.000970</td>\n",
              "      <td>0.483617</td>\n",
              "      <td>0.203390</td>\n",
              "      <td>0.796610</td>\n",
              "      <td>0.769231</td>\n",
              "      <td>0.833333</td>\n",
              "      <td>0.714286</td>\n",
              "      <td>00:03</td>\n",
              "    </tr>\n",
              "    <tr>\n",
              "      <td>9</td>\n",
              "      <td>0.971690</td>\n",
              "      <td>0.485370</td>\n",
              "      <td>0.237288</td>\n",
              "      <td>0.762712</td>\n",
              "      <td>0.720000</td>\n",
              "      <td>0.818182</td>\n",
              "      <td>0.642857</td>\n",
              "      <td>00:04</td>\n",
              "    </tr>\n",
              "    <tr>\n",
              "      <td>10</td>\n",
              "      <td>0.944777</td>\n",
              "      <td>0.475861</td>\n",
              "      <td>0.254237</td>\n",
              "      <td>0.745763</td>\n",
              "      <td>0.693878</td>\n",
              "      <td>0.809524</td>\n",
              "      <td>0.607143</td>\n",
              "      <td>00:04</td>\n",
              "    </tr>\n",
              "    <tr>\n",
              "      <td>11</td>\n",
              "      <td>0.902665</td>\n",
              "      <td>0.481294</td>\n",
              "      <td>0.254237</td>\n",
              "      <td>0.745763</td>\n",
              "      <td>0.693878</td>\n",
              "      <td>0.809524</td>\n",
              "      <td>0.607143</td>\n",
              "      <td>00:04</td>\n",
              "    </tr>\n",
              "    <tr>\n",
              "      <td>12</td>\n",
              "      <td>0.883027</td>\n",
              "      <td>0.481321</td>\n",
              "      <td>0.220339</td>\n",
              "      <td>0.779661</td>\n",
              "      <td>0.734694</td>\n",
              "      <td>0.857143</td>\n",
              "      <td>0.642857</td>\n",
              "      <td>00:03</td>\n",
              "    </tr>\n",
              "    <tr>\n",
              "      <td>13</td>\n",
              "      <td>0.861316</td>\n",
              "      <td>0.484214</td>\n",
              "      <td>0.203390</td>\n",
              "      <td>0.796610</td>\n",
              "      <td>0.760000</td>\n",
              "      <td>0.863636</td>\n",
              "      <td>0.678571</td>\n",
              "      <td>00:04</td>\n",
              "    </tr>\n",
              "    <tr>\n",
              "      <td>14</td>\n",
              "      <td>0.832649</td>\n",
              "      <td>0.478281</td>\n",
              "      <td>0.203390</td>\n",
              "      <td>0.796610</td>\n",
              "      <td>0.760000</td>\n",
              "      <td>0.863636</td>\n",
              "      <td>0.678571</td>\n",
              "      <td>00:04</td>\n",
              "    </tr>\n",
              "    <tr>\n",
              "      <td>15</td>\n",
              "      <td>0.816449</td>\n",
              "      <td>0.479789</td>\n",
              "      <td>0.220339</td>\n",
              "      <td>0.779661</td>\n",
              "      <td>0.745098</td>\n",
              "      <td>0.826087</td>\n",
              "      <td>0.678571</td>\n",
              "      <td>00:04</td>\n",
              "    </tr>\n",
              "    <tr>\n",
              "      <td>16</td>\n",
              "      <td>0.792360</td>\n",
              "      <td>0.484401</td>\n",
              "      <td>0.220339</td>\n",
              "      <td>0.779661</td>\n",
              "      <td>0.745098</td>\n",
              "      <td>0.826087</td>\n",
              "      <td>0.678571</td>\n",
              "      <td>00:04</td>\n",
              "    </tr>\n",
              "    <tr>\n",
              "      <td>17</td>\n",
              "      <td>0.767393</td>\n",
              "      <td>0.480494</td>\n",
              "      <td>0.220339</td>\n",
              "      <td>0.779661</td>\n",
              "      <td>0.745098</td>\n",
              "      <td>0.826087</td>\n",
              "      <td>0.678571</td>\n",
              "      <td>00:03</td>\n",
              "    </tr>\n",
              "    <tr>\n",
              "      <td>18</td>\n",
              "      <td>0.759444</td>\n",
              "      <td>0.480758</td>\n",
              "      <td>0.220339</td>\n",
              "      <td>0.779661</td>\n",
              "      <td>0.745098</td>\n",
              "      <td>0.826087</td>\n",
              "      <td>0.678571</td>\n",
              "      <td>00:04</td>\n",
              "    </tr>\n",
              "    <tr>\n",
              "      <td>19</td>\n",
              "      <td>0.740763</td>\n",
              "      <td>0.493261</td>\n",
              "      <td>0.220339</td>\n",
              "      <td>0.779661</td>\n",
              "      <td>0.745098</td>\n",
              "      <td>0.826087</td>\n",
              "      <td>0.678571</td>\n",
              "      <td>00:03</td>\n",
              "    </tr>\n",
              "  </tbody>\n",
              "</table>"
            ],
            "text/plain": [
              "<IPython.core.display.HTML object>"
            ]
          },
          "metadata": {},
          "output_type": "display_data"
        }
      ],
      "source": [
        "learner_Alex.fine_tune(epochs=20, freeze_epochs=1, base_lr=0.0008317637839354575)"
      ]
    },
    {
      "cell_type": "code",
      "execution_count": null,
      "metadata": {
        "id": "6KPYQ7skapZi"
      },
      "outputs": [],
      "source": [
        "learner_Alex.export(\"alex_fastai.pkl\")"
      ]
    },
    {
      "cell_type": "markdown",
      "metadata": {
        "id": "Bs1r3zyW4vZp"
      },
      "source": [
        "# **โหลดโมเดลเพื่อทำนายผล**"
      ]
    },
    {
      "cell_type": "markdown",
      "metadata": {
        "id": "ki2GsCWOO6T0"
      },
      "source": [
        "## โหลดโมเดลจากที่เซฟไว้"
      ]
    },
    {
      "cell_type": "code",
      "execution_count": null,
      "metadata": {
        "id": "fsKobi3d4vZp"
      },
      "outputs": [],
      "source": [
        "from fastbook import *\n",
        "from glob import glob\n",
        "from pathlib import Path\n",
        "from sklearn.metrics import precision_recall_fscore_support, accuracy_score, roc_auc_score\n",
        "\n",
        "learn_inf = load_learner('/content/gdrive/MyDrive/bata_Horsehoe_Crab_classiflication/model_back/resnext50_fastai.pkl')"
      ]
    },
    {
      "cell_type": "code",
      "execution_count": null,
      "metadata": {
        "id": "u1_xmrA5Z9x6"
      },
      "outputs": [],
      "source": [
        "test_dblock = DataBlock(\n",
        "    blocks=(ImageBlock, CategoryBlock), #x - image; y - single class\n",
        "    get_items=get_image_files, #get image\n",
        "    splitter=GrandparentSplitter(valid_name='test'), #use parent folder as train-valid split\n",
        "    get_y=parent_label, #use parent folder as label\n",
        "    item_tfms=Resize(224,224)\n",
        "    )"
      ]
    },
    {
      "cell_type": "code",
      "execution_count": null,
      "metadata": {
        "id": "X0Rt0nUQFgPA"
      },
      "outputs": [],
      "source": [
        "PathTest = \"/content/gdrive/MyDrive/bata_Horsehoe_Crab_classiflication/img\"\n",
        "test_dls = test_dblock.dataloaders(PathTest, bs=64)"
      ]
    },
    {
      "cell_type": "markdown",
      "metadata": {
        "id": "1TqVaaQNPue4"
      },
      "source": [
        "## สร้าง confusion matix"
      ]
    },
    {
      "cell_type": "code",
      "execution_count": null,
      "metadata": {
        "colab": {
          "base_uri": "https://localhost:8080/",
          "height": 383
        },
        "id": "WAPJ86N0bLZX",
        "outputId": "2dacdae0-e8e9-4a19-e324-0b6255eeb24e"
      },
      "outputs": [
        {
          "data": {
            "text/html": [
              "\n",
              "<style>\n",
              "    /* Turns off some styling */\n",
              "    progress {\n",
              "        /* gets rid of default border in Firefox and Opera. */\n",
              "        border: none;\n",
              "        /* Needs to be in here for Safari polyfill so background images work as expected. */\n",
              "        background-size: auto;\n",
              "    }\n",
              "    .progress-bar-interrupted, .progress-bar-interrupted::-webkit-progress-bar {\n",
              "        background: #F44336;\n",
              "    }\n",
              "</style>\n"
            ],
            "text/plain": [
              "<IPython.core.display.HTML object>"
            ]
          },
          "metadata": {},
          "output_type": "display_data"
        },
        {
          "data": {
            "text/html": [
              ""
            ],
            "text/plain": [
              "<IPython.core.display.HTML object>"
            ]
          },
          "metadata": {},
          "output_type": "display_data"
        },
        {
          "data": {
            "text/html": [
              "\n",
              "<style>\n",
              "    /* Turns off some styling */\n",
              "    progress {\n",
              "        /* gets rid of default border in Firefox and Opera. */\n",
              "        border: none;\n",
              "        /* Needs to be in here for Safari polyfill so background images work as expected. */\n",
              "        background-size: auto;\n",
              "    }\n",
              "    .progress-bar-interrupted, .progress-bar-interrupted::-webkit-progress-bar {\n",
              "        background: #F44336;\n",
              "    }\n",
              "</style>\n"
            ],
            "text/plain": [
              "<IPython.core.display.HTML object>"
            ]
          },
          "metadata": {},
          "output_type": "display_data"
        },
        {
          "data": {
            "text/html": [
              ""
            ],
            "text/plain": [
              "<IPython.core.display.HTML object>"
            ]
          },
          "metadata": {},
          "output_type": "display_data"
        },
        {
          "data": {
            "image/png": "[encoded data removed]",
            "text/plain": [
              "<Figure size 360x360 with 1 Axes>"
            ]
          },
          "metadata": {},
          "output_type": "display_data"
        }
      ],
      "source": [
        "interp = ClassificationInterpretation.from_learner(learn_inf, dl=test_dls[1])\n",
        "interp.plot_confusion_matrix(figsize=(5,5))"
      ]
    },
    {
      "cell_type": "code",
      "execution_count": null,
      "metadata": {
        "colab": {
          "base_uri": "https://localhost:8080/",
          "height": 173
        },
        "id": "jw3ReYW1aHUd",
        "outputId": "c0e36599-dc8e-4155-b696-15183f1e5bd0"
      },
      "outputs": [
        {
          "data": {
            "text/html": [
              "\n",
              "<style>\n",
              "    /* Turns off some styling */\n",
              "    progress {\n",
              "        /* gets rid of default border in Firefox and Opera. */\n",
              "        border: none;\n",
              "        /* Needs to be in here for Safari polyfill so background images work as expected. */\n",
              "        background-size: auto;\n",
              "    }\n",
              "    .progress-bar-interrupted, .progress-bar-interrupted::-webkit-progress-bar {\n",
              "        background: #F44336;\n",
              "    }\n",
              "</style>\n"
            ],
            "text/plain": [
              "<IPython.core.display.HTML object>"
            ]
          },
          "metadata": {},
          "output_type": "display_data"
        },
        {
          "data": {
            "text/html": [
              ""
            ],
            "text/plain": [
              "<IPython.core.display.HTML object>"
            ]
          },
          "metadata": {},
          "output_type": "display_data"
        },
        {
          "name": "stdout",
          "output_type": "stream",
          "text": [
            "                              precision    recall  f1-score   support\n",
            "\n",
            "Carcinoscorpius_rotundicauda       1.00      0.23      0.37        31\n",
            "            Tachypleus_gigas       0.59      1.00      0.74        35\n",
            "\n",
            "                    accuracy                           0.64        66\n",
            "                   macro avg       0.80      0.61      0.56        66\n",
            "                weighted avg       0.78      0.64      0.57        66\n",
            "\n"
          ]
        }
      ],
      "source": [
        "interp.print_classification_report()"
      ]
    },
    {
      "cell_type": "code",
      "execution_count": null,
      "metadata": {
        "colab": {
          "base_uri": "https://localhost:8080/",
          "height": 34
        },
        "id": "4eBgTVh54vZo",
        "outputId": "879ac646-a6c1-4e42-cf33-a2924334ad9f"
      },
      "outputs": [
        {
          "data": {
            "text/html": [
              "\n",
              "<style>\n",
              "    /* Turns off some styling */\n",
              "    progress {\n",
              "        /* gets rid of default border in Firefox and Opera. */\n",
              "        border: none;\n",
              "        /* Needs to be in here for Safari polyfill so background images work as expected. */\n",
              "        background-size: auto;\n",
              "    }\n",
              "    .progress-bar-interrupted, .progress-bar-interrupted::-webkit-progress-bar {\n",
              "        background: #F44336;\n",
              "    }\n",
              "</style>\n"
            ],
            "text/plain": [
              "<IPython.core.display.HTML object>"
            ]
          },
          "metadata": {},
          "output_type": "display_data"
        },
        {
          "data": {
            "text/html": [
              ""
            ],
            "text/plain": [
              "<IPython.core.display.HTML object>"
            ]
          },
          "metadata": {},
          "output_type": "display_data"
        },
        {
          "data": {
            "text/plain": [
              "[('Carcinoscorpius_rotundicauda', 'Tachypleus_gigas', 7)]"
            ]
          },
          "execution_count": 24,
          "metadata": {},
          "output_type": "execute_result"
        }
      ],
      "source": [
        "interp.most_confused(min_val=5)"
      ]
    },
    {
      "cell_type": "code",
      "execution_count": null,
      "metadata": {
        "id": "mWT4drEu4vZo"
      },
      "outputs": [],
      "source": [
        "learn_inf.show_results(shuffle=True)"
      ]
    }
  ],
  "metadata": {
    "accelerator": "GPU",
    "colab": {
      "collapsed_sections": [],
      "machine_shape": "hm",
      "name": "back_Carcinoscorpius_rotundicauda VS  Tachypleus_gigas.ipynb",
      "provenance": []
    },
    "kernelspec": {
      "display_name": "Python 3",
      "language": "python",
      "name": "python3"
    },
    "language_info": {
      "codemirror_mode": {
        "name": "ipython",
        "version": 3
      },
      "file_extension": ".py",
      "mimetype": "text/x-python",
      "name": "python",
      "nbconvert_exporter": "python",
      "pygments_lexer": "ipython3",
      "version": "3.8.10"
    },
    "widgets": {
      "application/vnd.jupyter.widget-state+json": {
        "05b21b01d31d413bb864f7b8c5f3c738": {
          "model_module": "@jupyter-widgets/base",
          "model_module_version": "1.2.0",
          "model_name": "LayoutModel",
          "state": {
            "_model_module": "@jupyter-widgets/base",
            "_model_module_version": "1.2.0",
            "_model_name": "LayoutModel",
            "_view_count": null,
            "_view_module": "@jupyter-widgets/base",
            "_view_module_version": "1.2.0",
            "_view_name": "LayoutView",
            "align_content": null,
            "align_items": null,
            "align_self": null,
            "border": null,
            "bottom": null,
            "display": null,
            "flex": null,
            "flex_flow": null,
            "grid_area": null,
            "grid_auto_columns": null,
            "grid_auto_flow": null,
            "grid_auto_rows": null,
            "grid_column": null,
            "grid_gap": null,
            "grid_row": null,
            "grid_template_areas": null,
            "grid_template_columns": null,
            "grid_template_rows": null,
            "height": null,
            "justify_content": null,
            "justify_items": null,
            "left": null,
            "margin": null,
            "max_height": null,
            "max_width": null,
            "min_height": null,
            "min_width": null,
            "object_fit": null,
            "object_position": null,
            "order": null,
            "overflow": null,
            "overflow_x": null,
            "overflow_y": null,
            "padding": null,
            "right": null,
            "top": null,
            "visibility": null,
            "width": null
          }
        },
        "0f5810d43ed04dc4ad35f3b1e1ca0028": {
          "model_module": "@jupyter-widgets/controls",
          "model_module_version": "1.5.0",
          "model_name": "FloatProgressModel",
          "state": {
            "_dom_classes": [],
            "_model_module": "@jupyter-widgets/controls",
            "_model_module_version": "1.5.0",
            "_model_name": "FloatProgressModel",
            "_view_count": null,
            "_view_module": "@jupyter-widgets/controls",
            "_view_module_version": "1.5.0",
            "_view_name": "ProgressView",
            "bar_style": "success",
            "description": "",
            "description_tooltip": null,
            "layout": "IPY_MODEL_1771dff4000f4fb3b394d8159fafbfd1",
            "max": 553507836,
            "min": 0,
            "orientation": "horizontal",
            "style": "IPY_MODEL_40f98690574749649f83e2e4aaeec03a",
            "value": 553507836
          }
        },
        "1771dff4000f4fb3b394d8159fafbfd1": {
          "model_module": "@jupyter-widgets/base",
          "model_module_version": "1.2.0",
          "model_name": "LayoutModel",
          "state": {
            "_model_module": "@jupyter-widgets/base",
            "_model_module_version": "1.2.0",
            "_model_name": "LayoutModel",
            "_view_count": null,
            "_view_module": "@jupyter-widgets/base",
            "_view_module_version": "1.2.0",
            "_view_name": "LayoutView",
            "align_content": null,
            "align_items": null,
            "align_self": null,
            "border": null,
            "bottom": null,
            "display": null,
            "flex": null,
            "flex_flow": null,
            "grid_area": null,
            "grid_auto_columns": null,
            "grid_auto_flow": null,
            "grid_auto_rows": null,
            "grid_column": null,
            "grid_gap": null,
            "grid_row": null,
            "grid_template_areas": null,
            "grid_template_columns": null,
            "grid_template_rows": null,
            "height": null,
            "justify_content": null,
            "justify_items": null,
            "left": null,
            "margin": null,
            "max_height": null,
            "max_width": null,
            "min_height": null,
            "min_width": null,
            "object_fit": null,
            "object_position": null,
            "order": null,
            "overflow": null,
            "overflow_x": null,
            "overflow_y": null,
            "padding": null,
            "right": null,
            "top": null,
            "visibility": null,
            "width": null
          }
        },
        "19a72ae723064e8ea9ec79c485a73b34": {
          "model_module": "@jupyter-widgets/controls",
          "model_module_version": "1.5.0",
          "model_name": "DescriptionStyleModel",
          "state": {
            "_model_module": "@jupyter-widgets/controls",
            "_model_module_version": "1.5.0",
            "_model_name": "DescriptionStyleModel",
            "_view_count": null,
            "_view_module": "@jupyter-widgets/base",
            "_view_module_version": "1.2.0",
            "_view_name": "StyleView",
            "description_width": ""
          }
        },
        "231ad8d78ead464587c5f00ca3a4ce9a": {
          "model_module": "@jupyter-widgets/base",
          "model_module_version": "1.2.0",
          "model_name": "LayoutModel",
          "state": {
            "_model_module": "@jupyter-widgets/base",
            "_model_module_version": "1.2.0",
            "_model_name": "LayoutModel",
            "_view_count": null,
            "_view_module": "@jupyter-widgets/base",
            "_view_module_version": "1.2.0",
            "_view_name": "LayoutView",
            "align_content": null,
            "align_items": null,
            "align_self": null,
            "border": null,
            "bottom": null,
            "display": null,
            "flex": null,
            "flex_flow": null,
            "grid_area": null,
            "grid_auto_columns": null,
            "grid_auto_flow": null,
            "grid_auto_rows": null,
            "grid_column": null,
            "grid_gap": null,
            "grid_row": null,
            "grid_template_areas": null,
            "grid_template_columns": null,
            "grid_template_rows": null,
            "height": null,
            "justify_content": null,
            "justify_items": null,
            "left": null,
            "margin": null,
            "max_height": null,
            "max_width": null,
            "min_height": null,
            "min_width": null,
            "object_fit": null,
            "object_position": null,
            "order": null,
            "overflow": null,
            "overflow_x": null,
            "overflow_y": null,
            "padding": null,
            "right": null,
            "top": null,
            "visibility": null,
            "width": null
          }
        },
        "2f8011e29522450d9f582ebbab717d85": {
          "model_module": "@jupyter-widgets/base",
          "model_module_version": "1.2.0",
          "model_name": "LayoutModel",
          "state": {
            "_model_module": "@jupyter-widgets/base",
            "_model_module_version": "1.2.0",
            "_model_name": "LayoutModel",
            "_view_count": null,
            "_view_module": "@jupyter-widgets/base",
            "_view_module_version": "1.2.0",
            "_view_name": "LayoutView",
            "align_content": null,
            "align_items": null,
            "align_self": null,
            "border": null,
            "bottom": null,
            "display": null,
            "flex": null,
            "flex_flow": null,
            "grid_area": null,
            "grid_auto_columns": null,
            "grid_auto_flow": null,
            "grid_auto_rows": null,
            "grid_column": null,
            "grid_gap": null,
            "grid_row": null,
            "grid_template_areas": null,
            "grid_template_columns": null,
            "grid_template_rows": null,
            "height": null,
            "justify_content": null,
            "justify_items": null,
            "left": null,
            "margin": null,
            "max_height": null,
            "max_width": null,
            "min_height": null,
            "min_width": null,
            "object_fit": null,
            "object_position": null,
            "order": null,
            "overflow": null,
            "overflow_x": null,
            "overflow_y": null,
            "padding": null,
            "right": null,
            "top": null,
            "visibility": null,
            "width": null
          }
        },
        "348d9f9382e241abbccb35fdd6dcf318": {
          "model_module": "@jupyter-widgets/controls",
          "model_module_version": "1.5.0",
          "model_name": "HTMLModel",
          "state": {
            "_dom_classes": [],
            "_model_module": "@jupyter-widgets/controls",
            "_model_module_version": "1.5.0",
            "_model_name": "HTMLModel",
            "_view_count": null,
            "_view_module": "@jupyter-widgets/controls",
            "_view_module_version": "1.5.0",
            "_view_name": "HTMLView",
            "description": "",
            "description_tooltip": null,
            "layout": "IPY_MODEL_05b21b01d31d413bb864f7b8c5f3c738",
            "placeholder": "​",
            "style": "IPY_MODEL_e279e8628780495393507b2baaea6cc7",
            "value": "100%"
          }
        },
        "3a8942a567f342f8bbc49381697942f9": {
          "model_module": "@jupyter-widgets/base",
          "model_module_version": "1.2.0",
          "model_name": "LayoutModel",
          "state": {
            "_model_module": "@jupyter-widgets/base",
            "_model_module_version": "1.2.0",
            "_model_name": "LayoutModel",
            "_view_count": null,
            "_view_module": "@jupyter-widgets/base",
            "_view_module_version": "1.2.0",
            "_view_name": "LayoutView",
            "align_content": null,
            "align_items": null,
            "align_self": null,
            "border": null,
            "bottom": null,
            "display": null,
            "flex": null,
            "flex_flow": null,
            "grid_area": null,
            "grid_auto_columns": null,
            "grid_auto_flow": null,
            "grid_auto_rows": null,
            "grid_column": null,
            "grid_gap": null,
            "grid_row": null,
            "grid_template_areas": null,
            "grid_template_columns": null,
            "grid_template_rows": null,
            "height": null,
            "justify_content": null,
            "justify_items": null,
            "left": null,
            "margin": null,
            "max_height": null,
            "max_width": null,
            "min_height": null,
            "min_width": null,
            "object_fit": null,
            "object_position": null,
            "order": null,
            "overflow": null,
            "overflow_x": null,
            "overflow_y": null,
            "padding": null,
            "right": null,
            "top": null,
            "visibility": null,
            "width": null
          }
        },
        "3cc6b35d1a3c47d486f7c06a59d37bba": {
          "model_module": "@jupyter-widgets/base",
          "model_module_version": "1.2.0",
          "model_name": "LayoutModel",
          "state": {
            "_model_module": "@jupyter-widgets/base",
            "_model_module_version": "1.2.0",
            "_model_name": "LayoutModel",
            "_view_count": null,
            "_view_module": "@jupyter-widgets/base",
            "_view_module_version": "1.2.0",
            "_view_name": "LayoutView",
            "align_content": null,
            "align_items": null,
            "align_self": null,
            "border": null,
            "bottom": null,
            "display": null,
            "flex": null,
            "flex_flow": null,
            "grid_area": null,
            "grid_auto_columns": null,
            "grid_auto_flow": null,
            "grid_auto_rows": null,
            "grid_column": null,
            "grid_gap": null,
            "grid_row": null,
            "grid_template_areas": null,
            "grid_template_columns": null,
            "grid_template_rows": null,
            "height": null,
            "justify_content": null,
            "justify_items": null,
            "left": null,
            "margin": null,
            "max_height": null,
            "max_width": null,
            "min_height": null,
            "min_width": null,
            "object_fit": null,
            "object_position": null,
            "order": null,
            "overflow": null,
            "overflow_x": null,
            "overflow_y": null,
            "padding": null,
            "right": null,
            "top": null,
            "visibility": null,
            "width": null
          }
        },
        "3ef57772a75c4613a14356107657f208": {
          "model_module": "@jupyter-widgets/controls",
          "model_module_version": "1.5.0",
          "model_name": "FloatProgressModel",
          "state": {
            "_dom_classes": [],
            "_model_module": "@jupyter-widgets/controls",
            "_model_module_version": "1.5.0",
            "_model_name": "FloatProgressModel",
            "_view_count": null,
            "_view_module": "@jupyter-widgets/controls",
            "_view_module_version": "1.5.0",
            "_view_name": "ProgressView",
            "bar_style": "success",
            "description": "",
            "description_tooltip": null,
            "layout": "IPY_MODEL_93a06bc03c954994ae5e14fb40248438",
            "max": 574769405,
            "min": 0,
            "orientation": "horizontal",
            "style": "IPY_MODEL_4b46246e690e479b884ad77bd8f256e1",
            "value": 574769405
          }
        },
        "3ef7450630f3434084fcab02542acc44": {
          "model_module": "@jupyter-widgets/base",
          "model_module_version": "1.2.0",
          "model_name": "LayoutModel",
          "state": {
            "_model_module": "@jupyter-widgets/base",
            "_model_module_version": "1.2.0",
            "_model_name": "LayoutModel",
            "_view_count": null,
            "_view_module": "@jupyter-widgets/base",
            "_view_module_version": "1.2.0",
            "_view_name": "LayoutView",
            "align_content": null,
            "align_items": null,
            "align_self": null,
            "border": null,
            "bottom": null,
            "display": null,
            "flex": null,
            "flex_flow": null,
            "grid_area": null,
            "grid_auto_columns": null,
            "grid_auto_flow": null,
            "grid_auto_rows": null,
            "grid_column": null,
            "grid_gap": null,
            "grid_row": null,
            "grid_template_areas": null,
            "grid_template_columns": null,
            "grid_template_rows": null,
            "height": null,
            "justify_content": null,
            "justify_items": null,
            "left": null,
            "margin": null,
            "max_height": null,
            "max_width": null,
            "min_height": null,
            "min_width": null,
            "object_fit": null,
            "object_position": null,
            "order": null,
            "overflow": null,
            "overflow_x": null,
            "overflow_y": null,
            "padding": null,
            "right": null,
            "top": null,
            "visibility": null,
            "width": null
          }
        },
        "40160a40ae5441d698f0381351de6e3e": {
          "model_module": "@jupyter-widgets/controls",
          "model_module_version": "1.5.0",
          "model_name": "HBoxModel",
          "state": {
            "_dom_classes": [],
            "_model_module": "@jupyter-widgets/controls",
            "_model_module_version": "1.5.0",
            "_model_name": "HBoxModel",
            "_view_count": null,
            "_view_module": "@jupyter-widgets/controls",
            "_view_module_version": "1.5.0",
            "_view_name": "HBoxView",
            "box_style": "",
            "children": [
              "IPY_MODEL_9505ec650bfd4de38dbf5543779fed16",
              "IPY_MODEL_40756794e18b4cd7ae28a73d2f03eb70",
              "IPY_MODEL_cecafa1dba474d60b464c4d41a25f31f"
            ],
            "layout": "IPY_MODEL_b1df15d6c0ce404a8dc1b2506aacd30d"
          }
        },
        "40756794e18b4cd7ae28a73d2f03eb70": {
          "model_module": "@jupyter-widgets/controls",
          "model_module_version": "1.5.0",
          "model_name": "FloatProgressModel",
          "state": {
            "_dom_classes": [],
            "_model_module": "@jupyter-widgets/controls",
            "_model_module_version": "1.5.0",
            "_model_name": "FloatProgressModel",
            "_view_count": null,
            "_view_module": "@jupyter-widgets/controls",
            "_view_module_version": "1.5.0",
            "_view_name": "ProgressView",
            "bar_style": "success",
            "description": "",
            "description_tooltip": null,
            "layout": "IPY_MODEL_4e1fc71e450c4eab89ddd965c0dabcac",
            "max": 100441675,
            "min": 0,
            "orientation": "horizontal",
            "style": "IPY_MODEL_e417491c0c5946c7ac6907845804ee1d",
            "value": 100441675
          }
        },
        "40f98690574749649f83e2e4aaeec03a": {
          "model_module": "@jupyter-widgets/controls",
          "model_module_version": "1.5.0",
          "model_name": "ProgressStyleModel",
          "state": {
            "_model_module": "@jupyter-widgets/controls",
            "_model_module_version": "1.5.0",
            "_model_name": "ProgressStyleModel",
            "_view_count": null,
            "_view_module": "@jupyter-widgets/base",
            "_view_module_version": "1.2.0",
            "_view_name": "StyleView",
            "bar_color": null,
            "description_width": ""
          }
        },
        "42d4a46459814b679cdb04098c9fbaaa": {
          "model_module": "@jupyter-widgets/controls",
          "model_module_version": "1.5.0",
          "model_name": "HTMLModel",
          "state": {
            "_dom_classes": [],
            "_model_module": "@jupyter-widgets/controls",
            "_model_module_version": "1.5.0",
            "_model_name": "HTMLModel",
            "_view_count": null,
            "_view_module": "@jupyter-widgets/controls",
            "_view_module_version": "1.5.0",
            "_view_name": "HTMLView",
            "description": "",
            "description_tooltip": null,
            "layout": "IPY_MODEL_d62f63c9eda247afb21b912fe07ae525",
            "placeholder": "​",
            "style": "IPY_MODEL_19a72ae723064e8ea9ec79c485a73b34",
            "value": " 528M/528M [00:04&lt;00:00, 140MB/s]"
          }
        },
        "494b40d6a6f14f90923483bf2c62fa60": {
          "model_module": "@jupyter-widgets/controls",
          "model_module_version": "1.5.0",
          "model_name": "HTMLModel",
          "state": {
            "_dom_classes": [],
            "_model_module": "@jupyter-widgets/controls",
            "_model_module_version": "1.5.0",
            "_model_name": "HTMLModel",
            "_view_count": null,
            "_view_module": "@jupyter-widgets/controls",
            "_view_module_version": "1.5.0",
            "_view_name": "HTMLView",
            "description": "",
            "description_tooltip": null,
            "layout": "IPY_MODEL_2f8011e29522450d9f582ebbab717d85",
            "placeholder": "​",
            "style": "IPY_MODEL_7a89f8ab3097431897d9db1d6ce50792",
            "value": " 548M/548M [00:02&lt;00:00, 292MB/s]"
          }
        },
        "49e6c06109054bc4af3de99af332911d": {
          "model_module": "@jupyter-widgets/base",
          "model_module_version": "1.2.0",
          "model_name": "LayoutModel",
          "state": {
            "_model_module": "@jupyter-widgets/base",
            "_model_module_version": "1.2.0",
            "_model_name": "LayoutModel",
            "_view_count": null,
            "_view_module": "@jupyter-widgets/base",
            "_view_module_version": "1.2.0",
            "_view_name": "LayoutView",
            "align_content": null,
            "align_items": null,
            "align_self": null,
            "border": null,
            "bottom": null,
            "display": null,
            "flex": null,
            "flex_flow": null,
            "grid_area": null,
            "grid_auto_columns": null,
            "grid_auto_flow": null,
            "grid_auto_rows": null,
            "grid_column": null,
            "grid_gap": null,
            "grid_row": null,
            "grid_template_areas": null,
            "grid_template_columns": null,
            "grid_template_rows": null,
            "height": null,
            "justify_content": null,
            "justify_items": null,
            "left": null,
            "margin": null,
            "max_height": null,
            "max_width": null,
            "min_height": null,
            "min_width": null,
            "object_fit": null,
            "object_position": null,
            "order": null,
            "overflow": null,
            "overflow_x": null,
            "overflow_y": null,
            "padding": null,
            "right": null,
            "top": null,
            "visibility": null,
            "width": null
          }
        },
        "4b46246e690e479b884ad77bd8f256e1": {
          "model_module": "@jupyter-widgets/controls",
          "model_module_version": "1.5.0",
          "model_name": "ProgressStyleModel",
          "state": {
            "_model_module": "@jupyter-widgets/controls",
            "_model_module_version": "1.5.0",
            "_model_name": "ProgressStyleModel",
            "_view_count": null,
            "_view_module": "@jupyter-widgets/base",
            "_view_module_version": "1.2.0",
            "_view_name": "StyleView",
            "bar_color": null,
            "description_width": ""
          }
        },
        "4e1fc71e450c4eab89ddd965c0dabcac": {
          "model_module": "@jupyter-widgets/base",
          "model_module_version": "1.2.0",
          "model_name": "LayoutModel",
          "state": {
            "_model_module": "@jupyter-widgets/base",
            "_model_module_version": "1.2.0",
            "_model_name": "LayoutModel",
            "_view_count": null,
            "_view_module": "@jupyter-widgets/base",
            "_view_module_version": "1.2.0",
            "_view_name": "LayoutView",
            "align_content": null,
            "align_items": null,
            "align_self": null,
            "border": null,
            "bottom": null,
            "display": null,
            "flex": null,
            "flex_flow": null,
            "grid_area": null,
            "grid_auto_columns": null,
            "grid_auto_flow": null,
            "grid_auto_rows": null,
            "grid_column": null,
            "grid_gap": null,
            "grid_row": null,
            "grid_template_areas": null,
            "grid_template_columns": null,
            "grid_template_rows": null,
            "height": null,
            "justify_content": null,
            "justify_items": null,
            "left": null,
            "margin": null,
            "max_height": null,
            "max_width": null,
            "min_height": null,
            "min_width": null,
            "object_fit": null,
            "object_position": null,
            "order": null,
            "overflow": null,
            "overflow_x": null,
            "overflow_y": null,
            "padding": null,
            "right": null,
            "top": null,
            "visibility": null,
            "width": null
          }
        },
        "4e3a44e25e224503b2096c7c6aa0b66e": {
          "model_module": "@jupyter-widgets/controls",
          "model_module_version": "1.5.0",
          "model_name": "DescriptionStyleModel",
          "state": {
            "_model_module": "@jupyter-widgets/controls",
            "_model_module_version": "1.5.0",
            "_model_name": "DescriptionStyleModel",
            "_view_count": null,
            "_view_module": "@jupyter-widgets/base",
            "_view_module_version": "1.2.0",
            "_view_name": "StyleView",
            "description_width": ""
          }
        },
        "55148d3dcac349ea94d8fe265da6ee5b": {
          "model_module": "@jupyter-widgets/controls",
          "model_module_version": "1.5.0",
          "model_name": "HBoxModel",
          "state": {
            "_dom_classes": [],
            "_model_module": "@jupyter-widgets/controls",
            "_model_module_version": "1.5.0",
            "_model_name": "HBoxModel",
            "_view_count": null,
            "_view_module": "@jupyter-widgets/controls",
            "_view_module_version": "1.5.0",
            "_view_name": "HBoxView",
            "box_style": "",
            "children": [
              "IPY_MODEL_348d9f9382e241abbccb35fdd6dcf318",
              "IPY_MODEL_0f5810d43ed04dc4ad35f3b1e1ca0028",
              "IPY_MODEL_42d4a46459814b679cdb04098c9fbaaa"
            ],
            "layout": "IPY_MODEL_3cc6b35d1a3c47d486f7c06a59d37bba"
          }
        },
        "5f54f62ebe5841108074e4ac31bdeabb": {
          "model_module": "@jupyter-widgets/controls",
          "model_module_version": "1.5.0",
          "model_name": "DescriptionStyleModel",
          "state": {
            "_model_module": "@jupyter-widgets/controls",
            "_model_module_version": "1.5.0",
            "_model_name": "DescriptionStyleModel",
            "_view_count": null,
            "_view_module": "@jupyter-widgets/base",
            "_view_module_version": "1.2.0",
            "_view_name": "StyleView",
            "description_width": ""
          }
        },
        "605b6adc67af4c15ba29e6fc6819266a": {
          "model_module": "@jupyter-widgets/base",
          "model_module_version": "1.2.0",
          "model_name": "LayoutModel",
          "state": {
            "_model_module": "@jupyter-widgets/base",
            "_model_module_version": "1.2.0",
            "_model_name": "LayoutModel",
            "_view_count": null,
            "_view_module": "@jupyter-widgets/base",
            "_view_module_version": "1.2.0",
            "_view_name": "LayoutView",
            "align_content": null,
            "align_items": null,
            "align_self": null,
            "border": null,
            "bottom": null,
            "display": null,
            "flex": null,
            "flex_flow": null,
            "grid_area": null,
            "grid_auto_columns": null,
            "grid_auto_flow": null,
            "grid_auto_rows": null,
            "grid_column": null,
            "grid_gap": null,
            "grid_row": null,
            "grid_template_areas": null,
            "grid_template_columns": null,
            "grid_template_rows": null,
            "height": null,
            "justify_content": null,
            "justify_items": null,
            "left": null,
            "margin": null,
            "max_height": null,
            "max_width": null,
            "min_height": null,
            "min_width": null,
            "object_fit": null,
            "object_position": null,
            "order": null,
            "overflow": null,
            "overflow_x": null,
            "overflow_y": null,
            "padding": null,
            "right": null,
            "top": null,
            "visibility": null,
            "width": null
          }
        },
        "645181734d7f4dc8bf65705d1a06807d": {
          "model_module": "@jupyter-widgets/controls",
          "model_module_version": "1.5.0",
          "model_name": "ProgressStyleModel",
          "state": {
            "_model_module": "@jupyter-widgets/controls",
            "_model_module_version": "1.5.0",
            "_model_name": "ProgressStyleModel",
            "_view_count": null,
            "_view_module": "@jupyter-widgets/base",
            "_view_module_version": "1.2.0",
            "_view_name": "StyleView",
            "bar_color": null,
            "description_width": ""
          }
        },
        "65949b991e884534849de652a864f80f": {
          "model_module": "@jupyter-widgets/controls",
          "model_module_version": "1.5.0",
          "model_name": "DescriptionStyleModel",
          "state": {
            "_model_module": "@jupyter-widgets/controls",
            "_model_module_version": "1.5.0",
            "_model_name": "DescriptionStyleModel",
            "_view_count": null,
            "_view_module": "@jupyter-widgets/base",
            "_view_module_version": "1.2.0",
            "_view_name": "StyleView",
            "description_width": ""
          }
        },
        "6c6bf2ea10904dd3a0365719b0247ff5": {
          "model_module": "@jupyter-widgets/base",
          "model_module_version": "1.2.0",
          "model_name": "LayoutModel",
          "state": {
            "_model_module": "@jupyter-widgets/base",
            "_model_module_version": "1.2.0",
            "_model_name": "LayoutModel",
            "_view_count": null,
            "_view_module": "@jupyter-widgets/base",
            "_view_module_version": "1.2.0",
            "_view_name": "LayoutView",
            "align_content": null,
            "align_items": null,
            "align_self": null,
            "border": null,
            "bottom": null,
            "display": null,
            "flex": null,
            "flex_flow": null,
            "grid_area": null,
            "grid_auto_columns": null,
            "grid_auto_flow": null,
            "grid_auto_rows": null,
            "grid_column": null,
            "grid_gap": null,
            "grid_row": null,
            "grid_template_areas": null,
            "grid_template_columns": null,
            "grid_template_rows": null,
            "height": null,
            "justify_content": null,
            "justify_items": null,
            "left": null,
            "margin": null,
            "max_height": null,
            "max_width": null,
            "min_height": null,
            "min_width": null,
            "object_fit": null,
            "object_position": null,
            "order": null,
            "overflow": null,
            "overflow_x": null,
            "overflow_y": null,
            "padding": null,
            "right": null,
            "top": null,
            "visibility": null,
            "width": null
          }
        },
        "7a89f8ab3097431897d9db1d6ce50792": {
          "model_module": "@jupyter-widgets/controls",
          "model_module_version": "1.5.0",
          "model_name": "DescriptionStyleModel",
          "state": {
            "_model_module": "@jupyter-widgets/controls",
            "_model_module_version": "1.5.0",
            "_model_name": "DescriptionStyleModel",
            "_view_count": null,
            "_view_module": "@jupyter-widgets/base",
            "_view_module_version": "1.2.0",
            "_view_name": "StyleView",
            "description_width": ""
          }
        },
        "7c2e3c0f766a44b7b9c43d0d5ddb19b8": {
          "model_module": "@jupyter-widgets/controls",
          "model_module_version": "1.5.0",
          "model_name": "HTMLModel",
          "state": {
            "_dom_classes": [],
            "_model_module": "@jupyter-widgets/controls",
            "_model_module_version": "1.5.0",
            "_model_name": "HTMLModel",
            "_view_count": null,
            "_view_module": "@jupyter-widgets/controls",
            "_view_module_version": "1.5.0",
            "_view_name": "HTMLView",
            "description": "",
            "description_tooltip": null,
            "layout": "IPY_MODEL_605b6adc67af4c15ba29e6fc6819266a",
            "placeholder": "​",
            "style": "IPY_MODEL_df26f1db09864b9a9d0dc2ded05af6ab",
            "value": "100%"
          }
        },
        "8029ebd46ef34236ae8f1d17052de6da": {
          "model_module": "@jupyter-widgets/controls",
          "model_module_version": "1.5.0",
          "model_name": "HTMLModel",
          "state": {
            "_dom_classes": [],
            "_model_module": "@jupyter-widgets/controls",
            "_model_module_version": "1.5.0",
            "_model_name": "HTMLModel",
            "_view_count": null,
            "_view_module": "@jupyter-widgets/controls",
            "_view_module_version": "1.5.0",
            "_view_name": "HTMLView",
            "description": "",
            "description_tooltip": null,
            "layout": "IPY_MODEL_3a8942a567f342f8bbc49381697942f9",
            "placeholder": "​",
            "style": "IPY_MODEL_5f54f62ebe5841108074e4ac31bdeabb",
            "value": " 77.4M/77.4M [00:00&lt;00:00, 164MB/s]"
          }
        },
        "8311a1ef628e4124b79c7899dbf42453": {
          "model_module": "@jupyter-widgets/controls",
          "model_module_version": "1.5.0",
          "model_name": "FloatProgressModel",
          "state": {
            "_dom_classes": [],
            "_model_module": "@jupyter-widgets/controls",
            "_model_module_version": "1.5.0",
            "_model_name": "FloatProgressModel",
            "_view_count": null,
            "_view_module": "@jupyter-widgets/controls",
            "_view_module_version": "1.5.0",
            "_view_name": "ProgressView",
            "bar_style": "success",
            "description": "",
            "description_tooltip": null,
            "layout": "IPY_MODEL_fe7c2445ee464c96b4c4b4b669e99a94",
            "max": 81131730,
            "min": 0,
            "orientation": "horizontal",
            "style": "IPY_MODEL_645181734d7f4dc8bf65705d1a06807d",
            "value": 81131730
          }
        },
        "83125722111f477d9789e24674c4203d": {
          "model_module": "@jupyter-widgets/controls",
          "model_module_version": "1.5.0",
          "model_name": "DescriptionStyleModel",
          "state": {
            "_model_module": "@jupyter-widgets/controls",
            "_model_module_version": "1.5.0",
            "_model_name": "DescriptionStyleModel",
            "_view_count": null,
            "_view_module": "@jupyter-widgets/base",
            "_view_module_version": "1.2.0",
            "_view_name": "StyleView",
            "description_width": ""
          }
        },
        "9099a472c832415880400bd153e7dde0": {
          "model_module": "@jupyter-widgets/controls",
          "model_module_version": "1.5.0",
          "model_name": "HBoxModel",
          "state": {
            "_dom_classes": [],
            "_model_module": "@jupyter-widgets/controls",
            "_model_module_version": "1.5.0",
            "_model_name": "HBoxModel",
            "_view_count": null,
            "_view_module": "@jupyter-widgets/controls",
            "_view_module_version": "1.5.0",
            "_view_name": "HBoxView",
            "box_style": "",
            "children": [
              "IPY_MODEL_7c2e3c0f766a44b7b9c43d0d5ddb19b8",
              "IPY_MODEL_8311a1ef628e4124b79c7899dbf42453",
              "IPY_MODEL_8029ebd46ef34236ae8f1d17052de6da"
            ],
            "layout": "IPY_MODEL_3ef7450630f3434084fcab02542acc44"
          }
        },
        "93a06bc03c954994ae5e14fb40248438": {
          "model_module": "@jupyter-widgets/base",
          "model_module_version": "1.2.0",
          "model_name": "LayoutModel",
          "state": {
            "_model_module": "@jupyter-widgets/base",
            "_model_module_version": "1.2.0",
            "_model_name": "LayoutModel",
            "_view_count": null,
            "_view_module": "@jupyter-widgets/base",
            "_view_module_version": "1.2.0",
            "_view_name": "LayoutView",
            "align_content": null,
            "align_items": null,
            "align_self": null,
            "border": null,
            "bottom": null,
            "display": null,
            "flex": null,
            "flex_flow": null,
            "grid_area": null,
            "grid_auto_columns": null,
            "grid_auto_flow": null,
            "grid_auto_rows": null,
            "grid_column": null,
            "grid_gap": null,
            "grid_row": null,
            "grid_template_areas": null,
            "grid_template_columns": null,
            "grid_template_rows": null,
            "height": null,
            "justify_content": null,
            "justify_items": null,
            "left": null,
            "margin": null,
            "max_height": null,
            "max_width": null,
            "min_height": null,
            "min_width": null,
            "object_fit": null,
            "object_position": null,
            "order": null,
            "overflow": null,
            "overflow_x": null,
            "overflow_y": null,
            "padding": null,
            "right": null,
            "top": null,
            "visibility": null,
            "width": null
          }
        },
        "9505ec650bfd4de38dbf5543779fed16": {
          "model_module": "@jupyter-widgets/controls",
          "model_module_version": "1.5.0",
          "model_name": "HTMLModel",
          "state": {
            "_dom_classes": [],
            "_model_module": "@jupyter-widgets/controls",
            "_model_module_version": "1.5.0",
            "_model_name": "HTMLModel",
            "_view_count": null,
            "_view_module": "@jupyter-widgets/controls",
            "_view_module_version": "1.5.0",
            "_view_name": "HTMLView",
            "description": "",
            "description_tooltip": null,
            "layout": "IPY_MODEL_6c6bf2ea10904dd3a0365719b0247ff5",
            "placeholder": "​",
            "style": "IPY_MODEL_83125722111f477d9789e24674c4203d",
            "value": "100%"
          }
        },
        "b11c474e3c794ecbb74bda1c997d5baf": {
          "model_module": "@jupyter-widgets/controls",
          "model_module_version": "1.5.0",
          "model_name": "HTMLModel",
          "state": {
            "_dom_classes": [],
            "_model_module": "@jupyter-widgets/controls",
            "_model_module_version": "1.5.0",
            "_model_name": "HTMLModel",
            "_view_count": null,
            "_view_module": "@jupyter-widgets/controls",
            "_view_module_version": "1.5.0",
            "_view_name": "HTMLView",
            "description": "",
            "description_tooltip": null,
            "layout": "IPY_MODEL_e996662140424432845f0e08da1270ab",
            "placeholder": "​",
            "style": "IPY_MODEL_65949b991e884534849de652a864f80f",
            "value": "100%"
          }
        },
        "b1df15d6c0ce404a8dc1b2506aacd30d": {
          "model_module": "@jupyter-widgets/base",
          "model_module_version": "1.2.0",
          "model_name": "LayoutModel",
          "state": {
            "_model_module": "@jupyter-widgets/base",
            "_model_module_version": "1.2.0",
            "_model_name": "LayoutModel",
            "_view_count": null,
            "_view_module": "@jupyter-widgets/base",
            "_view_module_version": "1.2.0",
            "_view_name": "LayoutView",
            "align_content": null,
            "align_items": null,
            "align_self": null,
            "border": null,
            "bottom": null,
            "display": null,
            "flex": null,
            "flex_flow": null,
            "grid_area": null,
            "grid_auto_columns": null,
            "grid_auto_flow": null,
            "grid_auto_rows": null,
            "grid_column": null,
            "grid_gap": null,
            "grid_row": null,
            "grid_template_areas": null,
            "grid_template_columns": null,
            "grid_template_rows": null,
            "height": null,
            "justify_content": null,
            "justify_items": null,
            "left": null,
            "margin": null,
            "max_height": null,
            "max_width": null,
            "min_height": null,
            "min_width": null,
            "object_fit": null,
            "object_position": null,
            "order": null,
            "overflow": null,
            "overflow_x": null,
            "overflow_y": null,
            "padding": null,
            "right": null,
            "top": null,
            "visibility": null,
            "width": null
          }
        },
        "cecafa1dba474d60b464c4d41a25f31f": {
          "model_module": "@jupyter-widgets/controls",
          "model_module_version": "1.5.0",
          "model_name": "HTMLModel",
          "state": {
            "_dom_classes": [],
            "_model_module": "@jupyter-widgets/controls",
            "_model_module_version": "1.5.0",
            "_model_name": "HTMLModel",
            "_view_count": null,
            "_view_module": "@jupyter-widgets/controls",
            "_view_module_version": "1.5.0",
            "_view_name": "HTMLView",
            "description": "",
            "description_tooltip": null,
            "layout": "IPY_MODEL_231ad8d78ead464587c5f00ca3a4ce9a",
            "placeholder": "​",
            "style": "IPY_MODEL_4e3a44e25e224503b2096c7c6aa0b66e",
            "value": " 95.8M/95.8M [00:00&lt;00:00, 207MB/s]"
          }
        },
        "d62f63c9eda247afb21b912fe07ae525": {
          "model_module": "@jupyter-widgets/base",
          "model_module_version": "1.2.0",
          "model_name": "LayoutModel",
          "state": {
            "_model_module": "@jupyter-widgets/base",
            "_model_module_version": "1.2.0",
            "_model_name": "LayoutModel",
            "_view_count": null,
            "_view_module": "@jupyter-widgets/base",
            "_view_module_version": "1.2.0",
            "_view_name": "LayoutView",
            "align_content": null,
            "align_items": null,
            "align_self": null,
            "border": null,
            "bottom": null,
            "display": null,
            "flex": null,
            "flex_flow": null,
            "grid_area": null,
            "grid_auto_columns": null,
            "grid_auto_flow": null,
            "grid_auto_rows": null,
            "grid_column": null,
            "grid_gap": null,
            "grid_row": null,
            "grid_template_areas": null,
            "grid_template_columns": null,
            "grid_template_rows": null,
            "height": null,
            "justify_content": null,
            "justify_items": null,
            "left": null,
            "margin": null,
            "max_height": null,
            "max_width": null,
            "min_height": null,
            "min_width": null,
            "object_fit": null,
            "object_position": null,
            "order": null,
            "overflow": null,
            "overflow_x": null,
            "overflow_y": null,
            "padding": null,
            "right": null,
            "top": null,
            "visibility": null,
            "width": null
          }
        },
        "d77350a563144aa39381f9f1dfdb4af7": {
          "model_module": "@jupyter-widgets/controls",
          "model_module_version": "1.5.0",
          "model_name": "HBoxModel",
          "state": {
            "_dom_classes": [],
            "_model_module": "@jupyter-widgets/controls",
            "_model_module_version": "1.5.0",
            "_model_name": "HBoxModel",
            "_view_count": null,
            "_view_module": "@jupyter-widgets/controls",
            "_view_module_version": "1.5.0",
            "_view_name": "HBoxView",
            "box_style": "",
            "children": [
              "IPY_MODEL_b11c474e3c794ecbb74bda1c997d5baf",
              "IPY_MODEL_3ef57772a75c4613a14356107657f208",
              "IPY_MODEL_494b40d6a6f14f90923483bf2c62fa60"
            ],
            "layout": "IPY_MODEL_49e6c06109054bc4af3de99af332911d"
          }
        },
        "df26f1db09864b9a9d0dc2ded05af6ab": {
          "model_module": "@jupyter-widgets/controls",
          "model_module_version": "1.5.0",
          "model_name": "DescriptionStyleModel",
          "state": {
            "_model_module": "@jupyter-widgets/controls",
            "_model_module_version": "1.5.0",
            "_model_name": "DescriptionStyleModel",
            "_view_count": null,
            "_view_module": "@jupyter-widgets/base",
            "_view_module_version": "1.2.0",
            "_view_name": "StyleView",
            "description_width": ""
          }
        },
        "e279e8628780495393507b2baaea6cc7": {
          "model_module": "@jupyter-widgets/controls",
          "model_module_version": "1.5.0",
          "model_name": "DescriptionStyleModel",
          "state": {
            "_model_module": "@jupyter-widgets/controls",
            "_model_module_version": "1.5.0",
            "_model_name": "DescriptionStyleModel",
            "_view_count": null,
            "_view_module": "@jupyter-widgets/base",
            "_view_module_version": "1.2.0",
            "_view_name": "StyleView",
            "description_width": ""
          }
        },
        "e417491c0c5946c7ac6907845804ee1d": {
          "model_module": "@jupyter-widgets/controls",
          "model_module_version": "1.5.0",
          "model_name": "ProgressStyleModel",
          "state": {
            "_model_module": "@jupyter-widgets/controls",
            "_model_module_version": "1.5.0",
            "_model_name": "ProgressStyleModel",
            "_view_count": null,
            "_view_module": "@jupyter-widgets/base",
            "_view_module_version": "1.2.0",
            "_view_name": "StyleView",
            "bar_color": null,
            "description_width": ""
          }
        },
        "e996662140424432845f0e08da1270ab": {
          "model_module": "@jupyter-widgets/base",
          "model_module_version": "1.2.0",
          "model_name": "LayoutModel",
          "state": {
            "_model_module": "@jupyter-widgets/base",
            "_model_module_version": "1.2.0",
            "_model_name": "LayoutModel",
            "_view_count": null,
            "_view_module": "@jupyter-widgets/base",
            "_view_module_version": "1.2.0",
            "_view_name": "LayoutView",
            "align_content": null,
            "align_items": null,
            "align_self": null,
            "border": null,
            "bottom": null,
            "display": null,
            "flex": null,
            "flex_flow": null,
            "grid_area": null,
            "grid_auto_columns": null,
            "grid_auto_flow": null,
            "grid_auto_rows": null,
            "grid_column": null,
            "grid_gap": null,
            "grid_row": null,
            "grid_template_areas": null,
            "grid_template_columns": null,
            "grid_template_rows": null,
            "height": null,
            "justify_content": null,
            "justify_items": null,
            "left": null,
            "margin": null,
            "max_height": null,
            "max_width": null,
            "min_height": null,
            "min_width": null,
            "object_fit": null,
            "object_position": null,
            "order": null,
            "overflow": null,
            "overflow_x": null,
            "overflow_y": null,
            "padding": null,
            "right": null,
            "top": null,
            "visibility": null,
            "width": null
          }
        },
        "fe7c2445ee464c96b4c4b4b669e99a94": {
          "model_module": "@jupyter-widgets/base",
          "model_module_version": "1.2.0",
          "model_name": "LayoutModel",
          "state": {
            "_model_module": "@jupyter-widgets/base",
            "_model_module_version": "1.2.0",
            "_model_name": "LayoutModel",
            "_view_count": null,
            "_view_module": "@jupyter-widgets/base",
            "_view_module_version": "1.2.0",
            "_view_name": "LayoutView",
            "align_content": null,
            "align_items": null,
            "align_self": null,
            "border": null,
            "bottom": null,
            "display": null,
            "flex": null,
            "flex_flow": null,
            "grid_area": null,
            "grid_auto_columns": null,
            "grid_auto_flow": null,
            "grid_auto_rows": null,
            "grid_column": null,
            "grid_gap": null,
            "grid_row": null,
            "grid_template_areas": null,
            "grid_template_columns": null,
            "grid_template_rows": null,
            "height": null,
            "justify_content": null,
            "justify_items": null,
            "left": null,
            "margin": null,
            "max_height": null,
            "max_width": null,
            "min_height": null,
            "min_width": null,
            "object_fit": null,
            "object_position": null,
            "order": null,
            "overflow": null,
            "overflow_x": null,
            "overflow_y": null,
            "padding": null,
            "right": null,
            "top": null,
            "visibility": null,
            "width": null
          }
        }
      }
    }
  },
  "nbformat": 4,
  "nbformat_minor": 0
}