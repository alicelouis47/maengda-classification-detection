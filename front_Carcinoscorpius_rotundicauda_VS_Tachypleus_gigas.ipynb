{
  "cells": [
    {
      "cell_type": "markdown",
      "metadata": {
        "id": "Ww_a1XOsBF4Z"
      },
      "source": [
        "# ตั้งค่า และลงlibrary"
      ]
    },
    {
      "cell_type": "markdown",
      "metadata": {
        "id": "S4tJwknp4vZd"
      },
      "source": [
        "## Install library"
      ]
    },
    {
      "cell_type": "code",
      "execution_count": null,
      "metadata": {
        "colab": {
          "base_uri": "https://localhost:8080/"
        },
        "id": "wbWc4hm04vZl",
        "outputId": "0c5c37e9-63db-4907-8cbe-4c03241897c1"
      },
      "outputs": [
        {
          "output_type": "stream",
          "name": "stdout",
          "text": [
            "\u001b[K     |████████████████████████████████| 719 kB 4.8 MB/s \n",
            "\u001b[K     |████████████████████████████████| 346 kB 65.6 MB/s \n",
            "\u001b[K     |████████████████████████████████| 1.2 MB 61.5 MB/s \n",
            "\u001b[K     |████████████████████████████████| 197 kB 74.2 MB/s \n",
            "\u001b[K     |████████████████████████████████| 4.2 MB 56.4 MB/s \n",
            "\u001b[K     |████████████████████████████████| 59 kB 9.0 MB/s \n",
            "\u001b[K     |████████████████████████████████| 86 kB 7.2 MB/s \n",
            "\u001b[K     |████████████████████████████████| 212 kB 78.2 MB/s \n",
            "\u001b[K     |████████████████████████████████| 1.1 MB 54.2 MB/s \n",
            "\u001b[K     |████████████████████████████████| 140 kB 75.9 MB/s \n",
            "\u001b[K     |████████████████████████████████| 86 kB 6.4 MB/s \n",
            "\u001b[K     |████████████████████████████████| 596 kB 75.1 MB/s \n",
            "\u001b[K     |████████████████████████████████| 127 kB 77.3 MB/s \n",
            "\u001b[K     |████████████████████████████████| 144 kB 77.2 MB/s \n",
            "\u001b[K     |████████████████████████████████| 94 kB 4.0 MB/s \n",
            "\u001b[K     |████████████████████████████████| 271 kB 71.4 MB/s \n",
            "\u001b[K     |████████████████████████████████| 6.6 MB 52.5 MB/s \n",
            "\u001b[31mERROR: pip's dependency resolver does not currently take into account all the packages that are installed. This behaviour is the source of the following dependency conflicts.\n",
            "datascience 0.10.6 requires folium==0.2.1, but you have folium 0.8.3 which is incompatible.\u001b[0m\n",
            "\u001b[?25hMounted at /content/gdrive\n"
          ]
        }
      ],
      "source": [
        "# สำหรับคนที่ยังไม่ได้ลงไลบรารี่ fastbook ให้ uncomment บรรทัด !pip install\n",
        "!pip install -Uqq fastbook\n",
        "import fastbook\n",
        "fastbook.setup_book()"
      ]
    },
    {
      "cell_type": "code",
      "execution_count": null,
      "metadata": {
        "id": "BTEyL1nc4vZl"
      },
      "outputs": [],
      "source": [
        "from fastbook import *"
      ]
    },
    {
      "cell_type": "markdown",
      "metadata": {
        "id": "Z0DbLG7KBTN5"
      },
      "source": [
        "# จัดการข้อมูลเพื่อใช้ในการเทรนโมเดล"
      ]
    },
    {
      "cell_type": "markdown",
      "metadata": {
        "id": "R0VMpx0t9grO"
      },
      "source": [
        "## Split data"
      ]
    },
    {
      "cell_type": "code",
      "execution_count": null,
      "metadata": {
        "id": "rpNzGtL0Xk8o"
      },
      "outputs": [],
      "source": [
        "import splitfolders\n",
        "\n",
        "input_folder = \"/content/gdrive/MyDrive/bata_Horsehoe_Crab_classiflication/generated_image\""
      ]
    },
    {
      "cell_type": "code",
      "execution_count": null,
      "metadata": {
        "id": "VIMHBFgeZkNC",
        "colab": {
          "base_uri": "https://localhost:8080/"
        },
        "outputId": "0058b9c9-d184-4312-ac8b-e76fe32ca5b5"
      },
      "outputs": [
        {
          "output_type": "stream",
          "name": "stdout",
          "text": [
            "/content/gdrive/MyDrive/bata_Horsehoe_Crab_classiflication\n"
          ]
        }
      ],
      "source": [
        "#เปิดโฟล์เดอร์ที่ต้องการแบ่ง\n",
        "%cd /content/gdrive/MyDrive/bata_Horsehoe_Crab_classiflication"
      ]
    },
    {
      "cell_type": "code",
      "source": [
        "!unzip \"/content/gdrive/MyDrive/bata_Horsehoe_Crab_classiflication/generated_image.zip\" -d \"/content/gdrive/MyDrive/bata_Horsehoe_Crab_classiflication\""
      ],
      "metadata": {
        "id": "epDS1R10-X7B"
      },
      "execution_count": null,
      "outputs": []
    },
    {
      "cell_type": "code",
      "execution_count": null,
      "metadata": {
        "id": "HY_mr9JMXj5Q",
        "colab": {
          "base_uri": "https://localhost:8080/"
        },
        "outputId": "209bbf53-0479-4e4a-82f7-cd7994c851e2"
      },
      "outputs": [
        {
          "output_type": "stream",
          "name": "stderr",
          "text": [
            "Copying files: 3606 files [00:30, 118.46 files/s]\n"
          ]
        }
      ],
      "source": [
        "splitfolders.ratio(input_folder, output=\"DataGen\", \n",
        "                   seed=42, ratio=(.85, .0, .15), \n",
        "                   group_prefix=None) \n",
        "#แบ่ง train val กับ test 0.85:0:0.15"
      ]
    },
    {
      "cell_type": "markdown",
      "metadata": {
        "id": "xY-0Oy7n-8bU"
      },
      "source": [
        "## Prepare Dataloders"
      ]
    },
    {
      "cell_type": "code",
      "execution_count": null,
      "metadata": {
        "id": "olaY736m4vZm"
      },
      "outputs": [],
      "source": [
        "batch_tfms = [Rotate(), Flip(), Dihedral(), Normalize.from_stats(*imagenet_stats)]\n",
        "fields = DataBlock(\n",
        "    blocks=(ImageBlock, CategoryBlock),\n",
        "    get_items=get_image_files,\n",
        "    get_y=parent_label,\n",
        "    splitter=RandomSplitter(valid_pct=0.4, seed=42), # GrandparentSplitter(valid_name='validation')\n",
        "    item_tfms=Resize(224),\n",
        "    batch_tfms=batch_tfms\n",
        ")"
      ]
    },
    {
      "cell_type": "code",
      "execution_count": null,
      "metadata": {
        "id": "yhoL1V3R-bRe"
      },
      "outputs": [],
      "source": [
        "#ตำแหน่งของไฟล์ที่จะเทรน\n",
        "PathTrain = \"/content/gdrive/MyDrive/bata_Horsehoe_Crab_classiflication/front\""
      ]
    },
    {
      "cell_type": "code",
      "execution_count": null,
      "metadata": {
        "id": "OdSqATGm4vZm"
      },
      "outputs": [],
      "source": [
        "#ทำdataloader\n",
        "dls = fields.dataloaders(PathTrain)"
      ]
    },
    {
      "cell_type": "code",
      "execution_count": null,
      "metadata": {
        "colab": {
          "base_uri": "https://localhost:8080/"
        },
        "id": "K8w09kCI4vZn",
        "outputId": "cb21deb7-40c9-438e-df50-bf7653c2de89"
      },
      "outputs": [
        {
          "output_type": "execute_result",
          "data": {
            "text/plain": [
              "['Carcinoscorpius_rotundicauda', 'Tachypleus_gigas']"
            ]
          },
          "metadata": {},
          "execution_count": 6
        }
      ],
      "source": [
        "#label\n",
        "dls.vocab"
      ]
    },
    {
      "cell_type": "code",
      "execution_count": null,
      "metadata": {
        "colab": {
          "base_uri": "https://localhost:8080/",
          "height": 370
        },
        "id": "sN2BH7FL4vZn",
        "outputId": "9c361670-a2ee-40b5-8766-db4f6917440a"
      },
      "outputs": [
        {
          "output_type": "display_data",
          "data": {
            "text/plain": [
              "<Figure size 864x432 with 8 Axes>"
            ],
            "image/png": "[encoded data removed]"
          },
          "metadata": {
            "needs_background": "light"
          }
        }
      ],
      "source": [
        "dls.train.show_batch(max_n=8, nrows=2)"
      ]
    },
    {
      "cell_type": "markdown",
      "metadata": {
        "id": "v6dWiH1jA5p-"
      },
      "source": [
        "# **เทรน model**\n",
        "ในที่นี้ผมใช้ backbone 5 อย่าง คือ \n",
        "1. VGG16\n",
        "2. resneXt50\n",
        "2. densenet201\n",
        "3. VGG19\n",
        "4. Squeezenet1_1\n",
        "5. alexnet"
      ]
    },
    {
      "cell_type": "markdown",
      "metadata": {
        "id": "Ph_SH8C8EHZA"
      },
      "source": [
        "## VGG16"
      ]
    },
    {
      "cell_type": "code",
      "execution_count": null,
      "metadata": {
        "colab": {
          "base_uri": "https://localhost:8080/",
          "height": 121,
          "referenced_widgets": [
            "85b836ce7eaa430f808391451fa31e25",
            "b9e49adacc52406aa7b3c5b08954cf18",
            "f67e5b56ca574ce9800fbe681c7a8acb",
            "1d78200dad5f4a0b9ba1bbae98732660",
            "93447c2788cf4c5d904aa9776f3911ae",
            "d0d52e997c7f43858d01dbb843bd7cab",
            "57096ecdb37543b58b18d223327f82ef",
            "a603e3e045bf4d2d831c00327e0e0ae6",
            "c48cdda08ea446b6a07b0b906ddc2bbf",
            "46198e638abc463ebd3de92906cc2149",
            "600df3fcc4984f8e9bed1dd739600d6a"
          ]
        },
        "id": "lnK8EUta4vZn",
        "outputId": "6286fa1d-faca-4bbc-8d17-082b860a99dd"
      },
      "outputs": [
        {
          "output_type": "stream",
          "name": "stderr",
          "text": [
            "/usr/local/lib/python3.7/dist-packages/fastai/vision/learner.py:265: UserWarning: `cnn_learner` has been renamed to `vision_learner` -- please update your code\n",
            "  warn(\"`cnn_learner` has been renamed to `vision_learner` -- please update your code\")\n",
            "Downloading: \"https://download.pytorch.org/models/vgg16_bn-6c64b313.pth\" to /root/.cache/torch/hub/checkpoints/vgg16_bn-6c64b313.pth\n"
          ]
        },
        {
          "output_type": "display_data",
          "data": {
            "text/plain": [
              "  0%|          | 0.00/528M [00:00<?, ?B/s]"
            ],
            "application/vnd.jupyter.widget-view+json": {
              "version_major": 2,
              "version_minor": 0,
              "model_id": "85b836ce7eaa430f808391451fa31e25"
            }
          },
          "metadata": {}
        }
      ],
      "source": [
        "#load backbone\n",
        "learner_VGG16 = cnn_learner(dls, models.vgg16_bn, metrics=[error_rate, accuracy, F1Score(), Precision(), Recall()], opt_func=Adam)"
      ]
    },
    {
      "cell_type": "code",
      "execution_count": null,
      "metadata": {
        "colab": {
          "base_uri": "https://localhost:8080/",
          "height": 300
        },
        "id": "qqIqIjih4vZn",
        "outputId": "0a942cfe-937d-4410-8dcb-eec3fcd72394"
      },
      "outputs": [
        {
          "output_type": "display_data",
          "data": {
            "text/plain": [
              "<IPython.core.display.HTML object>"
            ],
            "text/html": [
              "\n",
              "<style>\n",
              "    /* Turns off some styling */\n",
              "    progress {\n",
              "        /* gets rid of default border in Firefox and Opera. */\n",
              "        border: none;\n",
              "        /* Needs to be in here for Safari polyfill so background images work as expected. */\n",
              "        background-size: auto;\n",
              "    }\n",
              "    .progress-bar-interrupted, .progress-bar-interrupted::-webkit-progress-bar {\n",
              "        background: #F44336;\n",
              "    }\n",
              "</style>\n"
            ]
          },
          "metadata": {}
        },
        {
          "output_type": "display_data",
          "data": {
            "text/plain": [
              "<IPython.core.display.HTML object>"
            ],
            "text/html": [
              ""
            ]
          },
          "metadata": {}
        },
        {
          "output_type": "execute_result",
          "data": {
            "text/plain": [
              "SuggestedLRs(valley=0.0010000000474974513)"
            ]
          },
          "metadata": {},
          "execution_count": 28
        },
        {
          "output_type": "display_data",
          "data": {
            "text/plain": [
              "<Figure size 432x288 with 1 Axes>"
            ],
            "image/png": "[encoded data removed]"
          },
          "metadata": {
            "needs_background": "light"
          }
        }
      ],
      "source": [
        "# หา learning rate ที่เหมาะสม\n",
        "learner_VGG16.lr_find() # หา learning rate ที่เหมาะสม"
      ]
    },
    {
      "cell_type": "code",
      "execution_count": null,
      "metadata": {
        "id": "NEYcI8Gk4vZo",
        "colab": {
          "base_uri": "https://localhost:8080/",
          "height": 740
        },
        "outputId": "0c1b24ce-4a68-44a5-9373-452f2fe05b95"
      },
      "outputs": [
        {
          "output_type": "display_data",
          "data": {
            "text/plain": [
              "<IPython.core.display.HTML object>"
            ],
            "text/html": [
              "\n",
              "<style>\n",
              "    /* Turns off some styling */\n",
              "    progress {\n",
              "        /* gets rid of default border in Firefox and Opera. */\n",
              "        border: none;\n",
              "        /* Needs to be in here for Safari polyfill so background images work as expected. */\n",
              "        background-size: auto;\n",
              "    }\n",
              "    .progress-bar-interrupted, .progress-bar-interrupted::-webkit-progress-bar {\n",
              "        background: #F44336;\n",
              "    }\n",
              "</style>\n"
            ]
          },
          "metadata": {}
        },
        {
          "output_type": "display_data",
          "data": {
            "text/plain": [
              "<IPython.core.display.HTML object>"
            ],
            "text/html": [
              "<table border=\"1\" class=\"dataframe\">\n",
              "  <thead>\n",
              "    <tr style=\"text-align: left;\">\n",
              "      <th>epoch</th>\n",
              "      <th>train_loss</th>\n",
              "      <th>valid_loss</th>\n",
              "      <th>error_rate</th>\n",
              "      <th>accuracy</th>\n",
              "      <th>f1_score</th>\n",
              "      <th>precision_score</th>\n",
              "      <th>recall_score</th>\n",
              "      <th>time</th>\n",
              "    </tr>\n",
              "  </thead>\n",
              "  <tbody>\n",
              "    <tr>\n",
              "      <td>0</td>\n",
              "      <td>1.071252</td>\n",
              "      <td>0.657950</td>\n",
              "      <td>0.393939</td>\n",
              "      <td>0.606061</td>\n",
              "      <td>0.723404</td>\n",
              "      <td>0.596491</td>\n",
              "      <td>0.918919</td>\n",
              "      <td>00:43</td>\n",
              "    </tr>\n",
              "  </tbody>\n",
              "</table>"
            ]
          },
          "metadata": {}
        },
        {
          "output_type": "display_data",
          "data": {
            "text/plain": [
              "<IPython.core.display.HTML object>"
            ],
            "text/html": [
              "\n",
              "<style>\n",
              "    /* Turns off some styling */\n",
              "    progress {\n",
              "        /* gets rid of default border in Firefox and Opera. */\n",
              "        border: none;\n",
              "        /* Needs to be in here for Safari polyfill so background images work as expected. */\n",
              "        background-size: auto;\n",
              "    }\n",
              "    .progress-bar-interrupted, .progress-bar-interrupted::-webkit-progress-bar {\n",
              "        background: #F44336;\n",
              "    }\n",
              "</style>\n"
            ]
          },
          "metadata": {}
        },
        {
          "output_type": "display_data",
          "data": {
            "text/plain": [
              "<IPython.core.display.HTML object>"
            ],
            "text/html": [
              "<table border=\"1\" class=\"dataframe\">\n",
              "  <thead>\n",
              "    <tr style=\"text-align: left;\">\n",
              "      <th>epoch</th>\n",
              "      <th>train_loss</th>\n",
              "      <th>valid_loss</th>\n",
              "      <th>error_rate</th>\n",
              "      <th>accuracy</th>\n",
              "      <th>f1_score</th>\n",
              "      <th>precision_score</th>\n",
              "      <th>recall_score</th>\n",
              "      <th>time</th>\n",
              "    </tr>\n",
              "  </thead>\n",
              "  <tbody>\n",
              "    <tr>\n",
              "      <td>0</td>\n",
              "      <td>1.096311</td>\n",
              "      <td>0.614038</td>\n",
              "      <td>0.356061</td>\n",
              "      <td>0.643939</td>\n",
              "      <td>0.718563</td>\n",
              "      <td>0.645161</td>\n",
              "      <td>0.810811</td>\n",
              "      <td>00:12</td>\n",
              "    </tr>\n",
              "    <tr>\n",
              "      <td>1</td>\n",
              "      <td>1.040016</td>\n",
              "      <td>0.603955</td>\n",
              "      <td>0.340909</td>\n",
              "      <td>0.659091</td>\n",
              "      <td>0.713376</td>\n",
              "      <td>0.674699</td>\n",
              "      <td>0.756757</td>\n",
              "      <td>00:12</td>\n",
              "    </tr>\n",
              "    <tr>\n",
              "      <td>2</td>\n",
              "      <td>1.025755</td>\n",
              "      <td>0.583539</td>\n",
              "      <td>0.295455</td>\n",
              "      <td>0.704545</td>\n",
              "      <td>0.745098</td>\n",
              "      <td>0.721519</td>\n",
              "      <td>0.770270</td>\n",
              "      <td>00:11</td>\n",
              "    </tr>\n",
              "    <tr>\n",
              "      <td>3</td>\n",
              "      <td>0.950387</td>\n",
              "      <td>0.555240</td>\n",
              "      <td>0.295455</td>\n",
              "      <td>0.704545</td>\n",
              "      <td>0.738255</td>\n",
              "      <td>0.733333</td>\n",
              "      <td>0.743243</td>\n",
              "      <td>00:15</td>\n",
              "    </tr>\n",
              "    <tr>\n",
              "      <td>4</td>\n",
              "      <td>0.909116</td>\n",
              "      <td>0.529984</td>\n",
              "      <td>0.265152</td>\n",
              "      <td>0.734848</td>\n",
              "      <td>0.755245</td>\n",
              "      <td>0.782609</td>\n",
              "      <td>0.729730</td>\n",
              "      <td>00:13</td>\n",
              "    </tr>\n",
              "    <tr>\n",
              "      <td>5</td>\n",
              "      <td>0.857591</td>\n",
              "      <td>0.513760</td>\n",
              "      <td>0.265152</td>\n",
              "      <td>0.734848</td>\n",
              "      <td>0.748201</td>\n",
              "      <td>0.800000</td>\n",
              "      <td>0.702703</td>\n",
              "      <td>00:12</td>\n",
              "    </tr>\n",
              "    <tr>\n",
              "      <td>6</td>\n",
              "      <td>0.807874</td>\n",
              "      <td>0.500690</td>\n",
              "      <td>0.250000</td>\n",
              "      <td>0.750000</td>\n",
              "      <td>0.759124</td>\n",
              "      <td>0.825397</td>\n",
              "      <td>0.702703</td>\n",
              "      <td>00:12</td>\n",
              "    </tr>\n",
              "    <tr>\n",
              "      <td>7</td>\n",
              "      <td>0.746154</td>\n",
              "      <td>0.493585</td>\n",
              "      <td>0.242424</td>\n",
              "      <td>0.757576</td>\n",
              "      <td>0.768116</td>\n",
              "      <td>0.828125</td>\n",
              "      <td>0.716216</td>\n",
              "      <td>00:12</td>\n",
              "    </tr>\n",
              "    <tr>\n",
              "      <td>8</td>\n",
              "      <td>0.705169</td>\n",
              "      <td>0.493353</td>\n",
              "      <td>0.242424</td>\n",
              "      <td>0.757576</td>\n",
              "      <td>0.771429</td>\n",
              "      <td>0.818182</td>\n",
              "      <td>0.729730</td>\n",
              "      <td>00:12</td>\n",
              "    </tr>\n",
              "    <tr>\n",
              "      <td>9</td>\n",
              "      <td>0.655958</td>\n",
              "      <td>0.497662</td>\n",
              "      <td>0.212121</td>\n",
              "      <td>0.787879</td>\n",
              "      <td>0.797101</td>\n",
              "      <td>0.859375</td>\n",
              "      <td>0.743243</td>\n",
              "      <td>00:12</td>\n",
              "    </tr>\n",
              "    <tr>\n",
              "      <td>10</td>\n",
              "      <td>0.617033</td>\n",
              "      <td>0.490866</td>\n",
              "      <td>0.196970</td>\n",
              "      <td>0.803030</td>\n",
              "      <td>0.811594</td>\n",
              "      <td>0.875000</td>\n",
              "      <td>0.756757</td>\n",
              "      <td>00:13</td>\n",
              "    </tr>\n",
              "    <tr>\n",
              "      <td>11</td>\n",
              "      <td>0.588235</td>\n",
              "      <td>0.486569</td>\n",
              "      <td>0.189394</td>\n",
              "      <td>0.810606</td>\n",
              "      <td>0.820144</td>\n",
              "      <td>0.876923</td>\n",
              "      <td>0.770270</td>\n",
              "      <td>00:12</td>\n",
              "    </tr>\n",
              "    <tr>\n",
              "      <td>12</td>\n",
              "      <td>0.556695</td>\n",
              "      <td>0.479591</td>\n",
              "      <td>0.196970</td>\n",
              "      <td>0.803030</td>\n",
              "      <td>0.811594</td>\n",
              "      <td>0.875000</td>\n",
              "      <td>0.756757</td>\n",
              "      <td>00:12</td>\n",
              "    </tr>\n",
              "    <tr>\n",
              "      <td>13</td>\n",
              "      <td>0.536159</td>\n",
              "      <td>0.483310</td>\n",
              "      <td>0.196970</td>\n",
              "      <td>0.803030</td>\n",
              "      <td>0.811594</td>\n",
              "      <td>0.875000</td>\n",
              "      <td>0.756757</td>\n",
              "      <td>00:12</td>\n",
              "    </tr>\n",
              "    <tr>\n",
              "      <td>14</td>\n",
              "      <td>0.507516</td>\n",
              "      <td>0.490457</td>\n",
              "      <td>0.196970</td>\n",
              "      <td>0.803030</td>\n",
              "      <td>0.811594</td>\n",
              "      <td>0.875000</td>\n",
              "      <td>0.756757</td>\n",
              "      <td>00:12</td>\n",
              "    </tr>\n",
              "    <tr>\n",
              "      <td>15</td>\n",
              "      <td>0.477765</td>\n",
              "      <td>0.492067</td>\n",
              "      <td>0.196970</td>\n",
              "      <td>0.803030</td>\n",
              "      <td>0.811594</td>\n",
              "      <td>0.875000</td>\n",
              "      <td>0.756757</td>\n",
              "      <td>00:13</td>\n",
              "    </tr>\n",
              "    <tr>\n",
              "      <td>16</td>\n",
              "      <td>0.466419</td>\n",
              "      <td>0.495366</td>\n",
              "      <td>0.196970</td>\n",
              "      <td>0.803030</td>\n",
              "      <td>0.811594</td>\n",
              "      <td>0.875000</td>\n",
              "      <td>0.756757</td>\n",
              "      <td>00:13</td>\n",
              "    </tr>\n",
              "    <tr>\n",
              "      <td>17</td>\n",
              "      <td>0.450068</td>\n",
              "      <td>0.493026</td>\n",
              "      <td>0.196970</td>\n",
              "      <td>0.803030</td>\n",
              "      <td>0.811594</td>\n",
              "      <td>0.875000</td>\n",
              "      <td>0.756757</td>\n",
              "      <td>00:12</td>\n",
              "    </tr>\n",
              "    <tr>\n",
              "      <td>18</td>\n",
              "      <td>0.429380</td>\n",
              "      <td>0.494527</td>\n",
              "      <td>0.196970</td>\n",
              "      <td>0.803030</td>\n",
              "      <td>0.811594</td>\n",
              "      <td>0.875000</td>\n",
              "      <td>0.756757</td>\n",
              "      <td>00:13</td>\n",
              "    </tr>\n",
              "    <tr>\n",
              "      <td>19</td>\n",
              "      <td>0.411979</td>\n",
              "      <td>0.496073</td>\n",
              "      <td>0.189394</td>\n",
              "      <td>0.810606</td>\n",
              "      <td>0.820144</td>\n",
              "      <td>0.876923</td>\n",
              "      <td>0.770270</td>\n",
              "      <td>00:13</td>\n",
              "    </tr>\n",
              "  </tbody>\n",
              "</table>"
            ]
          },
          "metadata": {}
        }
      ],
      "source": [
        "#เทรนโมเดล 20 รอบ\n",
        "learner_VGG16.fine_tune(epochs=20, freeze_epochs=1, base_lr=0.0008317637839354575)"
      ]
    },
    {
      "cell_type": "code",
      "execution_count": null,
      "metadata": {
        "colab": {
          "base_uri": "https://localhost:8080/"
        },
        "id": "iHlrDf1LZUDY",
        "outputId": "f4dd35a3-8ddc-4dd6-828b-1b20f39a4aa8"
      },
      "outputs": [
        {
          "output_type": "stream",
          "name": "stdout",
          "text": [
            "/content/gdrive/MyDrive/bata_Horsehoe_Crab_classiflication/model_front\n"
          ]
        }
      ],
      "source": [
        "#save models\n",
        "%cd /content/gdrive/MyDrive/bata_Horsehoe_Crab_classiflication/model_front\n",
        "learner_VGG16.export(\"VGG16_fastai.pkl\")"
      ]
    },
    {
      "cell_type": "markdown",
      "source": [
        "## resnext50"
      ],
      "metadata": {
        "id": "7CNK3c6MokzB"
      }
    },
    {
      "cell_type": "code",
      "source": [
        "from torchvision.models.resnet import resnext50_32x4d\n",
        "#load backbone\n",
        "learner_resnext = cnn_learner(dls, resnext50_32x4d, metrics=[error_rate, accuracy, F1Score(), Precision(), Recall()], opt_func=Adam)"
      ],
      "metadata": {
        "colab": {
          "base_uri": "https://localhost:8080/",
          "height": 121,
          "referenced_widgets": [
            "743d6f8115c6439e97542bab8099ae12",
            "e322e5f607ce44879aac048ffced4618",
            "cf54d6d9308441b08b545bc400fe565c",
            "573e6e6bec3949e09bf1ad66c3386bf2",
            "7f838142c1074fcaa8807159485cc684",
            "b82de726f8c04223959e998e7554296d",
            "1f6006f057e342f29ee6ea0934d1a3f7",
            "34287a444fd74d7b97a3c525a49c0253",
            "427e964fb5d4477bb3bc0fd9fb644685",
            "351dc8c7d8d54bc3b7b3ee1aee2dfe6d",
            "f0b093af59f6425785557254256631be"
          ]
        },
        "id": "NwlTAuY_opjZ",
        "outputId": "d7ae4e55-5ddb-4a13-ce1e-16462977febb"
      },
      "execution_count": null,
      "outputs": [
        {
          "output_type": "stream",
          "name": "stderr",
          "text": [
            "/usr/local/lib/python3.7/dist-packages/fastai/vision/learner.py:265: UserWarning: `cnn_learner` has been renamed to `vision_learner` -- please update your code\n",
            "  warn(\"`cnn_learner` has been renamed to `vision_learner` -- please update your code\")\n",
            "Downloading: \"https://download.pytorch.org/models/resnext50_32x4d-7cdf4587.pth\" to /root/.cache/torch/hub/checkpoints/resnext50_32x4d-7cdf4587.pth\n"
          ]
        },
        {
          "output_type": "display_data",
          "data": {
            "text/plain": [
              "  0%|          | 0.00/95.8M [00:00<?, ?B/s]"
            ],
            "application/vnd.jupyter.widget-view+json": {
              "version_major": 2,
              "version_minor": 0,
              "model_id": "743d6f8115c6439e97542bab8099ae12"
            }
          },
          "metadata": {}
        }
      ]
    },
    {
      "cell_type": "code",
      "source": [
        "learner_resnext.lr_find() # หา learning rate ที่เหมาะสม"
      ],
      "metadata": {
        "colab": {
          "base_uri": "https://localhost:8080/",
          "height": 300
        },
        "id": "l-toc1axozcA",
        "outputId": "03a84531-4776-43bf-fa7a-361b958619cb"
      },
      "execution_count": null,
      "outputs": [
        {
          "output_type": "display_data",
          "data": {
            "text/plain": [
              "<IPython.core.display.HTML object>"
            ],
            "text/html": [
              "\n",
              "<style>\n",
              "    /* Turns off some styling */\n",
              "    progress {\n",
              "        /* gets rid of default border in Firefox and Opera. */\n",
              "        border: none;\n",
              "        /* Needs to be in here for Safari polyfill so background images work as expected. */\n",
              "        background-size: auto;\n",
              "    }\n",
              "    .progress-bar-interrupted, .progress-bar-interrupted::-webkit-progress-bar {\n",
              "        background: #F44336;\n",
              "    }\n",
              "</style>\n"
            ]
          },
          "metadata": {}
        },
        {
          "output_type": "display_data",
          "data": {
            "text/plain": [
              "<IPython.core.display.HTML object>"
            ],
            "text/html": [
              ""
            ]
          },
          "metadata": {}
        },
        {
          "output_type": "execute_result",
          "data": {
            "text/plain": [
              "SuggestedLRs(valley=0.0003311311302240938)"
            ]
          },
          "metadata": {},
          "execution_count": 13
        },
        {
          "output_type": "display_data",
          "data": {
            "text/plain": [
              "<Figure size 432x288 with 1 Axes>"
            ],
            "image/png": "[encoded data removed]"
          },
          "metadata": {
            "needs_background": "light"
          }
        }
      ]
    },
    {
      "cell_type": "code",
      "source": [
        "#เทรนโมเดล 20 รอบ\n",
        "learner_resnext.fine_tune(epochs=20, freeze_epochs=1, base_lr=0.0003311311302240938)"
      ],
      "metadata": {
        "colab": {
          "base_uri": "https://localhost:8080/",
          "height": 740
        },
        "id": "7iJHSMEWpPGS",
        "outputId": "5cf98899-22c6-489e-c382-0f5c55977ca9"
      },
      "execution_count": null,
      "outputs": [
        {
          "output_type": "display_data",
          "data": {
            "text/plain": [
              "<IPython.core.display.HTML object>"
            ],
            "text/html": [
              "\n",
              "<style>\n",
              "    /* Turns off some styling */\n",
              "    progress {\n",
              "        /* gets rid of default border in Firefox and Opera. */\n",
              "        border: none;\n",
              "        /* Needs to be in here for Safari polyfill so background images work as expected. */\n",
              "        background-size: auto;\n",
              "    }\n",
              "    .progress-bar-interrupted, .progress-bar-interrupted::-webkit-progress-bar {\n",
              "        background: #F44336;\n",
              "    }\n",
              "</style>\n"
            ]
          },
          "metadata": {}
        },
        {
          "output_type": "display_data",
          "data": {
            "text/plain": [
              "<IPython.core.display.HTML object>"
            ],
            "text/html": [
              "<table border=\"1\" class=\"dataframe\">\n",
              "  <thead>\n",
              "    <tr style=\"text-align: left;\">\n",
              "      <th>epoch</th>\n",
              "      <th>train_loss</th>\n",
              "      <th>valid_loss</th>\n",
              "      <th>error_rate</th>\n",
              "      <th>accuracy</th>\n",
              "      <th>f1_score</th>\n",
              "      <th>precision_score</th>\n",
              "      <th>recall_score</th>\n",
              "      <th>time</th>\n",
              "    </tr>\n",
              "  </thead>\n",
              "  <tbody>\n",
              "    <tr>\n",
              "      <td>0</td>\n",
              "      <td>1.081162</td>\n",
              "      <td>1.467859</td>\n",
              "      <td>0.545455</td>\n",
              "      <td>0.454545</td>\n",
              "      <td>0.052632</td>\n",
              "      <td>1.000000</td>\n",
              "      <td>0.027027</td>\n",
              "      <td>00:08</td>\n",
              "    </tr>\n",
              "  </tbody>\n",
              "</table>"
            ]
          },
          "metadata": {}
        },
        {
          "output_type": "display_data",
          "data": {
            "text/plain": [
              "<IPython.core.display.HTML object>"
            ],
            "text/html": [
              "\n",
              "<style>\n",
              "    /* Turns off some styling */\n",
              "    progress {\n",
              "        /* gets rid of default border in Firefox and Opera. */\n",
              "        border: none;\n",
              "        /* Needs to be in here for Safari polyfill so background images work as expected. */\n",
              "        background-size: auto;\n",
              "    }\n",
              "    .progress-bar-interrupted, .progress-bar-interrupted::-webkit-progress-bar {\n",
              "        background: #F44336;\n",
              "    }\n",
              "</style>\n"
            ]
          },
          "metadata": {}
        },
        {
          "output_type": "display_data",
          "data": {
            "text/plain": [
              "<IPython.core.display.HTML object>"
            ],
            "text/html": [
              "<table border=\"1\" class=\"dataframe\">\n",
              "  <thead>\n",
              "    <tr style=\"text-align: left;\">\n",
              "      <th>epoch</th>\n",
              "      <th>train_loss</th>\n",
              "      <th>valid_loss</th>\n",
              "      <th>error_rate</th>\n",
              "      <th>accuracy</th>\n",
              "      <th>f1_score</th>\n",
              "      <th>precision_score</th>\n",
              "      <th>recall_score</th>\n",
              "      <th>time</th>\n",
              "    </tr>\n",
              "  </thead>\n",
              "  <tbody>\n",
              "    <tr>\n",
              "      <td>0</td>\n",
              "      <td>1.075501</td>\n",
              "      <td>1.028771</td>\n",
              "      <td>0.515152</td>\n",
              "      <td>0.484848</td>\n",
              "      <td>0.209302</td>\n",
              "      <td>0.750000</td>\n",
              "      <td>0.121622</td>\n",
              "      <td>00:10</td>\n",
              "    </tr>\n",
              "    <tr>\n",
              "      <td>1</td>\n",
              "      <td>1.050288</td>\n",
              "      <td>0.777600</td>\n",
              "      <td>0.409091</td>\n",
              "      <td>0.590909</td>\n",
              "      <td>0.509091</td>\n",
              "      <td>0.777778</td>\n",
              "      <td>0.378378</td>\n",
              "      <td>00:10</td>\n",
              "    </tr>\n",
              "    <tr>\n",
              "      <td>2</td>\n",
              "      <td>0.985683</td>\n",
              "      <td>0.620767</td>\n",
              "      <td>0.340909</td>\n",
              "      <td>0.659091</td>\n",
              "      <td>0.661654</td>\n",
              "      <td>0.745763</td>\n",
              "      <td>0.594595</td>\n",
              "      <td>00:10</td>\n",
              "    </tr>\n",
              "    <tr>\n",
              "      <td>3</td>\n",
              "      <td>0.924661</td>\n",
              "      <td>0.560299</td>\n",
              "      <td>0.257576</td>\n",
              "      <td>0.742424</td>\n",
              "      <td>0.773333</td>\n",
              "      <td>0.763158</td>\n",
              "      <td>0.783784</td>\n",
              "      <td>00:10</td>\n",
              "    </tr>\n",
              "    <tr>\n",
              "      <td>4</td>\n",
              "      <td>0.922827</td>\n",
              "      <td>0.538240</td>\n",
              "      <td>0.234848</td>\n",
              "      <td>0.765152</td>\n",
              "      <td>0.800000</td>\n",
              "      <td>0.765432</td>\n",
              "      <td>0.837838</td>\n",
              "      <td>00:10</td>\n",
              "    </tr>\n",
              "    <tr>\n",
              "      <td>5</td>\n",
              "      <td>0.867648</td>\n",
              "      <td>0.521395</td>\n",
              "      <td>0.219697</td>\n",
              "      <td>0.780303</td>\n",
              "      <td>0.805369</td>\n",
              "      <td>0.800000</td>\n",
              "      <td>0.810811</td>\n",
              "      <td>00:10</td>\n",
              "    </tr>\n",
              "    <tr>\n",
              "      <td>6</td>\n",
              "      <td>0.809944</td>\n",
              "      <td>0.513741</td>\n",
              "      <td>0.204545</td>\n",
              "      <td>0.795455</td>\n",
              "      <td>0.821192</td>\n",
              "      <td>0.805195</td>\n",
              "      <td>0.837838</td>\n",
              "      <td>00:10</td>\n",
              "    </tr>\n",
              "    <tr>\n",
              "      <td>7</td>\n",
              "      <td>0.757305</td>\n",
              "      <td>0.511255</td>\n",
              "      <td>0.204545</td>\n",
              "      <td>0.795455</td>\n",
              "      <td>0.821192</td>\n",
              "      <td>0.805195</td>\n",
              "      <td>0.837838</td>\n",
              "      <td>00:10</td>\n",
              "    </tr>\n",
              "    <tr>\n",
              "      <td>8</td>\n",
              "      <td>0.727188</td>\n",
              "      <td>0.510327</td>\n",
              "      <td>0.219697</td>\n",
              "      <td>0.780303</td>\n",
              "      <td>0.810458</td>\n",
              "      <td>0.784810</td>\n",
              "      <td>0.837838</td>\n",
              "      <td>00:10</td>\n",
              "    </tr>\n",
              "    <tr>\n",
              "      <td>9</td>\n",
              "      <td>0.710140</td>\n",
              "      <td>0.513425</td>\n",
              "      <td>0.196970</td>\n",
              "      <td>0.803030</td>\n",
              "      <td>0.826667</td>\n",
              "      <td>0.815789</td>\n",
              "      <td>0.837838</td>\n",
              "      <td>00:10</td>\n",
              "    </tr>\n",
              "    <tr>\n",
              "      <td>10</td>\n",
              "      <td>0.673617</td>\n",
              "      <td>0.512791</td>\n",
              "      <td>0.196970</td>\n",
              "      <td>0.803030</td>\n",
              "      <td>0.826667</td>\n",
              "      <td>0.815789</td>\n",
              "      <td>0.837838</td>\n",
              "      <td>00:10</td>\n",
              "    </tr>\n",
              "    <tr>\n",
              "      <td>11</td>\n",
              "      <td>0.644343</td>\n",
              "      <td>0.509856</td>\n",
              "      <td>0.189394</td>\n",
              "      <td>0.810606</td>\n",
              "      <td>0.832215</td>\n",
              "      <td>0.826667</td>\n",
              "      <td>0.837838</td>\n",
              "      <td>00:10</td>\n",
              "    </tr>\n",
              "    <tr>\n",
              "      <td>12</td>\n",
              "      <td>0.627000</td>\n",
              "      <td>0.511006</td>\n",
              "      <td>0.189394</td>\n",
              "      <td>0.810606</td>\n",
              "      <td>0.829932</td>\n",
              "      <td>0.835616</td>\n",
              "      <td>0.824324</td>\n",
              "      <td>00:10</td>\n",
              "    </tr>\n",
              "    <tr>\n",
              "      <td>13</td>\n",
              "      <td>0.608958</td>\n",
              "      <td>0.508003</td>\n",
              "      <td>0.196970</td>\n",
              "      <td>0.803030</td>\n",
              "      <td>0.824324</td>\n",
              "      <td>0.824324</td>\n",
              "      <td>0.824324</td>\n",
              "      <td>00:10</td>\n",
              "    </tr>\n",
              "    <tr>\n",
              "      <td>14</td>\n",
              "      <td>0.586927</td>\n",
              "      <td>0.502412</td>\n",
              "      <td>0.189394</td>\n",
              "      <td>0.810606</td>\n",
              "      <td>0.829932</td>\n",
              "      <td>0.835616</td>\n",
              "      <td>0.824324</td>\n",
              "      <td>00:10</td>\n",
              "    </tr>\n",
              "    <tr>\n",
              "      <td>15</td>\n",
              "      <td>0.572946</td>\n",
              "      <td>0.497819</td>\n",
              "      <td>0.181818</td>\n",
              "      <td>0.818182</td>\n",
              "      <td>0.835616</td>\n",
              "      <td>0.847222</td>\n",
              "      <td>0.824324</td>\n",
              "      <td>00:10</td>\n",
              "    </tr>\n",
              "    <tr>\n",
              "      <td>16</td>\n",
              "      <td>0.565849</td>\n",
              "      <td>0.505675</td>\n",
              "      <td>0.181818</td>\n",
              "      <td>0.818182</td>\n",
              "      <td>0.835616</td>\n",
              "      <td>0.847222</td>\n",
              "      <td>0.824324</td>\n",
              "      <td>00:09</td>\n",
              "    </tr>\n",
              "    <tr>\n",
              "      <td>17</td>\n",
              "      <td>0.553846</td>\n",
              "      <td>0.502473</td>\n",
              "      <td>0.181818</td>\n",
              "      <td>0.818182</td>\n",
              "      <td>0.835616</td>\n",
              "      <td>0.847222</td>\n",
              "      <td>0.824324</td>\n",
              "      <td>00:09</td>\n",
              "    </tr>\n",
              "    <tr>\n",
              "      <td>18</td>\n",
              "      <td>0.536295</td>\n",
              "      <td>0.500495</td>\n",
              "      <td>0.181818</td>\n",
              "      <td>0.818182</td>\n",
              "      <td>0.835616</td>\n",
              "      <td>0.847222</td>\n",
              "      <td>0.824324</td>\n",
              "      <td>00:10</td>\n",
              "    </tr>\n",
              "    <tr>\n",
              "      <td>19</td>\n",
              "      <td>0.519895</td>\n",
              "      <td>0.502861</td>\n",
              "      <td>0.196970</td>\n",
              "      <td>0.803030</td>\n",
              "      <td>0.824324</td>\n",
              "      <td>0.824324</td>\n",
              "      <td>0.824324</td>\n",
              "      <td>00:10</td>\n",
              "    </tr>\n",
              "  </tbody>\n",
              "</table>"
            ]
          },
          "metadata": {}
        }
      ]
    },
    {
      "cell_type": "code",
      "source": [
        "%cd /content/gdrive/MyDrive/bata_Horsehoe_Crab_classiflication/model3"
      ],
      "metadata": {
        "colab": {
          "base_uri": "https://localhost:8080/"
        },
        "id": "HQ7CfRadln2P",
        "outputId": "a48d6e02-3bd1-46c1-f400-e5dfee967d82"
      },
      "execution_count": null,
      "outputs": [
        {
          "output_type": "stream",
          "name": "stdout",
          "text": [
            "/content/gdrive/MyDrive/bata_Horsehoe_Crab_classiflication/model3\n"
          ]
        }
      ]
    },
    {
      "cell_type": "code",
      "source": [
        "learner_resnext.export(\"resnext50_fastai.pkl\")"
      ],
      "metadata": {
        "id": "X5QEax6sl4AP"
      },
      "execution_count": null,
      "outputs": []
    },
    {
      "cell_type": "markdown",
      "metadata": {
        "id": "YTf825KWECk2"
      },
      "source": [
        "## densenet201"
      ]
    },
    {
      "cell_type": "code",
      "execution_count": null,
      "metadata": {
        "id": "fQP86BPAD-HY",
        "colab": {
          "base_uri": "https://localhost:8080/",
          "height": 86,
          "referenced_widgets": [
            "6e71d24a34094e629d35f2e787091f2c",
            "a85a170a4a214f6b80937ea0183d0716",
            "e9f0edab61a24fef9a116a0ebcbfa577",
            "6ebd12bfcece4b30915f2167747ca7a0",
            "0e779c9f92d64847af22c19868c9f3e6",
            "dd37e07f7a3f465ca94651f7144064c7",
            "d499623ac1b345459197ee5b4f4dcc15",
            "d7f88122d5244b1c9404485a65a931e3",
            "ca91d9a5df034068a27c2dffca657e57",
            "a7f8e48060cc40c89b6c1aded55109a0",
            "dd2de8e59c8941a4a2b313b69b5b6439"
          ]
        },
        "outputId": "a5cc5b9b-10f2-4b28-d5ba-29e8e8d6d5e0"
      },
      "outputs": [
        {
          "output_type": "stream",
          "name": "stderr",
          "text": [
            "Downloading: \"https://download.pytorch.org/models/densenet201-c1103571.pth\" to /root/.cache/torch/hub/checkpoints/densenet201-c1103571.pth\n"
          ]
        },
        {
          "output_type": "display_data",
          "data": {
            "text/plain": [
              "  0%|          | 0.00/77.4M [00:00<?, ?B/s]"
            ],
            "application/vnd.jupyter.widget-view+json": {
              "version_major": 2,
              "version_minor": 0,
              "model_id": "6e71d24a34094e629d35f2e787091f2c"
            }
          },
          "metadata": {}
        }
      ],
      "source": [
        "learner_Den = vision_learner(dls, models.densenet201, metrics=[error_rate, accuracy, F1Score(), Precision(), Recall()])"
      ]
    },
    {
      "cell_type": "code",
      "execution_count": null,
      "metadata": {
        "colab": {
          "base_uri": "https://localhost:8080/",
          "height": 300
        },
        "id": "GQPD0a2BEvQY",
        "outputId": "713bde59-5f1e-4f53-e495-5efa6e94bf9a"
      },
      "outputs": [
        {
          "output_type": "display_data",
          "data": {
            "text/plain": [
              "<IPython.core.display.HTML object>"
            ],
            "text/html": [
              "\n",
              "<style>\n",
              "    /* Turns off some styling */\n",
              "    progress {\n",
              "        /* gets rid of default border in Firefox and Opera. */\n",
              "        border: none;\n",
              "        /* Needs to be in here for Safari polyfill so background images work as expected. */\n",
              "        background-size: auto;\n",
              "    }\n",
              "    .progress-bar-interrupted, .progress-bar-interrupted::-webkit-progress-bar {\n",
              "        background: #F44336;\n",
              "    }\n",
              "</style>\n"
            ]
          },
          "metadata": {}
        },
        {
          "output_type": "display_data",
          "data": {
            "text/plain": [
              "<IPython.core.display.HTML object>"
            ],
            "text/html": [
              ""
            ]
          },
          "metadata": {}
        },
        {
          "output_type": "execute_result",
          "data": {
            "text/plain": [
              "SuggestedLRs(valley=0.0006918309954926372)"
            ]
          },
          "metadata": {},
          "execution_count": 15
        },
        {
          "output_type": "display_data",
          "data": {
            "text/plain": [
              "<Figure size 432x288 with 1 Axes>"
            ],
            "image/png": "[encoded data removed]"
          },
          "metadata": {
            "needs_background": "light"
          }
        }
      ],
      "source": [
        "learner_Den.lr_find() # หา learning rate ที่เหมาะสม"
      ]
    },
    {
      "cell_type": "code",
      "source": [
        "learner_Den.fine_tune(20,  freeze_epochs=1, base_lr =0.0006918309954926372)"
      ],
      "metadata": {
        "colab": {
          "base_uri": "https://localhost:8080/",
          "height": 95
        },
        "id": "XFAIJkfeGR63",
        "outputId": "7cb67939-fd5f-4512-d164-44357f26492a"
      },
      "execution_count": null,
      "outputs": [
        {
          "output_type": "display_data",
          "data": {
            "text/plain": [
              "<IPython.core.display.HTML object>"
            ],
            "text/html": [
              "\n",
              "<style>\n",
              "    /* Turns off some styling */\n",
              "    progress {\n",
              "        /* gets rid of default border in Firefox and Opera. */\n",
              "        border: none;\n",
              "        /* Needs to be in here for Safari polyfill so background images work as expected. */\n",
              "        background-size: auto;\n",
              "    }\n",
              "    .progress-bar-interrupted, .progress-bar-interrupted::-webkit-progress-bar {\n",
              "        background: #F44336;\n",
              "    }\n",
              "</style>\n"
            ]
          },
          "metadata": {}
        },
        {
          "output_type": "display_data",
          "data": {
            "text/plain": [
              "<IPython.core.display.HTML object>"
            ],
            "text/html": [
              "\n",
              "    <div>\n",
              "      <progress value='0' class='' max='1' style='width:300px; height:20px; vertical-align: middle;'></progress>\n",
              "      0.00% [0/1 00:00<00:00]\n",
              "    </div>\n",
              "    \n",
              "<table border=\"1\" class=\"dataframe\">\n",
              "  <thead>\n",
              "    <tr style=\"text-align: left;\">\n",
              "      <th>epoch</th>\n",
              "      <th>train_loss</th>\n",
              "      <th>valid_loss</th>\n",
              "      <th>error_rate</th>\n",
              "      <th>accuracy</th>\n",
              "      <th>f1_score</th>\n",
              "      <th>precision_score</th>\n",
              "      <th>recall_score</th>\n",
              "      <th>time</th>\n",
              "    </tr>\n",
              "  </thead>\n",
              "  <tbody>\n",
              "  </tbody>\n",
              "</table><p>\n",
              "\n",
              "    <div>\n",
              "      <progress value='0' class='' max='3' style='width:300px; height:20px; vertical-align: middle;'></progress>\n",
              "      0.00% [0/3 00:00<00:00]\n",
              "    </div>\n",
              "    "
            ]
          },
          "metadata": {}
        }
      ]
    },
    {
      "cell_type": "code",
      "source": [
        "%cd /content/gdrive/MyDrive/bata_Horsehoe_Crab_classiflication/model3"
      ],
      "metadata": {
        "colab": {
          "base_uri": "https://localhost:8080/"
        },
        "id": "X8EfENIDHX8y",
        "outputId": "1af78ef1-31bd-4e2e-b917-53d0182868d0"
      },
      "execution_count": null,
      "outputs": [
        {
          "output_type": "stream",
          "name": "stdout",
          "text": [
            "/content/gdrive/MyDrive/bata_Horsehoe_Crab_classiflication/model3\n"
          ]
        }
      ]
    },
    {
      "cell_type": "code",
      "execution_count": null,
      "metadata": {
        "id": "qGTlsHCUaFBi"
      },
      "outputs": [],
      "source": [
        "learner_Den.export(\"densenet201_fastai.pkl\")"
      ]
    },
    {
      "cell_type": "markdown",
      "metadata": {
        "id": "X2el2oPdGoF2"
      },
      "source": [
        "## VGG19"
      ]
    },
    {
      "cell_type": "code",
      "execution_count": null,
      "metadata": {
        "colab": {
          "base_uri": "https://localhost:8080/",
          "height": 121,
          "referenced_widgets": [
            "d77350a563144aa39381f9f1dfdb4af7",
            "b11c474e3c794ecbb74bda1c997d5baf",
            "3ef57772a75c4613a14356107657f208",
            "494b40d6a6f14f90923483bf2c62fa60",
            "49e6c06109054bc4af3de99af332911d",
            "e996662140424432845f0e08da1270ab",
            "65949b991e884534849de652a864f80f",
            "93a06bc03c954994ae5e14fb40248438",
            "4b46246e690e479b884ad77bd8f256e1",
            "2f8011e29522450d9f582ebbab717d85",
            "7a89f8ab3097431897d9db1d6ce50792"
          ]
        },
        "id": "9Ai6kzJdGueT",
        "outputId": "e84da41e-42fc-45e0-bbcb-b3cebb8d09ef"
      },
      "outputs": [
        {
          "output_type": "stream",
          "name": "stderr",
          "text": [
            "/usr/local/lib/python3.7/dist-packages/fastai/vision/learner.py:265: UserWarning: `cnn_learner` has been renamed to `vision_learner` -- please update your code\n",
            "  warn(\"`cnn_learner` has been renamed to `vision_learner` -- please update your code\")\n",
            "Downloading: \"https://download.pytorch.org/models/vgg19_bn-c79401a0.pth\" to /root/.cache/torch/hub/checkpoints/vgg19_bn-c79401a0.pth\n"
          ]
        },
        {
          "output_type": "display_data",
          "data": {
            "text/plain": [
              "  0%|          | 0.00/548M [00:00<?, ?B/s]"
            ],
            "application/vnd.jupyter.widget-view+json": {
              "version_major": 2,
              "version_minor": 0,
              "model_id": "d77350a563144aa39381f9f1dfdb4af7"
            }
          },
          "metadata": {}
        }
      ],
      "source": [
        "learner_VGG19 = cnn_learner(dls, models.vgg19_bn, metrics=[error_rate, accuracy, F1Score(), Precision(), Recall()])"
      ]
    },
    {
      "cell_type": "code",
      "execution_count": null,
      "metadata": {
        "colab": {
          "base_uri": "https://localhost:8080/",
          "height": 300
        },
        "id": "my917BMFHJbG",
        "outputId": "b99f7c66-478d-4c44-f6ae-9d4359af6117"
      },
      "outputs": [
        {
          "output_type": "display_data",
          "data": {
            "text/plain": [
              "<IPython.core.display.HTML object>"
            ],
            "text/html": [
              "\n",
              "<style>\n",
              "    /* Turns off some styling */\n",
              "    progress {\n",
              "        /* gets rid of default border in Firefox and Opera. */\n",
              "        border: none;\n",
              "        /* Needs to be in here for Safari polyfill so background images work as expected. */\n",
              "        background-size: auto;\n",
              "    }\n",
              "    .progress-bar-interrupted, .progress-bar-interrupted::-webkit-progress-bar {\n",
              "        background: #F44336;\n",
              "    }\n",
              "</style>\n"
            ]
          },
          "metadata": {}
        },
        {
          "output_type": "display_data",
          "data": {
            "text/plain": [
              "<IPython.core.display.HTML object>"
            ],
            "text/html": [
              ""
            ]
          },
          "metadata": {}
        },
        {
          "output_type": "execute_result",
          "data": {
            "text/plain": [
              "SuggestedLRs(valley=0.0014454397605732083)"
            ]
          },
          "metadata": {},
          "execution_count": 22
        },
        {
          "output_type": "display_data",
          "data": {
            "text/plain": [
              "<Figure size 432x288 with 1 Axes>"
            ],
            "image/png": "[encoded data removed]"
          },
          "metadata": {
            "needs_background": "light"
          }
        }
      ],
      "source": [
        "learner_VGG19.lr_find() # หา learning rate ที่เหมาะสม"
      ]
    },
    {
      "cell_type": "code",
      "execution_count": null,
      "metadata": {
        "colab": {
          "base_uri": "https://localhost:8080/",
          "height": 740
        },
        "id": "4j0I8ynMHMnz",
        "outputId": "26983ba2-b2ea-4b71-abe3-21b3f5f828d3"
      },
      "outputs": [
        {
          "output_type": "display_data",
          "data": {
            "text/plain": [
              "<IPython.core.display.HTML object>"
            ],
            "text/html": [
              "\n",
              "<style>\n",
              "    /* Turns off some styling */\n",
              "    progress {\n",
              "        /* gets rid of default border in Firefox and Opera. */\n",
              "        border: none;\n",
              "        /* Needs to be in here for Safari polyfill so background images work as expected. */\n",
              "        background-size: auto;\n",
              "    }\n",
              "    .progress-bar-interrupted, .progress-bar-interrupted::-webkit-progress-bar {\n",
              "        background: #F44336;\n",
              "    }\n",
              "</style>\n"
            ]
          },
          "metadata": {}
        },
        {
          "output_type": "display_data",
          "data": {
            "text/plain": [
              "<IPython.core.display.HTML object>"
            ],
            "text/html": [
              "<table border=\"1\" class=\"dataframe\">\n",
              "  <thead>\n",
              "    <tr style=\"text-align: left;\">\n",
              "      <th>epoch</th>\n",
              "      <th>train_loss</th>\n",
              "      <th>valid_loss</th>\n",
              "      <th>error_rate</th>\n",
              "      <th>accuracy</th>\n",
              "      <th>f1_score</th>\n",
              "      <th>precision_score</th>\n",
              "      <th>recall_score</th>\n",
              "      <th>time</th>\n",
              "    </tr>\n",
              "  </thead>\n",
              "  <tbody>\n",
              "    <tr>\n",
              "      <td>0</td>\n",
              "      <td>1.306861</td>\n",
              "      <td>0.744533</td>\n",
              "      <td>0.454545</td>\n",
              "      <td>0.545455</td>\n",
              "      <td>0.655172</td>\n",
              "      <td>0.570000</td>\n",
              "      <td>0.770270</td>\n",
              "      <td>00:10</td>\n",
              "    </tr>\n",
              "  </tbody>\n",
              "</table>"
            ]
          },
          "metadata": {}
        },
        {
          "output_type": "display_data",
          "data": {
            "text/plain": [
              "<IPython.core.display.HTML object>"
            ],
            "text/html": [
              "\n",
              "<style>\n",
              "    /* Turns off some styling */\n",
              "    progress {\n",
              "        /* gets rid of default border in Firefox and Opera. */\n",
              "        border: none;\n",
              "        /* Needs to be in here for Safari polyfill so background images work as expected. */\n",
              "        background-size: auto;\n",
              "    }\n",
              "    .progress-bar-interrupted, .progress-bar-interrupted::-webkit-progress-bar {\n",
              "        background: #F44336;\n",
              "    }\n",
              "</style>\n"
            ]
          },
          "metadata": {}
        },
        {
          "output_type": "display_data",
          "data": {
            "text/plain": [
              "<IPython.core.display.HTML object>"
            ],
            "text/html": [
              "<table border=\"1\" class=\"dataframe\">\n",
              "  <thead>\n",
              "    <tr style=\"text-align: left;\">\n",
              "      <th>epoch</th>\n",
              "      <th>train_loss</th>\n",
              "      <th>valid_loss</th>\n",
              "      <th>error_rate</th>\n",
              "      <th>accuracy</th>\n",
              "      <th>f1_score</th>\n",
              "      <th>precision_score</th>\n",
              "      <th>recall_score</th>\n",
              "      <th>time</th>\n",
              "    </tr>\n",
              "  </thead>\n",
              "  <tbody>\n",
              "    <tr>\n",
              "      <td>0</td>\n",
              "      <td>1.029403</td>\n",
              "      <td>0.685073</td>\n",
              "      <td>0.386364</td>\n",
              "      <td>0.613636</td>\n",
              "      <td>0.679245</td>\n",
              "      <td>0.635294</td>\n",
              "      <td>0.729730</td>\n",
              "      <td>00:13</td>\n",
              "    </tr>\n",
              "    <tr>\n",
              "      <td>1</td>\n",
              "      <td>0.931361</td>\n",
              "      <td>0.653031</td>\n",
              "      <td>0.356061</td>\n",
              "      <td>0.643939</td>\n",
              "      <td>0.661871</td>\n",
              "      <td>0.707692</td>\n",
              "      <td>0.621622</td>\n",
              "      <td>00:13</td>\n",
              "    </tr>\n",
              "    <tr>\n",
              "      <td>2</td>\n",
              "      <td>0.848119</td>\n",
              "      <td>0.609338</td>\n",
              "      <td>0.310606</td>\n",
              "      <td>0.689394</td>\n",
              "      <td>0.700730</td>\n",
              "      <td>0.761905</td>\n",
              "      <td>0.648649</td>\n",
              "      <td>00:13</td>\n",
              "    </tr>\n",
              "    <tr>\n",
              "      <td>3</td>\n",
              "      <td>0.808401</td>\n",
              "      <td>0.535285</td>\n",
              "      <td>0.234848</td>\n",
              "      <td>0.765152</td>\n",
              "      <td>0.783217</td>\n",
              "      <td>0.811594</td>\n",
              "      <td>0.756757</td>\n",
              "      <td>00:13</td>\n",
              "    </tr>\n",
              "    <tr>\n",
              "      <td>4</td>\n",
              "      <td>0.757450</td>\n",
              "      <td>0.489019</td>\n",
              "      <td>0.189394</td>\n",
              "      <td>0.810606</td>\n",
              "      <td>0.829932</td>\n",
              "      <td>0.835616</td>\n",
              "      <td>0.824324</td>\n",
              "      <td>00:13</td>\n",
              "    </tr>\n",
              "    <tr>\n",
              "      <td>5</td>\n",
              "      <td>0.721366</td>\n",
              "      <td>0.461313</td>\n",
              "      <td>0.174242</td>\n",
              "      <td>0.825758</td>\n",
              "      <td>0.839161</td>\n",
              "      <td>0.869565</td>\n",
              "      <td>0.810811</td>\n",
              "      <td>00:13</td>\n",
              "    </tr>\n",
              "    <tr>\n",
              "      <td>6</td>\n",
              "      <td>0.649567</td>\n",
              "      <td>0.456202</td>\n",
              "      <td>0.181818</td>\n",
              "      <td>0.818182</td>\n",
              "      <td>0.828571</td>\n",
              "      <td>0.878788</td>\n",
              "      <td>0.783784</td>\n",
              "      <td>00:13</td>\n",
              "    </tr>\n",
              "    <tr>\n",
              "      <td>7</td>\n",
              "      <td>0.592703</td>\n",
              "      <td>0.479727</td>\n",
              "      <td>0.174242</td>\n",
              "      <td>0.825758</td>\n",
              "      <td>0.834532</td>\n",
              "      <td>0.892308</td>\n",
              "      <td>0.783784</td>\n",
              "      <td>00:13</td>\n",
              "    </tr>\n",
              "    <tr>\n",
              "      <td>8</td>\n",
              "      <td>0.550041</td>\n",
              "      <td>0.491508</td>\n",
              "      <td>0.181818</td>\n",
              "      <td>0.818182</td>\n",
              "      <td>0.826087</td>\n",
              "      <td>0.890625</td>\n",
              "      <td>0.770270</td>\n",
              "      <td>00:14</td>\n",
              "    </tr>\n",
              "    <tr>\n",
              "      <td>9</td>\n",
              "      <td>0.514077</td>\n",
              "      <td>0.520159</td>\n",
              "      <td>0.174242</td>\n",
              "      <td>0.825758</td>\n",
              "      <td>0.832117</td>\n",
              "      <td>0.904762</td>\n",
              "      <td>0.770270</td>\n",
              "      <td>00:13</td>\n",
              "    </tr>\n",
              "    <tr>\n",
              "      <td>10</td>\n",
              "      <td>0.486424</td>\n",
              "      <td>0.551723</td>\n",
              "      <td>0.181818</td>\n",
              "      <td>0.818182</td>\n",
              "      <td>0.826087</td>\n",
              "      <td>0.890625</td>\n",
              "      <td>0.770270</td>\n",
              "      <td>00:13</td>\n",
              "    </tr>\n",
              "    <tr>\n",
              "      <td>11</td>\n",
              "      <td>0.454659</td>\n",
              "      <td>0.580939</td>\n",
              "      <td>0.196970</td>\n",
              "      <td>0.803030</td>\n",
              "      <td>0.808824</td>\n",
              "      <td>0.887097</td>\n",
              "      <td>0.743243</td>\n",
              "      <td>00:13</td>\n",
              "    </tr>\n",
              "    <tr>\n",
              "      <td>12</td>\n",
              "      <td>0.417855</td>\n",
              "      <td>0.594001</td>\n",
              "      <td>0.196970</td>\n",
              "      <td>0.803030</td>\n",
              "      <td>0.808824</td>\n",
              "      <td>0.887097</td>\n",
              "      <td>0.743243</td>\n",
              "      <td>00:13</td>\n",
              "    </tr>\n",
              "    <tr>\n",
              "      <td>13</td>\n",
              "      <td>0.399164</td>\n",
              "      <td>0.600887</td>\n",
              "      <td>0.189394</td>\n",
              "      <td>0.810606</td>\n",
              "      <td>0.817518</td>\n",
              "      <td>0.888889</td>\n",
              "      <td>0.756757</td>\n",
              "      <td>00:13</td>\n",
              "    </tr>\n",
              "    <tr>\n",
              "      <td>14</td>\n",
              "      <td>0.374601</td>\n",
              "      <td>0.610554</td>\n",
              "      <td>0.181818</td>\n",
              "      <td>0.818182</td>\n",
              "      <td>0.826087</td>\n",
              "      <td>0.890625</td>\n",
              "      <td>0.770270</td>\n",
              "      <td>00:13</td>\n",
              "    </tr>\n",
              "    <tr>\n",
              "      <td>15</td>\n",
              "      <td>0.354436</td>\n",
              "      <td>0.628455</td>\n",
              "      <td>0.181818</td>\n",
              "      <td>0.818182</td>\n",
              "      <td>0.826087</td>\n",
              "      <td>0.890625</td>\n",
              "      <td>0.770270</td>\n",
              "      <td>00:14</td>\n",
              "    </tr>\n",
              "    <tr>\n",
              "      <td>16</td>\n",
              "      <td>0.329973</td>\n",
              "      <td>0.634921</td>\n",
              "      <td>0.174242</td>\n",
              "      <td>0.825758</td>\n",
              "      <td>0.834532</td>\n",
              "      <td>0.892308</td>\n",
              "      <td>0.783784</td>\n",
              "      <td>00:13</td>\n",
              "    </tr>\n",
              "    <tr>\n",
              "      <td>17</td>\n",
              "      <td>0.307154</td>\n",
              "      <td>0.637108</td>\n",
              "      <td>0.174242</td>\n",
              "      <td>0.825758</td>\n",
              "      <td>0.834532</td>\n",
              "      <td>0.892308</td>\n",
              "      <td>0.783784</td>\n",
              "      <td>00:13</td>\n",
              "    </tr>\n",
              "    <tr>\n",
              "      <td>18</td>\n",
              "      <td>0.288649</td>\n",
              "      <td>0.646642</td>\n",
              "      <td>0.174242</td>\n",
              "      <td>0.825758</td>\n",
              "      <td>0.834532</td>\n",
              "      <td>0.892308</td>\n",
              "      <td>0.783784</td>\n",
              "      <td>00:14</td>\n",
              "    </tr>\n",
              "    <tr>\n",
              "      <td>19</td>\n",
              "      <td>0.276596</td>\n",
              "      <td>0.645672</td>\n",
              "      <td>0.174242</td>\n",
              "      <td>0.825758</td>\n",
              "      <td>0.834532</td>\n",
              "      <td>0.892308</td>\n",
              "      <td>0.783784</td>\n",
              "      <td>00:13</td>\n",
              "    </tr>\n",
              "  </tbody>\n",
              "</table>"
            ]
          },
          "metadata": {}
        }
      ],
      "source": [
        "learner_VGG19.fine_tune(epochs=20, freeze_epochs=1, base_lr=0.0014454397605732083)"
      ]
    },
    {
      "cell_type": "code",
      "execution_count": null,
      "metadata": {
        "id": "qZozgxjXaV7D"
      },
      "outputs": [],
      "source": [
        "learner_VGG19.export(\"VGG19_fastai.pkl\")"
      ]
    },
    {
      "cell_type": "markdown",
      "metadata": {
        "id": "7oNK6mMiRt1H"
      },
      "source": [
        "## alexnet"
      ]
    },
    {
      "cell_type": "code",
      "execution_count": null,
      "metadata": {
        "colab": {
          "base_uri": "https://localhost:8080/",
          "height": 101,
          "referenced_widgets": [
            "6c6f970493d148dd8a7285792d4ce680"
          ]
        },
        "id": "hv6l-5EaRwdm",
        "outputId": "9dc5ee31-4020-4cf9-af5a-b2ac9871f337"
      },
      "outputs": [
        {
          "name": "stderr",
          "output_type": "stream",
          "text": [
            "/usr/local/lib/python3.7/dist-packages/fastai/vision/learner.py:265: UserWarning: `cnn_learner` has been renamed to `vision_learner` -- please update your code\n",
            "  warn(\"`cnn_learner` has been renamed to `vision_learner` -- please update your code\")\n",
            "Downloading: \"https://download.pytorch.org/models/alexnet-owt-7be5be79.pth\" to /root/.cache/torch/hub/checkpoints/alexnet-owt-7be5be79.pth\n"
          ]
        },
        {
          "data": {
            "application/vnd.jupyter.widget-view+json": {
              "model_id": "6c6f970493d148dd8a7285792d4ce680",
              "version_major": 2,
              "version_minor": 0
            },
            "text/plain": [
              "  0%|          | 0.00/233M [00:00<?, ?B/s]"
            ]
          },
          "metadata": {},
          "output_type": "display_data"
        }
      ],
      "source": [
        "learner_Alex = cnn_learner(dls, alexnet, metrics=[error_rate, accuracy, F1Score(), Precision(), Recall()])"
      ]
    },
    {
      "cell_type": "code",
      "execution_count": null,
      "metadata": {
        "colab": {
          "base_uri": "https://localhost:8080/",
          "height": 300
        },
        "id": "Iv1CVP8jR-VG",
        "outputId": "cc37df4b-85b7-48b4-b956-7ba74c7b1e29"
      },
      "outputs": [
        {
          "data": {
            "text/html": [
              "\n",
              "<style>\n",
              "    /* Turns off some styling */\n",
              "    progress {\n",
              "        /* gets rid of default border in Firefox and Opera. */\n",
              "        border: none;\n",
              "        /* Needs to be in here for Safari polyfill so background images work as expected. */\n",
              "        background-size: auto;\n",
              "    }\n",
              "    .progress-bar-interrupted, .progress-bar-interrupted::-webkit-progress-bar {\n",
              "        background: #F44336;\n",
              "    }\n",
              "</style>\n"
            ],
            "text/plain": [
              "<IPython.core.display.HTML object>"
            ]
          },
          "metadata": {},
          "output_type": "display_data"
        },
        {
          "data": {
            "text/html": [
              ""
            ],
            "text/plain": [
              "<IPython.core.display.HTML object>"
            ]
          },
          "metadata": {},
          "output_type": "display_data"
        },
        {
          "data": {
            "text/plain": [
              "SuggestedLRs(valley=0.0008317637839354575)"
            ]
          },
          "execution_count": 54,
          "metadata": {},
          "output_type": "execute_result"
        },
        {
          "data": {
            "image/png": "[encoded data removed]",
            "text/plain": [
              "<Figure size 432x288 with 1 Axes>"
            ]
          },
          "metadata": {},
          "output_type": "display_data"
        }
      ],
      "source": [
        "learner_Alex.lr_find()"
      ]
    },
    {
      "cell_type": "code",
      "execution_count": null,
      "metadata": {
        "colab": {
          "base_uri": "https://localhost:8080/",
          "height": 740
        },
        "id": "f3pPnzZDSWMQ",
        "outputId": "3125d5df-23d9-42dc-e6cd-de1c5468206c"
      },
      "outputs": [
        {
          "data": {
            "text/html": [
              "\n",
              "<style>\n",
              "    /* Turns off some styling */\n",
              "    progress {\n",
              "        /* gets rid of default border in Firefox and Opera. */\n",
              "        border: none;\n",
              "        /* Needs to be in here for Safari polyfill so background images work as expected. */\n",
              "        background-size: auto;\n",
              "    }\n",
              "    .progress-bar-interrupted, .progress-bar-interrupted::-webkit-progress-bar {\n",
              "        background: #F44336;\n",
              "    }\n",
              "</style>\n"
            ],
            "text/plain": [
              "<IPython.core.display.HTML object>"
            ]
          },
          "metadata": {},
          "output_type": "display_data"
        },
        {
          "data": {
            "text/html": [
              "<table border=\"1\" class=\"dataframe\">\n",
              "  <thead>\n",
              "    <tr style=\"text-align: left;\">\n",
              "      <th>epoch</th>\n",
              "      <th>train_loss</th>\n",
              "      <th>valid_loss</th>\n",
              "      <th>error_rate</th>\n",
              "      <th>accuracy</th>\n",
              "      <th>f1_score</th>\n",
              "      <th>precision_score</th>\n",
              "      <th>recall_score</th>\n",
              "      <th>time</th>\n",
              "    </tr>\n",
              "  </thead>\n",
              "  <tbody>\n",
              "    <tr>\n",
              "      <td>0</td>\n",
              "      <td>1.309652</td>\n",
              "      <td>2.242437</td>\n",
              "      <td>0.525424</td>\n",
              "      <td>0.474576</td>\n",
              "      <td>0.643678</td>\n",
              "      <td>0.474576</td>\n",
              "      <td>1.000000</td>\n",
              "      <td>00:03</td>\n",
              "    </tr>\n",
              "  </tbody>\n",
              "</table>"
            ],
            "text/plain": [
              "<IPython.core.display.HTML object>"
            ]
          },
          "metadata": {},
          "output_type": "display_data"
        },
        {
          "data": {
            "text/html": [
              "\n",
              "<style>\n",
              "    /* Turns off some styling */\n",
              "    progress {\n",
              "        /* gets rid of default border in Firefox and Opera. */\n",
              "        border: none;\n",
              "        /* Needs to be in here for Safari polyfill so background images work as expected. */\n",
              "        background-size: auto;\n",
              "    }\n",
              "    .progress-bar-interrupted, .progress-bar-interrupted::-webkit-progress-bar {\n",
              "        background: #F44336;\n",
              "    }\n",
              "</style>\n"
            ],
            "text/plain": [
              "<IPython.core.display.HTML object>"
            ]
          },
          "metadata": {},
          "output_type": "display_data"
        },
        {
          "data": {
            "text/html": [
              "<table border=\"1\" class=\"dataframe\">\n",
              "  <thead>\n",
              "    <tr style=\"text-align: left;\">\n",
              "      <th>epoch</th>\n",
              "      <th>train_loss</th>\n",
              "      <th>valid_loss</th>\n",
              "      <th>error_rate</th>\n",
              "      <th>accuracy</th>\n",
              "      <th>f1_score</th>\n",
              "      <th>precision_score</th>\n",
              "      <th>recall_score</th>\n",
              "      <th>time</th>\n",
              "    </tr>\n",
              "  </thead>\n",
              "  <tbody>\n",
              "    <tr>\n",
              "      <td>0</td>\n",
              "      <td>1.136097</td>\n",
              "      <td>1.284064</td>\n",
              "      <td>0.474576</td>\n",
              "      <td>0.525424</td>\n",
              "      <td>0.641026</td>\n",
              "      <td>0.500000</td>\n",
              "      <td>0.892857</td>\n",
              "      <td>00:04</td>\n",
              "    </tr>\n",
              "    <tr>\n",
              "      <td>1</td>\n",
              "      <td>1.136917</td>\n",
              "      <td>0.931137</td>\n",
              "      <td>0.423729</td>\n",
              "      <td>0.576271</td>\n",
              "      <td>0.657534</td>\n",
              "      <td>0.533333</td>\n",
              "      <td>0.857143</td>\n",
              "      <td>00:03</td>\n",
              "    </tr>\n",
              "    <tr>\n",
              "      <td>2</td>\n",
              "      <td>1.142136</td>\n",
              "      <td>0.745946</td>\n",
              "      <td>0.372881</td>\n",
              "      <td>0.627119</td>\n",
              "      <td>0.676471</td>\n",
              "      <td>0.575000</td>\n",
              "      <td>0.821429</td>\n",
              "      <td>00:04</td>\n",
              "    </tr>\n",
              "    <tr>\n",
              "      <td>3</td>\n",
              "      <td>1.154705</td>\n",
              "      <td>0.643595</td>\n",
              "      <td>0.322034</td>\n",
              "      <td>0.677966</td>\n",
              "      <td>0.698413</td>\n",
              "      <td>0.628571</td>\n",
              "      <td>0.785714</td>\n",
              "      <td>00:03</td>\n",
              "    </tr>\n",
              "    <tr>\n",
              "      <td>4</td>\n",
              "      <td>1.136096</td>\n",
              "      <td>0.581246</td>\n",
              "      <td>0.237288</td>\n",
              "      <td>0.762712</td>\n",
              "      <td>0.750000</td>\n",
              "      <td>0.750000</td>\n",
              "      <td>0.750000</td>\n",
              "      <td>00:04</td>\n",
              "    </tr>\n",
              "    <tr>\n",
              "      <td>5</td>\n",
              "      <td>1.103300</td>\n",
              "      <td>0.557046</td>\n",
              "      <td>0.237288</td>\n",
              "      <td>0.762712</td>\n",
              "      <td>0.750000</td>\n",
              "      <td>0.750000</td>\n",
              "      <td>0.750000</td>\n",
              "      <td>00:04</td>\n",
              "    </tr>\n",
              "    <tr>\n",
              "      <td>6</td>\n",
              "      <td>1.071120</td>\n",
              "      <td>0.539221</td>\n",
              "      <td>0.220339</td>\n",
              "      <td>0.779661</td>\n",
              "      <td>0.763636</td>\n",
              "      <td>0.777778</td>\n",
              "      <td>0.750000</td>\n",
              "      <td>00:04</td>\n",
              "    </tr>\n",
              "    <tr>\n",
              "      <td>7</td>\n",
              "      <td>1.037656</td>\n",
              "      <td>0.503185</td>\n",
              "      <td>0.220339</td>\n",
              "      <td>0.779661</td>\n",
              "      <td>0.754717</td>\n",
              "      <td>0.800000</td>\n",
              "      <td>0.714286</td>\n",
              "      <td>00:03</td>\n",
              "    </tr>\n",
              "    <tr>\n",
              "      <td>8</td>\n",
              "      <td>1.000970</td>\n",
              "      <td>0.483617</td>\n",
              "      <td>0.203390</td>\n",
              "      <td>0.796610</td>\n",
              "      <td>0.769231</td>\n",
              "      <td>0.833333</td>\n",
              "      <td>0.714286</td>\n",
              "      <td>00:03</td>\n",
              "    </tr>\n",
              "    <tr>\n",
              "      <td>9</td>\n",
              "      <td>0.971690</td>\n",
              "      <td>0.485370</td>\n",
              "      <td>0.237288</td>\n",
              "      <td>0.762712</td>\n",
              "      <td>0.720000</td>\n",
              "      <td>0.818182</td>\n",
              "      <td>0.642857</td>\n",
              "      <td>00:04</td>\n",
              "    </tr>\n",
              "    <tr>\n",
              "      <td>10</td>\n",
              "      <td>0.944777</td>\n",
              "      <td>0.475861</td>\n",
              "      <td>0.254237</td>\n",
              "      <td>0.745763</td>\n",
              "      <td>0.693878</td>\n",
              "      <td>0.809524</td>\n",
              "      <td>0.607143</td>\n",
              "      <td>00:04</td>\n",
              "    </tr>\n",
              "    <tr>\n",
              "      <td>11</td>\n",
              "      <td>0.902665</td>\n",
              "      <td>0.481294</td>\n",
              "      <td>0.254237</td>\n",
              "      <td>0.745763</td>\n",
              "      <td>0.693878</td>\n",
              "      <td>0.809524</td>\n",
              "      <td>0.607143</td>\n",
              "      <td>00:04</td>\n",
              "    </tr>\n",
              "    <tr>\n",
              "      <td>12</td>\n",
              "      <td>0.883027</td>\n",
              "      <td>0.481321</td>\n",
              "      <td>0.220339</td>\n",
              "      <td>0.779661</td>\n",
              "      <td>0.734694</td>\n",
              "      <td>0.857143</td>\n",
              "      <td>0.642857</td>\n",
              "      <td>00:03</td>\n",
              "    </tr>\n",
              "    <tr>\n",
              "      <td>13</td>\n",
              "      <td>0.861316</td>\n",
              "      <td>0.484214</td>\n",
              "      <td>0.203390</td>\n",
              "      <td>0.796610</td>\n",
              "      <td>0.760000</td>\n",
              "      <td>0.863636</td>\n",
              "      <td>0.678571</td>\n",
              "      <td>00:04</td>\n",
              "    </tr>\n",
              "    <tr>\n",
              "      <td>14</td>\n",
              "      <td>0.832649</td>\n",
              "      <td>0.478281</td>\n",
              "      <td>0.203390</td>\n",
              "      <td>0.796610</td>\n",
              "      <td>0.760000</td>\n",
              "      <td>0.863636</td>\n",
              "      <td>0.678571</td>\n",
              "      <td>00:04</td>\n",
              "    </tr>\n",
              "    <tr>\n",
              "      <td>15</td>\n",
              "      <td>0.816449</td>\n",
              "      <td>0.479789</td>\n",
              "      <td>0.220339</td>\n",
              "      <td>0.779661</td>\n",
              "      <td>0.745098</td>\n",
              "      <td>0.826087</td>\n",
              "      <td>0.678571</td>\n",
              "      <td>00:04</td>\n",
              "    </tr>\n",
              "    <tr>\n",
              "      <td>16</td>\n",
              "      <td>0.792360</td>\n",
              "      <td>0.484401</td>\n",
              "      <td>0.220339</td>\n",
              "      <td>0.779661</td>\n",
              "      <td>0.745098</td>\n",
              "      <td>0.826087</td>\n",
              "      <td>0.678571</td>\n",
              "      <td>00:04</td>\n",
              "    </tr>\n",
              "    <tr>\n",
              "      <td>17</td>\n",
              "      <td>0.767393</td>\n",
              "      <td>0.480494</td>\n",
              "      <td>0.220339</td>\n",
              "      <td>0.779661</td>\n",
              "      <td>0.745098</td>\n",
              "      <td>0.826087</td>\n",
              "      <td>0.678571</td>\n",
              "      <td>00:03</td>\n",
              "    </tr>\n",
              "    <tr>\n",
              "      <td>18</td>\n",
              "      <td>0.759444</td>\n",
              "      <td>0.480758</td>\n",
              "      <td>0.220339</td>\n",
              "      <td>0.779661</td>\n",
              "      <td>0.745098</td>\n",
              "      <td>0.826087</td>\n",
              "      <td>0.678571</td>\n",
              "      <td>00:04</td>\n",
              "    </tr>\n",
              "    <tr>\n",
              "      <td>19</td>\n",
              "      <td>0.740763</td>\n",
              "      <td>0.493261</td>\n",
              "      <td>0.220339</td>\n",
              "      <td>0.779661</td>\n",
              "      <td>0.745098</td>\n",
              "      <td>0.826087</td>\n",
              "      <td>0.678571</td>\n",
              "      <td>00:03</td>\n",
              "    </tr>\n",
              "  </tbody>\n",
              "</table>"
            ],
            "text/plain": [
              "<IPython.core.display.HTML object>"
            ]
          },
          "metadata": {},
          "output_type": "display_data"
        }
      ],
      "source": [
        "learner_Alex.fine_tune(epochs=20, freeze_epochs=1, base_lr=0.0008317637839354575)"
      ]
    },
    {
      "cell_type": "code",
      "execution_count": null,
      "metadata": {
        "id": "6KPYQ7skapZi"
      },
      "outputs": [],
      "source": [
        "learner_Alex.export(\"alex_fastai.pkl\")"
      ]
    },
    {
      "cell_type": "markdown",
      "metadata": {
        "id": "Bs1r3zyW4vZp"
      },
      "source": [
        "# **โหลดโมเดลเพื่อทำนายผล**"
      ]
    },
    {
      "cell_type": "markdown",
      "metadata": {
        "id": "ki2GsCWOO6T0"
      },
      "source": [
        "## โหลดโมเดลจากที่เซฟไว้"
      ]
    },
    {
      "cell_type": "code",
      "execution_count": null,
      "metadata": {
        "id": "fsKobi3d4vZp"
      },
      "outputs": [],
      "source": [
        "from fastbook import *\n",
        "from glob import glob\n",
        "from pathlib import Path\n",
        "from sklearn.metrics import precision_recall_fscore_support, accuracy_score, roc_auc_score\n",
        "\n",
        "learn_inf = load_learner('/content/gdrive/MyDrive/bata_Horsehoe_Crab_classiflication/model_front/resnext50_fastai.pkl')"
      ]
    },
    {
      "cell_type": "code",
      "execution_count": null,
      "metadata": {
        "id": "u1_xmrA5Z9x6"
      },
      "outputs": [],
      "source": [
        "test_dblock = DataBlock(\n",
        "    blocks=(ImageBlock, CategoryBlock), #x - image; y - single class\n",
        "    get_items=get_image_files, #get image\n",
        "    splitter=GrandparentSplitter(valid_name='test'), #use parent folder as train-valid split\n",
        "    get_y=parent_label, #use parent folder as label\n",
        "    item_tfms=Resize(224,224)\n",
        "    )"
      ]
    },
    {
      "cell_type": "code",
      "execution_count": null,
      "metadata": {
        "id": "X0Rt0nUQFgPA"
      },
      "outputs": [],
      "source": [
        "PathTest = \"/content/gdrive/MyDrive/bata_Horsehoe_Crab_classiflication/img\"\n",
        "test_dls = test_dblock.dataloaders(PathTest, bs=64)"
      ]
    },
    {
      "cell_type": "markdown",
      "metadata": {
        "id": "1TqVaaQNPue4"
      },
      "source": [
        "## สร้าง confusion matix"
      ]
    },
    {
      "cell_type": "code",
      "execution_count": null,
      "metadata": {
        "colab": {
          "base_uri": "https://localhost:8080/",
          "height": 383
        },
        "id": "WAPJ86N0bLZX",
        "outputId": "7bc20307-750b-4357-c12c-a1c0a81f61c1"
      },
      "outputs": [
        {
          "output_type": "display_data",
          "data": {
            "text/plain": [
              "<IPython.core.display.HTML object>"
            ],
            "text/html": [
              "\n",
              "<style>\n",
              "    /* Turns off some styling */\n",
              "    progress {\n",
              "        /* gets rid of default border in Firefox and Opera. */\n",
              "        border: none;\n",
              "        /* Needs to be in here for Safari polyfill so background images work as expected. */\n",
              "        background-size: auto;\n",
              "    }\n",
              "    .progress-bar-interrupted, .progress-bar-interrupted::-webkit-progress-bar {\n",
              "        background: #F44336;\n",
              "    }\n",
              "</style>\n"
            ]
          },
          "metadata": {}
        },
        {
          "output_type": "display_data",
          "data": {
            "text/plain": [
              "<IPython.core.display.HTML object>"
            ],
            "text/html": [
              ""
            ]
          },
          "metadata": {}
        },
        {
          "output_type": "display_data",
          "data": {
            "text/plain": [
              "<IPython.core.display.HTML object>"
            ],
            "text/html": [
              "\n",
              "<style>\n",
              "    /* Turns off some styling */\n",
              "    progress {\n",
              "        /* gets rid of default border in Firefox and Opera. */\n",
              "        border: none;\n",
              "        /* Needs to be in here for Safari polyfill so background images work as expected. */\n",
              "        background-size: auto;\n",
              "    }\n",
              "    .progress-bar-interrupted, .progress-bar-interrupted::-webkit-progress-bar {\n",
              "        background: #F44336;\n",
              "    }\n",
              "</style>\n"
            ]
          },
          "metadata": {}
        },
        {
          "output_type": "display_data",
          "data": {
            "text/plain": [
              "<IPython.core.display.HTML object>"
            ],
            "text/html": [
              ""
            ]
          },
          "metadata": {}
        },
        {
          "output_type": "display_data",
          "data": {
            "text/plain": [
              "<Figure size 360x360 with 1 Axes>"
            ],
            "image/png": "[encoded data removed]"
          },
          "metadata": {
            "needs_background": "light"
          }
        }
      ],
      "source": [
        "interp = ClassificationInterpretation.from_learner(learn_inf, dl=test_dls[1])\n",
        "interp.plot_confusion_matrix(figsize=(5,5))"
      ]
    },
    {
      "cell_type": "code",
      "execution_count": null,
      "metadata": {
        "colab": {
          "base_uri": "https://localhost:8080/",
          "height": 173
        },
        "id": "jw3ReYW1aHUd",
        "outputId": "b658f43e-46ff-4657-adcc-4b7e735000ff"
      },
      "outputs": [
        {
          "output_type": "display_data",
          "data": {
            "text/plain": [
              "<IPython.core.display.HTML object>"
            ],
            "text/html": [
              "\n",
              "<style>\n",
              "    /* Turns off some styling */\n",
              "    progress {\n",
              "        /* gets rid of default border in Firefox and Opera. */\n",
              "        border: none;\n",
              "        /* Needs to be in here for Safari polyfill so background images work as expected. */\n",
              "        background-size: auto;\n",
              "    }\n",
              "    .progress-bar-interrupted, .progress-bar-interrupted::-webkit-progress-bar {\n",
              "        background: #F44336;\n",
              "    }\n",
              "</style>\n"
            ]
          },
          "metadata": {}
        },
        {
          "output_type": "display_data",
          "data": {
            "text/plain": [
              "<IPython.core.display.HTML object>"
            ],
            "text/html": [
              ""
            ]
          },
          "metadata": {}
        },
        {
          "output_type": "stream",
          "name": "stdout",
          "text": [
            "                              precision    recall  f1-score   support\n",
            "\n",
            "Carcinoscorpius_rotundicauda       0.90      0.29      0.44        31\n",
            "            Tachypleus_gigas       0.61      0.97      0.75        35\n",
            "\n",
            "                    accuracy                           0.65        66\n",
            "                   macro avg       0.75      0.63      0.59        66\n",
            "                weighted avg       0.74      0.65      0.60        66\n",
            "\n"
          ]
        }
      ],
      "source": [
        "interp.print_classification_report()"
      ]
    },
    {
      "cell_type": "code",
      "execution_count": null,
      "metadata": {
        "colab": {
          "base_uri": "https://localhost:8080/",
          "height": 34
        },
        "id": "4eBgTVh54vZo",
        "outputId": "879ac646-a6c1-4e42-cf33-a2924334ad9f"
      },
      "outputs": [
        {
          "output_type": "display_data",
          "data": {
            "text/plain": [
              "<IPython.core.display.HTML object>"
            ],
            "text/html": [
              "\n",
              "<style>\n",
              "    /* Turns off some styling */\n",
              "    progress {\n",
              "        /* gets rid of default border in Firefox and Opera. */\n",
              "        border: none;\n",
              "        /* Needs to be in here for Safari polyfill so background images work as expected. */\n",
              "        background-size: auto;\n",
              "    }\n",
              "    .progress-bar-interrupted, .progress-bar-interrupted::-webkit-progress-bar {\n",
              "        background: #F44336;\n",
              "    }\n",
              "</style>\n"
            ]
          },
          "metadata": {}
        },
        {
          "output_type": "display_data",
          "data": {
            "text/plain": [
              "<IPython.core.display.HTML object>"
            ],
            "text/html": [
              ""
            ]
          },
          "metadata": {}
        },
        {
          "output_type": "execute_result",
          "data": {
            "text/plain": [
              "[('Carcinoscorpius_rotundicauda', 'Tachypleus_gigas', 7)]"
            ]
          },
          "metadata": {},
          "execution_count": 24
        }
      ],
      "source": [
        "interp.most_confused(min_val=5)"
      ]
    },
    {
      "cell_type": "code",
      "execution_count": null,
      "metadata": {
        "id": "mWT4drEu4vZo"
      },
      "outputs": [],
      "source": [
        "learn_inf.show_results(shuffle=True)"
      ]
    }
  ],
  "metadata": {
    "accelerator": "GPU",
    "colab": {
      "machine_shape": "hm",
      "name": "front_Carcinoscorpius_rotundicauda VS  Tachypleus_gigas.ipynb",
      "provenance": [],
      "collapsed_sections": []
    },
    "kernelspec": {
      "display_name": "Python 3",
      "language": "python",
      "name": "python3"
    },
    "language_info": {
      "codemirror_mode": {
        "name": "ipython",
        "version": 3
      },
      "file_extension": ".py",
      "mimetype": "text/x-python",
      "name": "python",
      "nbconvert_exporter": "python",
      "pygments_lexer": "ipython3",
      "version": "3.8.10"
    },
    "widgets": {
      "application/vnd.jupyter.widget-state+json": {
        "d77350a563144aa39381f9f1dfdb4af7": {
          "model_module": "@jupyter-widgets/controls",
          "model_name": "HBoxModel",
          "model_module_version": "1.5.0",
          "state": {
            "_dom_classes": [],
            "_model_module": "@jupyter-widgets/controls",
            "_model_module_version": "1.5.0",
            "_model_name": "HBoxModel",
            "_view_count": null,
            "_view_module": "@jupyter-widgets/controls",
            "_view_module_version": "1.5.0",
            "_view_name": "HBoxView",
            "box_style": "",
            "children": [
              "IPY_MODEL_b11c474e3c794ecbb74bda1c997d5baf",
              "IPY_MODEL_3ef57772a75c4613a14356107657f208",
              "IPY_MODEL_494b40d6a6f14f90923483bf2c62fa60"
            ],
            "layout": "IPY_MODEL_49e6c06109054bc4af3de99af332911d"
          }
        },
        "b11c474e3c794ecbb74bda1c997d5baf": {
          "model_module": "@jupyter-widgets/controls",
          "model_name": "HTMLModel",
          "model_module_version": "1.5.0",
          "state": {
            "_dom_classes": [],
            "_model_module": "@jupyter-widgets/controls",
            "_model_module_version": "1.5.0",
            "_model_name": "HTMLModel",
            "_view_count": null,
            "_view_module": "@jupyter-widgets/controls",
            "_view_module_version": "1.5.0",
            "_view_name": "HTMLView",
            "description": "",
            "description_tooltip": null,
            "layout": "IPY_MODEL_e996662140424432845f0e08da1270ab",
            "placeholder": "​",
            "style": "IPY_MODEL_65949b991e884534849de652a864f80f",
            "value": "100%"
          }
        },
        "3ef57772a75c4613a14356107657f208": {
          "model_module": "@jupyter-widgets/controls",
          "model_name": "FloatProgressModel",
          "model_module_version": "1.5.0",
          "state": {
            "_dom_classes": [],
            "_model_module": "@jupyter-widgets/controls",
            "_model_module_version": "1.5.0",
            "_model_name": "FloatProgressModel",
            "_view_count": null,
            "_view_module": "@jupyter-widgets/controls",
            "_view_module_version": "1.5.0",
            "_view_name": "ProgressView",
            "bar_style": "success",
            "description": "",
            "description_tooltip": null,
            "layout": "IPY_MODEL_93a06bc03c954994ae5e14fb40248438",
            "max": 574769405,
            "min": 0,
            "orientation": "horizontal",
            "style": "IPY_MODEL_4b46246e690e479b884ad77bd8f256e1",
            "value": 574769405
          }
        },
        "494b40d6a6f14f90923483bf2c62fa60": {
          "model_module": "@jupyter-widgets/controls",
          "model_name": "HTMLModel",
          "model_module_version": "1.5.0",
          "state": {
            "_dom_classes": [],
            "_model_module": "@jupyter-widgets/controls",
            "_model_module_version": "1.5.0",
            "_model_name": "HTMLModel",
            "_view_count": null,
            "_view_module": "@jupyter-widgets/controls",
            "_view_module_version": "1.5.0",
            "_view_name": "HTMLView",
            "description": "",
            "description_tooltip": null,
            "layout": "IPY_MODEL_2f8011e29522450d9f582ebbab717d85",
            "placeholder": "​",
            "style": "IPY_MODEL_7a89f8ab3097431897d9db1d6ce50792",
            "value": " 548M/548M [00:02&lt;00:00, 292MB/s]"
          }
        },
        "49e6c06109054bc4af3de99af332911d": {
          "model_module": "@jupyter-widgets/base",
          "model_name": "LayoutModel",
          "model_module_version": "1.2.0",
          "state": {
            "_model_module": "@jupyter-widgets/base",
            "_model_module_version": "1.2.0",
            "_model_name": "LayoutModel",
            "_view_count": null,
            "_view_module": "@jupyter-widgets/base",
            "_view_module_version": "1.2.0",
            "_view_name": "LayoutView",
            "align_content": null,
            "align_items": null,
            "align_self": null,
            "border": null,
            "bottom": null,
            "display": null,
            "flex": null,
            "flex_flow": null,
            "grid_area": null,
            "grid_auto_columns": null,
            "grid_auto_flow": null,
            "grid_auto_rows": null,
            "grid_column": null,
            "grid_gap": null,
            "grid_row": null,
            "grid_template_areas": null,
            "grid_template_columns": null,
            "grid_template_rows": null,
            "height": null,
            "justify_content": null,
            "justify_items": null,
            "left": null,
            "margin": null,
            "max_height": null,
            "max_width": null,
            "min_height": null,
            "min_width": null,
            "object_fit": null,
            "object_position": null,
            "order": null,
            "overflow": null,
            "overflow_x": null,
            "overflow_y": null,
            "padding": null,
            "right": null,
            "top": null,
            "visibility": null,
            "width": null
          }
        },
        "e996662140424432845f0e08da1270ab": {
          "model_module": "@jupyter-widgets/base",
          "model_name": "LayoutModel",
          "model_module_version": "1.2.0",
          "state": {
            "_model_module": "@jupyter-widgets/base",
            "_model_module_version": "1.2.0",
            "_model_name": "LayoutModel",
            "_view_count": null,
            "_view_module": "@jupyter-widgets/base",
            "_view_module_version": "1.2.0",
            "_view_name": "LayoutView",
            "align_content": null,
            "align_items": null,
            "align_self": null,
            "border": null,
            "bottom": null,
            "display": null,
            "flex": null,
            "flex_flow": null,
            "grid_area": null,
            "grid_auto_columns": null,
            "grid_auto_flow": null,
            "grid_auto_rows": null,
            "grid_column": null,
            "grid_gap": null,
            "grid_row": null,
            "grid_template_areas": null,
            "grid_template_columns": null,
            "grid_template_rows": null,
            "height": null,
            "justify_content": null,
            "justify_items": null,
            "left": null,
            "margin": null,
            "max_height": null,
            "max_width": null,
            "min_height": null,
            "min_width": null,
            "object_fit": null,
            "object_position": null,
            "order": null,
            "overflow": null,
            "overflow_x": null,
            "overflow_y": null,
            "padding": null,
            "right": null,
            "top": null,
            "visibility": null,
            "width": null
          }
        },
        "65949b991e884534849de652a864f80f": {
          "model_module": "@jupyter-widgets/controls",
          "model_name": "DescriptionStyleModel",
          "model_module_version": "1.5.0",
          "state": {
            "_model_module": "@jupyter-widgets/controls",
            "_model_module_version": "1.5.0",
            "_model_name": "DescriptionStyleModel",
            "_view_count": null,
            "_view_module": "@jupyter-widgets/base",
            "_view_module_version": "1.2.0",
            "_view_name": "StyleView",
            "description_width": ""
          }
        },
        "93a06bc03c954994ae5e14fb40248438": {
          "model_module": "@jupyter-widgets/base",
          "model_name": "LayoutModel",
          "model_module_version": "1.2.0",
          "state": {
            "_model_module": "@jupyter-widgets/base",
            "_model_module_version": "1.2.0",
            "_model_name": "LayoutModel",
            "_view_count": null,
            "_view_module": "@jupyter-widgets/base",
            "_view_module_version": "1.2.0",
            "_view_name": "LayoutView",
            "align_content": null,
            "align_items": null,
            "align_self": null,
            "border": null,
            "bottom": null,
            "display": null,
            "flex": null,
            "flex_flow": null,
            "grid_area": null,
            "grid_auto_columns": null,
            "grid_auto_flow": null,
            "grid_auto_rows": null,
            "grid_column": null,
            "grid_gap": null,
            "grid_row": null,
            "grid_template_areas": null,
            "grid_template_columns": null,
            "grid_template_rows": null,
            "height": null,
            "justify_content": null,
            "justify_items": null,
            "left": null,
            "margin": null,
            "max_height": null,
            "max_width": null,
            "min_height": null,
            "min_width": null,
            "object_fit": null,
            "object_position": null,
            "order": null,
            "overflow": null,
            "overflow_x": null,
            "overflow_y": null,
            "padding": null,
            "right": null,
            "top": null,
            "visibility": null,
            "width": null
          }
        },
        "4b46246e690e479b884ad77bd8f256e1": {
          "model_module": "@jupyter-widgets/controls",
          "model_name": "ProgressStyleModel",
          "model_module_version": "1.5.0",
          "state": {
            "_model_module": "@jupyter-widgets/controls",
            "_model_module_version": "1.5.0",
            "_model_name": "ProgressStyleModel",
            "_view_count": null,
            "_view_module": "@jupyter-widgets/base",
            "_view_module_version": "1.2.0",
            "_view_name": "StyleView",
            "bar_color": null,
            "description_width": ""
          }
        },
        "2f8011e29522450d9f582ebbab717d85": {
          "model_module": "@jupyter-widgets/base",
          "model_name": "LayoutModel",
          "model_module_version": "1.2.0",
          "state": {
            "_model_module": "@jupyter-widgets/base",
            "_model_module_version": "1.2.0",
            "_model_name": "LayoutModel",
            "_view_count": null,
            "_view_module": "@jupyter-widgets/base",
            "_view_module_version": "1.2.0",
            "_view_name": "LayoutView",
            "align_content": null,
            "align_items": null,
            "align_self": null,
            "border": null,
            "bottom": null,
            "display": null,
            "flex": null,
            "flex_flow": null,
            "grid_area": null,
            "grid_auto_columns": null,
            "grid_auto_flow": null,
            "grid_auto_rows": null,
            "grid_column": null,
            "grid_gap": null,
            "grid_row": null,
            "grid_template_areas": null,
            "grid_template_columns": null,
            "grid_template_rows": null,
            "height": null,
            "justify_content": null,
            "justify_items": null,
            "left": null,
            "margin": null,
            "max_height": null,
            "max_width": null,
            "min_height": null,
            "min_width": null,
            "object_fit": null,
            "object_position": null,
            "order": null,
            "overflow": null,
            "overflow_x": null,
            "overflow_y": null,
            "padding": null,
            "right": null,
            "top": null,
            "visibility": null,
            "width": null
          }
        },
        "7a89f8ab3097431897d9db1d6ce50792": {
          "model_module": "@jupyter-widgets/controls",
          "model_name": "DescriptionStyleModel",
          "model_module_version": "1.5.0",
          "state": {
            "_model_module": "@jupyter-widgets/controls",
            "_model_module_version": "1.5.0",
            "_model_name": "DescriptionStyleModel",
            "_view_count": null,
            "_view_module": "@jupyter-widgets/base",
            "_view_module_version": "1.2.0",
            "_view_name": "StyleView",
            "description_width": ""
          }
        },
        "85b836ce7eaa430f808391451fa31e25": {
          "model_module": "@jupyter-widgets/controls",
          "model_name": "HBoxModel",
          "model_module_version": "1.5.0",
          "state": {
            "_dom_classes": [],
            "_model_module": "@jupyter-widgets/controls",
            "_model_module_version": "1.5.0",
            "_model_name": "HBoxModel",
            "_view_count": null,
            "_view_module": "@jupyter-widgets/controls",
            "_view_module_version": "1.5.0",
            "_view_name": "HBoxView",
            "box_style": "",
            "children": [
              "IPY_MODEL_b9e49adacc52406aa7b3c5b08954cf18",
              "IPY_MODEL_f67e5b56ca574ce9800fbe681c7a8acb",
              "IPY_MODEL_1d78200dad5f4a0b9ba1bbae98732660"
            ],
            "layout": "IPY_MODEL_93447c2788cf4c5d904aa9776f3911ae"
          }
        },
        "b9e49adacc52406aa7b3c5b08954cf18": {
          "model_module": "@jupyter-widgets/controls",
          "model_name": "HTMLModel",
          "model_module_version": "1.5.0",
          "state": {
            "_dom_classes": [],
            "_model_module": "@jupyter-widgets/controls",
            "_model_module_version": "1.5.0",
            "_model_name": "HTMLModel",
            "_view_count": null,
            "_view_module": "@jupyter-widgets/controls",
            "_view_module_version": "1.5.0",
            "_view_name": "HTMLView",
            "description": "",
            "description_tooltip": null,
            "layout": "IPY_MODEL_d0d52e997c7f43858d01dbb843bd7cab",
            "placeholder": "​",
            "style": "IPY_MODEL_57096ecdb37543b58b18d223327f82ef",
            "value": "100%"
          }
        },
        "f67e5b56ca574ce9800fbe681c7a8acb": {
          "model_module": "@jupyter-widgets/controls",
          "model_name": "FloatProgressModel",
          "model_module_version": "1.5.0",
          "state": {
            "_dom_classes": [],
            "_model_module": "@jupyter-widgets/controls",
            "_model_module_version": "1.5.0",
            "_model_name": "FloatProgressModel",
            "_view_count": null,
            "_view_module": "@jupyter-widgets/controls",
            "_view_module_version": "1.5.0",
            "_view_name": "ProgressView",
            "bar_style": "success",
            "description": "",
            "description_tooltip": null,
            "layout": "IPY_MODEL_a603e3e045bf4d2d831c00327e0e0ae6",
            "max": 553507836,
            "min": 0,
            "orientation": "horizontal",
            "style": "IPY_MODEL_c48cdda08ea446b6a07b0b906ddc2bbf",
            "value": 553507836
          }
        },
        "1d78200dad5f4a0b9ba1bbae98732660": {
          "model_module": "@jupyter-widgets/controls",
          "model_name": "HTMLModel",
          "model_module_version": "1.5.0",
          "state": {
            "_dom_classes": [],
            "_model_module": "@jupyter-widgets/controls",
            "_model_module_version": "1.5.0",
            "_model_name": "HTMLModel",
            "_view_count": null,
            "_view_module": "@jupyter-widgets/controls",
            "_view_module_version": "1.5.0",
            "_view_name": "HTMLView",
            "description": "",
            "description_tooltip": null,
            "layout": "IPY_MODEL_46198e638abc463ebd3de92906cc2149",
            "placeholder": "​",
            "style": "IPY_MODEL_600df3fcc4984f8e9bed1dd739600d6a",
            "value": " 528M/528M [00:05&lt;00:00, 99.3MB/s]"
          }
        },
        "93447c2788cf4c5d904aa9776f3911ae": {
          "model_module": "@jupyter-widgets/base",
          "model_name": "LayoutModel",
          "model_module_version": "1.2.0",
          "state": {
            "_model_module": "@jupyter-widgets/base",
            "_model_module_version": "1.2.0",
            "_model_name": "LayoutModel",
            "_view_count": null,
            "_view_module": "@jupyter-widgets/base",
            "_view_module_version": "1.2.0",
            "_view_name": "LayoutView",
            "align_content": null,
            "align_items": null,
            "align_self": null,
            "border": null,
            "bottom": null,
            "display": null,
            "flex": null,
            "flex_flow": null,
            "grid_area": null,
            "grid_auto_columns": null,
            "grid_auto_flow": null,
            "grid_auto_rows": null,
            "grid_column": null,
            "grid_gap": null,
            "grid_row": null,
            "grid_template_areas": null,
            "grid_template_columns": null,
            "grid_template_rows": null,
            "height": null,
            "justify_content": null,
            "justify_items": null,
            "left": null,
            "margin": null,
            "max_height": null,
            "max_width": null,
            "min_height": null,
            "min_width": null,
            "object_fit": null,
            "object_position": null,
            "order": null,
            "overflow": null,
            "overflow_x": null,
            "overflow_y": null,
            "padding": null,
            "right": null,
            "top": null,
            "visibility": null,
            "width": null
          }
        },
        "d0d52e997c7f43858d01dbb843bd7cab": {
          "model_module": "@jupyter-widgets/base",
          "model_name": "LayoutModel",
          "model_module_version": "1.2.0",
          "state": {
            "_model_module": "@jupyter-widgets/base",
            "_model_module_version": "1.2.0",
            "_model_name": "LayoutModel",
            "_view_count": null,
            "_view_module": "@jupyter-widgets/base",
            "_view_module_version": "1.2.0",
            "_view_name": "LayoutView",
            "align_content": null,
            "align_items": null,
            "align_self": null,
            "border": null,
            "bottom": null,
            "display": null,
            "flex": null,
            "flex_flow": null,
            "grid_area": null,
            "grid_auto_columns": null,
            "grid_auto_flow": null,
            "grid_auto_rows": null,
            "grid_column": null,
            "grid_gap": null,
            "grid_row": null,
            "grid_template_areas": null,
            "grid_template_columns": null,
            "grid_template_rows": null,
            "height": null,
            "justify_content": null,
            "justify_items": null,
            "left": null,
            "margin": null,
            "max_height": null,
            "max_width": null,
            "min_height": null,
            "min_width": null,
            "object_fit": null,
            "object_position": null,
            "order": null,
            "overflow": null,
            "overflow_x": null,
            "overflow_y": null,
            "padding": null,
            "right": null,
            "top": null,
            "visibility": null,
            "width": null
          }
        },
        "57096ecdb37543b58b18d223327f82ef": {
          "model_module": "@jupyter-widgets/controls",
          "model_name": "DescriptionStyleModel",
          "model_module_version": "1.5.0",
          "state": {
            "_model_module": "@jupyter-widgets/controls",
            "_model_module_version": "1.5.0",
            "_model_name": "DescriptionStyleModel",
            "_view_count": null,
            "_view_module": "@jupyter-widgets/base",
            "_view_module_version": "1.2.0",
            "_view_name": "StyleView",
            "description_width": ""
          }
        },
        "a603e3e045bf4d2d831c00327e0e0ae6": {
          "model_module": "@jupyter-widgets/base",
          "model_name": "LayoutModel",
          "model_module_version": "1.2.0",
          "state": {
            "_model_module": "@jupyter-widgets/base",
            "_model_module_version": "1.2.0",
            "_model_name": "LayoutModel",
            "_view_count": null,
            "_view_module": "@jupyter-widgets/base",
            "_view_module_version": "1.2.0",
            "_view_name": "LayoutView",
            "align_content": null,
            "align_items": null,
            "align_self": null,
            "border": null,
            "bottom": null,
            "display": null,
            "flex": null,
            "flex_flow": null,
            "grid_area": null,
            "grid_auto_columns": null,
            "grid_auto_flow": null,
            "grid_auto_rows": null,
            "grid_column": null,
            "grid_gap": null,
            "grid_row": null,
            "grid_template_areas": null,
            "grid_template_columns": null,
            "grid_template_rows": null,
            "height": null,
            "justify_content": null,
            "justify_items": null,
            "left": null,
            "margin": null,
            "max_height": null,
            "max_width": null,
            "min_height": null,
            "min_width": null,
            "object_fit": null,
            "object_position": null,
            "order": null,
            "overflow": null,
            "overflow_x": null,
            "overflow_y": null,
            "padding": null,
            "right": null,
            "top": null,
            "visibility": null,
            "width": null
          }
        },
        "c48cdda08ea446b6a07b0b906ddc2bbf": {
          "model_module": "@jupyter-widgets/controls",
          "model_name": "ProgressStyleModel",
          "model_module_version": "1.5.0",
          "state": {
            "_model_module": "@jupyter-widgets/controls",
            "_model_module_version": "1.5.0",
            "_model_name": "ProgressStyleModel",
            "_view_count": null,
            "_view_module": "@jupyter-widgets/base",
            "_view_module_version": "1.2.0",
            "_view_name": "StyleView",
            "bar_color": null,
            "description_width": ""
          }
        },
        "46198e638abc463ebd3de92906cc2149": {
          "model_module": "@jupyter-widgets/base",
          "model_name": "LayoutModel",
          "model_module_version": "1.2.0",
          "state": {
            "_model_module": "@jupyter-widgets/base",
            "_model_module_version": "1.2.0",
            "_model_name": "LayoutModel",
            "_view_count": null,
            "_view_module": "@jupyter-widgets/base",
            "_view_module_version": "1.2.0",
            "_view_name": "LayoutView",
            "align_content": null,
            "align_items": null,
            "align_self": null,
            "border": null,
            "bottom": null,
            "display": null,
            "flex": null,
            "flex_flow": null,
            "grid_area": null,
            "grid_auto_columns": null,
            "grid_auto_flow": null,
            "grid_auto_rows": null,
            "grid_column": null,
            "grid_gap": null,
            "grid_row": null,
            "grid_template_areas": null,
            "grid_template_columns": null,
            "grid_template_rows": null,
            "height": null,
            "justify_content": null,
            "justify_items": null,
            "left": null,
            "margin": null,
            "max_height": null,
            "max_width": null,
            "min_height": null,
            "min_width": null,
            "object_fit": null,
            "object_position": null,
            "order": null,
            "overflow": null,
            "overflow_x": null,
            "overflow_y": null,
            "padding": null,
            "right": null,
            "top": null,
            "visibility": null,
            "width": null
          }
        },
        "600df3fcc4984f8e9bed1dd739600d6a": {
          "model_module": "@jupyter-widgets/controls",
          "model_name": "DescriptionStyleModel",
          "model_module_version": "1.5.0",
          "state": {
            "_model_module": "@jupyter-widgets/controls",
            "_model_module_version": "1.5.0",
            "_model_name": "DescriptionStyleModel",
            "_view_count": null,
            "_view_module": "@jupyter-widgets/base",
            "_view_module_version": "1.2.0",
            "_view_name": "StyleView",
            "description_width": ""
          }
        },
        "743d6f8115c6439e97542bab8099ae12": {
          "model_module": "@jupyter-widgets/controls",
          "model_name": "HBoxModel",
          "model_module_version": "1.5.0",
          "state": {
            "_dom_classes": [],
            "_model_module": "@jupyter-widgets/controls",
            "_model_module_version": "1.5.0",
            "_model_name": "HBoxModel",
            "_view_count": null,
            "_view_module": "@jupyter-widgets/controls",
            "_view_module_version": "1.5.0",
            "_view_name": "HBoxView",
            "box_style": "",
            "children": [
              "IPY_MODEL_e322e5f607ce44879aac048ffced4618",
              "IPY_MODEL_cf54d6d9308441b08b545bc400fe565c",
              "IPY_MODEL_573e6e6bec3949e09bf1ad66c3386bf2"
            ],
            "layout": "IPY_MODEL_7f838142c1074fcaa8807159485cc684"
          }
        },
        "e322e5f607ce44879aac048ffced4618": {
          "model_module": "@jupyter-widgets/controls",
          "model_name": "HTMLModel",
          "model_module_version": "1.5.0",
          "state": {
            "_dom_classes": [],
            "_model_module": "@jupyter-widgets/controls",
            "_model_module_version": "1.5.0",
            "_model_name": "HTMLModel",
            "_view_count": null,
            "_view_module": "@jupyter-widgets/controls",
            "_view_module_version": "1.5.0",
            "_view_name": "HTMLView",
            "description": "",
            "description_tooltip": null,
            "layout": "IPY_MODEL_b82de726f8c04223959e998e7554296d",
            "placeholder": "​",
            "style": "IPY_MODEL_1f6006f057e342f29ee6ea0934d1a3f7",
            "value": "100%"
          }
        },
        "cf54d6d9308441b08b545bc400fe565c": {
          "model_module": "@jupyter-widgets/controls",
          "model_name": "FloatProgressModel",
          "model_module_version": "1.5.0",
          "state": {
            "_dom_classes": [],
            "_model_module": "@jupyter-widgets/controls",
            "_model_module_version": "1.5.0",
            "_model_name": "FloatProgressModel",
            "_view_count": null,
            "_view_module": "@jupyter-widgets/controls",
            "_view_module_version": "1.5.0",
            "_view_name": "ProgressView",
            "bar_style": "success",
            "description": "",
            "description_tooltip": null,
            "layout": "IPY_MODEL_34287a444fd74d7b97a3c525a49c0253",
            "max": 100441675,
            "min": 0,
            "orientation": "horizontal",
            "style": "IPY_MODEL_427e964fb5d4477bb3bc0fd9fb644685",
            "value": 100441675
          }
        },
        "573e6e6bec3949e09bf1ad66c3386bf2": {
          "model_module": "@jupyter-widgets/controls",
          "model_name": "HTMLModel",
          "model_module_version": "1.5.0",
          "state": {
            "_dom_classes": [],
            "_model_module": "@jupyter-widgets/controls",
            "_model_module_version": "1.5.0",
            "_model_name": "HTMLModel",
            "_view_count": null,
            "_view_module": "@jupyter-widgets/controls",
            "_view_module_version": "1.5.0",
            "_view_name": "HTMLView",
            "description": "",
            "description_tooltip": null,
            "layout": "IPY_MODEL_351dc8c7d8d54bc3b7b3ee1aee2dfe6d",
            "placeholder": "​",
            "style": "IPY_MODEL_f0b093af59f6425785557254256631be",
            "value": " 95.8M/95.8M [00:04&lt;00:00, 19.6MB/s]"
          }
        },
        "7f838142c1074fcaa8807159485cc684": {
          "model_module": "@jupyter-widgets/base",
          "model_name": "LayoutModel",
          "model_module_version": "1.2.0",
          "state": {
            "_model_module": "@jupyter-widgets/base",
            "_model_module_version": "1.2.0",
            "_model_name": "LayoutModel",
            "_view_count": null,
            "_view_module": "@jupyter-widgets/base",
            "_view_module_version": "1.2.0",
            "_view_name": "LayoutView",
            "align_content": null,
            "align_items": null,
            "align_self": null,
            "border": null,
            "bottom": null,
            "display": null,
            "flex": null,
            "flex_flow": null,
            "grid_area": null,
            "grid_auto_columns": null,
            "grid_auto_flow": null,
            "grid_auto_rows": null,
            "grid_column": null,
            "grid_gap": null,
            "grid_row": null,
            "grid_template_areas": null,
            "grid_template_columns": null,
            "grid_template_rows": null,
            "height": null,
            "justify_content": null,
            "justify_items": null,
            "left": null,
            "margin": null,
            "max_height": null,
            "max_width": null,
            "min_height": null,
            "min_width": null,
            "object_fit": null,
            "object_position": null,
            "order": null,
            "overflow": null,
            "overflow_x": null,
            "overflow_y": null,
            "padding": null,
            "right": null,
            "top": null,
            "visibility": null,
            "width": null
          }
        },
        "b82de726f8c04223959e998e7554296d": {
          "model_module": "@jupyter-widgets/base",
          "model_name": "LayoutModel",
          "model_module_version": "1.2.0",
          "state": {
            "_model_module": "@jupyter-widgets/base",
            "_model_module_version": "1.2.0",
            "_model_name": "LayoutModel",
            "_view_count": null,
            "_view_module": "@jupyter-widgets/base",
            "_view_module_version": "1.2.0",
            "_view_name": "LayoutView",
            "align_content": null,
            "align_items": null,
            "align_self": null,
            "border": null,
            "bottom": null,
            "display": null,
            "flex": null,
            "flex_flow": null,
            "grid_area": null,
            "grid_auto_columns": null,
            "grid_auto_flow": null,
            "grid_auto_rows": null,
            "grid_column": null,
            "grid_gap": null,
            "grid_row": null,
            "grid_template_areas": null,
            "grid_template_columns": null,
            "grid_template_rows": null,
            "height": null,
            "justify_content": null,
            "justify_items": null,
            "left": null,
            "margin": null,
            "max_height": null,
            "max_width": null,
            "min_height": null,
            "min_width": null,
            "object_fit": null,
            "object_position": null,
            "order": null,
            "overflow": null,
            "overflow_x": null,
            "overflow_y": null,
            "padding": null,
            "right": null,
            "top": null,
            "visibility": null,
            "width": null
          }
        },
        "1f6006f057e342f29ee6ea0934d1a3f7": {
          "model_module": "@jupyter-widgets/controls",
          "model_name": "DescriptionStyleModel",
          "model_module_version": "1.5.0",
          "state": {
            "_model_module": "@jupyter-widgets/controls",
            "_model_module_version": "1.5.0",
            "_model_name": "DescriptionStyleModel",
            "_view_count": null,
            "_view_module": "@jupyter-widgets/base",
            "_view_module_version": "1.2.0",
            "_view_name": "StyleView",
            "description_width": ""
          }
        },
        "34287a444fd74d7b97a3c525a49c0253": {
          "model_module": "@jupyter-widgets/base",
          "model_name": "LayoutModel",
          "model_module_version": "1.2.0",
          "state": {
            "_model_module": "@jupyter-widgets/base",
            "_model_module_version": "1.2.0",
            "_model_name": "LayoutModel",
            "_view_count": null,
            "_view_module": "@jupyter-widgets/base",
            "_view_module_version": "1.2.0",
            "_view_name": "LayoutView",
            "align_content": null,
            "align_items": null,
            "align_self": null,
            "border": null,
            "bottom": null,
            "display": null,
            "flex": null,
            "flex_flow": null,
            "grid_area": null,
            "grid_auto_columns": null,
            "grid_auto_flow": null,
            "grid_auto_rows": null,
            "grid_column": null,
            "grid_gap": null,
            "grid_row": null,
            "grid_template_areas": null,
            "grid_template_columns": null,
            "grid_template_rows": null,
            "height": null,
            "justify_content": null,
            "justify_items": null,
            "left": null,
            "margin": null,
            "max_height": null,
            "max_width": null,
            "min_height": null,
            "min_width": null,
            "object_fit": null,
            "object_position": null,
            "order": null,
            "overflow": null,
            "overflow_x": null,
            "overflow_y": null,
            "padding": null,
            "right": null,
            "top": null,
            "visibility": null,
            "width": null
          }
        },
        "427e964fb5d4477bb3bc0fd9fb644685": {
          "model_module": "@jupyter-widgets/controls",
          "model_name": "ProgressStyleModel",
          "model_module_version": "1.5.0",
          "state": {
            "_model_module": "@jupyter-widgets/controls",
            "_model_module_version": "1.5.0",
            "_model_name": "ProgressStyleModel",
            "_view_count": null,
            "_view_module": "@jupyter-widgets/base",
            "_view_module_version": "1.2.0",
            "_view_name": "StyleView",
            "bar_color": null,
            "description_width": ""
          }
        },
        "351dc8c7d8d54bc3b7b3ee1aee2dfe6d": {
          "model_module": "@jupyter-widgets/base",
          "model_name": "LayoutModel",
          "model_module_version": "1.2.0",
          "state": {
            "_model_module": "@jupyter-widgets/base",
            "_model_module_version": "1.2.0",
            "_model_name": "LayoutModel",
            "_view_count": null,
            "_view_module": "@jupyter-widgets/base",
            "_view_module_version": "1.2.0",
            "_view_name": "LayoutView",
            "align_content": null,
            "align_items": null,
            "align_self": null,
            "border": null,
            "bottom": null,
            "display": null,
            "flex": null,
            "flex_flow": null,
            "grid_area": null,
            "grid_auto_columns": null,
            "grid_auto_flow": null,
            "grid_auto_rows": null,
            "grid_column": null,
            "grid_gap": null,
            "grid_row": null,
            "grid_template_areas": null,
            "grid_template_columns": null,
            "grid_template_rows": null,
            "height": null,
            "justify_content": null,
            "justify_items": null,
            "left": null,
            "margin": null,
            "max_height": null,
            "max_width": null,
            "min_height": null,
            "min_width": null,
            "object_fit": null,
            "object_position": null,
            "order": null,
            "overflow": null,
            "overflow_x": null,
            "overflow_y": null,
            "padding": null,
            "right": null,
            "top": null,
            "visibility": null,
            "width": null
          }
        },
        "f0b093af59f6425785557254256631be": {
          "model_module": "@jupyter-widgets/controls",
          "model_name": "DescriptionStyleModel",
          "model_module_version": "1.5.0",
          "state": {
            "_model_module": "@jupyter-widgets/controls",
            "_model_module_version": "1.5.0",
            "_model_name": "DescriptionStyleModel",
            "_view_count": null,
            "_view_module": "@jupyter-widgets/base",
            "_view_module_version": "1.2.0",
            "_view_name": "StyleView",
            "description_width": ""
          }
        },
        "6e71d24a34094e629d35f2e787091f2c": {
          "model_module": "@jupyter-widgets/controls",
          "model_name": "HBoxModel",
          "model_module_version": "1.5.0",
          "state": {
            "_dom_classes": [],
            "_model_module": "@jupyter-widgets/controls",
            "_model_module_version": "1.5.0",
            "_model_name": "HBoxModel",
            "_view_count": null,
            "_view_module": "@jupyter-widgets/controls",
            "_view_module_version": "1.5.0",
            "_view_name": "HBoxView",
            "box_style": "",
            "children": [
              "IPY_MODEL_a85a170a4a214f6b80937ea0183d0716",
              "IPY_MODEL_e9f0edab61a24fef9a116a0ebcbfa577",
              "IPY_MODEL_6ebd12bfcece4b30915f2167747ca7a0"
            ],
            "layout": "IPY_MODEL_0e779c9f92d64847af22c19868c9f3e6"
          }
        },
        "a85a170a4a214f6b80937ea0183d0716": {
          "model_module": "@jupyter-widgets/controls",
          "model_name": "HTMLModel",
          "model_module_version": "1.5.0",
          "state": {
            "_dom_classes": [],
            "_model_module": "@jupyter-widgets/controls",
            "_model_module_version": "1.5.0",
            "_model_name": "HTMLModel",
            "_view_count": null,
            "_view_module": "@jupyter-widgets/controls",
            "_view_module_version": "1.5.0",
            "_view_name": "HTMLView",
            "description": "",
            "description_tooltip": null,
            "layout": "IPY_MODEL_dd37e07f7a3f465ca94651f7144064c7",
            "placeholder": "​",
            "style": "IPY_MODEL_d499623ac1b345459197ee5b4f4dcc15",
            "value": "100%"
          }
        },
        "e9f0edab61a24fef9a116a0ebcbfa577": {
          "model_module": "@jupyter-widgets/controls",
          "model_name": "FloatProgressModel",
          "model_module_version": "1.5.0",
          "state": {
            "_dom_classes": [],
            "_model_module": "@jupyter-widgets/controls",
            "_model_module_version": "1.5.0",
            "_model_name": "FloatProgressModel",
            "_view_count": null,
            "_view_module": "@jupyter-widgets/controls",
            "_view_module_version": "1.5.0",
            "_view_name": "ProgressView",
            "bar_style": "success",
            "description": "",
            "description_tooltip": null,
            "layout": "IPY_MODEL_d7f88122d5244b1c9404485a65a931e3",
            "max": 81131730,
            "min": 0,
            "orientation": "horizontal",
            "style": "IPY_MODEL_ca91d9a5df034068a27c2dffca657e57",
            "value": 81131730
          }
        },
        "6ebd12bfcece4b30915f2167747ca7a0": {
          "model_module": "@jupyter-widgets/controls",
          "model_name": "HTMLModel",
          "model_module_version": "1.5.0",
          "state": {
            "_dom_classes": [],
            "_model_module": "@jupyter-widgets/controls",
            "_model_module_version": "1.5.0",
            "_model_name": "HTMLModel",
            "_view_count": null,
            "_view_module": "@jupyter-widgets/controls",
            "_view_module_version": "1.5.0",
            "_view_name": "HTMLView",
            "description": "",
            "description_tooltip": null,
            "layout": "IPY_MODEL_a7f8e48060cc40c89b6c1aded55109a0",
            "placeholder": "​",
            "style": "IPY_MODEL_dd2de8e59c8941a4a2b313b69b5b6439",
            "value": " 77.4M/77.4M [00:01&lt;00:00, 69.0MB/s]"
          }
        },
        "0e779c9f92d64847af22c19868c9f3e6": {
          "model_module": "@jupyter-widgets/base",
          "model_name": "LayoutModel",
          "model_module_version": "1.2.0",
          "state": {
            "_model_module": "@jupyter-widgets/base",
            "_model_module_version": "1.2.0",
            "_model_name": "LayoutModel",
            "_view_count": null,
            "_view_module": "@jupyter-widgets/base",
            "_view_module_version": "1.2.0",
            "_view_name": "LayoutView",
            "align_content": null,
            "align_items": null,
            "align_self": null,
            "border": null,
            "bottom": null,
            "display": null,
            "flex": null,
            "flex_flow": null,
            "grid_area": null,
            "grid_auto_columns": null,
            "grid_auto_flow": null,
            "grid_auto_rows": null,
            "grid_column": null,
            "grid_gap": null,
            "grid_row": null,
            "grid_template_areas": null,
            "grid_template_columns": null,
            "grid_template_rows": null,
            "height": null,
            "justify_content": null,
            "justify_items": null,
            "left": null,
            "margin": null,
            "max_height": null,
            "max_width": null,
            "min_height": null,
            "min_width": null,
            "object_fit": null,
            "object_position": null,
            "order": null,
            "overflow": null,
            "overflow_x": null,
            "overflow_y": null,
            "padding": null,
            "right": null,
            "top": null,
            "visibility": null,
            "width": null
          }
        },
        "dd37e07f7a3f465ca94651f7144064c7": {
          "model_module": "@jupyter-widgets/base",
          "model_name": "LayoutModel",
          "model_module_version": "1.2.0",
          "state": {
            "_model_module": "@jupyter-widgets/base",
            "_model_module_version": "1.2.0",
            "_model_name": "LayoutModel",
            "_view_count": null,
            "_view_module": "@jupyter-widgets/base",
            "_view_module_version": "1.2.0",
            "_view_name": "LayoutView",
            "align_content": null,
            "align_items": null,
            "align_self": null,
            "border": null,
            "bottom": null,
            "display": null,
            "flex": null,
            "flex_flow": null,
            "grid_area": null,
            "grid_auto_columns": null,
            "grid_auto_flow": null,
            "grid_auto_rows": null,
            "grid_column": null,
            "grid_gap": null,
            "grid_row": null,
            "grid_template_areas": null,
            "grid_template_columns": null,
            "grid_template_rows": null,
            "height": null,
            "justify_content": null,
            "justify_items": null,
            "left": null,
            "margin": null,
            "max_height": null,
            "max_width": null,
            "min_height": null,
            "min_width": null,
            "object_fit": null,
            "object_position": null,
            "order": null,
            "overflow": null,
            "overflow_x": null,
            "overflow_y": null,
            "padding": null,
            "right": null,
            "top": null,
            "visibility": null,
            "width": null
          }
        },
        "d499623ac1b345459197ee5b4f4dcc15": {
          "model_module": "@jupyter-widgets/controls",
          "model_name": "DescriptionStyleModel",
          "model_module_version": "1.5.0",
          "state": {
            "_model_module": "@jupyter-widgets/controls",
            "_model_module_version": "1.5.0",
            "_model_name": "DescriptionStyleModel",
            "_view_count": null,
            "_view_module": "@jupyter-widgets/base",
            "_view_module_version": "1.2.0",
            "_view_name": "StyleView",
            "description_width": ""
          }
        },
        "d7f88122d5244b1c9404485a65a931e3": {
          "model_module": "@jupyter-widgets/base",
          "model_name": "LayoutModel",
          "model_module_version": "1.2.0",
          "state": {
            "_model_module": "@jupyter-widgets/base",
            "_model_module_version": "1.2.0",
            "_model_name": "LayoutModel",
            "_view_count": null,
            "_view_module": "@jupyter-widgets/base",
            "_view_module_version": "1.2.0",
            "_view_name": "LayoutView",
            "align_content": null,
            "align_items": null,
            "align_self": null,
            "border": null,
            "bottom": null,
            "display": null,
            "flex": null,
            "flex_flow": null,
            "grid_area": null,
            "grid_auto_columns": null,
            "grid_auto_flow": null,
            "grid_auto_rows": null,
            "grid_column": null,
            "grid_gap": null,
            "grid_row": null,
            "grid_template_areas": null,
            "grid_template_columns": null,
            "grid_template_rows": null,
            "height": null,
            "justify_content": null,
            "justify_items": null,
            "left": null,
            "margin": null,
            "max_height": null,
            "max_width": null,
            "min_height": null,
            "min_width": null,
            "object_fit": null,
            "object_position": null,
            "order": null,
            "overflow": null,
            "overflow_x": null,
            "overflow_y": null,
            "padding": null,
            "right": null,
            "top": null,
            "visibility": null,
            "width": null
          }
        },
        "ca91d9a5df034068a27c2dffca657e57": {
          "model_module": "@jupyter-widgets/controls",
          "model_name": "ProgressStyleModel",
          "model_module_version": "1.5.0",
          "state": {
            "_model_module": "@jupyter-widgets/controls",
            "_model_module_version": "1.5.0",
            "_model_name": "ProgressStyleModel",
            "_view_count": null,
            "_view_module": "@jupyter-widgets/base",
            "_view_module_version": "1.2.0",
            "_view_name": "StyleView",
            "bar_color": null,
            "description_width": ""
          }
        },
        "a7f8e48060cc40c89b6c1aded55109a0": {
          "model_module": "@jupyter-widgets/base",
          "model_name": "LayoutModel",
          "model_module_version": "1.2.0",
          "state": {
            "_model_module": "@jupyter-widgets/base",
            "_model_module_version": "1.2.0",
            "_model_name": "LayoutModel",
            "_view_count": null,
            "_view_module": "@jupyter-widgets/base",
            "_view_module_version": "1.2.0",
            "_view_name": "LayoutView",
            "align_content": null,
            "align_items": null,
            "align_self": null,
            "border": null,
            "bottom": null,
            "display": null,
            "flex": null,
            "flex_flow": null,
            "grid_area": null,
            "grid_auto_columns": null,
            "grid_auto_flow": null,
            "grid_auto_rows": null,
            "grid_column": null,
            "grid_gap": null,
            "grid_row": null,
            "grid_template_areas": null,
            "grid_template_columns": null,
            "grid_template_rows": null,
            "height": null,
            "justify_content": null,
            "justify_items": null,
            "left": null,
            "margin": null,
            "max_height": null,
            "max_width": null,
            "min_height": null,
            "min_width": null,
            "object_fit": null,
            "object_position": null,
            "order": null,
            "overflow": null,
            "overflow_x": null,
            "overflow_y": null,
            "padding": null,
            "right": null,
            "top": null,
            "visibility": null,
            "width": null
          }
        },
        "dd2de8e59c8941a4a2b313b69b5b6439": {
          "model_module": "@jupyter-widgets/controls",
          "model_name": "DescriptionStyleModel",
          "model_module_version": "1.5.0",
          "state": {
            "_model_module": "@jupyter-widgets/controls",
            "_model_module_version": "1.5.0",
            "_model_name": "DescriptionStyleModel",
            "_view_count": null,
            "_view_module": "@jupyter-widgets/base",
            "_view_module_version": "1.2.0",
            "_view_name": "StyleView",
            "description_width": ""
          }
        }
      }
    }
  },
  "nbformat": 4,
  "nbformat_minor": 0
}