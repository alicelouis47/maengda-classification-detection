{
  "cells": [
    {
      "cell_type": "markdown",
      "metadata": {
        "id": "Ww_a1XOsBF4Z"
      },
      "source": [
        "# ตั้งค่า และลงlibrary"
      ]
    },
    {
      "cell_type": "markdown",
      "metadata": {
        "id": "S4tJwknp4vZd"
      },
      "source": [
        "## Install library"
      ]
    },
    {
      "cell_type": "code",
      "execution_count": null,
      "metadata": {
        "colab": {
          "base_uri": "https://localhost:8080/"
        },
        "id": "wbWc4hm04vZl",
        "outputId": "58183ee1-796d-4d91-fe94-f5bfeaefe89a"
      },
      "outputs": [
        {
          "output_type": "stream",
          "name": "stdout",
          "text": [
            "\u001b[K     |████████████████████████████████| 719 kB 7.6 MB/s \n",
            "\u001b[K     |████████████████████████████████| 197 kB 71.7 MB/s \n",
            "\u001b[K     |████████████████████████████████| 1.2 MB 54.4 MB/s \n",
            "\u001b[K     |████████████████████████████████| 346 kB 78.1 MB/s \n",
            "\u001b[K     |████████████████████████████████| 4.2 MB 54.4 MB/s \n",
            "\u001b[K     |████████████████████████████████| 59 kB 7.7 MB/s \n",
            "\u001b[K     |████████████████████████████████| 86 kB 7.4 MB/s \n",
            "\u001b[K     |████████████████████████████████| 1.1 MB 58.6 MB/s \n",
            "\u001b[K     |████████████████████████████████| 86 kB 5.7 MB/s \n",
            "\u001b[K     |████████████████████████████████| 140 kB 73.1 MB/s \n",
            "\u001b[K     |████████████████████████████████| 212 kB 55.5 MB/s \n",
            "\u001b[K     |████████████████████████████████| 596 kB 12.1 MB/s \n",
            "\u001b[K     |████████████████████████████████| 127 kB 68.6 MB/s \n",
            "\u001b[K     |████████████████████████████████| 144 kB 70.2 MB/s \n",
            "\u001b[K     |████████████████████████████████| 94 kB 4.5 MB/s \n",
            "\u001b[K     |████████████████████████████████| 271 kB 77.1 MB/s \n",
            "\u001b[K     |████████████████████████████████| 112 kB 75.4 MB/s \n",
            "\u001b[K     |████████████████████████████████| 6.6 MB 49.1 MB/s \n",
            "\u001b[31mERROR: pip's dependency resolver does not currently take into account all the packages that are installed. This behaviour is the source of the following dependency conflicts.\n",
            "datascience 0.10.6 requires folium==0.2.1, but you have folium 0.8.3 which is incompatible.\u001b[0m\n",
            "\u001b[?25hMounted at /content/gdrive\n"
          ]
        }
      ],
      "source": [
        "# สำหรับคนที่ยังไม่ได้ลงไลบรารี่ fastbook ให้ uncomment บรรทัด !pip install\n",
        "!pip install -Uqq fastbook\n",
        "import fastbook\n",
        "fastbook.setup_book()"
      ]
    },
    {
      "cell_type": "code",
      "execution_count": null,
      "metadata": {
        "id": "BTEyL1nc4vZl"
      },
      "outputs": [],
      "source": [
        "from fastbook import *"
      ]
    },
    {
      "cell_type": "markdown",
      "metadata": {
        "id": "Z0DbLG7KBTN5"
      },
      "source": [
        "# จัดการข้อมูลเพื่อใช้ในการเทรนโมเดล"
      ]
    },
    {
      "cell_type": "markdown",
      "metadata": {
        "id": "R0VMpx0t9grO"
      },
      "source": [
        "## Split data"
      ]
    },
    {
      "cell_type": "code",
      "execution_count": null,
      "metadata": {
        "id": "rpNzGtL0Xk8o"
      },
      "outputs": [],
      "source": [
        "import splitfolders\n",
        "\n",
        "input_folder = \"/content/gdrive/MyDrive/bata_Horsehoe_Crab_classiflication/generated_image\""
      ]
    },
    {
      "cell_type": "code",
      "execution_count": null,
      "metadata": {
        "id": "VIMHBFgeZkNC",
        "colab": {
          "base_uri": "https://localhost:8080/"
        },
        "outputId": "0058b9c9-d184-4312-ac8b-e76fe32ca5b5"
      },
      "outputs": [
        {
          "output_type": "stream",
          "name": "stdout",
          "text": [
            "/content/gdrive/MyDrive/bata_Horsehoe_Crab_classiflication\n"
          ]
        }
      ],
      "source": [
        "#เปิดโฟล์เดอร์ที่ต้องการแบ่ง\n",
        "%cd /content/gdrive/MyDrive/bata_Horsehoe_Crab_classiflication"
      ]
    },
    {
      "cell_type": "code",
      "execution_count": null,
      "metadata": {
        "id": "HY_mr9JMXj5Q",
        "colab": {
          "base_uri": "https://localhost:8080/"
        },
        "outputId": "209bbf53-0479-4e4a-82f7-cd7994c851e2"
      },
      "outputs": [
        {
          "output_type": "stream",
          "name": "stderr",
          "text": [
            "Copying files: 3606 files [00:30, 118.46 files/s]\n"
          ]
        }
      ],
      "source": [
        "splitfolders.ratio(input_folder, output=\"DataGen\", \n",
        "                   seed=42, ratio=(.85, .0, .15), \n",
        "                   group_prefix=None) \n",
        "#แบ่ง train val กับ test 0.85:0:0.15"
      ]
    },
    {
      "cell_type": "markdown",
      "metadata": {
        "id": "xY-0Oy7n-8bU"
      },
      "source": [
        "## Prepare Dataloders"
      ]
    },
    {
      "cell_type": "code",
      "execution_count": null,
      "metadata": {
        "id": "olaY736m4vZm"
      },
      "outputs": [],
      "source": [
        "batch_tfms = [Rotate(), Flip(), Dihedral(), Normalize.from_stats(*imagenet_stats)]\n",
        "fields = DataBlock(\n",
        "    blocks=(ImageBlock, CategoryBlock),\n",
        "    get_items=get_image_files,\n",
        "    get_y=parent_label,\n",
        "    splitter=RandomSplitter(valid_pct=0.4, seed=42), # GrandparentSplitter(valid_name='validation')\n",
        "    item_tfms=Resize(224),\n",
        "    batch_tfms=batch_tfms\n",
        ")"
      ]
    },
    {
      "cell_type": "code",
      "execution_count": null,
      "metadata": {
        "id": "yhoL1V3R-bRe"
      },
      "outputs": [],
      "source": [
        "#ตำแหน่งของไฟล์ที่จะเทรน\n",
        "PathTrain = \"/content/gdrive/MyDrive/bata_Horsehoe_Crab_classiflication/back_front_classification\""
      ]
    },
    {
      "cell_type": "code",
      "execution_count": null,
      "metadata": {
        "id": "OdSqATGm4vZm"
      },
      "outputs": [],
      "source": [
        "#ทำdataloader\n",
        "dls = fields.dataloaders(PathTrain)"
      ]
    },
    {
      "cell_type": "code",
      "execution_count": null,
      "metadata": {
        "colab": {
          "base_uri": "https://localhost:8080/"
        },
        "id": "K8w09kCI4vZn",
        "outputId": "72a094aa-0d6e-4491-f25d-4c872f61dfeb"
      },
      "outputs": [
        {
          "output_type": "execute_result",
          "data": {
            "text/plain": [
              "['back', 'front']"
            ]
          },
          "metadata": {},
          "execution_count": 6
        }
      ],
      "source": [
        "#label\n",
        "dls.vocab"
      ]
    },
    {
      "cell_type": "code",
      "execution_count": null,
      "metadata": {
        "colab": {
          "base_uri": "https://localhost:8080/",
          "height": 370
        },
        "id": "sN2BH7FL4vZn",
        "outputId": "2dab10f9-d2b1-4eb3-8ff3-fe13d0fdbe71"
      },
      "outputs": [
        {
          "output_type": "display_data",
          "data": {
            "text/plain": [
              "<Figure size 864x432 with 8 Axes>"
            ],
            "image/png": "[encoded data removed]"
          },
          "metadata": {
            "needs_background": "light"
          }
        }
      ],
      "source": [
        "dls.train.show_batch(max_n=8, nrows=2)"
      ]
    },
    {
      "cell_type": "markdown",
      "metadata": {
        "id": "v6dWiH1jA5p-"
      },
      "source": [
        "# **เทรน model**\n",
        "ในที่นี้ผมใช้ backbone 5 อย่าง คือ \n",
        "1. VGG16\n",
        "2. resneXt50\n",
        "2. densenet201\n",
        "3. VGG19\n",
        "4. Squeezenet1_1\n",
        "5. alexnet"
      ]
    },
    {
      "cell_type": "markdown",
      "metadata": {
        "id": "Ph_SH8C8EHZA"
      },
      "source": [
        "## VGG16"
      ]
    },
    {
      "cell_type": "code",
      "execution_count": null,
      "metadata": {
        "colab": {
          "base_uri": "https://localhost:8080/",
          "height": 121,
          "referenced_widgets": [
            "c29af2cae7284200a4ff9f97e855a6a4",
            "3d0b88d01b074a4c85eb6b0eb9a4131c",
            "62d5f1344d1b4795811ff2326c7b33ad",
            "eb97dec63de04f5d8fd787776bac8c9d",
            "74b628219b1a47aa87c771232ba05e44",
            "5b1948f9adea475ca9af85c74289a9ef",
            "be909a1debef4729a7143ba7ccf2e497",
            "ff671ee7799e4094a97f2f4bd6f52f67",
            "2e480d55eb584fa8b1f9628a460f4de1",
            "c0f21aea9de3421c8c570946c3de18ea",
            "cd4313daabef4bc1ac9b6012afcd13ba"
          ]
        },
        "id": "lnK8EUta4vZn",
        "outputId": "cdea913b-8897-456c-8a13-46b0b66b0091"
      },
      "outputs": [
        {
          "output_type": "stream",
          "name": "stderr",
          "text": [
            "/usr/local/lib/python3.7/dist-packages/fastai/vision/learner.py:265: UserWarning: `cnn_learner` has been renamed to `vision_learner` -- please update your code\n",
            "  warn(\"`cnn_learner` has been renamed to `vision_learner` -- please update your code\")\n",
            "Downloading: \"https://download.pytorch.org/models/vgg16_bn-6c64b313.pth\" to /root/.cache/torch/hub/checkpoints/vgg16_bn-6c64b313.pth\n"
          ]
        },
        {
          "output_type": "display_data",
          "data": {
            "text/plain": [
              "  0%|          | 0.00/528M [00:00<?, ?B/s]"
            ],
            "application/vnd.jupyter.widget-view+json": {
              "version_major": 2,
              "version_minor": 0,
              "model_id": "c29af2cae7284200a4ff9f97e855a6a4"
            }
          },
          "metadata": {}
        }
      ],
      "source": [
        "#load backbone\n",
        "learner_VGG16 = cnn_learner(dls, models.vgg16_bn, metrics=[error_rate, accuracy, F1Score(), Precision(), Recall()], opt_func=Adam)"
      ]
    },
    {
      "cell_type": "code",
      "execution_count": null,
      "metadata": {
        "colab": {
          "base_uri": "https://localhost:8080/",
          "height": 304
        },
        "id": "qqIqIjih4vZn",
        "outputId": "60246e4c-a811-4fcc-cea7-6324b9fe5482"
      },
      "outputs": [
        {
          "output_type": "display_data",
          "data": {
            "text/plain": [
              "<IPython.core.display.HTML object>"
            ],
            "text/html": [
              "\n",
              "<style>\n",
              "    /* Turns off some styling */\n",
              "    progress {\n",
              "        /* gets rid of default border in Firefox and Opera. */\n",
              "        border: none;\n",
              "        /* Needs to be in here for Safari polyfill so background images work as expected. */\n",
              "        background-size: auto;\n",
              "    }\n",
              "    .progress-bar-interrupted, .progress-bar-interrupted::-webkit-progress-bar {\n",
              "        background: #F44336;\n",
              "    }\n",
              "</style>\n"
            ]
          },
          "metadata": {}
        },
        {
          "output_type": "display_data",
          "data": {
            "text/plain": [
              "<IPython.core.display.HTML object>"
            ],
            "text/html": [
              ""
            ]
          },
          "metadata": {}
        },
        {
          "output_type": "execute_result",
          "data": {
            "text/plain": [
              "SuggestedLRs(valley=0.0020892962347716093)"
            ]
          },
          "metadata": {},
          "execution_count": 9
        },
        {
          "output_type": "display_data",
          "data": {
            "text/plain": [
              "<Figure size 432x288 with 1 Axes>"
            ],
            "image/png": "[encoded data removed]"
          },
          "metadata": {
            "needs_background": "light"
          }
        }
      ],
      "source": [
        "# หา learning rate ที่เหมาะสม\n",
        "learner_VGG16.lr_find() # หา learning rate ที่เหมาะสม"
      ]
    },
    {
      "cell_type": "code",
      "execution_count": null,
      "metadata": {
        "id": "NEYcI8Gk4vZo",
        "colab": {
          "base_uri": "https://localhost:8080/",
          "height": 740
        },
        "outputId": "ffcf1138-88b2-4318-b335-ea8be3567c2d"
      },
      "outputs": [
        {
          "output_type": "display_data",
          "data": {
            "text/plain": [
              "<IPython.core.display.HTML object>"
            ],
            "text/html": [
              "\n",
              "<style>\n",
              "    /* Turns off some styling */\n",
              "    progress {\n",
              "        /* gets rid of default border in Firefox and Opera. */\n",
              "        border: none;\n",
              "        /* Needs to be in here for Safari polyfill so background images work as expected. */\n",
              "        background-size: auto;\n",
              "    }\n",
              "    .progress-bar-interrupted, .progress-bar-interrupted::-webkit-progress-bar {\n",
              "        background: #F44336;\n",
              "    }\n",
              "</style>\n"
            ]
          },
          "metadata": {}
        },
        {
          "output_type": "display_data",
          "data": {
            "text/plain": [
              "<IPython.core.display.HTML object>"
            ],
            "text/html": [
              "<table border=\"1\" class=\"dataframe\">\n",
              "  <thead>\n",
              "    <tr style=\"text-align: left;\">\n",
              "      <th>epoch</th>\n",
              "      <th>train_loss</th>\n",
              "      <th>valid_loss</th>\n",
              "      <th>error_rate</th>\n",
              "      <th>accuracy</th>\n",
              "      <th>f1_score</th>\n",
              "      <th>precision_score</th>\n",
              "      <th>recall_score</th>\n",
              "      <th>time</th>\n",
              "    </tr>\n",
              "  </thead>\n",
              "  <tbody>\n",
              "    <tr>\n",
              "      <td>0</td>\n",
              "      <td>1.195112</td>\n",
              "      <td>1.738695</td>\n",
              "      <td>0.655556</td>\n",
              "      <td>0.344444</td>\n",
              "      <td>0.157143</td>\n",
              "      <td>1.000000</td>\n",
              "      <td>0.085271</td>\n",
              "      <td>00:29</td>\n",
              "    </tr>\n",
              "  </tbody>\n",
              "</table>"
            ]
          },
          "metadata": {}
        },
        {
          "output_type": "display_data",
          "data": {
            "text/plain": [
              "<IPython.core.display.HTML object>"
            ],
            "text/html": [
              "\n",
              "<style>\n",
              "    /* Turns off some styling */\n",
              "    progress {\n",
              "        /* gets rid of default border in Firefox and Opera. */\n",
              "        border: none;\n",
              "        /* Needs to be in here for Safari polyfill so background images work as expected. */\n",
              "        background-size: auto;\n",
              "    }\n",
              "    .progress-bar-interrupted, .progress-bar-interrupted::-webkit-progress-bar {\n",
              "        background: #F44336;\n",
              "    }\n",
              "</style>\n"
            ]
          },
          "metadata": {}
        },
        {
          "output_type": "display_data",
          "data": {
            "text/plain": [
              "<IPython.core.display.HTML object>"
            ],
            "text/html": [
              "<table border=\"1\" class=\"dataframe\">\n",
              "  <thead>\n",
              "    <tr style=\"text-align: left;\">\n",
              "      <th>epoch</th>\n",
              "      <th>train_loss</th>\n",
              "      <th>valid_loss</th>\n",
              "      <th>error_rate</th>\n",
              "      <th>accuracy</th>\n",
              "      <th>f1_score</th>\n",
              "      <th>precision_score</th>\n",
              "      <th>recall_score</th>\n",
              "      <th>time</th>\n",
              "    </tr>\n",
              "  </thead>\n",
              "  <tbody>\n",
              "    <tr>\n",
              "      <td>0</td>\n",
              "      <td>0.669647</td>\n",
              "      <td>0.879155</td>\n",
              "      <td>0.416667</td>\n",
              "      <td>0.583333</td>\n",
              "      <td>0.590164</td>\n",
              "      <td>1.000000</td>\n",
              "      <td>0.418605</td>\n",
              "      <td>00:16</td>\n",
              "    </tr>\n",
              "    <tr>\n",
              "      <td>1</td>\n",
              "      <td>0.726040</td>\n",
              "      <td>0.446626</td>\n",
              "      <td>0.161111</td>\n",
              "      <td>0.838889</td>\n",
              "      <td>0.873362</td>\n",
              "      <td>1.000000</td>\n",
              "      <td>0.775194</td>\n",
              "      <td>00:16</td>\n",
              "    </tr>\n",
              "    <tr>\n",
              "      <td>2</td>\n",
              "      <td>0.641606</td>\n",
              "      <td>0.361664</td>\n",
              "      <td>0.100000</td>\n",
              "      <td>0.900000</td>\n",
              "      <td>0.925620</td>\n",
              "      <td>0.991150</td>\n",
              "      <td>0.868217</td>\n",
              "      <td>00:15</td>\n",
              "    </tr>\n",
              "    <tr>\n",
              "      <td>3</td>\n",
              "      <td>0.580267</td>\n",
              "      <td>0.421303</td>\n",
              "      <td>0.066667</td>\n",
              "      <td>0.933333</td>\n",
              "      <td>0.951220</td>\n",
              "      <td>1.000000</td>\n",
              "      <td>0.906977</td>\n",
              "      <td>00:16</td>\n",
              "    </tr>\n",
              "    <tr>\n",
              "      <td>4</td>\n",
              "      <td>0.530964</td>\n",
              "      <td>0.470795</td>\n",
              "      <td>0.061111</td>\n",
              "      <td>0.938889</td>\n",
              "      <td>0.955823</td>\n",
              "      <td>0.991667</td>\n",
              "      <td>0.922481</td>\n",
              "      <td>00:16</td>\n",
              "    </tr>\n",
              "    <tr>\n",
              "      <td>5</td>\n",
              "      <td>0.476244</td>\n",
              "      <td>0.446520</td>\n",
              "      <td>0.077778</td>\n",
              "      <td>0.922222</td>\n",
              "      <td>0.944882</td>\n",
              "      <td>0.960000</td>\n",
              "      <td>0.930233</td>\n",
              "      <td>00:16</td>\n",
              "    </tr>\n",
              "    <tr>\n",
              "      <td>6</td>\n",
              "      <td>0.433803</td>\n",
              "      <td>0.583243</td>\n",
              "      <td>0.077778</td>\n",
              "      <td>0.922222</td>\n",
              "      <td>0.944444</td>\n",
              "      <td>0.967480</td>\n",
              "      <td>0.922481</td>\n",
              "      <td>00:16</td>\n",
              "    </tr>\n",
              "    <tr>\n",
              "      <td>7</td>\n",
              "      <td>0.391454</td>\n",
              "      <td>0.770813</td>\n",
              "      <td>0.072222</td>\n",
              "      <td>0.927778</td>\n",
              "      <td>0.947791</td>\n",
              "      <td>0.983333</td>\n",
              "      <td>0.914729</td>\n",
              "      <td>00:16</td>\n",
              "    </tr>\n",
              "    <tr>\n",
              "      <td>8</td>\n",
              "      <td>0.357191</td>\n",
              "      <td>0.773303</td>\n",
              "      <td>0.072222</td>\n",
              "      <td>0.927778</td>\n",
              "      <td>0.948207</td>\n",
              "      <td>0.975410</td>\n",
              "      <td>0.922481</td>\n",
              "      <td>00:16</td>\n",
              "    </tr>\n",
              "    <tr>\n",
              "      <td>9</td>\n",
              "      <td>0.324374</td>\n",
              "      <td>0.709677</td>\n",
              "      <td>0.077778</td>\n",
              "      <td>0.922222</td>\n",
              "      <td>0.944882</td>\n",
              "      <td>0.960000</td>\n",
              "      <td>0.930233</td>\n",
              "      <td>00:16</td>\n",
              "    </tr>\n",
              "    <tr>\n",
              "      <td>10</td>\n",
              "      <td>0.293785</td>\n",
              "      <td>0.718113</td>\n",
              "      <td>0.077778</td>\n",
              "      <td>0.922222</td>\n",
              "      <td>0.945312</td>\n",
              "      <td>0.952756</td>\n",
              "      <td>0.937984</td>\n",
              "      <td>00:16</td>\n",
              "    </tr>\n",
              "    <tr>\n",
              "      <td>11</td>\n",
              "      <td>0.279475</td>\n",
              "      <td>0.744976</td>\n",
              "      <td>0.072222</td>\n",
              "      <td>0.927778</td>\n",
              "      <td>0.949416</td>\n",
              "      <td>0.953125</td>\n",
              "      <td>0.945736</td>\n",
              "      <td>00:16</td>\n",
              "    </tr>\n",
              "    <tr>\n",
              "      <td>12</td>\n",
              "      <td>0.256538</td>\n",
              "      <td>0.724690</td>\n",
              "      <td>0.072222</td>\n",
              "      <td>0.927778</td>\n",
              "      <td>0.949416</td>\n",
              "      <td>0.953125</td>\n",
              "      <td>0.945736</td>\n",
              "      <td>00:16</td>\n",
              "    </tr>\n",
              "    <tr>\n",
              "      <td>13</td>\n",
              "      <td>0.238364</td>\n",
              "      <td>0.708558</td>\n",
              "      <td>0.072222</td>\n",
              "      <td>0.927778</td>\n",
              "      <td>0.949416</td>\n",
              "      <td>0.953125</td>\n",
              "      <td>0.945736</td>\n",
              "      <td>00:16</td>\n",
              "    </tr>\n",
              "    <tr>\n",
              "      <td>14</td>\n",
              "      <td>0.224279</td>\n",
              "      <td>0.712026</td>\n",
              "      <td>0.072222</td>\n",
              "      <td>0.927778</td>\n",
              "      <td>0.949416</td>\n",
              "      <td>0.953125</td>\n",
              "      <td>0.945736</td>\n",
              "      <td>00:16</td>\n",
              "    </tr>\n",
              "    <tr>\n",
              "      <td>15</td>\n",
              "      <td>0.214349</td>\n",
              "      <td>0.706455</td>\n",
              "      <td>0.072222</td>\n",
              "      <td>0.927778</td>\n",
              "      <td>0.949416</td>\n",
              "      <td>0.953125</td>\n",
              "      <td>0.945736</td>\n",
              "      <td>00:16</td>\n",
              "    </tr>\n",
              "    <tr>\n",
              "      <td>16</td>\n",
              "      <td>0.207190</td>\n",
              "      <td>0.708488</td>\n",
              "      <td>0.072222</td>\n",
              "      <td>0.927778</td>\n",
              "      <td>0.949416</td>\n",
              "      <td>0.953125</td>\n",
              "      <td>0.945736</td>\n",
              "      <td>00:16</td>\n",
              "    </tr>\n",
              "    <tr>\n",
              "      <td>17</td>\n",
              "      <td>0.192679</td>\n",
              "      <td>0.687942</td>\n",
              "      <td>0.072222</td>\n",
              "      <td>0.927778</td>\n",
              "      <td>0.949416</td>\n",
              "      <td>0.953125</td>\n",
              "      <td>0.945736</td>\n",
              "      <td>00:17</td>\n",
              "    </tr>\n",
              "    <tr>\n",
              "      <td>18</td>\n",
              "      <td>0.185181</td>\n",
              "      <td>0.682394</td>\n",
              "      <td>0.072222</td>\n",
              "      <td>0.927778</td>\n",
              "      <td>0.949416</td>\n",
              "      <td>0.953125</td>\n",
              "      <td>0.945736</td>\n",
              "      <td>00:16</td>\n",
              "    </tr>\n",
              "    <tr>\n",
              "      <td>19</td>\n",
              "      <td>0.173154</td>\n",
              "      <td>0.684027</td>\n",
              "      <td>0.072222</td>\n",
              "      <td>0.927778</td>\n",
              "      <td>0.949416</td>\n",
              "      <td>0.953125</td>\n",
              "      <td>0.945736</td>\n",
              "      <td>00:16</td>\n",
              "    </tr>\n",
              "  </tbody>\n",
              "</table>"
            ]
          },
          "metadata": {}
        }
      ],
      "source": [
        "#เทรนโมเดล 20 รอบ\n",
        "learner_VGG16.fine_tune(epochs=20, freeze_epochs=1, base_lr=0.0020892962347716093)"
      ]
    },
    {
      "cell_type": "code",
      "execution_count": null,
      "metadata": {
        "colab": {
          "base_uri": "https://localhost:8080/"
        },
        "id": "iHlrDf1LZUDY",
        "outputId": "9ceede40-81aa-4b7f-f6cd-0ce3e0d1df6e"
      },
      "outputs": [
        {
          "output_type": "stream",
          "name": "stdout",
          "text": [
            "/content/gdrive/MyDrive/bata_Horsehoe_Crab_classiflication/model_back_front\n"
          ]
        }
      ],
      "source": [
        "#save models\n",
        "%cd /content/gdrive/MyDrive/bata_Horsehoe_Crab_classiflication/model_back_front\n",
        "learner_VGG16.export(\"VGG16_fastai.pkl\")"
      ]
    },
    {
      "cell_type": "markdown",
      "source": [
        "## resnext50"
      ],
      "metadata": {
        "id": "7CNK3c6MokzB"
      }
    },
    {
      "cell_type": "code",
      "source": [
        "from torchvision.models.resnet import resnext50_32x4d\n",
        "#load backbone\n",
        "learner_resnext = cnn_learner(dls, resnext50_32x4d, metrics=[error_rate, accuracy, F1Score(), Precision(), Recall()], opt_func=Adam)"
      ],
      "metadata": {
        "colab": {
          "base_uri": "https://localhost:8080/",
          "height": 121,
          "referenced_widgets": [
            "4d1d9b966c6d44db87ad2113e0d9dc0e",
            "e12d99f3b6054bbfb17c814bc8086d1f",
            "f0d447086fc34b798183ecdb9adaf783",
            "6c6beebd91704a9cb859c0c85a697579",
            "33b550bf3b0f441c9d9610e6101c1614",
            "77e32bbfb20d4be6b8485a7eea519ab8",
            "3a82baff18d94f6295f7246792710184",
            "66cadd7c702c43189b3a38d399909e8e",
            "ac0ccc140ef5410dba604f5fc3fdf442",
            "1cb3bd04059a421daa1ffeb47cf6eb11",
            "67f8e20f5c4d441aa82bb96baec88748"
          ]
        },
        "id": "NwlTAuY_opjZ",
        "outputId": "e1ab9798-434e-4013-ddb1-25345adef9fb"
      },
      "execution_count": null,
      "outputs": [
        {
          "output_type": "stream",
          "name": "stderr",
          "text": [
            "/usr/local/lib/python3.7/dist-packages/fastai/vision/learner.py:265: UserWarning: `cnn_learner` has been renamed to `vision_learner` -- please update your code\n",
            "  warn(\"`cnn_learner` has been renamed to `vision_learner` -- please update your code\")\n",
            "Downloading: \"https://download.pytorch.org/models/resnext50_32x4d-7cdf4587.pth\" to /root/.cache/torch/hub/checkpoints/resnext50_32x4d-7cdf4587.pth\n"
          ]
        },
        {
          "output_type": "display_data",
          "data": {
            "text/plain": [
              "  0%|          | 0.00/95.8M [00:00<?, ?B/s]"
            ],
            "application/vnd.jupyter.widget-view+json": {
              "version_major": 2,
              "version_minor": 0,
              "model_id": "4d1d9b966c6d44db87ad2113e0d9dc0e"
            }
          },
          "metadata": {}
        }
      ]
    },
    {
      "cell_type": "code",
      "source": [
        "learner_resnext.lr_find() # หา learning rate ที่เหมาะสม"
      ],
      "metadata": {
        "colab": {
          "base_uri": "https://localhost:8080/",
          "height": 301
        },
        "id": "l-toc1axozcA",
        "outputId": "cbc37949-2e7a-4649-afee-08c5448a8626"
      },
      "execution_count": null,
      "outputs": [
        {
          "output_type": "display_data",
          "data": {
            "text/plain": [
              "<IPython.core.display.HTML object>"
            ],
            "text/html": [
              "\n",
              "<style>\n",
              "    /* Turns off some styling */\n",
              "    progress {\n",
              "        /* gets rid of default border in Firefox and Opera. */\n",
              "        border: none;\n",
              "        /* Needs to be in here for Safari polyfill so background images work as expected. */\n",
              "        background-size: auto;\n",
              "    }\n",
              "    .progress-bar-interrupted, .progress-bar-interrupted::-webkit-progress-bar {\n",
              "        background: #F44336;\n",
              "    }\n",
              "</style>\n"
            ]
          },
          "metadata": {}
        },
        {
          "output_type": "display_data",
          "data": {
            "text/plain": [
              "<IPython.core.display.HTML object>"
            ],
            "text/html": [
              ""
            ]
          },
          "metadata": {}
        },
        {
          "output_type": "execute_result",
          "data": {
            "text/plain": [
              "SuggestedLRs(valley=0.0010000000474974513)"
            ]
          },
          "metadata": {},
          "execution_count": 13
        },
        {
          "output_type": "display_data",
          "data": {
            "text/plain": [
              "<Figure size 432x288 with 1 Axes>"
            ],
            "image/png": "[encoded data removed]"
          },
          "metadata": {
            "needs_background": "light"
          }
        }
      ]
    },
    {
      "cell_type": "code",
      "source": [
        "#เทรนโมเดล 20 รอบ\n",
        "learner_resnext.fine_tune(epochs=20, freeze_epochs=1, base_lr=0.0010000000474974513)"
      ],
      "metadata": {
        "colab": {
          "base_uri": "https://localhost:8080/",
          "height": 740
        },
        "id": "7iJHSMEWpPGS",
        "outputId": "444a18b5-ae2e-4ef3-d44a-dfe25793ec30"
      },
      "execution_count": null,
      "outputs": [
        {
          "output_type": "display_data",
          "data": {
            "text/plain": [
              "<IPython.core.display.HTML object>"
            ],
            "text/html": [
              "\n",
              "<style>\n",
              "    /* Turns off some styling */\n",
              "    progress {\n",
              "        /* gets rid of default border in Firefox and Opera. */\n",
              "        border: none;\n",
              "        /* Needs to be in here for Safari polyfill so background images work as expected. */\n",
              "        background-size: auto;\n",
              "    }\n",
              "    .progress-bar-interrupted, .progress-bar-interrupted::-webkit-progress-bar {\n",
              "        background: #F44336;\n",
              "    }\n",
              "</style>\n"
            ]
          },
          "metadata": {}
        },
        {
          "output_type": "display_data",
          "data": {
            "text/plain": [
              "<IPython.core.display.HTML object>"
            ],
            "text/html": [
              "<table border=\"1\" class=\"dataframe\">\n",
              "  <thead>\n",
              "    <tr style=\"text-align: left;\">\n",
              "      <th>epoch</th>\n",
              "      <th>train_loss</th>\n",
              "      <th>valid_loss</th>\n",
              "      <th>error_rate</th>\n",
              "      <th>accuracy</th>\n",
              "      <th>f1_score</th>\n",
              "      <th>precision_score</th>\n",
              "      <th>recall_score</th>\n",
              "      <th>time</th>\n",
              "    </tr>\n",
              "  </thead>\n",
              "  <tbody>\n",
              "    <tr>\n",
              "      <td>0</td>\n",
              "      <td>1.166362</td>\n",
              "      <td>0.663853</td>\n",
              "      <td>0.238889</td>\n",
              "      <td>0.761111</td>\n",
              "      <td>0.800000</td>\n",
              "      <td>1.000000</td>\n",
              "      <td>0.666667</td>\n",
              "      <td>00:09</td>\n",
              "    </tr>\n",
              "  </tbody>\n",
              "</table>"
            ]
          },
          "metadata": {}
        },
        {
          "output_type": "display_data",
          "data": {
            "text/plain": [
              "<IPython.core.display.HTML object>"
            ],
            "text/html": [
              "\n",
              "<style>\n",
              "    /* Turns off some styling */\n",
              "    progress {\n",
              "        /* gets rid of default border in Firefox and Opera. */\n",
              "        border: none;\n",
              "        /* Needs to be in here for Safari polyfill so background images work as expected. */\n",
              "        background-size: auto;\n",
              "    }\n",
              "    .progress-bar-interrupted, .progress-bar-interrupted::-webkit-progress-bar {\n",
              "        background: #F44336;\n",
              "    }\n",
              "</style>\n"
            ]
          },
          "metadata": {}
        },
        {
          "output_type": "display_data",
          "data": {
            "text/plain": [
              "<IPython.core.display.HTML object>"
            ],
            "text/html": [
              "<table border=\"1\" class=\"dataframe\">\n",
              "  <thead>\n",
              "    <tr style=\"text-align: left;\">\n",
              "      <th>epoch</th>\n",
              "      <th>train_loss</th>\n",
              "      <th>valid_loss</th>\n",
              "      <th>error_rate</th>\n",
              "      <th>accuracy</th>\n",
              "      <th>f1_score</th>\n",
              "      <th>precision_score</th>\n",
              "      <th>recall_score</th>\n",
              "      <th>time</th>\n",
              "    </tr>\n",
              "  </thead>\n",
              "  <tbody>\n",
              "    <tr>\n",
              "      <td>0</td>\n",
              "      <td>0.692923</td>\n",
              "      <td>0.728847</td>\n",
              "      <td>0.322222</td>\n",
              "      <td>0.677778</td>\n",
              "      <td>0.710000</td>\n",
              "      <td>1.000000</td>\n",
              "      <td>0.550388</td>\n",
              "      <td>00:13</td>\n",
              "    </tr>\n",
              "    <tr>\n",
              "      <td>1</td>\n",
              "      <td>0.729486</td>\n",
              "      <td>0.516053</td>\n",
              "      <td>0.238889</td>\n",
              "      <td>0.761111</td>\n",
              "      <td>0.801843</td>\n",
              "      <td>0.988636</td>\n",
              "      <td>0.674419</td>\n",
              "      <td>00:12</td>\n",
              "    </tr>\n",
              "    <tr>\n",
              "      <td>2</td>\n",
              "      <td>0.663973</td>\n",
              "      <td>0.404764</td>\n",
              "      <td>0.155556</td>\n",
              "      <td>0.844444</td>\n",
              "      <td>0.880342</td>\n",
              "      <td>0.980952</td>\n",
              "      <td>0.798450</td>\n",
              "      <td>00:12</td>\n",
              "    </tr>\n",
              "    <tr>\n",
              "      <td>3</td>\n",
              "      <td>0.644180</td>\n",
              "      <td>0.414684</td>\n",
              "      <td>0.155556</td>\n",
              "      <td>0.844444</td>\n",
              "      <td>0.880342</td>\n",
              "      <td>0.980952</td>\n",
              "      <td>0.798450</td>\n",
              "      <td>00:12</td>\n",
              "    </tr>\n",
              "    <tr>\n",
              "      <td>4</td>\n",
              "      <td>0.604007</td>\n",
              "      <td>0.473332</td>\n",
              "      <td>0.183333</td>\n",
              "      <td>0.816667</td>\n",
              "      <td>0.854626</td>\n",
              "      <td>0.989796</td>\n",
              "      <td>0.751938</td>\n",
              "      <td>00:12</td>\n",
              "    </tr>\n",
              "    <tr>\n",
              "      <td>5</td>\n",
              "      <td>0.564907</td>\n",
              "      <td>0.478820</td>\n",
              "      <td>0.172222</td>\n",
              "      <td>0.827778</td>\n",
              "      <td>0.864629</td>\n",
              "      <td>0.990000</td>\n",
              "      <td>0.767442</td>\n",
              "      <td>00:12</td>\n",
              "    </tr>\n",
              "    <tr>\n",
              "      <td>6</td>\n",
              "      <td>0.539679</td>\n",
              "      <td>0.470346</td>\n",
              "      <td>0.150000</td>\n",
              "      <td>0.850000</td>\n",
              "      <td>0.887029</td>\n",
              "      <td>0.963636</td>\n",
              "      <td>0.821705</td>\n",
              "      <td>00:11</td>\n",
              "    </tr>\n",
              "    <tr>\n",
              "      <td>7</td>\n",
              "      <td>0.519718</td>\n",
              "      <td>0.481079</td>\n",
              "      <td>0.138889</td>\n",
              "      <td>0.861111</td>\n",
              "      <td>0.897119</td>\n",
              "      <td>0.956140</td>\n",
              "      <td>0.844961</td>\n",
              "      <td>00:12</td>\n",
              "    </tr>\n",
              "    <tr>\n",
              "      <td>8</td>\n",
              "      <td>0.483951</td>\n",
              "      <td>0.463147</td>\n",
              "      <td>0.111111</td>\n",
              "      <td>0.888889</td>\n",
              "      <td>0.918699</td>\n",
              "      <td>0.965812</td>\n",
              "      <td>0.875969</td>\n",
              "      <td>00:12</td>\n",
              "    </tr>\n",
              "    <tr>\n",
              "      <td>9</td>\n",
              "      <td>0.451578</td>\n",
              "      <td>0.480163</td>\n",
              "      <td>0.094444</td>\n",
              "      <td>0.905556</td>\n",
              "      <td>0.930612</td>\n",
              "      <td>0.982759</td>\n",
              "      <td>0.883721</td>\n",
              "      <td>00:12</td>\n",
              "    </tr>\n",
              "    <tr>\n",
              "      <td>10</td>\n",
              "      <td>0.425755</td>\n",
              "      <td>0.490829</td>\n",
              "      <td>0.116667</td>\n",
              "      <td>0.883333</td>\n",
              "      <td>0.914980</td>\n",
              "      <td>0.957627</td>\n",
              "      <td>0.875969</td>\n",
              "      <td>00:12</td>\n",
              "    </tr>\n",
              "    <tr>\n",
              "      <td>11</td>\n",
              "      <td>0.397239</td>\n",
              "      <td>0.514708</td>\n",
              "      <td>0.122222</td>\n",
              "      <td>0.877778</td>\n",
              "      <td>0.911290</td>\n",
              "      <td>0.949580</td>\n",
              "      <td>0.875969</td>\n",
              "      <td>00:12</td>\n",
              "    </tr>\n",
              "    <tr>\n",
              "      <td>12</td>\n",
              "      <td>0.376334</td>\n",
              "      <td>0.547902</td>\n",
              "      <td>0.122222</td>\n",
              "      <td>0.877778</td>\n",
              "      <td>0.911290</td>\n",
              "      <td>0.949580</td>\n",
              "      <td>0.875969</td>\n",
              "      <td>00:12</td>\n",
              "    </tr>\n",
              "    <tr>\n",
              "      <td>13</td>\n",
              "      <td>0.349951</td>\n",
              "      <td>0.549245</td>\n",
              "      <td>0.122222</td>\n",
              "      <td>0.877778</td>\n",
              "      <td>0.912000</td>\n",
              "      <td>0.942149</td>\n",
              "      <td>0.883721</td>\n",
              "      <td>00:13</td>\n",
              "    </tr>\n",
              "    <tr>\n",
              "      <td>14</td>\n",
              "      <td>0.335375</td>\n",
              "      <td>0.541468</td>\n",
              "      <td>0.116667</td>\n",
              "      <td>0.883333</td>\n",
              "      <td>0.915663</td>\n",
              "      <td>0.950000</td>\n",
              "      <td>0.883721</td>\n",
              "      <td>00:12</td>\n",
              "    </tr>\n",
              "    <tr>\n",
              "      <td>15</td>\n",
              "      <td>0.315181</td>\n",
              "      <td>0.526128</td>\n",
              "      <td>0.105556</td>\n",
              "      <td>0.894444</td>\n",
              "      <td>0.924303</td>\n",
              "      <td>0.950820</td>\n",
              "      <td>0.899225</td>\n",
              "      <td>00:12</td>\n",
              "    </tr>\n",
              "    <tr>\n",
              "      <td>16</td>\n",
              "      <td>0.299272</td>\n",
              "      <td>0.512825</td>\n",
              "      <td>0.100000</td>\n",
              "      <td>0.900000</td>\n",
              "      <td>0.928571</td>\n",
              "      <td>0.951220</td>\n",
              "      <td>0.906977</td>\n",
              "      <td>00:12</td>\n",
              "    </tr>\n",
              "    <tr>\n",
              "      <td>17</td>\n",
              "      <td>0.281473</td>\n",
              "      <td>0.512621</td>\n",
              "      <td>0.100000</td>\n",
              "      <td>0.900000</td>\n",
              "      <td>0.928000</td>\n",
              "      <td>0.958678</td>\n",
              "      <td>0.899225</td>\n",
              "      <td>00:12</td>\n",
              "    </tr>\n",
              "    <tr>\n",
              "      <td>18</td>\n",
              "      <td>0.267011</td>\n",
              "      <td>0.512206</td>\n",
              "      <td>0.100000</td>\n",
              "      <td>0.900000</td>\n",
              "      <td>0.928000</td>\n",
              "      <td>0.958678</td>\n",
              "      <td>0.899225</td>\n",
              "      <td>00:12</td>\n",
              "    </tr>\n",
              "    <tr>\n",
              "      <td>19</td>\n",
              "      <td>0.254341</td>\n",
              "      <td>0.514279</td>\n",
              "      <td>0.105556</td>\n",
              "      <td>0.894444</td>\n",
              "      <td>0.924303</td>\n",
              "      <td>0.950820</td>\n",
              "      <td>0.899225</td>\n",
              "      <td>00:12</td>\n",
              "    </tr>\n",
              "  </tbody>\n",
              "</table>"
            ]
          },
          "metadata": {}
        }
      ]
    },
    {
      "cell_type": "code",
      "source": [
        "%cd /content/gdrive/MyDrive/bata_Horsehoe_Crab_classiflication/model_back_front"
      ],
      "metadata": {
        "colab": {
          "base_uri": "https://localhost:8080/"
        },
        "id": "HQ7CfRadln2P",
        "outputId": "a48d6e02-3bd1-46c1-f400-e5dfee967d82"
      },
      "execution_count": null,
      "outputs": [
        {
          "output_type": "stream",
          "name": "stdout",
          "text": [
            "/content/gdrive/MyDrive/bata_Horsehoe_Crab_classiflication/model3\n"
          ]
        }
      ]
    },
    {
      "cell_type": "code",
      "source": [
        "learner_resnext.export(\"resnext50_fastai.pkl\")"
      ],
      "metadata": {
        "id": "X5QEax6sl4AP"
      },
      "execution_count": null,
      "outputs": []
    },
    {
      "cell_type": "markdown",
      "metadata": {
        "id": "YTf825KWECk2"
      },
      "source": [
        "## densenet201"
      ]
    },
    {
      "cell_type": "code",
      "execution_count": null,
      "metadata": {
        "id": "fQP86BPAD-HY",
        "colab": {
          "base_uri": "https://localhost:8080/",
          "height": 86,
          "referenced_widgets": [
            "8604c68a45524276a39f7dd1f51c5cdb",
            "7f11f10d05b14f5a8d2934576b4cca5a",
            "25a8ab05292c4755be2f17e624d070b4",
            "1aa7c9c8c91c416b9985a6ba845a4fc6",
            "062927d0fe71483389593cfe379ff10e",
            "5382096803034b269caca79bdc959e73",
            "7db0217143774f329b628d0f9c59545a",
            "d93c861a000e430389ceee0c6e3ecc89",
            "44e90bb89c0e468298fa60286262dce2",
            "61b22325f657443389ef812f708bd3c3",
            "72746c3fee974e28b8c1bddf9d8de9ab"
          ]
        },
        "outputId": "c4675824-3ed7-4721-f961-964153ae98c4"
      },
      "outputs": [
        {
          "output_type": "stream",
          "name": "stderr",
          "text": [
            "Downloading: \"https://download.pytorch.org/models/densenet201-c1103571.pth\" to /root/.cache/torch/hub/checkpoints/densenet201-c1103571.pth\n"
          ]
        },
        {
          "output_type": "display_data",
          "data": {
            "text/plain": [
              "  0%|          | 0.00/77.4M [00:00<?, ?B/s]"
            ],
            "application/vnd.jupyter.widget-view+json": {
              "version_major": 2,
              "version_minor": 0,
              "model_id": "8604c68a45524276a39f7dd1f51c5cdb"
            }
          },
          "metadata": {}
        }
      ],
      "source": [
        "learner_Den = vision_learner(dls, models.densenet201, metrics=[error_rate, accuracy, F1Score(), Precision(), Recall()])"
      ]
    },
    {
      "cell_type": "code",
      "execution_count": null,
      "metadata": {
        "id": "GQPD0a2BEvQY"
      },
      "outputs": [],
      "source": [
        "learner_Den.lr_find() # หา learning rate ที่เหมาะสม"
      ]
    },
    {
      "cell_type": "code",
      "source": [
        "learner_Den.fine_tune(20,  freeze_epochs=1, base_lr =0.0003981071640737355)"
      ],
      "metadata": {
        "colab": {
          "base_uri": "https://localhost:8080/",
          "height": 740
        },
        "id": "XFAIJkfeGR63",
        "outputId": "36e24a6c-294b-41c9-c29f-abbc8ec11338"
      },
      "execution_count": null,
      "outputs": [
        {
          "output_type": "display_data",
          "data": {
            "text/plain": [
              "<IPython.core.display.HTML object>"
            ],
            "text/html": [
              "\n",
              "<style>\n",
              "    /* Turns off some styling */\n",
              "    progress {\n",
              "        /* gets rid of default border in Firefox and Opera. */\n",
              "        border: none;\n",
              "        /* Needs to be in here for Safari polyfill so background images work as expected. */\n",
              "        background-size: auto;\n",
              "    }\n",
              "    .progress-bar-interrupted, .progress-bar-interrupted::-webkit-progress-bar {\n",
              "        background: #F44336;\n",
              "    }\n",
              "</style>\n"
            ]
          },
          "metadata": {}
        },
        {
          "output_type": "display_data",
          "data": {
            "text/plain": [
              "<IPython.core.display.HTML object>"
            ],
            "text/html": [
              "<table border=\"1\" class=\"dataframe\">\n",
              "  <thead>\n",
              "    <tr style=\"text-align: left;\">\n",
              "      <th>epoch</th>\n",
              "      <th>train_loss</th>\n",
              "      <th>valid_loss</th>\n",
              "      <th>error_rate</th>\n",
              "      <th>accuracy</th>\n",
              "      <th>f1_score</th>\n",
              "      <th>precision_score</th>\n",
              "      <th>recall_score</th>\n",
              "      <th>time</th>\n",
              "    </tr>\n",
              "  </thead>\n",
              "  <tbody>\n",
              "    <tr>\n",
              "      <td>0</td>\n",
              "      <td>1.216080</td>\n",
              "      <td>0.798570</td>\n",
              "      <td>0.422222</td>\n",
              "      <td>0.577778</td>\n",
              "      <td>0.634615</td>\n",
              "      <td>0.835443</td>\n",
              "      <td>0.511628</td>\n",
              "      <td>00:34</td>\n",
              "    </tr>\n",
              "  </tbody>\n",
              "</table>"
            ]
          },
          "metadata": {}
        },
        {
          "output_type": "display_data",
          "data": {
            "text/plain": [
              "<IPython.core.display.HTML object>"
            ],
            "text/html": [
              "\n",
              "<style>\n",
              "    /* Turns off some styling */\n",
              "    progress {\n",
              "        /* gets rid of default border in Firefox and Opera. */\n",
              "        border: none;\n",
              "        /* Needs to be in here for Safari polyfill so background images work as expected. */\n",
              "        background-size: auto;\n",
              "    }\n",
              "    .progress-bar-interrupted, .progress-bar-interrupted::-webkit-progress-bar {\n",
              "        background: #F44336;\n",
              "    }\n",
              "</style>\n"
            ]
          },
          "metadata": {}
        },
        {
          "output_type": "display_data",
          "data": {
            "text/plain": [
              "<IPython.core.display.HTML object>"
            ],
            "text/html": [
              "<table border=\"1\" class=\"dataframe\">\n",
              "  <thead>\n",
              "    <tr style=\"text-align: left;\">\n",
              "      <th>epoch</th>\n",
              "      <th>train_loss</th>\n",
              "      <th>valid_loss</th>\n",
              "      <th>error_rate</th>\n",
              "      <th>accuracy</th>\n",
              "      <th>f1_score</th>\n",
              "      <th>precision_score</th>\n",
              "      <th>recall_score</th>\n",
              "      <th>time</th>\n",
              "    </tr>\n",
              "  </thead>\n",
              "  <tbody>\n",
              "    <tr>\n",
              "      <td>0</td>\n",
              "      <td>1.106429</td>\n",
              "      <td>0.601843</td>\n",
              "      <td>0.305556</td>\n",
              "      <td>0.694444</td>\n",
              "      <td>0.761905</td>\n",
              "      <td>0.862745</td>\n",
              "      <td>0.682171</td>\n",
              "      <td>00:11</td>\n",
              "    </tr>\n",
              "    <tr>\n",
              "      <td>1</td>\n",
              "      <td>0.987916</td>\n",
              "      <td>0.524993</td>\n",
              "      <td>0.233333</td>\n",
              "      <td>0.766667</td>\n",
              "      <td>0.818966</td>\n",
              "      <td>0.922330</td>\n",
              "      <td>0.736434</td>\n",
              "      <td>00:11</td>\n",
              "    </tr>\n",
              "    <tr>\n",
              "      <td>2</td>\n",
              "      <td>0.942775</td>\n",
              "      <td>0.443165</td>\n",
              "      <td>0.172222</td>\n",
              "      <td>0.827778</td>\n",
              "      <td>0.871369</td>\n",
              "      <td>0.937500</td>\n",
              "      <td>0.813953</td>\n",
              "      <td>00:11</td>\n",
              "    </tr>\n",
              "    <tr>\n",
              "      <td>3</td>\n",
              "      <td>0.848445</td>\n",
              "      <td>0.395944</td>\n",
              "      <td>0.144444</td>\n",
              "      <td>0.855556</td>\n",
              "      <td>0.890756</td>\n",
              "      <td>0.972477</td>\n",
              "      <td>0.821705</td>\n",
              "      <td>00:11</td>\n",
              "    </tr>\n",
              "    <tr>\n",
              "      <td>4</td>\n",
              "      <td>0.771618</td>\n",
              "      <td>0.354730</td>\n",
              "      <td>0.127778</td>\n",
              "      <td>0.872222</td>\n",
              "      <td>0.905350</td>\n",
              "      <td>0.964912</td>\n",
              "      <td>0.852713</td>\n",
              "      <td>00:11</td>\n",
              "    </tr>\n",
              "    <tr>\n",
              "      <td>5</td>\n",
              "      <td>0.718879</td>\n",
              "      <td>0.348943</td>\n",
              "      <td>0.127778</td>\n",
              "      <td>0.872222</td>\n",
              "      <td>0.904564</td>\n",
              "      <td>0.973214</td>\n",
              "      <td>0.844961</td>\n",
              "      <td>00:11</td>\n",
              "    </tr>\n",
              "    <tr>\n",
              "      <td>6</td>\n",
              "      <td>0.679480</td>\n",
              "      <td>0.356605</td>\n",
              "      <td>0.122222</td>\n",
              "      <td>0.877778</td>\n",
              "      <td>0.909836</td>\n",
              "      <td>0.965217</td>\n",
              "      <td>0.860465</td>\n",
              "      <td>00:11</td>\n",
              "    </tr>\n",
              "    <tr>\n",
              "      <td>7</td>\n",
              "      <td>0.623206</td>\n",
              "      <td>0.339040</td>\n",
              "      <td>0.105556</td>\n",
              "      <td>0.894444</td>\n",
              "      <td>0.923077</td>\n",
              "      <td>0.966102</td>\n",
              "      <td>0.883721</td>\n",
              "      <td>00:11</td>\n",
              "    </tr>\n",
              "    <tr>\n",
              "      <td>8</td>\n",
              "      <td>0.579308</td>\n",
              "      <td>0.344563</td>\n",
              "      <td>0.105556</td>\n",
              "      <td>0.894444</td>\n",
              "      <td>0.923077</td>\n",
              "      <td>0.966102</td>\n",
              "      <td>0.883721</td>\n",
              "      <td>00:11</td>\n",
              "    </tr>\n",
              "    <tr>\n",
              "      <td>9</td>\n",
              "      <td>0.544874</td>\n",
              "      <td>0.351000</td>\n",
              "      <td>0.100000</td>\n",
              "      <td>0.900000</td>\n",
              "      <td>0.927419</td>\n",
              "      <td>0.966387</td>\n",
              "      <td>0.891473</td>\n",
              "      <td>00:11</td>\n",
              "    </tr>\n",
              "    <tr>\n",
              "      <td>10</td>\n",
              "      <td>0.513206</td>\n",
              "      <td>0.360659</td>\n",
              "      <td>0.100000</td>\n",
              "      <td>0.900000</td>\n",
              "      <td>0.927419</td>\n",
              "      <td>0.966387</td>\n",
              "      <td>0.891473</td>\n",
              "      <td>00:12</td>\n",
              "    </tr>\n",
              "    <tr>\n",
              "      <td>11</td>\n",
              "      <td>0.486700</td>\n",
              "      <td>0.371998</td>\n",
              "      <td>0.100000</td>\n",
              "      <td>0.900000</td>\n",
              "      <td>0.927419</td>\n",
              "      <td>0.966387</td>\n",
              "      <td>0.891473</td>\n",
              "      <td>00:11</td>\n",
              "    </tr>\n",
              "    <tr>\n",
              "      <td>12</td>\n",
              "      <td>0.461604</td>\n",
              "      <td>0.369490</td>\n",
              "      <td>0.100000</td>\n",
              "      <td>0.900000</td>\n",
              "      <td>0.927419</td>\n",
              "      <td>0.966387</td>\n",
              "      <td>0.891473</td>\n",
              "      <td>00:11</td>\n",
              "    </tr>\n",
              "    <tr>\n",
              "      <td>13</td>\n",
              "      <td>0.442086</td>\n",
              "      <td>0.373104</td>\n",
              "      <td>0.105556</td>\n",
              "      <td>0.894444</td>\n",
              "      <td>0.923077</td>\n",
              "      <td>0.966102</td>\n",
              "      <td>0.883721</td>\n",
              "      <td>00:11</td>\n",
              "    </tr>\n",
              "    <tr>\n",
              "      <td>14</td>\n",
              "      <td>0.420733</td>\n",
              "      <td>0.381605</td>\n",
              "      <td>0.105556</td>\n",
              "      <td>0.894444</td>\n",
              "      <td>0.923077</td>\n",
              "      <td>0.966102</td>\n",
              "      <td>0.883721</td>\n",
              "      <td>00:11</td>\n",
              "    </tr>\n",
              "    <tr>\n",
              "      <td>15</td>\n",
              "      <td>0.404929</td>\n",
              "      <td>0.378315</td>\n",
              "      <td>0.105556</td>\n",
              "      <td>0.894444</td>\n",
              "      <td>0.923077</td>\n",
              "      <td>0.966102</td>\n",
              "      <td>0.883721</td>\n",
              "      <td>00:11</td>\n",
              "    </tr>\n",
              "    <tr>\n",
              "      <td>16</td>\n",
              "      <td>0.395581</td>\n",
              "      <td>0.381601</td>\n",
              "      <td>0.100000</td>\n",
              "      <td>0.900000</td>\n",
              "      <td>0.926829</td>\n",
              "      <td>0.974359</td>\n",
              "      <td>0.883721</td>\n",
              "      <td>00:11</td>\n",
              "    </tr>\n",
              "    <tr>\n",
              "      <td>17</td>\n",
              "      <td>0.375188</td>\n",
              "      <td>0.379109</td>\n",
              "      <td>0.100000</td>\n",
              "      <td>0.900000</td>\n",
              "      <td>0.926829</td>\n",
              "      <td>0.974359</td>\n",
              "      <td>0.883721</td>\n",
              "      <td>00:11</td>\n",
              "    </tr>\n",
              "    <tr>\n",
              "      <td>18</td>\n",
              "      <td>0.360507</td>\n",
              "      <td>0.395475</td>\n",
              "      <td>0.100000</td>\n",
              "      <td>0.900000</td>\n",
              "      <td>0.926829</td>\n",
              "      <td>0.974359</td>\n",
              "      <td>0.883721</td>\n",
              "      <td>00:11</td>\n",
              "    </tr>\n",
              "    <tr>\n",
              "      <td>19</td>\n",
              "      <td>0.347398</td>\n",
              "      <td>0.393478</td>\n",
              "      <td>0.105556</td>\n",
              "      <td>0.894444</td>\n",
              "      <td>0.923077</td>\n",
              "      <td>0.966102</td>\n",
              "      <td>0.883721</td>\n",
              "      <td>00:11</td>\n",
              "    </tr>\n",
              "  </tbody>\n",
              "</table>"
            ]
          },
          "metadata": {}
        }
      ]
    },
    {
      "cell_type": "code",
      "source": [
        "%cd /content/gdrive/MyDrive/bata_Horsehoe_Crab_classiflication/model_back_front"
      ],
      "metadata": {
        "colab": {
          "base_uri": "https://localhost:8080/"
        },
        "id": "X8EfENIDHX8y",
        "outputId": "fb87cbe4-2384-42de-e7d0-c659b62d5f94"
      },
      "execution_count": null,
      "outputs": [
        {
          "output_type": "stream",
          "name": "stdout",
          "text": [
            "/content/gdrive/MyDrive/bata_Horsehoe_Crab_classiflication/model_back_front\n"
          ]
        }
      ]
    },
    {
      "cell_type": "code",
      "execution_count": null,
      "metadata": {
        "id": "qGTlsHCUaFBi"
      },
      "outputs": [],
      "source": [
        "learner_Den.export(\"densenet201_fastai.pkl\")"
      ]
    },
    {
      "cell_type": "markdown",
      "metadata": {
        "id": "X2el2oPdGoF2"
      },
      "source": [
        "## VGG19"
      ]
    },
    {
      "cell_type": "code",
      "execution_count": null,
      "metadata": {
        "colab": {
          "base_uri": "https://localhost:8080/",
          "height": 121,
          "referenced_widgets": [
            "d3f936ea01ba4db7b08c1e74c85a7619",
            "7c7f0ab0af0d4162b55506d26bb83a6b",
            "a8de565039ae40e1a287b7dbe091c850",
            "6dfb50f332054a548ce87cc82171a8f5",
            "fa464ccfdc1f4048b277e647671957df",
            "5bf46009f3f84f9285459cededc1396d",
            "88b8dd5278aa435fbee79372eb8c9644",
            "d96e7db45c664ccab036e78a00ef1770",
            "e6c47a052315416dab69dc93c9f4fe87",
            "28e621b8fccf46b885c966e895844855",
            "9086d237c08944288e91a9d9c831a9f1"
          ]
        },
        "id": "9Ai6kzJdGueT",
        "outputId": "29862b41-e2b7-4a0f-8fb1-f1882c0f8fef"
      },
      "outputs": [
        {
          "output_type": "stream",
          "name": "stderr",
          "text": [
            "/usr/local/lib/python3.7/dist-packages/fastai/vision/learner.py:265: UserWarning: `cnn_learner` has been renamed to `vision_learner` -- please update your code\n",
            "  warn(\"`cnn_learner` has been renamed to `vision_learner` -- please update your code\")\n",
            "Downloading: \"https://download.pytorch.org/models/vgg19_bn-c79401a0.pth\" to /root/.cache/torch/hub/checkpoints/vgg19_bn-c79401a0.pth\n"
          ]
        },
        {
          "output_type": "display_data",
          "data": {
            "text/plain": [
              "  0%|          | 0.00/548M [00:00<?, ?B/s]"
            ],
            "application/vnd.jupyter.widget-view+json": {
              "version_major": 2,
              "version_minor": 0,
              "model_id": "d3f936ea01ba4db7b08c1e74c85a7619"
            }
          },
          "metadata": {}
        }
      ],
      "source": [
        "learner_VGG19 = cnn_learner(dls, models.vgg19_bn, metrics=[error_rate, accuracy, F1Score(), Precision(), Recall()])"
      ]
    },
    {
      "cell_type": "code",
      "execution_count": null,
      "metadata": {
        "colab": {
          "base_uri": "https://localhost:8080/",
          "height": 300
        },
        "id": "my917BMFHJbG",
        "outputId": "66b01340-191e-4bc6-b729-498ed7a17d5b"
      },
      "outputs": [
        {
          "output_type": "display_data",
          "data": {
            "text/plain": [
              "<IPython.core.display.HTML object>"
            ],
            "text/html": [
              "\n",
              "<style>\n",
              "    /* Turns off some styling */\n",
              "    progress {\n",
              "        /* gets rid of default border in Firefox and Opera. */\n",
              "        border: none;\n",
              "        /* Needs to be in here for Safari polyfill so background images work as expected. */\n",
              "        background-size: auto;\n",
              "    }\n",
              "    .progress-bar-interrupted, .progress-bar-interrupted::-webkit-progress-bar {\n",
              "        background: #F44336;\n",
              "    }\n",
              "</style>\n"
            ]
          },
          "metadata": {}
        },
        {
          "output_type": "display_data",
          "data": {
            "text/plain": [
              "<IPython.core.display.HTML object>"
            ],
            "text/html": [
              ""
            ]
          },
          "metadata": {}
        },
        {
          "output_type": "execute_result",
          "data": {
            "text/plain": [
              "SuggestedLRs(valley=0.0014454397605732083)"
            ]
          },
          "metadata": {},
          "execution_count": 12
        },
        {
          "output_type": "display_data",
          "data": {
            "text/plain": [
              "<Figure size 432x288 with 1 Axes>"
            ],
            "image/png": "[encoded data removed]"
          },
          "metadata": {
            "needs_background": "light"
          }
        }
      ],
      "source": [
        "learner_VGG19.lr_find() # หา learning rate ที่เหมาะสม"
      ]
    },
    {
      "cell_type": "code",
      "execution_count": null,
      "metadata": {
        "colab": {
          "base_uri": "https://localhost:8080/",
          "height": 740
        },
        "id": "4j0I8ynMHMnz",
        "outputId": "26983ba2-b2ea-4b71-abe3-21b3f5f828d3"
      },
      "outputs": [
        {
          "output_type": "display_data",
          "data": {
            "text/plain": [
              "<IPython.core.display.HTML object>"
            ],
            "text/html": [
              "\n",
              "<style>\n",
              "    /* Turns off some styling */\n",
              "    progress {\n",
              "        /* gets rid of default border in Firefox and Opera. */\n",
              "        border: none;\n",
              "        /* Needs to be in here for Safari polyfill so background images work as expected. */\n",
              "        background-size: auto;\n",
              "    }\n",
              "    .progress-bar-interrupted, .progress-bar-interrupted::-webkit-progress-bar {\n",
              "        background: #F44336;\n",
              "    }\n",
              "</style>\n"
            ]
          },
          "metadata": {}
        },
        {
          "output_type": "display_data",
          "data": {
            "text/plain": [
              "<IPython.core.display.HTML object>"
            ],
            "text/html": [
              "<table border=\"1\" class=\"dataframe\">\n",
              "  <thead>\n",
              "    <tr style=\"text-align: left;\">\n",
              "      <th>epoch</th>\n",
              "      <th>train_loss</th>\n",
              "      <th>valid_loss</th>\n",
              "      <th>error_rate</th>\n",
              "      <th>accuracy</th>\n",
              "      <th>f1_score</th>\n",
              "      <th>precision_score</th>\n",
              "      <th>recall_score</th>\n",
              "      <th>time</th>\n",
              "    </tr>\n",
              "  </thead>\n",
              "  <tbody>\n",
              "    <tr>\n",
              "      <td>0</td>\n",
              "      <td>1.306861</td>\n",
              "      <td>0.744533</td>\n",
              "      <td>0.454545</td>\n",
              "      <td>0.545455</td>\n",
              "      <td>0.655172</td>\n",
              "      <td>0.570000</td>\n",
              "      <td>0.770270</td>\n",
              "      <td>00:10</td>\n",
              "    </tr>\n",
              "  </tbody>\n",
              "</table>"
            ]
          },
          "metadata": {}
        },
        {
          "output_type": "display_data",
          "data": {
            "text/plain": [
              "<IPython.core.display.HTML object>"
            ],
            "text/html": [
              "\n",
              "<style>\n",
              "    /* Turns off some styling */\n",
              "    progress {\n",
              "        /* gets rid of default border in Firefox and Opera. */\n",
              "        border: none;\n",
              "        /* Needs to be in here for Safari polyfill so background images work as expected. */\n",
              "        background-size: auto;\n",
              "    }\n",
              "    .progress-bar-interrupted, .progress-bar-interrupted::-webkit-progress-bar {\n",
              "        background: #F44336;\n",
              "    }\n",
              "</style>\n"
            ]
          },
          "metadata": {}
        },
        {
          "output_type": "display_data",
          "data": {
            "text/plain": [
              "<IPython.core.display.HTML object>"
            ],
            "text/html": [
              "<table border=\"1\" class=\"dataframe\">\n",
              "  <thead>\n",
              "    <tr style=\"text-align: left;\">\n",
              "      <th>epoch</th>\n",
              "      <th>train_loss</th>\n",
              "      <th>valid_loss</th>\n",
              "      <th>error_rate</th>\n",
              "      <th>accuracy</th>\n",
              "      <th>f1_score</th>\n",
              "      <th>precision_score</th>\n",
              "      <th>recall_score</th>\n",
              "      <th>time</th>\n",
              "    </tr>\n",
              "  </thead>\n",
              "  <tbody>\n",
              "    <tr>\n",
              "      <td>0</td>\n",
              "      <td>1.029403</td>\n",
              "      <td>0.685073</td>\n",
              "      <td>0.386364</td>\n",
              "      <td>0.613636</td>\n",
              "      <td>0.679245</td>\n",
              "      <td>0.635294</td>\n",
              "      <td>0.729730</td>\n",
              "      <td>00:13</td>\n",
              "    </tr>\n",
              "    <tr>\n",
              "      <td>1</td>\n",
              "      <td>0.931361</td>\n",
              "      <td>0.653031</td>\n",
              "      <td>0.356061</td>\n",
              "      <td>0.643939</td>\n",
              "      <td>0.661871</td>\n",
              "      <td>0.707692</td>\n",
              "      <td>0.621622</td>\n",
              "      <td>00:13</td>\n",
              "    </tr>\n",
              "    <tr>\n",
              "      <td>2</td>\n",
              "      <td>0.848119</td>\n",
              "      <td>0.609338</td>\n",
              "      <td>0.310606</td>\n",
              "      <td>0.689394</td>\n",
              "      <td>0.700730</td>\n",
              "      <td>0.761905</td>\n",
              "      <td>0.648649</td>\n",
              "      <td>00:13</td>\n",
              "    </tr>\n",
              "    <tr>\n",
              "      <td>3</td>\n",
              "      <td>0.808401</td>\n",
              "      <td>0.535285</td>\n",
              "      <td>0.234848</td>\n",
              "      <td>0.765152</td>\n",
              "      <td>0.783217</td>\n",
              "      <td>0.811594</td>\n",
              "      <td>0.756757</td>\n",
              "      <td>00:13</td>\n",
              "    </tr>\n",
              "    <tr>\n",
              "      <td>4</td>\n",
              "      <td>0.757450</td>\n",
              "      <td>0.489019</td>\n",
              "      <td>0.189394</td>\n",
              "      <td>0.810606</td>\n",
              "      <td>0.829932</td>\n",
              "      <td>0.835616</td>\n",
              "      <td>0.824324</td>\n",
              "      <td>00:13</td>\n",
              "    </tr>\n",
              "    <tr>\n",
              "      <td>5</td>\n",
              "      <td>0.721366</td>\n",
              "      <td>0.461313</td>\n",
              "      <td>0.174242</td>\n",
              "      <td>0.825758</td>\n",
              "      <td>0.839161</td>\n",
              "      <td>0.869565</td>\n",
              "      <td>0.810811</td>\n",
              "      <td>00:13</td>\n",
              "    </tr>\n",
              "    <tr>\n",
              "      <td>6</td>\n",
              "      <td>0.649567</td>\n",
              "      <td>0.456202</td>\n",
              "      <td>0.181818</td>\n",
              "      <td>0.818182</td>\n",
              "      <td>0.828571</td>\n",
              "      <td>0.878788</td>\n",
              "      <td>0.783784</td>\n",
              "      <td>00:13</td>\n",
              "    </tr>\n",
              "    <tr>\n",
              "      <td>7</td>\n",
              "      <td>0.592703</td>\n",
              "      <td>0.479727</td>\n",
              "      <td>0.174242</td>\n",
              "      <td>0.825758</td>\n",
              "      <td>0.834532</td>\n",
              "      <td>0.892308</td>\n",
              "      <td>0.783784</td>\n",
              "      <td>00:13</td>\n",
              "    </tr>\n",
              "    <tr>\n",
              "      <td>8</td>\n",
              "      <td>0.550041</td>\n",
              "      <td>0.491508</td>\n",
              "      <td>0.181818</td>\n",
              "      <td>0.818182</td>\n",
              "      <td>0.826087</td>\n",
              "      <td>0.890625</td>\n",
              "      <td>0.770270</td>\n",
              "      <td>00:14</td>\n",
              "    </tr>\n",
              "    <tr>\n",
              "      <td>9</td>\n",
              "      <td>0.514077</td>\n",
              "      <td>0.520159</td>\n",
              "      <td>0.174242</td>\n",
              "      <td>0.825758</td>\n",
              "      <td>0.832117</td>\n",
              "      <td>0.904762</td>\n",
              "      <td>0.770270</td>\n",
              "      <td>00:13</td>\n",
              "    </tr>\n",
              "    <tr>\n",
              "      <td>10</td>\n",
              "      <td>0.486424</td>\n",
              "      <td>0.551723</td>\n",
              "      <td>0.181818</td>\n",
              "      <td>0.818182</td>\n",
              "      <td>0.826087</td>\n",
              "      <td>0.890625</td>\n",
              "      <td>0.770270</td>\n",
              "      <td>00:13</td>\n",
              "    </tr>\n",
              "    <tr>\n",
              "      <td>11</td>\n",
              "      <td>0.454659</td>\n",
              "      <td>0.580939</td>\n",
              "      <td>0.196970</td>\n",
              "      <td>0.803030</td>\n",
              "      <td>0.808824</td>\n",
              "      <td>0.887097</td>\n",
              "      <td>0.743243</td>\n",
              "      <td>00:13</td>\n",
              "    </tr>\n",
              "    <tr>\n",
              "      <td>12</td>\n",
              "      <td>0.417855</td>\n",
              "      <td>0.594001</td>\n",
              "      <td>0.196970</td>\n",
              "      <td>0.803030</td>\n",
              "      <td>0.808824</td>\n",
              "      <td>0.887097</td>\n",
              "      <td>0.743243</td>\n",
              "      <td>00:13</td>\n",
              "    </tr>\n",
              "    <tr>\n",
              "      <td>13</td>\n",
              "      <td>0.399164</td>\n",
              "      <td>0.600887</td>\n",
              "      <td>0.189394</td>\n",
              "      <td>0.810606</td>\n",
              "      <td>0.817518</td>\n",
              "      <td>0.888889</td>\n",
              "      <td>0.756757</td>\n",
              "      <td>00:13</td>\n",
              "    </tr>\n",
              "    <tr>\n",
              "      <td>14</td>\n",
              "      <td>0.374601</td>\n",
              "      <td>0.610554</td>\n",
              "      <td>0.181818</td>\n",
              "      <td>0.818182</td>\n",
              "      <td>0.826087</td>\n",
              "      <td>0.890625</td>\n",
              "      <td>0.770270</td>\n",
              "      <td>00:13</td>\n",
              "    </tr>\n",
              "    <tr>\n",
              "      <td>15</td>\n",
              "      <td>0.354436</td>\n",
              "      <td>0.628455</td>\n",
              "      <td>0.181818</td>\n",
              "      <td>0.818182</td>\n",
              "      <td>0.826087</td>\n",
              "      <td>0.890625</td>\n",
              "      <td>0.770270</td>\n",
              "      <td>00:14</td>\n",
              "    </tr>\n",
              "    <tr>\n",
              "      <td>16</td>\n",
              "      <td>0.329973</td>\n",
              "      <td>0.634921</td>\n",
              "      <td>0.174242</td>\n",
              "      <td>0.825758</td>\n",
              "      <td>0.834532</td>\n",
              "      <td>0.892308</td>\n",
              "      <td>0.783784</td>\n",
              "      <td>00:13</td>\n",
              "    </tr>\n",
              "    <tr>\n",
              "      <td>17</td>\n",
              "      <td>0.307154</td>\n",
              "      <td>0.637108</td>\n",
              "      <td>0.174242</td>\n",
              "      <td>0.825758</td>\n",
              "      <td>0.834532</td>\n",
              "      <td>0.892308</td>\n",
              "      <td>0.783784</td>\n",
              "      <td>00:13</td>\n",
              "    </tr>\n",
              "    <tr>\n",
              "      <td>18</td>\n",
              "      <td>0.288649</td>\n",
              "      <td>0.646642</td>\n",
              "      <td>0.174242</td>\n",
              "      <td>0.825758</td>\n",
              "      <td>0.834532</td>\n",
              "      <td>0.892308</td>\n",
              "      <td>0.783784</td>\n",
              "      <td>00:14</td>\n",
              "    </tr>\n",
              "    <tr>\n",
              "      <td>19</td>\n",
              "      <td>0.276596</td>\n",
              "      <td>0.645672</td>\n",
              "      <td>0.174242</td>\n",
              "      <td>0.825758</td>\n",
              "      <td>0.834532</td>\n",
              "      <td>0.892308</td>\n",
              "      <td>0.783784</td>\n",
              "      <td>00:13</td>\n",
              "    </tr>\n",
              "  </tbody>\n",
              "</table>"
            ]
          },
          "metadata": {}
        }
      ],
      "source": [
        "learner_VGG19.fine_tune(epochs=20, freeze_epochs=1, base_lr=0.0014454397605732083)"
      ]
    },
    {
      "cell_type": "code",
      "execution_count": null,
      "metadata": {
        "id": "qZozgxjXaV7D"
      },
      "outputs": [],
      "source": [
        "learner_VGG19.export(\"VGG19_fastai.pkl\")"
      ]
    },
    {
      "cell_type": "markdown",
      "metadata": {
        "id": "7oNK6mMiRt1H"
      },
      "source": [
        "## alexnet"
      ]
    },
    {
      "cell_type": "code",
      "execution_count": null,
      "metadata": {
        "colab": {
          "base_uri": "https://localhost:8080/",
          "height": 121,
          "referenced_widgets": [
            "058c7fde31434e72add391d0436f5eef",
            "4b6d9ae1bd644beeae8a3aea7f5c3999",
            "e991df9fd6d442908ea6b76e041bb6ab",
            "d99e541446af4223b5cb5096ee7242be",
            "3a853957e01c441ebe124cf2e47ad7c3",
            "9d40d0a8359f4055a0a31bf428731a1a",
            "8264505bc25f44949ed1a028404724e0",
            "6e6b568f5fed472c96ed4a314e0cb190",
            "b401d84f32ba41259ba4073a9e7fe3c6",
            "bab642ea957d49eca682b00dab04032e",
            "437ce11b93f246f681fceb7af8944afd"
          ]
        },
        "id": "hv6l-5EaRwdm",
        "outputId": "621732df-9dd3-49d6-f6b6-637ecb8f3f7f"
      },
      "outputs": [
        {
          "output_type": "stream",
          "name": "stderr",
          "text": [
            "/usr/local/lib/python3.7/dist-packages/fastai/vision/learner.py:265: UserWarning: `cnn_learner` has been renamed to `vision_learner` -- please update your code\n",
            "  warn(\"`cnn_learner` has been renamed to `vision_learner` -- please update your code\")\n",
            "Downloading: \"https://download.pytorch.org/models/alexnet-owt-7be5be79.pth\" to /root/.cache/torch/hub/checkpoints/alexnet-owt-7be5be79.pth\n"
          ]
        },
        {
          "output_type": "display_data",
          "data": {
            "text/plain": [
              "  0%|          | 0.00/233M [00:00<?, ?B/s]"
            ],
            "application/vnd.jupyter.widget-view+json": {
              "version_major": 2,
              "version_minor": 0,
              "model_id": "058c7fde31434e72add391d0436f5eef"
            }
          },
          "metadata": {}
        }
      ],
      "source": [
        "learner_Alex = cnn_learner(dls, alexnet, metrics=[error_rate, accuracy, F1Score(), Precision(), Recall()])"
      ]
    },
    {
      "cell_type": "code",
      "execution_count": null,
      "metadata": {
        "colab": {
          "base_uri": "https://localhost:8080/",
          "height": 300
        },
        "id": "Iv1CVP8jR-VG",
        "outputId": "8a8fb24e-b4a7-497d-8106-b82ecdd15d94"
      },
      "outputs": [
        {
          "output_type": "display_data",
          "data": {
            "text/plain": [
              "<IPython.core.display.HTML object>"
            ],
            "text/html": [
              "\n",
              "<style>\n",
              "    /* Turns off some styling */\n",
              "    progress {\n",
              "        /* gets rid of default border in Firefox and Opera. */\n",
              "        border: none;\n",
              "        /* Needs to be in here for Safari polyfill so background images work as expected. */\n",
              "        background-size: auto;\n",
              "    }\n",
              "    .progress-bar-interrupted, .progress-bar-interrupted::-webkit-progress-bar {\n",
              "        background: #F44336;\n",
              "    }\n",
              "</style>\n"
            ]
          },
          "metadata": {}
        },
        {
          "output_type": "display_data",
          "data": {
            "text/plain": [
              "<IPython.core.display.HTML object>"
            ],
            "text/html": [
              ""
            ]
          },
          "metadata": {}
        },
        {
          "output_type": "execute_result",
          "data": {
            "text/plain": [
              "SuggestedLRs(valley=0.001737800776027143)"
            ]
          },
          "metadata": {},
          "execution_count": 19
        },
        {
          "output_type": "display_data",
          "data": {
            "text/plain": [
              "<Figure size 432x288 with 1 Axes>"
            ],
            "image/png": "[encoded data removed]"
          },
          "metadata": {
            "needs_background": "light"
          }
        }
      ],
      "source": [
        "learner_Alex.lr_find()"
      ]
    },
    {
      "cell_type": "code",
      "execution_count": null,
      "metadata": {
        "colab": {
          "base_uri": "https://localhost:8080/",
          "height": 740
        },
        "id": "f3pPnzZDSWMQ",
        "outputId": "0ed58cd7-163d-4810-fd60-55dba5f54a64"
      },
      "outputs": [
        {
          "output_type": "display_data",
          "data": {
            "text/plain": [
              "<IPython.core.display.HTML object>"
            ],
            "text/html": [
              "\n",
              "<style>\n",
              "    /* Turns off some styling */\n",
              "    progress {\n",
              "        /* gets rid of default border in Firefox and Opera. */\n",
              "        border: none;\n",
              "        /* Needs to be in here for Safari polyfill so background images work as expected. */\n",
              "        background-size: auto;\n",
              "    }\n",
              "    .progress-bar-interrupted, .progress-bar-interrupted::-webkit-progress-bar {\n",
              "        background: #F44336;\n",
              "    }\n",
              "</style>\n"
            ]
          },
          "metadata": {}
        },
        {
          "output_type": "display_data",
          "data": {
            "text/plain": [
              "<IPython.core.display.HTML object>"
            ],
            "text/html": [
              "<table border=\"1\" class=\"dataframe\">\n",
              "  <thead>\n",
              "    <tr style=\"text-align: left;\">\n",
              "      <th>epoch</th>\n",
              "      <th>train_loss</th>\n",
              "      <th>valid_loss</th>\n",
              "      <th>error_rate</th>\n",
              "      <th>accuracy</th>\n",
              "      <th>f1_score</th>\n",
              "      <th>precision_score</th>\n",
              "      <th>recall_score</th>\n",
              "      <th>time</th>\n",
              "    </tr>\n",
              "  </thead>\n",
              "  <tbody>\n",
              "    <tr>\n",
              "      <td>0</td>\n",
              "      <td>1.119610</td>\n",
              "      <td>2.421805</td>\n",
              "      <td>0.666667</td>\n",
              "      <td>0.333333</td>\n",
              "      <td>0.130435</td>\n",
              "      <td>1.000000</td>\n",
              "      <td>0.069767</td>\n",
              "      <td>00:05</td>\n",
              "    </tr>\n",
              "  </tbody>\n",
              "</table>"
            ]
          },
          "metadata": {}
        },
        {
          "output_type": "display_data",
          "data": {
            "text/plain": [
              "<IPython.core.display.HTML object>"
            ],
            "text/html": [
              "\n",
              "<style>\n",
              "    /* Turns off some styling */\n",
              "    progress {\n",
              "        /* gets rid of default border in Firefox and Opera. */\n",
              "        border: none;\n",
              "        /* Needs to be in here for Safari polyfill so background images work as expected. */\n",
              "        background-size: auto;\n",
              "    }\n",
              "    .progress-bar-interrupted, .progress-bar-interrupted::-webkit-progress-bar {\n",
              "        background: #F44336;\n",
              "    }\n",
              "</style>\n"
            ]
          },
          "metadata": {}
        },
        {
          "output_type": "display_data",
          "data": {
            "text/plain": [
              "<IPython.core.display.HTML object>"
            ],
            "text/html": [
              "<table border=\"1\" class=\"dataframe\">\n",
              "  <thead>\n",
              "    <tr style=\"text-align: left;\">\n",
              "      <th>epoch</th>\n",
              "      <th>train_loss</th>\n",
              "      <th>valid_loss</th>\n",
              "      <th>error_rate</th>\n",
              "      <th>accuracy</th>\n",
              "      <th>f1_score</th>\n",
              "      <th>precision_score</th>\n",
              "      <th>recall_score</th>\n",
              "      <th>time</th>\n",
              "    </tr>\n",
              "  </thead>\n",
              "  <tbody>\n",
              "    <tr>\n",
              "      <td>0</td>\n",
              "      <td>0.753387</td>\n",
              "      <td>1.188171</td>\n",
              "      <td>0.477778</td>\n",
              "      <td>0.522222</td>\n",
              "      <td>0.505747</td>\n",
              "      <td>0.977778</td>\n",
              "      <td>0.341085</td>\n",
              "      <td>00:06</td>\n",
              "    </tr>\n",
              "    <tr>\n",
              "      <td>1</td>\n",
              "      <td>0.693655</td>\n",
              "      <td>0.780572</td>\n",
              "      <td>0.316667</td>\n",
              "      <td>0.683333</td>\n",
              "      <td>0.719212</td>\n",
              "      <td>0.986486</td>\n",
              "      <td>0.565891</td>\n",
              "      <td>00:05</td>\n",
              "    </tr>\n",
              "    <tr>\n",
              "      <td>2</td>\n",
              "      <td>0.678775</td>\n",
              "      <td>0.576201</td>\n",
              "      <td>0.211111</td>\n",
              "      <td>0.788889</td>\n",
              "      <td>0.830357</td>\n",
              "      <td>0.978947</td>\n",
              "      <td>0.720930</td>\n",
              "      <td>00:06</td>\n",
              "    </tr>\n",
              "    <tr>\n",
              "      <td>3</td>\n",
              "      <td>0.651431</td>\n",
              "      <td>0.488577</td>\n",
              "      <td>0.155556</td>\n",
              "      <td>0.844444</td>\n",
              "      <td>0.880342</td>\n",
              "      <td>0.980952</td>\n",
              "      <td>0.798450</td>\n",
              "      <td>00:05</td>\n",
              "    </tr>\n",
              "    <tr>\n",
              "      <td>4</td>\n",
              "      <td>0.620362</td>\n",
              "      <td>0.497182</td>\n",
              "      <td>0.127778</td>\n",
              "      <td>0.872222</td>\n",
              "      <td>0.903766</td>\n",
              "      <td>0.981818</td>\n",
              "      <td>0.837209</td>\n",
              "      <td>00:06</td>\n",
              "    </tr>\n",
              "    <tr>\n",
              "      <td>5</td>\n",
              "      <td>0.572253</td>\n",
              "      <td>0.470786</td>\n",
              "      <td>0.105556</td>\n",
              "      <td>0.894444</td>\n",
              "      <td>0.921811</td>\n",
              "      <td>0.982456</td>\n",
              "      <td>0.868217</td>\n",
              "      <td>00:05</td>\n",
              "    </tr>\n",
              "    <tr>\n",
              "      <td>6</td>\n",
              "      <td>0.547991</td>\n",
              "      <td>0.469601</td>\n",
              "      <td>0.116667</td>\n",
              "      <td>0.883333</td>\n",
              "      <td>0.914980</td>\n",
              "      <td>0.957627</td>\n",
              "      <td>0.875969</td>\n",
              "      <td>00:05</td>\n",
              "    </tr>\n",
              "    <tr>\n",
              "      <td>7</td>\n",
              "      <td>0.517260</td>\n",
              "      <td>0.479687</td>\n",
              "      <td>0.105556</td>\n",
              "      <td>0.894444</td>\n",
              "      <td>0.922449</td>\n",
              "      <td>0.974138</td>\n",
              "      <td>0.875969</td>\n",
              "      <td>00:06</td>\n",
              "    </tr>\n",
              "    <tr>\n",
              "      <td>8</td>\n",
              "      <td>0.485444</td>\n",
              "      <td>0.477113</td>\n",
              "      <td>0.088889</td>\n",
              "      <td>0.911111</td>\n",
              "      <td>0.935484</td>\n",
              "      <td>0.974790</td>\n",
              "      <td>0.899225</td>\n",
              "      <td>00:06</td>\n",
              "    </tr>\n",
              "    <tr>\n",
              "      <td>9</td>\n",
              "      <td>0.449876</td>\n",
              "      <td>0.445412</td>\n",
              "      <td>0.088889</td>\n",
              "      <td>0.911111</td>\n",
              "      <td>0.937008</td>\n",
              "      <td>0.952000</td>\n",
              "      <td>0.922481</td>\n",
              "      <td>00:06</td>\n",
              "    </tr>\n",
              "    <tr>\n",
              "      <td>10</td>\n",
              "      <td>0.422102</td>\n",
              "      <td>0.428181</td>\n",
              "      <td>0.100000</td>\n",
              "      <td>0.900000</td>\n",
              "      <td>0.929688</td>\n",
              "      <td>0.937008</td>\n",
              "      <td>0.922481</td>\n",
              "      <td>00:06</td>\n",
              "    </tr>\n",
              "    <tr>\n",
              "      <td>11</td>\n",
              "      <td>0.398140</td>\n",
              "      <td>0.418544</td>\n",
              "      <td>0.100000</td>\n",
              "      <td>0.900000</td>\n",
              "      <td>0.930233</td>\n",
              "      <td>0.930233</td>\n",
              "      <td>0.930233</td>\n",
              "      <td>00:06</td>\n",
              "    </tr>\n",
              "    <tr>\n",
              "      <td>12</td>\n",
              "      <td>0.375906</td>\n",
              "      <td>0.427300</td>\n",
              "      <td>0.094444</td>\n",
              "      <td>0.905556</td>\n",
              "      <td>0.933852</td>\n",
              "      <td>0.937500</td>\n",
              "      <td>0.930233</td>\n",
              "      <td>00:06</td>\n",
              "    </tr>\n",
              "    <tr>\n",
              "      <td>13</td>\n",
              "      <td>0.360310</td>\n",
              "      <td>0.442174</td>\n",
              "      <td>0.111111</td>\n",
              "      <td>0.888889</td>\n",
              "      <td>0.923077</td>\n",
              "      <td>0.916031</td>\n",
              "      <td>0.930233</td>\n",
              "      <td>00:05</td>\n",
              "    </tr>\n",
              "    <tr>\n",
              "      <td>14</td>\n",
              "      <td>0.340228</td>\n",
              "      <td>0.454471</td>\n",
              "      <td>0.111111</td>\n",
              "      <td>0.888889</td>\n",
              "      <td>0.923077</td>\n",
              "      <td>0.916031</td>\n",
              "      <td>0.930233</td>\n",
              "      <td>00:05</td>\n",
              "    </tr>\n",
              "    <tr>\n",
              "      <td>15</td>\n",
              "      <td>0.321464</td>\n",
              "      <td>0.464150</td>\n",
              "      <td>0.111111</td>\n",
              "      <td>0.888889</td>\n",
              "      <td>0.923077</td>\n",
              "      <td>0.916031</td>\n",
              "      <td>0.930233</td>\n",
              "      <td>00:06</td>\n",
              "    </tr>\n",
              "    <tr>\n",
              "      <td>16</td>\n",
              "      <td>0.302258</td>\n",
              "      <td>0.470871</td>\n",
              "      <td>0.111111</td>\n",
              "      <td>0.888889</td>\n",
              "      <td>0.923077</td>\n",
              "      <td>0.916031</td>\n",
              "      <td>0.930233</td>\n",
              "      <td>00:06</td>\n",
              "    </tr>\n",
              "    <tr>\n",
              "      <td>17</td>\n",
              "      <td>0.288320</td>\n",
              "      <td>0.470669</td>\n",
              "      <td>0.111111</td>\n",
              "      <td>0.888889</td>\n",
              "      <td>0.923077</td>\n",
              "      <td>0.916031</td>\n",
              "      <td>0.930233</td>\n",
              "      <td>00:06</td>\n",
              "    </tr>\n",
              "    <tr>\n",
              "      <td>18</td>\n",
              "      <td>0.277799</td>\n",
              "      <td>0.471763</td>\n",
              "      <td>0.116667</td>\n",
              "      <td>0.883333</td>\n",
              "      <td>0.918919</td>\n",
              "      <td>0.915385</td>\n",
              "      <td>0.922481</td>\n",
              "      <td>00:05</td>\n",
              "    </tr>\n",
              "    <tr>\n",
              "      <td>19</td>\n",
              "      <td>0.263476</td>\n",
              "      <td>0.472511</td>\n",
              "      <td>0.111111</td>\n",
              "      <td>0.888889</td>\n",
              "      <td>0.923077</td>\n",
              "      <td>0.916031</td>\n",
              "      <td>0.930233</td>\n",
              "      <td>00:05</td>\n",
              "    </tr>\n",
              "  </tbody>\n",
              "</table>"
            ]
          },
          "metadata": {}
        }
      ],
      "source": [
        "learner_Alex.fine_tune(epochs=20, freeze_epochs=1, base_lr=0.001737800776027143)"
      ]
    },
    {
      "cell_type": "code",
      "execution_count": null,
      "metadata": {
        "id": "6KPYQ7skapZi"
      },
      "outputs": [],
      "source": [
        "learner_Alex.export(\"alex_fastai.pkl\")"
      ]
    },
    {
      "cell_type": "markdown",
      "metadata": {
        "id": "Bs1r3zyW4vZp"
      },
      "source": [
        "# **โหลดโมเดลเพื่อทำนายผล**"
      ]
    },
    {
      "cell_type": "markdown",
      "metadata": {
        "id": "ki2GsCWOO6T0"
      },
      "source": [
        "## โหลดโมเดลจากที่เซฟไว้"
      ]
    },
    {
      "cell_type": "code",
      "execution_count": null,
      "metadata": {
        "id": "fsKobi3d4vZp"
      },
      "outputs": [],
      "source": [
        "from fastbook import *\n",
        "from glob import glob\n",
        "from pathlib import Path\n",
        "from sklearn.metrics import precision_recall_fscore_support, accuracy_score, roc_auc_score\n",
        "\n",
        "learn_inf = load_learner('/content/gdrive/MyDrive/bata_Horsehoe_Crab_classiflication/model_back_front/VGG16_fastai.pkl')"
      ]
    },
    {
      "cell_type": "code",
      "execution_count": null,
      "metadata": {
        "id": "u1_xmrA5Z9x6"
      },
      "outputs": [],
      "source": [
        "test_dblock = DataBlock(\n",
        "    blocks=(ImageBlock, CategoryBlock), #x - image; y - single class\n",
        "    get_items=get_image_files, #get image\n",
        "    splitter=GrandparentSplitter(valid_name='test'), #use parent folder as train-valid split\n",
        "    get_y=parent_label, #use parent folder as label\n",
        "    item_tfms=Resize(224,224)\n",
        "    )"
      ]
    },
    {
      "cell_type": "code",
      "execution_count": null,
      "metadata": {
        "id": "X0Rt0nUQFgPA"
      },
      "outputs": [],
      "source": [
        "PathTest = \"/content/gdrive/MyDrive/bata_Horsehoe_Crab_classiflication/img2\"\n",
        "test_dls = test_dblock.dataloaders(PathTest, bs=64)"
      ]
    },
    {
      "cell_type": "markdown",
      "metadata": {
        "id": "1TqVaaQNPue4"
      },
      "source": [
        "## สร้าง confusion matix"
      ]
    },
    {
      "cell_type": "code",
      "execution_count": null,
      "metadata": {
        "colab": {
          "base_uri": "https://localhost:8080/",
          "height": 383
        },
        "id": "WAPJ86N0bLZX",
        "outputId": "37bb8cc2-810d-4402-eafe-0172bb3e6689"
      },
      "outputs": [
        {
          "output_type": "display_data",
          "data": {
            "text/plain": [
              "<IPython.core.display.HTML object>"
            ],
            "text/html": [
              "\n",
              "<style>\n",
              "    /* Turns off some styling */\n",
              "    progress {\n",
              "        /* gets rid of default border in Firefox and Opera. */\n",
              "        border: none;\n",
              "        /* Needs to be in here for Safari polyfill so background images work as expected. */\n",
              "        background-size: auto;\n",
              "    }\n",
              "    .progress-bar-interrupted, .progress-bar-interrupted::-webkit-progress-bar {\n",
              "        background: #F44336;\n",
              "    }\n",
              "</style>\n"
            ]
          },
          "metadata": {}
        },
        {
          "output_type": "display_data",
          "data": {
            "text/plain": [
              "<IPython.core.display.HTML object>"
            ],
            "text/html": [
              ""
            ]
          },
          "metadata": {}
        },
        {
          "output_type": "display_data",
          "data": {
            "text/plain": [
              "<IPython.core.display.HTML object>"
            ],
            "text/html": [
              "\n",
              "<style>\n",
              "    /* Turns off some styling */\n",
              "    progress {\n",
              "        /* gets rid of default border in Firefox and Opera. */\n",
              "        border: none;\n",
              "        /* Needs to be in here for Safari polyfill so background images work as expected. */\n",
              "        background-size: auto;\n",
              "    }\n",
              "    .progress-bar-interrupted, .progress-bar-interrupted::-webkit-progress-bar {\n",
              "        background: #F44336;\n",
              "    }\n",
              "</style>\n"
            ]
          },
          "metadata": {}
        },
        {
          "output_type": "display_data",
          "data": {
            "text/plain": [
              "<IPython.core.display.HTML object>"
            ],
            "text/html": [
              ""
            ]
          },
          "metadata": {}
        },
        {
          "output_type": "display_data",
          "data": {
            "text/plain": [
              "<Figure size 360x360 with 1 Axes>"
            ],
            "image/png": "[encoded data removed]"
          },
          "metadata": {
            "needs_background": "light"
          }
        }
      ],
      "source": [
        "interp = ClassificationInterpretation.from_learner(learn_inf, dl=dls[1])\n",
        "interp.plot_confusion_matrix(figsize=(5,5))"
      ]
    },
    {
      "cell_type": "code",
      "execution_count": null,
      "metadata": {
        "colab": {
          "base_uri": "https://localhost:8080/",
          "height": 173
        },
        "id": "jw3ReYW1aHUd",
        "outputId": "4a844135-d456-4a8e-f783-dbac665a46d3"
      },
      "outputs": [
        {
          "output_type": "display_data",
          "data": {
            "text/plain": [
              "<IPython.core.display.HTML object>"
            ],
            "text/html": [
              "\n",
              "<style>\n",
              "    /* Turns off some styling */\n",
              "    progress {\n",
              "        /* gets rid of default border in Firefox and Opera. */\n",
              "        border: none;\n",
              "        /* Needs to be in here for Safari polyfill so background images work as expected. */\n",
              "        background-size: auto;\n",
              "    }\n",
              "    .progress-bar-interrupted, .progress-bar-interrupted::-webkit-progress-bar {\n",
              "        background: #F44336;\n",
              "    }\n",
              "</style>\n"
            ]
          },
          "metadata": {}
        },
        {
          "output_type": "display_data",
          "data": {
            "text/plain": [
              "<IPython.core.display.HTML object>"
            ],
            "text/html": [
              ""
            ]
          },
          "metadata": {}
        },
        {
          "output_type": "stream",
          "name": "stdout",
          "text": [
            "              precision    recall  f1-score   support\n",
            "\n",
            "        back       0.87      0.88      0.87        51\n",
            "       front       0.95      0.95      0.95       129\n",
            "\n",
            "    accuracy                           0.93       180\n",
            "   macro avg       0.91      0.91      0.91       180\n",
            "weighted avg       0.93      0.93      0.93       180\n",
            "\n"
          ]
        }
      ],
      "source": [
        "interp.print_classification_report()"
      ]
    },
    {
      "cell_type": "code",
      "execution_count": null,
      "metadata": {
        "colab": {
          "base_uri": "https://localhost:8080/",
          "height": 34
        },
        "id": "4eBgTVh54vZo",
        "outputId": "e25a0c57-91dd-42d5-83ef-354b4dbf1a95"
      },
      "outputs": [
        {
          "output_type": "display_data",
          "data": {
            "text/plain": [
              "<IPython.core.display.HTML object>"
            ],
            "text/html": [
              "\n",
              "<style>\n",
              "    /* Turns off some styling */\n",
              "    progress {\n",
              "        /* gets rid of default border in Firefox and Opera. */\n",
              "        border: none;\n",
              "        /* Needs to be in here for Safari polyfill so background images work as expected. */\n",
              "        background-size: auto;\n",
              "    }\n",
              "    .progress-bar-interrupted, .progress-bar-interrupted::-webkit-progress-bar {\n",
              "        background: #F44336;\n",
              "    }\n",
              "</style>\n"
            ]
          },
          "metadata": {}
        },
        {
          "output_type": "display_data",
          "data": {
            "text/plain": [
              "<IPython.core.display.HTML object>"
            ],
            "text/html": [
              ""
            ]
          },
          "metadata": {}
        },
        {
          "output_type": "execute_result",
          "data": {
            "text/plain": [
              "[('front', 'back', 7), ('back', 'front', 6)]"
            ]
          },
          "metadata": {},
          "execution_count": 29
        }
      ],
      "source": [
        "interp.most_confused(min_val=5)"
      ]
    },
    {
      "cell_type": "code",
      "execution_count": null,
      "metadata": {
        "id": "mWT4drEu4vZo"
      },
      "outputs": [],
      "source": [
        "learn_inf_.show_results(shuffle=True)"
      ]
    }
  ],
  "metadata": {
    "accelerator": "GPU",
    "colab": {
      "machine_shape": "hm",
      "name": "back_front_classification",
      "provenance": [],
      "collapsed_sections": []
    },
    "kernelspec": {
      "display_name": "Python 3",
      "language": "python",
      "name": "python3"
    },
    "language_info": {
      "codemirror_mode": {
        "name": "ipython",
        "version": 3
      },
      "file_extension": ".py",
      "mimetype": "text/x-python",
      "name": "python",
      "nbconvert_exporter": "python",
      "pygments_lexer": "ipython3",
      "version": "3.8.10"
    },
    "widgets": {
      "application/vnd.jupyter.widget-state+json": {
        "c29af2cae7284200a4ff9f97e855a6a4": {
          "model_module": "@jupyter-widgets/controls",
          "model_name": "HBoxModel",
          "model_module_version": "1.5.0",
          "state": {
            "_dom_classes": [],
            "_model_module": "@jupyter-widgets/controls",
            "_model_module_version": "1.5.0",
            "_model_name": "HBoxModel",
            "_view_count": null,
            "_view_module": "@jupyter-widgets/controls",
            "_view_module_version": "1.5.0",
            "_view_name": "HBoxView",
            "box_style": "",
            "children": [
              "IPY_MODEL_3d0b88d01b074a4c85eb6b0eb9a4131c",
              "IPY_MODEL_62d5f1344d1b4795811ff2326c7b33ad",
              "IPY_MODEL_eb97dec63de04f5d8fd787776bac8c9d"
            ],
            "layout": "IPY_MODEL_74b628219b1a47aa87c771232ba05e44"
          }
        },
        "3d0b88d01b074a4c85eb6b0eb9a4131c": {
          "model_module": "@jupyter-widgets/controls",
          "model_name": "HTMLModel",
          "model_module_version": "1.5.0",
          "state": {
            "_dom_classes": [],
            "_model_module": "@jupyter-widgets/controls",
            "_model_module_version": "1.5.0",
            "_model_name": "HTMLModel",
            "_view_count": null,
            "_view_module": "@jupyter-widgets/controls",
            "_view_module_version": "1.5.0",
            "_view_name": "HTMLView",
            "description": "",
            "description_tooltip": null,
            "layout": "IPY_MODEL_5b1948f9adea475ca9af85c74289a9ef",
            "placeholder": "​",
            "style": "IPY_MODEL_be909a1debef4729a7143ba7ccf2e497",
            "value": "100%"
          }
        },
        "62d5f1344d1b4795811ff2326c7b33ad": {
          "model_module": "@jupyter-widgets/controls",
          "model_name": "FloatProgressModel",
          "model_module_version": "1.5.0",
          "state": {
            "_dom_classes": [],
            "_model_module": "@jupyter-widgets/controls",
            "_model_module_version": "1.5.0",
            "_model_name": "FloatProgressModel",
            "_view_count": null,
            "_view_module": "@jupyter-widgets/controls",
            "_view_module_version": "1.5.0",
            "_view_name": "ProgressView",
            "bar_style": "success",
            "description": "",
            "description_tooltip": null,
            "layout": "IPY_MODEL_ff671ee7799e4094a97f2f4bd6f52f67",
            "max": 553507836,
            "min": 0,
            "orientation": "horizontal",
            "style": "IPY_MODEL_2e480d55eb584fa8b1f9628a460f4de1",
            "value": 553507836
          }
        },
        "eb97dec63de04f5d8fd787776bac8c9d": {
          "model_module": "@jupyter-widgets/controls",
          "model_name": "HTMLModel",
          "model_module_version": "1.5.0",
          "state": {
            "_dom_classes": [],
            "_model_module": "@jupyter-widgets/controls",
            "_model_module_version": "1.5.0",
            "_model_name": "HTMLModel",
            "_view_count": null,
            "_view_module": "@jupyter-widgets/controls",
            "_view_module_version": "1.5.0",
            "_view_name": "HTMLView",
            "description": "",
            "description_tooltip": null,
            "layout": "IPY_MODEL_c0f21aea9de3421c8c570946c3de18ea",
            "placeholder": "​",
            "style": "IPY_MODEL_cd4313daabef4bc1ac9b6012afcd13ba",
            "value": " 528M/528M [00:07&lt;00:00, 85.0MB/s]"
          }
        },
        "74b628219b1a47aa87c771232ba05e44": {
          "model_module": "@jupyter-widgets/base",
          "model_name": "LayoutModel",
          "model_module_version": "1.2.0",
          "state": {
            "_model_module": "@jupyter-widgets/base",
            "_model_module_version": "1.2.0",
            "_model_name": "LayoutModel",
            "_view_count": null,
            "_view_module": "@jupyter-widgets/base",
            "_view_module_version": "1.2.0",
            "_view_name": "LayoutView",
            "align_content": null,
            "align_items": null,
            "align_self": null,
            "border": null,
            "bottom": null,
            "display": null,
            "flex": null,
            "flex_flow": null,
            "grid_area": null,
            "grid_auto_columns": null,
            "grid_auto_flow": null,
            "grid_auto_rows": null,
            "grid_column": null,
            "grid_gap": null,
            "grid_row": null,
            "grid_template_areas": null,
            "grid_template_columns": null,
            "grid_template_rows": null,
            "height": null,
            "justify_content": null,
            "justify_items": null,
            "left": null,
            "margin": null,
            "max_height": null,
            "max_width": null,
            "min_height": null,
            "min_width": null,
            "object_fit": null,
            "object_position": null,
            "order": null,
            "overflow": null,
            "overflow_x": null,
            "overflow_y": null,
            "padding": null,
            "right": null,
            "top": null,
            "visibility": null,
            "width": null
          }
        },
        "5b1948f9adea475ca9af85c74289a9ef": {
          "model_module": "@jupyter-widgets/base",
          "model_name": "LayoutModel",
          "model_module_version": "1.2.0",
          "state": {
            "_model_module": "@jupyter-widgets/base",
            "_model_module_version": "1.2.0",
            "_model_name": "LayoutModel",
            "_view_count": null,
            "_view_module": "@jupyter-widgets/base",
            "_view_module_version": "1.2.0",
            "_view_name": "LayoutView",
            "align_content": null,
            "align_items": null,
            "align_self": null,
            "border": null,
            "bottom": null,
            "display": null,
            "flex": null,
            "flex_flow": null,
            "grid_area": null,
            "grid_auto_columns": null,
            "grid_auto_flow": null,
            "grid_auto_rows": null,
            "grid_column": null,
            "grid_gap": null,
            "grid_row": null,
            "grid_template_areas": null,
            "grid_template_columns": null,
            "grid_template_rows": null,
            "height": null,
            "justify_content": null,
            "justify_items": null,
            "left": null,
            "margin": null,
            "max_height": null,
            "max_width": null,
            "min_height": null,
            "min_width": null,
            "object_fit": null,
            "object_position": null,
            "order": null,
            "overflow": null,
            "overflow_x": null,
            "overflow_y": null,
            "padding": null,
            "right": null,
            "top": null,
            "visibility": null,
            "width": null
          }
        },
        "be909a1debef4729a7143ba7ccf2e497": {
          "model_module": "@jupyter-widgets/controls",
          "model_name": "DescriptionStyleModel",
          "model_module_version": "1.5.0",
          "state": {
            "_model_module": "@jupyter-widgets/controls",
            "_model_module_version": "1.5.0",
            "_model_name": "DescriptionStyleModel",
            "_view_count": null,
            "_view_module": "@jupyter-widgets/base",
            "_view_module_version": "1.2.0",
            "_view_name": "StyleView",
            "description_width": ""
          }
        },
        "ff671ee7799e4094a97f2f4bd6f52f67": {
          "model_module": "@jupyter-widgets/base",
          "model_name": "LayoutModel",
          "model_module_version": "1.2.0",
          "state": {
            "_model_module": "@jupyter-widgets/base",
            "_model_module_version": "1.2.0",
            "_model_name": "LayoutModel",
            "_view_count": null,
            "_view_module": "@jupyter-widgets/base",
            "_view_module_version": "1.2.0",
            "_view_name": "LayoutView",
            "align_content": null,
            "align_items": null,
            "align_self": null,
            "border": null,
            "bottom": null,
            "display": null,
            "flex": null,
            "flex_flow": null,
            "grid_area": null,
            "grid_auto_columns": null,
            "grid_auto_flow": null,
            "grid_auto_rows": null,
            "grid_column": null,
            "grid_gap": null,
            "grid_row": null,
            "grid_template_areas": null,
            "grid_template_columns": null,
            "grid_template_rows": null,
            "height": null,
            "justify_content": null,
            "justify_items": null,
            "left": null,
            "margin": null,
            "max_height": null,
            "max_width": null,
            "min_height": null,
            "min_width": null,
            "object_fit": null,
            "object_position": null,
            "order": null,
            "overflow": null,
            "overflow_x": null,
            "overflow_y": null,
            "padding": null,
            "right": null,
            "top": null,
            "visibility": null,
            "width": null
          }
        },
        "2e480d55eb584fa8b1f9628a460f4de1": {
          "model_module": "@jupyter-widgets/controls",
          "model_name": "ProgressStyleModel",
          "model_module_version": "1.5.0",
          "state": {
            "_model_module": "@jupyter-widgets/controls",
            "_model_module_version": "1.5.0",
            "_model_name": "ProgressStyleModel",
            "_view_count": null,
            "_view_module": "@jupyter-widgets/base",
            "_view_module_version": "1.2.0",
            "_view_name": "StyleView",
            "bar_color": null,
            "description_width": ""
          }
        },
        "c0f21aea9de3421c8c570946c3de18ea": {
          "model_module": "@jupyter-widgets/base",
          "model_name": "LayoutModel",
          "model_module_version": "1.2.0",
          "state": {
            "_model_module": "@jupyter-widgets/base",
            "_model_module_version": "1.2.0",
            "_model_name": "LayoutModel",
            "_view_count": null,
            "_view_module": "@jupyter-widgets/base",
            "_view_module_version": "1.2.0",
            "_view_name": "LayoutView",
            "align_content": null,
            "align_items": null,
            "align_self": null,
            "border": null,
            "bottom": null,
            "display": null,
            "flex": null,
            "flex_flow": null,
            "grid_area": null,
            "grid_auto_columns": null,
            "grid_auto_flow": null,
            "grid_auto_rows": null,
            "grid_column": null,
            "grid_gap": null,
            "grid_row": null,
            "grid_template_areas": null,
            "grid_template_columns": null,
            "grid_template_rows": null,
            "height": null,
            "justify_content": null,
            "justify_items": null,
            "left": null,
            "margin": null,
            "max_height": null,
            "max_width": null,
            "min_height": null,
            "min_width": null,
            "object_fit": null,
            "object_position": null,
            "order": null,
            "overflow": null,
            "overflow_x": null,
            "overflow_y": null,
            "padding": null,
            "right": null,
            "top": null,
            "visibility": null,
            "width": null
          }
        },
        "cd4313daabef4bc1ac9b6012afcd13ba": {
          "model_module": "@jupyter-widgets/controls",
          "model_name": "DescriptionStyleModel",
          "model_module_version": "1.5.0",
          "state": {
            "_model_module": "@jupyter-widgets/controls",
            "_model_module_version": "1.5.0",
            "_model_name": "DescriptionStyleModel",
            "_view_count": null,
            "_view_module": "@jupyter-widgets/base",
            "_view_module_version": "1.2.0",
            "_view_name": "StyleView",
            "description_width": ""
          }
        },
        "4d1d9b966c6d44db87ad2113e0d9dc0e": {
          "model_module": "@jupyter-widgets/controls",
          "model_name": "HBoxModel",
          "model_module_version": "1.5.0",
          "state": {
            "_dom_classes": [],
            "_model_module": "@jupyter-widgets/controls",
            "_model_module_version": "1.5.0",
            "_model_name": "HBoxModel",
            "_view_count": null,
            "_view_module": "@jupyter-widgets/controls",
            "_view_module_version": "1.5.0",
            "_view_name": "HBoxView",
            "box_style": "",
            "children": [
              "IPY_MODEL_e12d99f3b6054bbfb17c814bc8086d1f",
              "IPY_MODEL_f0d447086fc34b798183ecdb9adaf783",
              "IPY_MODEL_6c6beebd91704a9cb859c0c85a697579"
            ],
            "layout": "IPY_MODEL_33b550bf3b0f441c9d9610e6101c1614"
          }
        },
        "e12d99f3b6054bbfb17c814bc8086d1f": {
          "model_module": "@jupyter-widgets/controls",
          "model_name": "HTMLModel",
          "model_module_version": "1.5.0",
          "state": {
            "_dom_classes": [],
            "_model_module": "@jupyter-widgets/controls",
            "_model_module_version": "1.5.0",
            "_model_name": "HTMLModel",
            "_view_count": null,
            "_view_module": "@jupyter-widgets/controls",
            "_view_module_version": "1.5.0",
            "_view_name": "HTMLView",
            "description": "",
            "description_tooltip": null,
            "layout": "IPY_MODEL_77e32bbfb20d4be6b8485a7eea519ab8",
            "placeholder": "​",
            "style": "IPY_MODEL_3a82baff18d94f6295f7246792710184",
            "value": "100%"
          }
        },
        "f0d447086fc34b798183ecdb9adaf783": {
          "model_module": "@jupyter-widgets/controls",
          "model_name": "FloatProgressModel",
          "model_module_version": "1.5.0",
          "state": {
            "_dom_classes": [],
            "_model_module": "@jupyter-widgets/controls",
            "_model_module_version": "1.5.0",
            "_model_name": "FloatProgressModel",
            "_view_count": null,
            "_view_module": "@jupyter-widgets/controls",
            "_view_module_version": "1.5.0",
            "_view_name": "ProgressView",
            "bar_style": "success",
            "description": "",
            "description_tooltip": null,
            "layout": "IPY_MODEL_66cadd7c702c43189b3a38d399909e8e",
            "max": 100441675,
            "min": 0,
            "orientation": "horizontal",
            "style": "IPY_MODEL_ac0ccc140ef5410dba604f5fc3fdf442",
            "value": 100441675
          }
        },
        "6c6beebd91704a9cb859c0c85a697579": {
          "model_module": "@jupyter-widgets/controls",
          "model_name": "HTMLModel",
          "model_module_version": "1.5.0",
          "state": {
            "_dom_classes": [],
            "_model_module": "@jupyter-widgets/controls",
            "_model_module_version": "1.5.0",
            "_model_name": "HTMLModel",
            "_view_count": null,
            "_view_module": "@jupyter-widgets/controls",
            "_view_module_version": "1.5.0",
            "_view_name": "HTMLView",
            "description": "",
            "description_tooltip": null,
            "layout": "IPY_MODEL_1cb3bd04059a421daa1ffeb47cf6eb11",
            "placeholder": "​",
            "style": "IPY_MODEL_67f8e20f5c4d441aa82bb96baec88748",
            "value": " 95.8M/95.8M [00:04&lt;00:00, 27.4MB/s]"
          }
        },
        "33b550bf3b0f441c9d9610e6101c1614": {
          "model_module": "@jupyter-widgets/base",
          "model_name": "LayoutModel",
          "model_module_version": "1.2.0",
          "state": {
            "_model_module": "@jupyter-widgets/base",
            "_model_module_version": "1.2.0",
            "_model_name": "LayoutModel",
            "_view_count": null,
            "_view_module": "@jupyter-widgets/base",
            "_view_module_version": "1.2.0",
            "_view_name": "LayoutView",
            "align_content": null,
            "align_items": null,
            "align_self": null,
            "border": null,
            "bottom": null,
            "display": null,
            "flex": null,
            "flex_flow": null,
            "grid_area": null,
            "grid_auto_columns": null,
            "grid_auto_flow": null,
            "grid_auto_rows": null,
            "grid_column": null,
            "grid_gap": null,
            "grid_row": null,
            "grid_template_areas": null,
            "grid_template_columns": null,
            "grid_template_rows": null,
            "height": null,
            "justify_content": null,
            "justify_items": null,
            "left": null,
            "margin": null,
            "max_height": null,
            "max_width": null,
            "min_height": null,
            "min_width": null,
            "object_fit": null,
            "object_position": null,
            "order": null,
            "overflow": null,
            "overflow_x": null,
            "overflow_y": null,
            "padding": null,
            "right": null,
            "top": null,
            "visibility": null,
            "width": null
          }
        },
        "77e32bbfb20d4be6b8485a7eea519ab8": {
          "model_module": "@jupyter-widgets/base",
          "model_name": "LayoutModel",
          "model_module_version": "1.2.0",
          "state": {
            "_model_module": "@jupyter-widgets/base",
            "_model_module_version": "1.2.0",
            "_model_name": "LayoutModel",
            "_view_count": null,
            "_view_module": "@jupyter-widgets/base",
            "_view_module_version": "1.2.0",
            "_view_name": "LayoutView",
            "align_content": null,
            "align_items": null,
            "align_self": null,
            "border": null,
            "bottom": null,
            "display": null,
            "flex": null,
            "flex_flow": null,
            "grid_area": null,
            "grid_auto_columns": null,
            "grid_auto_flow": null,
            "grid_auto_rows": null,
            "grid_column": null,
            "grid_gap": null,
            "grid_row": null,
            "grid_template_areas": null,
            "grid_template_columns": null,
            "grid_template_rows": null,
            "height": null,
            "justify_content": null,
            "justify_items": null,
            "left": null,
            "margin": null,
            "max_height": null,
            "max_width": null,
            "min_height": null,
            "min_width": null,
            "object_fit": null,
            "object_position": null,
            "order": null,
            "overflow": null,
            "overflow_x": null,
            "overflow_y": null,
            "padding": null,
            "right": null,
            "top": null,
            "visibility": null,
            "width": null
          }
        },
        "3a82baff18d94f6295f7246792710184": {
          "model_module": "@jupyter-widgets/controls",
          "model_name": "DescriptionStyleModel",
          "model_module_version": "1.5.0",
          "state": {
            "_model_module": "@jupyter-widgets/controls",
            "_model_module_version": "1.5.0",
            "_model_name": "DescriptionStyleModel",
            "_view_count": null,
            "_view_module": "@jupyter-widgets/base",
            "_view_module_version": "1.2.0",
            "_view_name": "StyleView",
            "description_width": ""
          }
        },
        "66cadd7c702c43189b3a38d399909e8e": {
          "model_module": "@jupyter-widgets/base",
          "model_name": "LayoutModel",
          "model_module_version": "1.2.0",
          "state": {
            "_model_module": "@jupyter-widgets/base",
            "_model_module_version": "1.2.0",
            "_model_name": "LayoutModel",
            "_view_count": null,
            "_view_module": "@jupyter-widgets/base",
            "_view_module_version": "1.2.0",
            "_view_name": "LayoutView",
            "align_content": null,
            "align_items": null,
            "align_self": null,
            "border": null,
            "bottom": null,
            "display": null,
            "flex": null,
            "flex_flow": null,
            "grid_area": null,
            "grid_auto_columns": null,
            "grid_auto_flow": null,
            "grid_auto_rows": null,
            "grid_column": null,
            "grid_gap": null,
            "grid_row": null,
            "grid_template_areas": null,
            "grid_template_columns": null,
            "grid_template_rows": null,
            "height": null,
            "justify_content": null,
            "justify_items": null,
            "left": null,
            "margin": null,
            "max_height": null,
            "max_width": null,
            "min_height": null,
            "min_width": null,
            "object_fit": null,
            "object_position": null,
            "order": null,
            "overflow": null,
            "overflow_x": null,
            "overflow_y": null,
            "padding": null,
            "right": null,
            "top": null,
            "visibility": null,
            "width": null
          }
        },
        "ac0ccc140ef5410dba604f5fc3fdf442": {
          "model_module": "@jupyter-widgets/controls",
          "model_name": "ProgressStyleModel",
          "model_module_version": "1.5.0",
          "state": {
            "_model_module": "@jupyter-widgets/controls",
            "_model_module_version": "1.5.0",
            "_model_name": "ProgressStyleModel",
            "_view_count": null,
            "_view_module": "@jupyter-widgets/base",
            "_view_module_version": "1.2.0",
            "_view_name": "StyleView",
            "bar_color": null,
            "description_width": ""
          }
        },
        "1cb3bd04059a421daa1ffeb47cf6eb11": {
          "model_module": "@jupyter-widgets/base",
          "model_name": "LayoutModel",
          "model_module_version": "1.2.0",
          "state": {
            "_model_module": "@jupyter-widgets/base",
            "_model_module_version": "1.2.0",
            "_model_name": "LayoutModel",
            "_view_count": null,
            "_view_module": "@jupyter-widgets/base",
            "_view_module_version": "1.2.0",
            "_view_name": "LayoutView",
            "align_content": null,
            "align_items": null,
            "align_self": null,
            "border": null,
            "bottom": null,
            "display": null,
            "flex": null,
            "flex_flow": null,
            "grid_area": null,
            "grid_auto_columns": null,
            "grid_auto_flow": null,
            "grid_auto_rows": null,
            "grid_column": null,
            "grid_gap": null,
            "grid_row": null,
            "grid_template_areas": null,
            "grid_template_columns": null,
            "grid_template_rows": null,
            "height": null,
            "justify_content": null,
            "justify_items": null,
            "left": null,
            "margin": null,
            "max_height": null,
            "max_width": null,
            "min_height": null,
            "min_width": null,
            "object_fit": null,
            "object_position": null,
            "order": null,
            "overflow": null,
            "overflow_x": null,
            "overflow_y": null,
            "padding": null,
            "right": null,
            "top": null,
            "visibility": null,
            "width": null
          }
        },
        "67f8e20f5c4d441aa82bb96baec88748": {
          "model_module": "@jupyter-widgets/controls",
          "model_name": "DescriptionStyleModel",
          "model_module_version": "1.5.0",
          "state": {
            "_model_module": "@jupyter-widgets/controls",
            "_model_module_version": "1.5.0",
            "_model_name": "DescriptionStyleModel",
            "_view_count": null,
            "_view_module": "@jupyter-widgets/base",
            "_view_module_version": "1.2.0",
            "_view_name": "StyleView",
            "description_width": ""
          }
        },
        "8604c68a45524276a39f7dd1f51c5cdb": {
          "model_module": "@jupyter-widgets/controls",
          "model_name": "HBoxModel",
          "model_module_version": "1.5.0",
          "state": {
            "_dom_classes": [],
            "_model_module": "@jupyter-widgets/controls",
            "_model_module_version": "1.5.0",
            "_model_name": "HBoxModel",
            "_view_count": null,
            "_view_module": "@jupyter-widgets/controls",
            "_view_module_version": "1.5.0",
            "_view_name": "HBoxView",
            "box_style": "",
            "children": [
              "IPY_MODEL_7f11f10d05b14f5a8d2934576b4cca5a",
              "IPY_MODEL_25a8ab05292c4755be2f17e624d070b4",
              "IPY_MODEL_1aa7c9c8c91c416b9985a6ba845a4fc6"
            ],
            "layout": "IPY_MODEL_062927d0fe71483389593cfe379ff10e"
          }
        },
        "7f11f10d05b14f5a8d2934576b4cca5a": {
          "model_module": "@jupyter-widgets/controls",
          "model_name": "HTMLModel",
          "model_module_version": "1.5.0",
          "state": {
            "_dom_classes": [],
            "_model_module": "@jupyter-widgets/controls",
            "_model_module_version": "1.5.0",
            "_model_name": "HTMLModel",
            "_view_count": null,
            "_view_module": "@jupyter-widgets/controls",
            "_view_module_version": "1.5.0",
            "_view_name": "HTMLView",
            "description": "",
            "description_tooltip": null,
            "layout": "IPY_MODEL_5382096803034b269caca79bdc959e73",
            "placeholder": "​",
            "style": "IPY_MODEL_7db0217143774f329b628d0f9c59545a",
            "value": "100%"
          }
        },
        "25a8ab05292c4755be2f17e624d070b4": {
          "model_module": "@jupyter-widgets/controls",
          "model_name": "FloatProgressModel",
          "model_module_version": "1.5.0",
          "state": {
            "_dom_classes": [],
            "_model_module": "@jupyter-widgets/controls",
            "_model_module_version": "1.5.0",
            "_model_name": "FloatProgressModel",
            "_view_count": null,
            "_view_module": "@jupyter-widgets/controls",
            "_view_module_version": "1.5.0",
            "_view_name": "ProgressView",
            "bar_style": "success",
            "description": "",
            "description_tooltip": null,
            "layout": "IPY_MODEL_d93c861a000e430389ceee0c6e3ecc89",
            "max": 81131730,
            "min": 0,
            "orientation": "horizontal",
            "style": "IPY_MODEL_44e90bb89c0e468298fa60286262dce2",
            "value": 81131730
          }
        },
        "1aa7c9c8c91c416b9985a6ba845a4fc6": {
          "model_module": "@jupyter-widgets/controls",
          "model_name": "HTMLModel",
          "model_module_version": "1.5.0",
          "state": {
            "_dom_classes": [],
            "_model_module": "@jupyter-widgets/controls",
            "_model_module_version": "1.5.0",
            "_model_name": "HTMLModel",
            "_view_count": null,
            "_view_module": "@jupyter-widgets/controls",
            "_view_module_version": "1.5.0",
            "_view_name": "HTMLView",
            "description": "",
            "description_tooltip": null,
            "layout": "IPY_MODEL_61b22325f657443389ef812f708bd3c3",
            "placeholder": "​",
            "style": "IPY_MODEL_72746c3fee974e28b8c1bddf9d8de9ab",
            "value": " 77.4M/77.4M [00:01&lt;00:00, 57.4MB/s]"
          }
        },
        "062927d0fe71483389593cfe379ff10e": {
          "model_module": "@jupyter-widgets/base",
          "model_name": "LayoutModel",
          "model_module_version": "1.2.0",
          "state": {
            "_model_module": "@jupyter-widgets/base",
            "_model_module_version": "1.2.0",
            "_model_name": "LayoutModel",
            "_view_count": null,
            "_view_module": "@jupyter-widgets/base",
            "_view_module_version": "1.2.0",
            "_view_name": "LayoutView",
            "align_content": null,
            "align_items": null,
            "align_self": null,
            "border": null,
            "bottom": null,
            "display": null,
            "flex": null,
            "flex_flow": null,
            "grid_area": null,
            "grid_auto_columns": null,
            "grid_auto_flow": null,
            "grid_auto_rows": null,
            "grid_column": null,
            "grid_gap": null,
            "grid_row": null,
            "grid_template_areas": null,
            "grid_template_columns": null,
            "grid_template_rows": null,
            "height": null,
            "justify_content": null,
            "justify_items": null,
            "left": null,
            "margin": null,
            "max_height": null,
            "max_width": null,
            "min_height": null,
            "min_width": null,
            "object_fit": null,
            "object_position": null,
            "order": null,
            "overflow": null,
            "overflow_x": null,
            "overflow_y": null,
            "padding": null,
            "right": null,
            "top": null,
            "visibility": null,
            "width": null
          }
        },
        "5382096803034b269caca79bdc959e73": {
          "model_module": "@jupyter-widgets/base",
          "model_name": "LayoutModel",
          "model_module_version": "1.2.0",
          "state": {
            "_model_module": "@jupyter-widgets/base",
            "_model_module_version": "1.2.0",
            "_model_name": "LayoutModel",
            "_view_count": null,
            "_view_module": "@jupyter-widgets/base",
            "_view_module_version": "1.2.0",
            "_view_name": "LayoutView",
            "align_content": null,
            "align_items": null,
            "align_self": null,
            "border": null,
            "bottom": null,
            "display": null,
            "flex": null,
            "flex_flow": null,
            "grid_area": null,
            "grid_auto_columns": null,
            "grid_auto_flow": null,
            "grid_auto_rows": null,
            "grid_column": null,
            "grid_gap": null,
            "grid_row": null,
            "grid_template_areas": null,
            "grid_template_columns": null,
            "grid_template_rows": null,
            "height": null,
            "justify_content": null,
            "justify_items": null,
            "left": null,
            "margin": null,
            "max_height": null,
            "max_width": null,
            "min_height": null,
            "min_width": null,
            "object_fit": null,
            "object_position": null,
            "order": null,
            "overflow": null,
            "overflow_x": null,
            "overflow_y": null,
            "padding": null,
            "right": null,
            "top": null,
            "visibility": null,
            "width": null
          }
        },
        "7db0217143774f329b628d0f9c59545a": {
          "model_module": "@jupyter-widgets/controls",
          "model_name": "DescriptionStyleModel",
          "model_module_version": "1.5.0",
          "state": {
            "_model_module": "@jupyter-widgets/controls",
            "_model_module_version": "1.5.0",
            "_model_name": "DescriptionStyleModel",
            "_view_count": null,
            "_view_module": "@jupyter-widgets/base",
            "_view_module_version": "1.2.0",
            "_view_name": "StyleView",
            "description_width": ""
          }
        },
        "d93c861a000e430389ceee0c6e3ecc89": {
          "model_module": "@jupyter-widgets/base",
          "model_name": "LayoutModel",
          "model_module_version": "1.2.0",
          "state": {
            "_model_module": "@jupyter-widgets/base",
            "_model_module_version": "1.2.0",
            "_model_name": "LayoutModel",
            "_view_count": null,
            "_view_module": "@jupyter-widgets/base",
            "_view_module_version": "1.2.0",
            "_view_name": "LayoutView",
            "align_content": null,
            "align_items": null,
            "align_self": null,
            "border": null,
            "bottom": null,
            "display": null,
            "flex": null,
            "flex_flow": null,
            "grid_area": null,
            "grid_auto_columns": null,
            "grid_auto_flow": null,
            "grid_auto_rows": null,
            "grid_column": null,
            "grid_gap": null,
            "grid_row": null,
            "grid_template_areas": null,
            "grid_template_columns": null,
            "grid_template_rows": null,
            "height": null,
            "justify_content": null,
            "justify_items": null,
            "left": null,
            "margin": null,
            "max_height": null,
            "max_width": null,
            "min_height": null,
            "min_width": null,
            "object_fit": null,
            "object_position": null,
            "order": null,
            "overflow": null,
            "overflow_x": null,
            "overflow_y": null,
            "padding": null,
            "right": null,
            "top": null,
            "visibility": null,
            "width": null
          }
        },
        "44e90bb89c0e468298fa60286262dce2": {
          "model_module": "@jupyter-widgets/controls",
          "model_name": "ProgressStyleModel",
          "model_module_version": "1.5.0",
          "state": {
            "_model_module": "@jupyter-widgets/controls",
            "_model_module_version": "1.5.0",
            "_model_name": "ProgressStyleModel",
            "_view_count": null,
            "_view_module": "@jupyter-widgets/base",
            "_view_module_version": "1.2.0",
            "_view_name": "StyleView",
            "bar_color": null,
            "description_width": ""
          }
        },
        "61b22325f657443389ef812f708bd3c3": {
          "model_module": "@jupyter-widgets/base",
          "model_name": "LayoutModel",
          "model_module_version": "1.2.0",
          "state": {
            "_model_module": "@jupyter-widgets/base",
            "_model_module_version": "1.2.0",
            "_model_name": "LayoutModel",
            "_view_count": null,
            "_view_module": "@jupyter-widgets/base",
            "_view_module_version": "1.2.0",
            "_view_name": "LayoutView",
            "align_content": null,
            "align_items": null,
            "align_self": null,
            "border": null,
            "bottom": null,
            "display": null,
            "flex": null,
            "flex_flow": null,
            "grid_area": null,
            "grid_auto_columns": null,
            "grid_auto_flow": null,
            "grid_auto_rows": null,
            "grid_column": null,
            "grid_gap": null,
            "grid_row": null,
            "grid_template_areas": null,
            "grid_template_columns": null,
            "grid_template_rows": null,
            "height": null,
            "justify_content": null,
            "justify_items": null,
            "left": null,
            "margin": null,
            "max_height": null,
            "max_width": null,
            "min_height": null,
            "min_width": null,
            "object_fit": null,
            "object_position": null,
            "order": null,
            "overflow": null,
            "overflow_x": null,
            "overflow_y": null,
            "padding": null,
            "right": null,
            "top": null,
            "visibility": null,
            "width": null
          }
        },
        "72746c3fee974e28b8c1bddf9d8de9ab": {
          "model_module": "@jupyter-widgets/controls",
          "model_name": "DescriptionStyleModel",
          "model_module_version": "1.5.0",
          "state": {
            "_model_module": "@jupyter-widgets/controls",
            "_model_module_version": "1.5.0",
            "_model_name": "DescriptionStyleModel",
            "_view_count": null,
            "_view_module": "@jupyter-widgets/base",
            "_view_module_version": "1.2.0",
            "_view_name": "StyleView",
            "description_width": ""
          }
        },
        "d3f936ea01ba4db7b08c1e74c85a7619": {
          "model_module": "@jupyter-widgets/controls",
          "model_name": "HBoxModel",
          "model_module_version": "1.5.0",
          "state": {
            "_dom_classes": [],
            "_model_module": "@jupyter-widgets/controls",
            "_model_module_version": "1.5.0",
            "_model_name": "HBoxModel",
            "_view_count": null,
            "_view_module": "@jupyter-widgets/controls",
            "_view_module_version": "1.5.0",
            "_view_name": "HBoxView",
            "box_style": "",
            "children": [
              "IPY_MODEL_7c7f0ab0af0d4162b55506d26bb83a6b",
              "IPY_MODEL_a8de565039ae40e1a287b7dbe091c850",
              "IPY_MODEL_6dfb50f332054a548ce87cc82171a8f5"
            ],
            "layout": "IPY_MODEL_fa464ccfdc1f4048b277e647671957df"
          }
        },
        "7c7f0ab0af0d4162b55506d26bb83a6b": {
          "model_module": "@jupyter-widgets/controls",
          "model_name": "HTMLModel",
          "model_module_version": "1.5.0",
          "state": {
            "_dom_classes": [],
            "_model_module": "@jupyter-widgets/controls",
            "_model_module_version": "1.5.0",
            "_model_name": "HTMLModel",
            "_view_count": null,
            "_view_module": "@jupyter-widgets/controls",
            "_view_module_version": "1.5.0",
            "_view_name": "HTMLView",
            "description": "",
            "description_tooltip": null,
            "layout": "IPY_MODEL_5bf46009f3f84f9285459cededc1396d",
            "placeholder": "​",
            "style": "IPY_MODEL_88b8dd5278aa435fbee79372eb8c9644",
            "value": "100%"
          }
        },
        "a8de565039ae40e1a287b7dbe091c850": {
          "model_module": "@jupyter-widgets/controls",
          "model_name": "FloatProgressModel",
          "model_module_version": "1.5.0",
          "state": {
            "_dom_classes": [],
            "_model_module": "@jupyter-widgets/controls",
            "_model_module_version": "1.5.0",
            "_model_name": "FloatProgressModel",
            "_view_count": null,
            "_view_module": "@jupyter-widgets/controls",
            "_view_module_version": "1.5.0",
            "_view_name": "ProgressView",
            "bar_style": "success",
            "description": "",
            "description_tooltip": null,
            "layout": "IPY_MODEL_d96e7db45c664ccab036e78a00ef1770",
            "max": 574769405,
            "min": 0,
            "orientation": "horizontal",
            "style": "IPY_MODEL_e6c47a052315416dab69dc93c9f4fe87",
            "value": 574769405
          }
        },
        "6dfb50f332054a548ce87cc82171a8f5": {
          "model_module": "@jupyter-widgets/controls",
          "model_name": "HTMLModel",
          "model_module_version": "1.5.0",
          "state": {
            "_dom_classes": [],
            "_model_module": "@jupyter-widgets/controls",
            "_model_module_version": "1.5.0",
            "_model_name": "HTMLModel",
            "_view_count": null,
            "_view_module": "@jupyter-widgets/controls",
            "_view_module_version": "1.5.0",
            "_view_name": "HTMLView",
            "description": "",
            "description_tooltip": null,
            "layout": "IPY_MODEL_28e621b8fccf46b885c966e895844855",
            "placeholder": "​",
            "style": "IPY_MODEL_9086d237c08944288e91a9d9c831a9f1",
            "value": " 548M/548M [00:12&lt;00:00, 49.1MB/s]"
          }
        },
        "fa464ccfdc1f4048b277e647671957df": {
          "model_module": "@jupyter-widgets/base",
          "model_name": "LayoutModel",
          "model_module_version": "1.2.0",
          "state": {
            "_model_module": "@jupyter-widgets/base",
            "_model_module_version": "1.2.0",
            "_model_name": "LayoutModel",
            "_view_count": null,
            "_view_module": "@jupyter-widgets/base",
            "_view_module_version": "1.2.0",
            "_view_name": "LayoutView",
            "align_content": null,
            "align_items": null,
            "align_self": null,
            "border": null,
            "bottom": null,
            "display": null,
            "flex": null,
            "flex_flow": null,
            "grid_area": null,
            "grid_auto_columns": null,
            "grid_auto_flow": null,
            "grid_auto_rows": null,
            "grid_column": null,
            "grid_gap": null,
            "grid_row": null,
            "grid_template_areas": null,
            "grid_template_columns": null,
            "grid_template_rows": null,
            "height": null,
            "justify_content": null,
            "justify_items": null,
            "left": null,
            "margin": null,
            "max_height": null,
            "max_width": null,
            "min_height": null,
            "min_width": null,
            "object_fit": null,
            "object_position": null,
            "order": null,
            "overflow": null,
            "overflow_x": null,
            "overflow_y": null,
            "padding": null,
            "right": null,
            "top": null,
            "visibility": null,
            "width": null
          }
        },
        "5bf46009f3f84f9285459cededc1396d": {
          "model_module": "@jupyter-widgets/base",
          "model_name": "LayoutModel",
          "model_module_version": "1.2.0",
          "state": {
            "_model_module": "@jupyter-widgets/base",
            "_model_module_version": "1.2.0",
            "_model_name": "LayoutModel",
            "_view_count": null,
            "_view_module": "@jupyter-widgets/base",
            "_view_module_version": "1.2.0",
            "_view_name": "LayoutView",
            "align_content": null,
            "align_items": null,
            "align_self": null,
            "border": null,
            "bottom": null,
            "display": null,
            "flex": null,
            "flex_flow": null,
            "grid_area": null,
            "grid_auto_columns": null,
            "grid_auto_flow": null,
            "grid_auto_rows": null,
            "grid_column": null,
            "grid_gap": null,
            "grid_row": null,
            "grid_template_areas": null,
            "grid_template_columns": null,
            "grid_template_rows": null,
            "height": null,
            "justify_content": null,
            "justify_items": null,
            "left": null,
            "margin": null,
            "max_height": null,
            "max_width": null,
            "min_height": null,
            "min_width": null,
            "object_fit": null,
            "object_position": null,
            "order": null,
            "overflow": null,
            "overflow_x": null,
            "overflow_y": null,
            "padding": null,
            "right": null,
            "top": null,
            "visibility": null,
            "width": null
          }
        },
        "88b8dd5278aa435fbee79372eb8c9644": {
          "model_module": "@jupyter-widgets/controls",
          "model_name": "DescriptionStyleModel",
          "model_module_version": "1.5.0",
          "state": {
            "_model_module": "@jupyter-widgets/controls",
            "_model_module_version": "1.5.0",
            "_model_name": "DescriptionStyleModel",
            "_view_count": null,
            "_view_module": "@jupyter-widgets/base",
            "_view_module_version": "1.2.0",
            "_view_name": "StyleView",
            "description_width": ""
          }
        },
        "d96e7db45c664ccab036e78a00ef1770": {
          "model_module": "@jupyter-widgets/base",
          "model_name": "LayoutModel",
          "model_module_version": "1.2.0",
          "state": {
            "_model_module": "@jupyter-widgets/base",
            "_model_module_version": "1.2.0",
            "_model_name": "LayoutModel",
            "_view_count": null,
            "_view_module": "@jupyter-widgets/base",
            "_view_module_version": "1.2.0",
            "_view_name": "LayoutView",
            "align_content": null,
            "align_items": null,
            "align_self": null,
            "border": null,
            "bottom": null,
            "display": null,
            "flex": null,
            "flex_flow": null,
            "grid_area": null,
            "grid_auto_columns": null,
            "grid_auto_flow": null,
            "grid_auto_rows": null,
            "grid_column": null,
            "grid_gap": null,
            "grid_row": null,
            "grid_template_areas": null,
            "grid_template_columns": null,
            "grid_template_rows": null,
            "height": null,
            "justify_content": null,
            "justify_items": null,
            "left": null,
            "margin": null,
            "max_height": null,
            "max_width": null,
            "min_height": null,
            "min_width": null,
            "object_fit": null,
            "object_position": null,
            "order": null,
            "overflow": null,
            "overflow_x": null,
            "overflow_y": null,
            "padding": null,
            "right": null,
            "top": null,
            "visibility": null,
            "width": null
          }
        },
        "e6c47a052315416dab69dc93c9f4fe87": {
          "model_module": "@jupyter-widgets/controls",
          "model_name": "ProgressStyleModel",
          "model_module_version": "1.5.0",
          "state": {
            "_model_module": "@jupyter-widgets/controls",
            "_model_module_version": "1.5.0",
            "_model_name": "ProgressStyleModel",
            "_view_count": null,
            "_view_module": "@jupyter-widgets/base",
            "_view_module_version": "1.2.0",
            "_view_name": "StyleView",
            "bar_color": null,
            "description_width": ""
          }
        },
        "28e621b8fccf46b885c966e895844855": {
          "model_module": "@jupyter-widgets/base",
          "model_name": "LayoutModel",
          "model_module_version": "1.2.0",
          "state": {
            "_model_module": "@jupyter-widgets/base",
            "_model_module_version": "1.2.0",
            "_model_name": "LayoutModel",
            "_view_count": null,
            "_view_module": "@jupyter-widgets/base",
            "_view_module_version": "1.2.0",
            "_view_name": "LayoutView",
            "align_content": null,
            "align_items": null,
            "align_self": null,
            "border": null,
            "bottom": null,
            "display": null,
            "flex": null,
            "flex_flow": null,
            "grid_area": null,
            "grid_auto_columns": null,
            "grid_auto_flow": null,
            "grid_auto_rows": null,
            "grid_column": null,
            "grid_gap": null,
            "grid_row": null,
            "grid_template_areas": null,
            "grid_template_columns": null,
            "grid_template_rows": null,
            "height": null,
            "justify_content": null,
            "justify_items": null,
            "left": null,
            "margin": null,
            "max_height": null,
            "max_width": null,
            "min_height": null,
            "min_width": null,
            "object_fit": null,
            "object_position": null,
            "order": null,
            "overflow": null,
            "overflow_x": null,
            "overflow_y": null,
            "padding": null,
            "right": null,
            "top": null,
            "visibility": null,
            "width": null
          }
        },
        "9086d237c08944288e91a9d9c831a9f1": {
          "model_module": "@jupyter-widgets/controls",
          "model_name": "DescriptionStyleModel",
          "model_module_version": "1.5.0",
          "state": {
            "_model_module": "@jupyter-widgets/controls",
            "_model_module_version": "1.5.0",
            "_model_name": "DescriptionStyleModel",
            "_view_count": null,
            "_view_module": "@jupyter-widgets/base",
            "_view_module_version": "1.2.0",
            "_view_name": "StyleView",
            "description_width": ""
          }
        },
        "058c7fde31434e72add391d0436f5eef": {
          "model_module": "@jupyter-widgets/controls",
          "model_name": "HBoxModel",
          "model_module_version": "1.5.0",
          "state": {
            "_dom_classes": [],
            "_model_module": "@jupyter-widgets/controls",
            "_model_module_version": "1.5.0",
            "_model_name": "HBoxModel",
            "_view_count": null,
            "_view_module": "@jupyter-widgets/controls",
            "_view_module_version": "1.5.0",
            "_view_name": "HBoxView",
            "box_style": "",
            "children": [
              "IPY_MODEL_4b6d9ae1bd644beeae8a3aea7f5c3999",
              "IPY_MODEL_e991df9fd6d442908ea6b76e041bb6ab",
              "IPY_MODEL_d99e541446af4223b5cb5096ee7242be"
            ],
            "layout": "IPY_MODEL_3a853957e01c441ebe124cf2e47ad7c3"
          }
        },
        "4b6d9ae1bd644beeae8a3aea7f5c3999": {
          "model_module": "@jupyter-widgets/controls",
          "model_name": "HTMLModel",
          "model_module_version": "1.5.0",
          "state": {
            "_dom_classes": [],
            "_model_module": "@jupyter-widgets/controls",
            "_model_module_version": "1.5.0",
            "_model_name": "HTMLModel",
            "_view_count": null,
            "_view_module": "@jupyter-widgets/controls",
            "_view_module_version": "1.5.0",
            "_view_name": "HTMLView",
            "description": "",
            "description_tooltip": null,
            "layout": "IPY_MODEL_9d40d0a8359f4055a0a31bf428731a1a",
            "placeholder": "​",
            "style": "IPY_MODEL_8264505bc25f44949ed1a028404724e0",
            "value": "100%"
          }
        },
        "e991df9fd6d442908ea6b76e041bb6ab": {
          "model_module": "@jupyter-widgets/controls",
          "model_name": "FloatProgressModel",
          "model_module_version": "1.5.0",
          "state": {
            "_dom_classes": [],
            "_model_module": "@jupyter-widgets/controls",
            "_model_module_version": "1.5.0",
            "_model_name": "FloatProgressModel",
            "_view_count": null,
            "_view_module": "@jupyter-widgets/controls",
            "_view_module_version": "1.5.0",
            "_view_name": "ProgressView",
            "bar_style": "success",
            "description": "",
            "description_tooltip": null,
            "layout": "IPY_MODEL_6e6b568f5fed472c96ed4a314e0cb190",
            "max": 244408911,
            "min": 0,
            "orientation": "horizontal",
            "style": "IPY_MODEL_b401d84f32ba41259ba4073a9e7fe3c6",
            "value": 244408911
          }
        },
        "d99e541446af4223b5cb5096ee7242be": {
          "model_module": "@jupyter-widgets/controls",
          "model_name": "HTMLModel",
          "model_module_version": "1.5.0",
          "state": {
            "_dom_classes": [],
            "_model_module": "@jupyter-widgets/controls",
            "_model_module_version": "1.5.0",
            "_model_name": "HTMLModel",
            "_view_count": null,
            "_view_module": "@jupyter-widgets/controls",
            "_view_module_version": "1.5.0",
            "_view_name": "HTMLView",
            "description": "",
            "description_tooltip": null,
            "layout": "IPY_MODEL_bab642ea957d49eca682b00dab04032e",
            "placeholder": "​",
            "style": "IPY_MODEL_437ce11b93f246f681fceb7af8944afd",
            "value": " 233M/233M [00:01&lt;00:00, 227MB/s]"
          }
        },
        "3a853957e01c441ebe124cf2e47ad7c3": {
          "model_module": "@jupyter-widgets/base",
          "model_name": "LayoutModel",
          "model_module_version": "1.2.0",
          "state": {
            "_model_module": "@jupyter-widgets/base",
            "_model_module_version": "1.2.0",
            "_model_name": "LayoutModel",
            "_view_count": null,
            "_view_module": "@jupyter-widgets/base",
            "_view_module_version": "1.2.0",
            "_view_name": "LayoutView",
            "align_content": null,
            "align_items": null,
            "align_self": null,
            "border": null,
            "bottom": null,
            "display": null,
            "flex": null,
            "flex_flow": null,
            "grid_area": null,
            "grid_auto_columns": null,
            "grid_auto_flow": null,
            "grid_auto_rows": null,
            "grid_column": null,
            "grid_gap": null,
            "grid_row": null,
            "grid_template_areas": null,
            "grid_template_columns": null,
            "grid_template_rows": null,
            "height": null,
            "justify_content": null,
            "justify_items": null,
            "left": null,
            "margin": null,
            "max_height": null,
            "max_width": null,
            "min_height": null,
            "min_width": null,
            "object_fit": null,
            "object_position": null,
            "order": null,
            "overflow": null,
            "overflow_x": null,
            "overflow_y": null,
            "padding": null,
            "right": null,
            "top": null,
            "visibility": null,
            "width": null
          }
        },
        "9d40d0a8359f4055a0a31bf428731a1a": {
          "model_module": "@jupyter-widgets/base",
          "model_name": "LayoutModel",
          "model_module_version": "1.2.0",
          "state": {
            "_model_module": "@jupyter-widgets/base",
            "_model_module_version": "1.2.0",
            "_model_name": "LayoutModel",
            "_view_count": null,
            "_view_module": "@jupyter-widgets/base",
            "_view_module_version": "1.2.0",
            "_view_name": "LayoutView",
            "align_content": null,
            "align_items": null,
            "align_self": null,
            "border": null,
            "bottom": null,
            "display": null,
            "flex": null,
            "flex_flow": null,
            "grid_area": null,
            "grid_auto_columns": null,
            "grid_auto_flow": null,
            "grid_auto_rows": null,
            "grid_column": null,
            "grid_gap": null,
            "grid_row": null,
            "grid_template_areas": null,
            "grid_template_columns": null,
            "grid_template_rows": null,
            "height": null,
            "justify_content": null,
            "justify_items": null,
            "left": null,
            "margin": null,
            "max_height": null,
            "max_width": null,
            "min_height": null,
            "min_width": null,
            "object_fit": null,
            "object_position": null,
            "order": null,
            "overflow": null,
            "overflow_x": null,
            "overflow_y": null,
            "padding": null,
            "right": null,
            "top": null,
            "visibility": null,
            "width": null
          }
        },
        "8264505bc25f44949ed1a028404724e0": {
          "model_module": "@jupyter-widgets/controls",
          "model_name": "DescriptionStyleModel",
          "model_module_version": "1.5.0",
          "state": {
            "_model_module": "@jupyter-widgets/controls",
            "_model_module_version": "1.5.0",
            "_model_name": "DescriptionStyleModel",
            "_view_count": null,
            "_view_module": "@jupyter-widgets/base",
            "_view_module_version": "1.2.0",
            "_view_name": "StyleView",
            "description_width": ""
          }
        },
        "6e6b568f5fed472c96ed4a314e0cb190": {
          "model_module": "@jupyter-widgets/base",
          "model_name": "LayoutModel",
          "model_module_version": "1.2.0",
          "state": {
            "_model_module": "@jupyter-widgets/base",
            "_model_module_version": "1.2.0",
            "_model_name": "LayoutModel",
            "_view_count": null,
            "_view_module": "@jupyter-widgets/base",
            "_view_module_version": "1.2.0",
            "_view_name": "LayoutView",
            "align_content": null,
            "align_items": null,
            "align_self": null,
            "border": null,
            "bottom": null,
            "display": null,
            "flex": null,
            "flex_flow": null,
            "grid_area": null,
            "grid_auto_columns": null,
            "grid_auto_flow": null,
            "grid_auto_rows": null,
            "grid_column": null,
            "grid_gap": null,
            "grid_row": null,
            "grid_template_areas": null,
            "grid_template_columns": null,
            "grid_template_rows": null,
            "height": null,
            "justify_content": null,
            "justify_items": null,
            "left": null,
            "margin": null,
            "max_height": null,
            "max_width": null,
            "min_height": null,
            "min_width": null,
            "object_fit": null,
            "object_position": null,
            "order": null,
            "overflow": null,
            "overflow_x": null,
            "overflow_y": null,
            "padding": null,
            "right": null,
            "top": null,
            "visibility": null,
            "width": null
          }
        },
        "b401d84f32ba41259ba4073a9e7fe3c6": {
          "model_module": "@jupyter-widgets/controls",
          "model_name": "ProgressStyleModel",
          "model_module_version": "1.5.0",
          "state": {
            "_model_module": "@jupyter-widgets/controls",
            "_model_module_version": "1.5.0",
            "_model_name": "ProgressStyleModel",
            "_view_count": null,
            "_view_module": "@jupyter-widgets/base",
            "_view_module_version": "1.2.0",
            "_view_name": "StyleView",
            "bar_color": null,
            "description_width": ""
          }
        },
        "bab642ea957d49eca682b00dab04032e": {
          "model_module": "@jupyter-widgets/base",
          "model_name": "LayoutModel",
          "model_module_version": "1.2.0",
          "state": {
            "_model_module": "@jupyter-widgets/base",
            "_model_module_version": "1.2.0",
            "_model_name": "LayoutModel",
            "_view_count": null,
            "_view_module": "@jupyter-widgets/base",
            "_view_module_version": "1.2.0",
            "_view_name": "LayoutView",
            "align_content": null,
            "align_items": null,
            "align_self": null,
            "border": null,
            "bottom": null,
            "display": null,
            "flex": null,
            "flex_flow": null,
            "grid_area": null,
            "grid_auto_columns": null,
            "grid_auto_flow": null,
            "grid_auto_rows": null,
            "grid_column": null,
            "grid_gap": null,
            "grid_row": null,
            "grid_template_areas": null,
            "grid_template_columns": null,
            "grid_template_rows": null,
            "height": null,
            "justify_content": null,
            "justify_items": null,
            "left": null,
            "margin": null,
            "max_height": null,
            "max_width": null,
            "min_height": null,
            "min_width": null,
            "object_fit": null,
            "object_position": null,
            "order": null,
            "overflow": null,
            "overflow_x": null,
            "overflow_y": null,
            "padding": null,
            "right": null,
            "top": null,
            "visibility": null,
            "width": null
          }
        },
        "437ce11b93f246f681fceb7af8944afd": {
          "model_module": "@jupyter-widgets/controls",
          "model_name": "DescriptionStyleModel",
          "model_module_version": "1.5.0",
          "state": {
            "_model_module": "@jupyter-widgets/controls",
            "_model_module_version": "1.5.0",
            "_model_name": "DescriptionStyleModel",
            "_view_count": null,
            "_view_module": "@jupyter-widgets/base",
            "_view_module_version": "1.2.0",
            "_view_name": "StyleView",
            "description_width": ""
          }
        }
      }
    }
  },
  "nbformat": 4,
  "nbformat_minor": 0
}